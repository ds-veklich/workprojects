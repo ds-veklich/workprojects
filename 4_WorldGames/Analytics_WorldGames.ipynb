{
 "cells": [
  {
   "cell_type": "markdown",
   "metadata": {
    "toc": true
   },
   "source": [
    "<h1>Содержание<span class=\"tocSkip\"></span></h1>\n",
    "<div class=\"toc\"><ul class=\"toc-item\"><li><span><a href=\"#Изучение-данных-из-файла\" data-toc-modified-id=\"Изучение-данных-из-файла-1\"><span class=\"toc-item-num\">1&nbsp;&nbsp;</span>Изучение данных из файла</a></span></li><li><span><a href=\"#Предобработка-данных\" data-toc-modified-id=\"Предобработка-данных-2\"><span class=\"toc-item-num\">2&nbsp;&nbsp;</span>Предобработка данных</a></span><ul class=\"toc-item\"><li><span><a href=\"#Приведение-наименований-столбцов-к-змеиному-регистру\" data-toc-modified-id=\"Приведение-наименований-столбцов-к-змеиному-регистру-2.1\"><span class=\"toc-item-num\">2.1&nbsp;&nbsp;</span>Приведение наименований столбцов к змеиному регистру</a></span></li><li><span><a href=\"#Удаление-строк-для-незаполненных-значений-столбца-'name'-в-таблице\" data-toc-modified-id=\"Удаление-строк-для-незаполненных-значений-столбца-'name'-в-таблице-2.2\"><span class=\"toc-item-num\">2.2&nbsp;&nbsp;</span>Удаление строк для незаполненных значений столбца 'name' в таблице</a></span></li><li><span><a href=\"#Обработка-пропусков,-удаление-строк-и-замена-типов-данных-для-столбца-'year_of_release'-в-таблице\" data-toc-modified-id=\"Обработка-пропусков,-удаление-строк-и-замена-типов-данных-для-столбца-'year_of_release'-в-таблице-2.3\"><span class=\"toc-item-num\">2.3&nbsp;&nbsp;</span>Обработка пропусков, удаление строк и замена типов данных для столбца 'year_of_release' в таблице</a></span></li><li><span><a href=\"#Обработка-пропусков-и-замена-типов-данных-для-столбцов-'critic_score'-и-'user_score'-в-таблице\" data-toc-modified-id=\"Обработка-пропусков-и-замена-типов-данных-для-столбцов-'critic_score'-и-'user_score'-в-таблице-2.4\"><span class=\"toc-item-num\">2.4&nbsp;&nbsp;</span>Обработка пропусков и замена типов данных для столбцов 'critic_score' и 'user_score' в таблице</a></span></li><li><span><a href=\"#Обработка-пропусков-для-столбца-'rating'-в-таблице\" data-toc-modified-id=\"Обработка-пропусков-для-столбца-'rating'-в-таблице-2.5\"><span class=\"toc-item-num\">2.5&nbsp;&nbsp;</span>Обработка пропусков для столбца 'rating' в таблице</a></span></li></ul></li><li><span><a href=\"#Расчёт-суммарных-продаж-во-всех-регионах-и-добавление-результатов-в-таблицу\" data-toc-modified-id=\"Расчёт-суммарных-продаж-во-всех-регионах-и-добавление-результатов-в-таблицу-3\"><span class=\"toc-item-num\">3&nbsp;&nbsp;</span>Расчёт суммарных продаж во всех регионах и добавление результатов в таблицу</a></span></li><li><span><a href=\"#Исследовательский-анализ-данных\" data-toc-modified-id=\"Исследовательский-анализ-данных-4\"><span class=\"toc-item-num\">4&nbsp;&nbsp;</span>Исследовательский анализ данных</a></span><ul class=\"toc-item\"><li><span><a href=\"#Определение-актуального-периода-для-построения-прогноза-на-2017-год\" data-toc-modified-id=\"Определение-актуального-периода-для-построения-прогноза-на-2017-год-4.1\"><span class=\"toc-item-num\">4.1&nbsp;&nbsp;</span>Определение актуального периода для построения прогноза на 2017 год</a></span></li><li><span><a href=\"#Определение-потенциально-прибыльных-платформ\" data-toc-modified-id=\"Определение-потенциально-прибыльных-платформ-4.2\"><span class=\"toc-item-num\">4.2&nbsp;&nbsp;</span>Определение потенциально прибыльных платформ</a></span></li><li><span><a href=\"#Анализ-продаж-игр\" data-toc-modified-id=\"Анализ-продаж-игр-4.3\"><span class=\"toc-item-num\">4.3&nbsp;&nbsp;</span>Анализ продаж игр</a></span></li></ul></li><li><span><a href=\"#Составление-портрета-пользователя-каждого-региона\" data-toc-modified-id=\"Составление-портрета-пользователя-каждого-региона-5\"><span class=\"toc-item-num\">5&nbsp;&nbsp;</span>Составление портрета пользователя каждого региона</a></span></li><li><span><a href=\"#Проверка-гипотез\" data-toc-modified-id=\"Проверка-гипотез-6\"><span class=\"toc-item-num\">6&nbsp;&nbsp;</span>Проверка гипотез</a></span><ul class=\"toc-item\"><li><span><a href=\"#Проверка-первой-гипотезы:-средние-пользовательские-рейтинги-платформ-Xbox-One-и-PC-одинаковые\" data-toc-modified-id=\"Проверка-первой-гипотезы:-средние-пользовательские-рейтинги-платформ-Xbox-One-и-PC-одинаковые-6.1\"><span class=\"toc-item-num\">6.1&nbsp;&nbsp;</span>Проверка первой гипотезы: средние пользовательские рейтинги платформ Xbox One и PC одинаковые</a></span></li><li><span><a href=\"#Проверка-второй-гипотезы:-средние-пользовательские-рейтинги-жанров-Action-и-Sports-разные\" data-toc-modified-id=\"Проверка-второй-гипотезы:-средние-пользовательские-рейтинги-жанров-Action-и-Sports-разные-6.2\"><span class=\"toc-item-num\">6.2&nbsp;&nbsp;</span>Проверка второй гипотезы: средние пользовательские рейтинги жанров Action и Sports разные</a></span></li></ul></li><li><span><a href=\"#Общий-вывод\" data-toc-modified-id=\"Общий-вывод-7\"><span class=\"toc-item-num\">7&nbsp;&nbsp;</span>Общий вывод</a></span></li></ul></div>"
   ]
  },
  {
   "cell_type": "markdown",
   "metadata": {},
   "source": [
    "# Исследование данных о продажах комьютерных игр по всему миру "
   ]
  },
  {
   "cell_type": "markdown",
   "metadata": {},
   "source": [
    "**Интернет-магазин «WorldGames»** продаёт **по всему миру компьютерные игры**. Из открытых источников доступны исторические данные о продажах игр, оценки пользователей и экспертов, жанры и платформы (например, Xbox или PlayStation). ***Необходимо выявить определяющие успешность игры закономерности. Это позволит сделать ставку на потенциально популярный продукт и спланировать рекламные кампании.***\n",
    "\n",
    "Перед вами данные до 2016 года. Представим, что сейчас декабрь 2016 г., и вы планируете кампанию на 2017-й.\n",
    "\n",
    "В наборе данных есть аббревиатура ESRB (Entertainment Software Rating Board) — это ассоциация, определяющая возрастной рейтинг компьютерных игр. ESRB оценивает игровой контент и присваивает ему подходящую возрастную категорию."
   ]
  },
  {
   "cell_type": "markdown",
   "metadata": {},
   "source": [
    "## Изучение данных из файла"
   ]
  },
  {
   "cell_type": "markdown",
   "metadata": {},
   "source": [
    "Импортируем библиотеку pandas:"
   ]
  },
  {
   "cell_type": "code",
   "execution_count": 1,
   "metadata": {},
   "outputs": [],
   "source": [
    "import pandas as pd"
   ]
  },
  {
   "cell_type": "markdown",
   "metadata": {},
   "source": [
    "Читаем файл 'games.csv' и сохраняем его в переменной df_games:"
   ]
  },
  {
   "cell_type": "code",
   "execution_count": 2,
   "metadata": {},
   "outputs": [],
   "source": [
    "df_games = pd.read_csv('games.csv')"
   ]
  },
  {
   "cell_type": "markdown",
   "metadata": {},
   "source": [
    "Выводим на экран общую информацию и первые 5 строк таблицы:"
   ]
  },
  {
   "cell_type": "code",
   "execution_count": 3,
   "metadata": {
    "scrolled": false
   },
   "outputs": [
    {
     "name": "stdout",
     "output_type": "stream",
     "text": [
      "<class 'pandas.core.frame.DataFrame'>\n",
      "RangeIndex: 16715 entries, 0 to 16714\n",
      "Data columns (total 11 columns):\n",
      " #   Column           Non-Null Count  Dtype  \n",
      "---  ------           --------------  -----  \n",
      " 0   Name             16713 non-null  object \n",
      " 1   Platform         16715 non-null  object \n",
      " 2   Year_of_Release  16446 non-null  float64\n",
      " 3   Genre            16713 non-null  object \n",
      " 4   NA_sales         16715 non-null  float64\n",
      " 5   EU_sales         16715 non-null  float64\n",
      " 6   JP_sales         16715 non-null  float64\n",
      " 7   Other_sales      16715 non-null  float64\n",
      " 8   Critic_Score     8137 non-null   float64\n",
      " 9   User_Score       10014 non-null  object \n",
      " 10  Rating           9949 non-null   object \n",
      "dtypes: float64(6), object(5)\n",
      "memory usage: 1.4+ MB\n"
     ]
    },
    {
     "data": {
      "text/html": [
       "<div>\n",
       "<style scoped>\n",
       "    .dataframe tbody tr th:only-of-type {\n",
       "        vertical-align: middle;\n",
       "    }\n",
       "\n",
       "    .dataframe tbody tr th {\n",
       "        vertical-align: top;\n",
       "    }\n",
       "\n",
       "    .dataframe thead th {\n",
       "        text-align: right;\n",
       "    }\n",
       "</style>\n",
       "<table border=\"1\" class=\"dataframe\">\n",
       "  <thead>\n",
       "    <tr style=\"text-align: right;\">\n",
       "      <th></th>\n",
       "      <th>Name</th>\n",
       "      <th>Platform</th>\n",
       "      <th>Year_of_Release</th>\n",
       "      <th>Genre</th>\n",
       "      <th>NA_sales</th>\n",
       "      <th>EU_sales</th>\n",
       "      <th>JP_sales</th>\n",
       "      <th>Other_sales</th>\n",
       "      <th>Critic_Score</th>\n",
       "      <th>User_Score</th>\n",
       "      <th>Rating</th>\n",
       "    </tr>\n",
       "  </thead>\n",
       "  <tbody>\n",
       "    <tr>\n",
       "      <th>0</th>\n",
       "      <td>Wii Sports</td>\n",
       "      <td>Wii</td>\n",
       "      <td>2006.0</td>\n",
       "      <td>Sports</td>\n",
       "      <td>41.36</td>\n",
       "      <td>28.96</td>\n",
       "      <td>3.77</td>\n",
       "      <td>8.45</td>\n",
       "      <td>76.0</td>\n",
       "      <td>8</td>\n",
       "      <td>E</td>\n",
       "    </tr>\n",
       "    <tr>\n",
       "      <th>1</th>\n",
       "      <td>Super Mario Bros.</td>\n",
       "      <td>NES</td>\n",
       "      <td>1985.0</td>\n",
       "      <td>Platform</td>\n",
       "      <td>29.08</td>\n",
       "      <td>3.58</td>\n",
       "      <td>6.81</td>\n",
       "      <td>0.77</td>\n",
       "      <td>NaN</td>\n",
       "      <td>NaN</td>\n",
       "      <td>NaN</td>\n",
       "    </tr>\n",
       "    <tr>\n",
       "      <th>2</th>\n",
       "      <td>Mario Kart Wii</td>\n",
       "      <td>Wii</td>\n",
       "      <td>2008.0</td>\n",
       "      <td>Racing</td>\n",
       "      <td>15.68</td>\n",
       "      <td>12.76</td>\n",
       "      <td>3.79</td>\n",
       "      <td>3.29</td>\n",
       "      <td>82.0</td>\n",
       "      <td>8.3</td>\n",
       "      <td>E</td>\n",
       "    </tr>\n",
       "    <tr>\n",
       "      <th>3</th>\n",
       "      <td>Wii Sports Resort</td>\n",
       "      <td>Wii</td>\n",
       "      <td>2009.0</td>\n",
       "      <td>Sports</td>\n",
       "      <td>15.61</td>\n",
       "      <td>10.93</td>\n",
       "      <td>3.28</td>\n",
       "      <td>2.95</td>\n",
       "      <td>80.0</td>\n",
       "      <td>8</td>\n",
       "      <td>E</td>\n",
       "    </tr>\n",
       "    <tr>\n",
       "      <th>4</th>\n",
       "      <td>Pokemon Red/Pokemon Blue</td>\n",
       "      <td>GB</td>\n",
       "      <td>1996.0</td>\n",
       "      <td>Role-Playing</td>\n",
       "      <td>11.27</td>\n",
       "      <td>8.89</td>\n",
       "      <td>10.22</td>\n",
       "      <td>1.00</td>\n",
       "      <td>NaN</td>\n",
       "      <td>NaN</td>\n",
       "      <td>NaN</td>\n",
       "    </tr>\n",
       "  </tbody>\n",
       "</table>\n",
       "</div>"
      ],
      "text/plain": [
       "                       Name Platform  Year_of_Release         Genre  NA_sales  \\\n",
       "0                Wii Sports      Wii           2006.0        Sports     41.36   \n",
       "1         Super Mario Bros.      NES           1985.0      Platform     29.08   \n",
       "2            Mario Kart Wii      Wii           2008.0        Racing     15.68   \n",
       "3         Wii Sports Resort      Wii           2009.0        Sports     15.61   \n",
       "4  Pokemon Red/Pokemon Blue       GB           1996.0  Role-Playing     11.27   \n",
       "\n",
       "   EU_sales  JP_sales  Other_sales  Critic_Score User_Score Rating  \n",
       "0     28.96      3.77         8.45          76.0          8      E  \n",
       "1      3.58      6.81         0.77           NaN        NaN    NaN  \n",
       "2     12.76      3.79         3.29          82.0        8.3      E  \n",
       "3     10.93      3.28         2.95          80.0          8      E  \n",
       "4      8.89     10.22         1.00           NaN        NaN    NaN  "
      ]
     },
     "execution_count": 3,
     "metadata": {},
     "output_type": "execute_result"
    }
   ],
   "source": [
    "df_games.info()\n",
    "df_games.head()"
   ]
  },
  {
   "cell_type": "markdown",
   "metadata": {},
   "source": [
    "Выводим на экран таблицу, сгруппированную по столбцу 'Name' (название игры), с указанием количества повторений в таблице, а также перечень строк таблицы, в которых значение столбца 'Name' не заполнено:"
   ]
  },
  {
   "cell_type": "code",
   "execution_count": 4,
   "metadata": {
    "scrolled": true
   },
   "outputs": [
    {
     "data": {
      "text/plain": [
       "Need for Speed: Most Wanted                         12\n",
       "Ratatouille                                          9\n",
       "LEGO Marvel Super Heroes                             9\n",
       "FIFA 14                                              9\n",
       "Madden NFL 07                                        9\n",
       "                                                    ..\n",
       "Jewels of the Tropical Lost Island                   1\n",
       "Sherlock Holmes and the Mystery of Osborne House     1\n",
       "The King of Fighters '95 (CD)                        1\n",
       "Megamind: Mega Team Unite                            1\n",
       "Haitaka no Psychedelica                              1\n",
       "Name: Name, Length: 11559, dtype: int64"
      ]
     },
     "execution_count": 4,
     "metadata": {},
     "output_type": "execute_result"
    }
   ],
   "source": [
    "df_games['Name'].value_counts()"
   ]
  },
  {
   "cell_type": "code",
   "execution_count": 5,
   "metadata": {
    "scrolled": true
   },
   "outputs": [
    {
     "data": {
      "text/html": [
       "<div>\n",
       "<style scoped>\n",
       "    .dataframe tbody tr th:only-of-type {\n",
       "        vertical-align: middle;\n",
       "    }\n",
       "\n",
       "    .dataframe tbody tr th {\n",
       "        vertical-align: top;\n",
       "    }\n",
       "\n",
       "    .dataframe thead th {\n",
       "        text-align: right;\n",
       "    }\n",
       "</style>\n",
       "<table border=\"1\" class=\"dataframe\">\n",
       "  <thead>\n",
       "    <tr style=\"text-align: right;\">\n",
       "      <th></th>\n",
       "      <th>Name</th>\n",
       "      <th>Platform</th>\n",
       "      <th>Year_of_Release</th>\n",
       "      <th>Genre</th>\n",
       "      <th>NA_sales</th>\n",
       "      <th>EU_sales</th>\n",
       "      <th>JP_sales</th>\n",
       "      <th>Other_sales</th>\n",
       "      <th>Critic_Score</th>\n",
       "      <th>User_Score</th>\n",
       "      <th>Rating</th>\n",
       "    </tr>\n",
       "  </thead>\n",
       "  <tbody>\n",
       "    <tr>\n",
       "      <th>659</th>\n",
       "      <td>NaN</td>\n",
       "      <td>GEN</td>\n",
       "      <td>1993.0</td>\n",
       "      <td>NaN</td>\n",
       "      <td>1.78</td>\n",
       "      <td>0.53</td>\n",
       "      <td>0.00</td>\n",
       "      <td>0.08</td>\n",
       "      <td>NaN</td>\n",
       "      <td>NaN</td>\n",
       "      <td>NaN</td>\n",
       "    </tr>\n",
       "    <tr>\n",
       "      <th>14244</th>\n",
       "      <td>NaN</td>\n",
       "      <td>GEN</td>\n",
       "      <td>1993.0</td>\n",
       "      <td>NaN</td>\n",
       "      <td>0.00</td>\n",
       "      <td>0.00</td>\n",
       "      <td>0.03</td>\n",
       "      <td>0.00</td>\n",
       "      <td>NaN</td>\n",
       "      <td>NaN</td>\n",
       "      <td>NaN</td>\n",
       "    </tr>\n",
       "  </tbody>\n",
       "</table>\n",
       "</div>"
      ],
      "text/plain": [
       "      Name Platform  Year_of_Release Genre  NA_sales  EU_sales  JP_sales  \\\n",
       "659    NaN      GEN           1993.0   NaN      1.78      0.53      0.00   \n",
       "14244  NaN      GEN           1993.0   NaN      0.00      0.00      0.03   \n",
       "\n",
       "       Other_sales  Critic_Score User_Score Rating  \n",
       "659           0.08           NaN        NaN    NaN  \n",
       "14244         0.00           NaN        NaN    NaN  "
      ]
     },
     "execution_count": 5,
     "metadata": {},
     "output_type": "execute_result"
    }
   ],
   "source": [
    "df_games.query('Name.isna()')"
   ]
  },
  {
   "cell_type": "markdown",
   "metadata": {},
   "source": [
    "Выводим на экран список уникальных значений для столбца 'Platform':"
   ]
  },
  {
   "cell_type": "code",
   "execution_count": 6,
   "metadata": {},
   "outputs": [
    {
     "data": {
      "text/plain": [
       "array(['Wii', 'NES', 'GB', 'DS', 'X360', 'PS3', 'PS2', 'SNES', 'GBA',\n",
       "       'PS4', '3DS', 'N64', 'PS', 'XB', 'PC', '2600', 'PSP', 'XOne',\n",
       "       'WiiU', 'GC', 'GEN', 'DC', 'PSV', 'SAT', 'SCD', 'WS', 'NG', 'TG16',\n",
       "       '3DO', 'GG', 'PCFX'], dtype=object)"
      ]
     },
     "execution_count": 6,
     "metadata": {},
     "output_type": "execute_result"
    }
   ],
   "source": [
    "df_games['Platform'].unique()"
   ]
  },
  {
   "cell_type": "markdown",
   "metadata": {},
   "source": [
    "Выводим на экран список уникальных значений для столбца 'Year_of_Release', а также перечень строк таблицы, в которых значение столбца 'Year_of_Release' не заполнено:"
   ]
  },
  {
   "cell_type": "code",
   "execution_count": 7,
   "metadata": {},
   "outputs": [
    {
     "data": {
      "text/plain": [
       "array([1980., 1981., 1982., 1983., 1984., 1985., 1986., 1987., 1988.,\n",
       "       1989., 1990., 1991., 1992., 1993., 1994., 1995., 1996., 1997.,\n",
       "       1998., 1999., 2000., 2001., 2002., 2003., 2004., 2005., 2006.,\n",
       "       2007., 2008., 2009., 2010., 2011., 2012., 2013., 2014., 2015.,\n",
       "       2016.,   nan])"
      ]
     },
     "execution_count": 7,
     "metadata": {},
     "output_type": "execute_result"
    }
   ],
   "source": [
    "df_games.sort_values('Year_of_Release')['Year_of_Release'].unique()"
   ]
  },
  {
   "cell_type": "code",
   "execution_count": 8,
   "metadata": {
    "scrolled": false
   },
   "outputs": [
    {
     "data": {
      "text/html": [
       "<div>\n",
       "<style scoped>\n",
       "    .dataframe tbody tr th:only-of-type {\n",
       "        vertical-align: middle;\n",
       "    }\n",
       "\n",
       "    .dataframe tbody tr th {\n",
       "        vertical-align: top;\n",
       "    }\n",
       "\n",
       "    .dataframe thead th {\n",
       "        text-align: right;\n",
       "    }\n",
       "</style>\n",
       "<table border=\"1\" class=\"dataframe\">\n",
       "  <thead>\n",
       "    <tr style=\"text-align: right;\">\n",
       "      <th></th>\n",
       "      <th>Name</th>\n",
       "      <th>Platform</th>\n",
       "      <th>Year_of_Release</th>\n",
       "      <th>Genre</th>\n",
       "      <th>NA_sales</th>\n",
       "      <th>EU_sales</th>\n",
       "      <th>JP_sales</th>\n",
       "      <th>Other_sales</th>\n",
       "      <th>Critic_Score</th>\n",
       "      <th>User_Score</th>\n",
       "      <th>Rating</th>\n",
       "    </tr>\n",
       "  </thead>\n",
       "  <tbody>\n",
       "    <tr>\n",
       "      <th>183</th>\n",
       "      <td>Madden NFL 2004</td>\n",
       "      <td>PS2</td>\n",
       "      <td>NaN</td>\n",
       "      <td>Sports</td>\n",
       "      <td>4.26</td>\n",
       "      <td>0.26</td>\n",
       "      <td>0.01</td>\n",
       "      <td>0.71</td>\n",
       "      <td>94.0</td>\n",
       "      <td>8.5</td>\n",
       "      <td>E</td>\n",
       "    </tr>\n",
       "    <tr>\n",
       "      <th>377</th>\n",
       "      <td>FIFA Soccer 2004</td>\n",
       "      <td>PS2</td>\n",
       "      <td>NaN</td>\n",
       "      <td>Sports</td>\n",
       "      <td>0.59</td>\n",
       "      <td>2.36</td>\n",
       "      <td>0.04</td>\n",
       "      <td>0.51</td>\n",
       "      <td>84.0</td>\n",
       "      <td>6.4</td>\n",
       "      <td>E</td>\n",
       "    </tr>\n",
       "    <tr>\n",
       "      <th>456</th>\n",
       "      <td>LEGO Batman: The Videogame</td>\n",
       "      <td>Wii</td>\n",
       "      <td>NaN</td>\n",
       "      <td>Action</td>\n",
       "      <td>1.80</td>\n",
       "      <td>0.97</td>\n",
       "      <td>0.00</td>\n",
       "      <td>0.29</td>\n",
       "      <td>74.0</td>\n",
       "      <td>7.9</td>\n",
       "      <td>E10+</td>\n",
       "    </tr>\n",
       "    <tr>\n",
       "      <th>475</th>\n",
       "      <td>wwe Smackdown vs. Raw 2006</td>\n",
       "      <td>PS2</td>\n",
       "      <td>NaN</td>\n",
       "      <td>Fighting</td>\n",
       "      <td>1.57</td>\n",
       "      <td>1.02</td>\n",
       "      <td>0.00</td>\n",
       "      <td>0.41</td>\n",
       "      <td>NaN</td>\n",
       "      <td>NaN</td>\n",
       "      <td>NaN</td>\n",
       "    </tr>\n",
       "    <tr>\n",
       "      <th>609</th>\n",
       "      <td>Space Invaders</td>\n",
       "      <td>2600</td>\n",
       "      <td>NaN</td>\n",
       "      <td>Shooter</td>\n",
       "      <td>2.36</td>\n",
       "      <td>0.14</td>\n",
       "      <td>0.00</td>\n",
       "      <td>0.03</td>\n",
       "      <td>NaN</td>\n",
       "      <td>NaN</td>\n",
       "      <td>NaN</td>\n",
       "    </tr>\n",
       "    <tr>\n",
       "      <th>...</th>\n",
       "      <td>...</td>\n",
       "      <td>...</td>\n",
       "      <td>...</td>\n",
       "      <td>...</td>\n",
       "      <td>...</td>\n",
       "      <td>...</td>\n",
       "      <td>...</td>\n",
       "      <td>...</td>\n",
       "      <td>...</td>\n",
       "      <td>...</td>\n",
       "      <td>...</td>\n",
       "    </tr>\n",
       "    <tr>\n",
       "      <th>16373</th>\n",
       "      <td>PDC World Championship Darts 2008</td>\n",
       "      <td>PSP</td>\n",
       "      <td>NaN</td>\n",
       "      <td>Sports</td>\n",
       "      <td>0.01</td>\n",
       "      <td>0.00</td>\n",
       "      <td>0.00</td>\n",
       "      <td>0.00</td>\n",
       "      <td>43.0</td>\n",
       "      <td>tbd</td>\n",
       "      <td>E10+</td>\n",
       "    </tr>\n",
       "    <tr>\n",
       "      <th>16405</th>\n",
       "      <td>Freaky Flyers</td>\n",
       "      <td>GC</td>\n",
       "      <td>NaN</td>\n",
       "      <td>Racing</td>\n",
       "      <td>0.01</td>\n",
       "      <td>0.00</td>\n",
       "      <td>0.00</td>\n",
       "      <td>0.00</td>\n",
       "      <td>69.0</td>\n",
       "      <td>6.5</td>\n",
       "      <td>T</td>\n",
       "    </tr>\n",
       "    <tr>\n",
       "      <th>16448</th>\n",
       "      <td>Inversion</td>\n",
       "      <td>PC</td>\n",
       "      <td>NaN</td>\n",
       "      <td>Shooter</td>\n",
       "      <td>0.01</td>\n",
       "      <td>0.00</td>\n",
       "      <td>0.00</td>\n",
       "      <td>0.00</td>\n",
       "      <td>59.0</td>\n",
       "      <td>6.7</td>\n",
       "      <td>M</td>\n",
       "    </tr>\n",
       "    <tr>\n",
       "      <th>16458</th>\n",
       "      <td>Hakuouki: Shinsengumi Kitan</td>\n",
       "      <td>PS3</td>\n",
       "      <td>NaN</td>\n",
       "      <td>Adventure</td>\n",
       "      <td>0.01</td>\n",
       "      <td>0.00</td>\n",
       "      <td>0.00</td>\n",
       "      <td>0.00</td>\n",
       "      <td>NaN</td>\n",
       "      <td>NaN</td>\n",
       "      <td>NaN</td>\n",
       "    </tr>\n",
       "    <tr>\n",
       "      <th>16522</th>\n",
       "      <td>Virtua Quest</td>\n",
       "      <td>GC</td>\n",
       "      <td>NaN</td>\n",
       "      <td>Role-Playing</td>\n",
       "      <td>0.01</td>\n",
       "      <td>0.00</td>\n",
       "      <td>0.00</td>\n",
       "      <td>0.00</td>\n",
       "      <td>55.0</td>\n",
       "      <td>5.5</td>\n",
       "      <td>T</td>\n",
       "    </tr>\n",
       "  </tbody>\n",
       "</table>\n",
       "<p>269 rows × 11 columns</p>\n",
       "</div>"
      ],
      "text/plain": [
       "                                    Name Platform  Year_of_Release  \\\n",
       "183                      Madden NFL 2004      PS2              NaN   \n",
       "377                     FIFA Soccer 2004      PS2              NaN   \n",
       "456           LEGO Batman: The Videogame      Wii              NaN   \n",
       "475           wwe Smackdown vs. Raw 2006      PS2              NaN   \n",
       "609                       Space Invaders     2600              NaN   \n",
       "...                                  ...      ...              ...   \n",
       "16373  PDC World Championship Darts 2008      PSP              NaN   \n",
       "16405                      Freaky Flyers       GC              NaN   \n",
       "16448                          Inversion       PC              NaN   \n",
       "16458        Hakuouki: Shinsengumi Kitan      PS3              NaN   \n",
       "16522                       Virtua Quest       GC              NaN   \n",
       "\n",
       "              Genre  NA_sales  EU_sales  JP_sales  Other_sales  Critic_Score  \\\n",
       "183          Sports      4.26      0.26      0.01         0.71          94.0   \n",
       "377          Sports      0.59      2.36      0.04         0.51          84.0   \n",
       "456          Action      1.80      0.97      0.00         0.29          74.0   \n",
       "475        Fighting      1.57      1.02      0.00         0.41           NaN   \n",
       "609         Shooter      2.36      0.14      0.00         0.03           NaN   \n",
       "...             ...       ...       ...       ...          ...           ...   \n",
       "16373        Sports      0.01      0.00      0.00         0.00          43.0   \n",
       "16405        Racing      0.01      0.00      0.00         0.00          69.0   \n",
       "16448       Shooter      0.01      0.00      0.00         0.00          59.0   \n",
       "16458     Adventure      0.01      0.00      0.00         0.00           NaN   \n",
       "16522  Role-Playing      0.01      0.00      0.00         0.00          55.0   \n",
       "\n",
       "      User_Score Rating  \n",
       "183          8.5      E  \n",
       "377          6.4      E  \n",
       "456          7.9   E10+  \n",
       "475          NaN    NaN  \n",
       "609          NaN    NaN  \n",
       "...          ...    ...  \n",
       "16373        tbd   E10+  \n",
       "16405        6.5      T  \n",
       "16448        6.7      M  \n",
       "16458        NaN    NaN  \n",
       "16522        5.5      T  \n",
       "\n",
       "[269 rows x 11 columns]"
      ]
     },
     "execution_count": 8,
     "metadata": {},
     "output_type": "execute_result"
    }
   ],
   "source": [
    "df_games.query('Year_of_Release.isna()')"
   ]
  },
  {
   "cell_type": "markdown",
   "metadata": {},
   "source": [
    "Выводим на экран список уникальных значений для столбца 'Genre':"
   ]
  },
  {
   "cell_type": "code",
   "execution_count": 9,
   "metadata": {},
   "outputs": [
    {
     "data": {
      "text/plain": [
       "array(['Sports', 'Platform', 'Racing', 'Role-Playing', 'Puzzle', 'Misc',\n",
       "       'Shooter', 'Simulation', 'Action', 'Fighting', 'Adventure',\n",
       "       'Strategy', nan], dtype=object)"
      ]
     },
     "execution_count": 9,
     "metadata": {},
     "output_type": "execute_result"
    }
   ],
   "source": [
    "df_games['Genre'].unique()"
   ]
  },
  {
   "cell_type": "markdown",
   "metadata": {},
   "source": [
    "Выводим на экран список уникальных значений для столбца 'User_Score':"
   ]
  },
  {
   "cell_type": "code",
   "execution_count": 10,
   "metadata": {},
   "outputs": [
    {
     "data": {
      "text/plain": [
       "array(['8', nan, '8.3', '8.5', '6.6', '8.4', '8.6', '7.7', '6.3', '7.4',\n",
       "       '8.2', '9', '7.9', '8.1', '8.7', '7.1', '3.4', '5.3', '4.8', '3.2',\n",
       "       '8.9', '6.4', '7.8', '7.5', '2.6', '7.2', '9.2', '7', '7.3', '4.3',\n",
       "       '7.6', '5.7', '5', '9.1', '6.5', 'tbd', '8.8', '6.9', '9.4', '6.8',\n",
       "       '6.1', '6.7', '5.4', '4', '4.9', '4.5', '9.3', '6.2', '4.2', '6',\n",
       "       '3.7', '4.1', '5.8', '5.6', '5.5', '4.4', '4.6', '5.9', '3.9',\n",
       "       '3.1', '2.9', '5.2', '3.3', '4.7', '5.1', '3.5', '2.5', '1.9', '3',\n",
       "       '2.7', '2.2', '2', '9.5', '2.1', '3.6', '2.8', '1.8', '3.8', '0',\n",
       "       '1.6', '9.6', '2.4', '1.7', '1.1', '0.3', '1.5', '0.7', '1.2',\n",
       "       '2.3', '0.5', '1.3', '0.2', '0.6', '1.4', '0.9', '1', '9.7'],\n",
       "      dtype=object)"
      ]
     },
     "execution_count": 10,
     "metadata": {},
     "output_type": "execute_result"
    }
   ],
   "source": [
    "df_games['User_Score'].unique()"
   ]
  },
  {
   "cell_type": "markdown",
   "metadata": {},
   "source": [
    "Выводим на экран список уникальных значений для столбца 'Rating', а также список игр, у которых возрастной рейтинг имеет значение RP (игра была отправлена в ESRB и ожидает присвоения рейтинга):"
   ]
  },
  {
   "cell_type": "code",
   "execution_count": 11,
   "metadata": {},
   "outputs": [
    {
     "data": {
      "text/plain": [
       "array(['E', nan, 'M', 'T', 'E10+', 'K-A', 'AO', 'EC', 'RP'], dtype=object)"
      ]
     },
     "metadata": {},
     "output_type": "display_data"
    }
   ],
   "source": [
    "display(df_games['Rating'].unique())"
   ]
  },
  {
   "cell_type": "code",
   "execution_count": 12,
   "metadata": {},
   "outputs": [
    {
     "data": {
      "text/html": [
       "<div>\n",
       "<style scoped>\n",
       "    .dataframe tbody tr th:only-of-type {\n",
       "        vertical-align: middle;\n",
       "    }\n",
       "\n",
       "    .dataframe tbody tr th {\n",
       "        vertical-align: top;\n",
       "    }\n",
       "\n",
       "    .dataframe thead th {\n",
       "        text-align: right;\n",
       "    }\n",
       "</style>\n",
       "<table border=\"1\" class=\"dataframe\">\n",
       "  <thead>\n",
       "    <tr style=\"text-align: right;\">\n",
       "      <th></th>\n",
       "      <th>Name</th>\n",
       "      <th>Platform</th>\n",
       "      <th>Year_of_Release</th>\n",
       "      <th>Genre</th>\n",
       "      <th>NA_sales</th>\n",
       "      <th>EU_sales</th>\n",
       "      <th>JP_sales</th>\n",
       "      <th>Other_sales</th>\n",
       "      <th>Critic_Score</th>\n",
       "      <th>User_Score</th>\n",
       "      <th>Rating</th>\n",
       "    </tr>\n",
       "  </thead>\n",
       "  <tbody>\n",
       "    <tr>\n",
       "      <th>13672</th>\n",
       "      <td>Clockwork Empires</td>\n",
       "      <td>PC</td>\n",
       "      <td>NaN</td>\n",
       "      <td>Strategy</td>\n",
       "      <td>0.0</td>\n",
       "      <td>0.04</td>\n",
       "      <td>0.0</td>\n",
       "      <td>0.00</td>\n",
       "      <td>58.0</td>\n",
       "      <td>3.8</td>\n",
       "      <td>RP</td>\n",
       "    </tr>\n",
       "    <tr>\n",
       "      <th>14270</th>\n",
       "      <td>Supreme Ruler: Cold War</td>\n",
       "      <td>PC</td>\n",
       "      <td>2011.0</td>\n",
       "      <td>Strategy</td>\n",
       "      <td>0.0</td>\n",
       "      <td>0.03</td>\n",
       "      <td>0.0</td>\n",
       "      <td>0.01</td>\n",
       "      <td>63.0</td>\n",
       "      <td>6.8</td>\n",
       "      <td>RP</td>\n",
       "    </tr>\n",
       "    <tr>\n",
       "      <th>16180</th>\n",
       "      <td>WRC: FIA World Rally Championship</td>\n",
       "      <td>PC</td>\n",
       "      <td>NaN</td>\n",
       "      <td>Racing</td>\n",
       "      <td>0.0</td>\n",
       "      <td>0.01</td>\n",
       "      <td>0.0</td>\n",
       "      <td>0.00</td>\n",
       "      <td>65.0</td>\n",
       "      <td>NaN</td>\n",
       "      <td>RP</td>\n",
       "    </tr>\n",
       "  </tbody>\n",
       "</table>\n",
       "</div>"
      ],
      "text/plain": [
       "                                    Name Platform  Year_of_Release     Genre  \\\n",
       "13672                  Clockwork Empires       PC              NaN  Strategy   \n",
       "14270            Supreme Ruler: Cold War       PC           2011.0  Strategy   \n",
       "16180  WRC: FIA World Rally Championship       PC              NaN    Racing   \n",
       "\n",
       "       NA_sales  EU_sales  JP_sales  Other_sales  Critic_Score User_Score  \\\n",
       "13672       0.0      0.04       0.0         0.00          58.0        3.8   \n",
       "14270       0.0      0.03       0.0         0.01          63.0        6.8   \n",
       "16180       0.0      0.01       0.0         0.00          65.0        NaN   \n",
       "\n",
       "      Rating  \n",
       "13672     RP  \n",
       "14270     RP  \n",
       "16180     RP  "
      ]
     },
     "execution_count": 12,
     "metadata": {},
     "output_type": "execute_result"
    }
   ],
   "source": [
    "df_games.query('Rating == \"RP\"')"
   ]
  },
  {
   "cell_type": "markdown",
   "metadata": {},
   "source": [
    "**Вывод**"
   ]
  },
  {
   "cell_type": "markdown",
   "metadata": {},
   "source": [
    "Для проведения исследования представлен 1 csv-файл 'games.csv', который содержит таблицу с данными.<br>\n",
    "В каждой строке таблицы - данные о продажах одной конкретной игры, выпущенной в указанном году на определенной платформе, с указанием жанра игры, количества проданных копий по регионам продаж, оценок пользователей и критиков, а также с указанием рейтинга игры от ассоциации ESRB.\n",
    "\n",
    "Часть столбцов описывают саму игру: название игры, платформа (на которой выпущена игра), год выпуска, жанр и возрастной рейтинг игры от ассоциации ESRB (EC - для детей младшего возраста от 3-х лет; E и K-A - для детей от 6 лет; E10+ - для детей от 10 лет; T - для лиц от 13 лет; M - для лиц от 17 лет; AO - для лиц от 18 лет; RP - игра была отправлена в ESRB и ожидает присвоения рейтинга).<br>\n",
    "Часть столбцов описывают количество проданных копий (в миллионах штук) по 4 регионам продаж (na - Северная Америка, eu - Европа, jp - Япония, other - другие страны).<br>\n",
    "Часть столбцов описывают оценки пользователей (по 10-ти бальной шкале) и критиков (по 100 бальной шкале).\n",
    "\n",
    "***По результатам изучения данных в таблице выявлены следующие недостатки:***\n",
    "1. Наименования столбцов не соответствуют змеиному регистру. Для устранения недостатка необходимо привести наименования всех столбцов к нижнему регистру.\n",
    "2. В столбце 'Name' отсутствуют данные в двух строках. Так как данные невозможно заполнить на основании других столбцов, а для проведения исследования данный столбец необходим, то удалим данные строки из таблицы.\n",
    "3. В столбце 'Year_of_Release' отсутствуют данные в 269 строках. Так как данный столбец необходим для проведения исследования, то заполним пропущенные значения на основании информации об аналогичных играх, выпущенных на других платформах. Оставшиеся строки с незаполненными годами выпуска игр удалим из таблицы, так как значение года выпуска является важным для проведения исследования, а удаление относительно небольшого количества строк не повлияет на результат исследования.<br>Столбец 'Year_of_Release' содержит информацию о годах выпуска игр, данная информация не может быть дробной, поэтому целесообразно изменить тип данных столбца с float64 на int64.\n",
    "4. В столбце 'Genre' отсутствуют данные в двух строках. Данный недостаток будет устранен при удалении двух строк с пропущенными значениями в названиях игр.\n",
    "5. В столбцах 'Critic_Score' и 'User_Score' отсутствуют данные в 8578 и 6701 строках соответственно.<br>Столбец 'User_Score' содержит информацию об оценках пользователей игр, а значения этого столбца являются вещественными числами. Поэтому необходимо изменить тип данных столбца с object на float64. Дополнительно необходимо отметить текстовое значение 'tbd' в данном столбце. Это значение можно расшифровать как 'To Be Determined' или 'Будет определено' и указывается разработчиком игры, когда дата выхода релиза еще не определена. Так как исследование осуществляется по результатам продаж игр, соответственно дата выхода релиза была определена ранее, то целесообразно значение 'tbd' изменить на '0', чтобы изменение типа данных прошло корректно.<br>Также данные столбцы необходимы для проведения исследования, поэтому заполним пропущенные данные средними значениями оценок критиков и пользователей соответственно по тем играм, в которых аналогичные оценки заполнены.\n",
    "6. В столбце 'Rating' отсутствуют данные в 6766 строках. Также 3 строки имеют значение возрастной группы 'RP' (игра была отправлена в ESRB и ожидает присвоения рейтинга), то есть фактически не содержат значения возрастной группы, для которой предназначена игра. Значение 'RP' используется только на рекламных презентациях и в демо-версиях игр до официальной даты выпуска в продажу. Так как исследование осуществляется по результатам продаж игр, то значение 'RP' в столбце 'Rating' необходимо изменить. Таким образом, заполним пропущенные значения и значения возрастной группы 'RP' на значения рейтинга возрастной группы аналогичных игр, в которых эти значения заполнены."
   ]
  },
  {
   "cell_type": "markdown",
   "metadata": {},
   "source": [
    "## Предобработка данных"
   ]
  },
  {
   "cell_type": "markdown",
   "metadata": {},
   "source": [
    "### Приведение наименований столбцов к змеиному регистру"
   ]
  },
  {
   "cell_type": "markdown",
   "metadata": {},
   "source": [
    "Приведем наименования всех столбцов таблицы 'df_games' к нижнему регистру:"
   ]
  },
  {
   "cell_type": "code",
   "execution_count": 13,
   "metadata": {},
   "outputs": [],
   "source": [
    "for col_name in df_games.columns:\n",
    "    df_games = df_games.rename(columns={col_name: str.lower(col_name)})"
   ]
  },
  {
   "cell_type": "markdown",
   "metadata": {},
   "source": [
    "Выводим на экран общую информацию о таблице 'df_games' для подтверждения переименования столбцов:"
   ]
  },
  {
   "cell_type": "code",
   "execution_count": 14,
   "metadata": {},
   "outputs": [
    {
     "name": "stdout",
     "output_type": "stream",
     "text": [
      "<class 'pandas.core.frame.DataFrame'>\n",
      "RangeIndex: 16715 entries, 0 to 16714\n",
      "Data columns (total 11 columns):\n",
      " #   Column           Non-Null Count  Dtype  \n",
      "---  ------           --------------  -----  \n",
      " 0   name             16713 non-null  object \n",
      " 1   platform         16715 non-null  object \n",
      " 2   year_of_release  16446 non-null  float64\n",
      " 3   genre            16713 non-null  object \n",
      " 4   na_sales         16715 non-null  float64\n",
      " 5   eu_sales         16715 non-null  float64\n",
      " 6   jp_sales         16715 non-null  float64\n",
      " 7   other_sales      16715 non-null  float64\n",
      " 8   critic_score     8137 non-null   float64\n",
      " 9   user_score       10014 non-null  object \n",
      " 10  rating           9949 non-null   object \n",
      "dtypes: float64(6), object(5)\n",
      "memory usage: 1.4+ MB\n"
     ]
    }
   ],
   "source": [
    "df_games.info()"
   ]
  },
  {
   "cell_type": "markdown",
   "metadata": {},
   "source": [
    "**Вывод**"
   ]
  },
  {
   "cell_type": "markdown",
   "metadata": {},
   "source": [
    "Приведение наименований всех столбцов таблицы 'df_games' к змеиному регистру произведено успешно."
   ]
  },
  {
   "cell_type": "markdown",
   "metadata": {},
   "source": [
    "### Удаление строк для незаполненных значений столбца 'name' в таблице"
   ]
  },
  {
   "cell_type": "markdown",
   "metadata": {},
   "source": [
    "Удалим из таблицы 'df_games' строки, в которых значение столбца 'name' (название игры) не заполнено:"
   ]
  },
  {
   "cell_type": "code",
   "execution_count": 15,
   "metadata": {},
   "outputs": [],
   "source": [
    "df_games = df_games.dropna(subset = ['name']).reset_index(drop = True)"
   ]
  },
  {
   "cell_type": "markdown",
   "metadata": {},
   "source": [
    "Выводим на экран общую информацию о таблице 'df_games' для подтверждения произведенных изменений:"
   ]
  },
  {
   "cell_type": "code",
   "execution_count": 16,
   "metadata": {},
   "outputs": [
    {
     "name": "stdout",
     "output_type": "stream",
     "text": [
      "<class 'pandas.core.frame.DataFrame'>\n",
      "RangeIndex: 16713 entries, 0 to 16712\n",
      "Data columns (total 11 columns):\n",
      " #   Column           Non-Null Count  Dtype  \n",
      "---  ------           --------------  -----  \n",
      " 0   name             16713 non-null  object \n",
      " 1   platform         16713 non-null  object \n",
      " 2   year_of_release  16444 non-null  float64\n",
      " 3   genre            16713 non-null  object \n",
      " 4   na_sales         16713 non-null  float64\n",
      " 5   eu_sales         16713 non-null  float64\n",
      " 6   jp_sales         16713 non-null  float64\n",
      " 7   other_sales      16713 non-null  float64\n",
      " 8   critic_score     8137 non-null   float64\n",
      " 9   user_score       10014 non-null  object \n",
      " 10  rating           9949 non-null   object \n",
      "dtypes: float64(6), object(5)\n",
      "memory usage: 1.4+ MB\n"
     ]
    }
   ],
   "source": [
    "df_games.info()"
   ]
  },
  {
   "cell_type": "markdown",
   "metadata": {},
   "source": [
    "**Вывод**"
   ]
  },
  {
   "cell_type": "markdown",
   "metadata": {},
   "source": [
    "Удаление из таблицы 'df_games' строк, в которых значение столбца 'name' (название игры) было не заполнено произведено успешно."
   ]
  },
  {
   "cell_type": "markdown",
   "metadata": {},
   "source": [
    "### Обработка пропусков, удаление строк и замена типов данных для столбца 'year_of_release' в таблице"
   ]
  },
  {
   "cell_type": "markdown",
   "metadata": {},
   "source": [
    "Заполним пропущенные данные в столбце 'year_of_release' на основании информации о годах выпуска аналогичных игр, выпущенных на других платформах:"
   ]
  },
  {
   "cell_type": "code",
   "execution_count": 17,
   "metadata": {},
   "outputs": [],
   "source": [
    "df_games['year_of_release'] = df_games['year_of_release'].fillna(\n",
    "    df_games.groupby('name')['year_of_release'].transform('first'))"
   ]
  },
  {
   "cell_type": "markdown",
   "metadata": {},
   "source": [
    "Удалим из таблицы 'df_games' строки, в которых значение столбца 'year_of_release' (год выпуска) не заполнено:"
   ]
  },
  {
   "cell_type": "code",
   "execution_count": 18,
   "metadata": {},
   "outputs": [],
   "source": [
    "df_games = df_games.dropna(subset = ['year_of_release']).reset_index(drop = True)"
   ]
  },
  {
   "cell_type": "markdown",
   "metadata": {},
   "source": [
    "Для приведения в соответствие типов данных таблицы с хранимой информацией изменим тип данных для столбца 'year_of_release' с float64 на int64:"
   ]
  },
  {
   "cell_type": "code",
   "execution_count": 19,
   "metadata": {},
   "outputs": [],
   "source": [
    "df_games['year_of_release'] = df_games['year_of_release'].astype('int')"
   ]
  },
  {
   "cell_type": "markdown",
   "metadata": {},
   "source": [
    "Выводим на экран общую информацию о таблице 'df_games' для подтверждения произведенных изменений:"
   ]
  },
  {
   "cell_type": "code",
   "execution_count": 20,
   "metadata": {},
   "outputs": [
    {
     "name": "stdout",
     "output_type": "stream",
     "text": [
      "<class 'pandas.core.frame.DataFrame'>\n",
      "RangeIndex: 16567 entries, 0 to 16566\n",
      "Data columns (total 11 columns):\n",
      " #   Column           Non-Null Count  Dtype  \n",
      "---  ------           --------------  -----  \n",
      " 0   name             16567 non-null  object \n",
      " 1   platform         16567 non-null  object \n",
      " 2   year_of_release  16567 non-null  int32  \n",
      " 3   genre            16567 non-null  object \n",
      " 4   na_sales         16567 non-null  float64\n",
      " 5   eu_sales         16567 non-null  float64\n",
      " 6   jp_sales         16567 non-null  float64\n",
      " 7   other_sales      16567 non-null  float64\n",
      " 8   critic_score     8075 non-null   float64\n",
      " 9   user_score       9934 non-null   object \n",
      " 10  rating           9868 non-null   object \n",
      "dtypes: float64(5), int32(1), object(5)\n",
      "memory usage: 1.3+ MB\n"
     ]
    }
   ],
   "source": [
    "df_games.info()"
   ]
  },
  {
   "cell_type": "markdown",
   "metadata": {},
   "source": [
    "**Вывод**"
   ]
  },
  {
   "cell_type": "markdown",
   "metadata": {},
   "source": [
    "Обработка пропусков, удаление строк и замена типов данных для столбца 'year_of_release' в таблице произведены успешно."
   ]
  },
  {
   "cell_type": "markdown",
   "metadata": {},
   "source": [
    "### Обработка пропусков и замена типов данных для столбцов 'critic_score' и 'user_score' в таблице"
   ]
  },
  {
   "cell_type": "markdown",
   "metadata": {},
   "source": [
    "Заменим в столбце 'user_score' значение 'tbd' на '0':"
   ]
  },
  {
   "cell_type": "code",
   "execution_count": 21,
   "metadata": {},
   "outputs": [],
   "source": [
    "df_games['user_score'] = df_games['user_score'].replace('tbd','0')"
   ]
  },
  {
   "cell_type": "markdown",
   "metadata": {},
   "source": [
    "Для приведения в соответствие типов данных таблицы с хранимой информацией изменим тип данных для столбца 'user_score' с object на float64:"
   ]
  },
  {
   "cell_type": "code",
   "execution_count": 22,
   "metadata": {},
   "outputs": [],
   "source": [
    "df_games['user_score'] = pd.to_numeric(df_games['user_score'])"
   ]
  },
  {
   "cell_type": "markdown",
   "metadata": {},
   "source": [
    "Заполним пропущенные данные в столбцах 'critic_score' и 'user_score' средними значениями оценок критиков и пользователей соответственно по тем играм, в которых аналогичные оценки заполнены:"
   ]
  },
  {
   "cell_type": "code",
   "execution_count": 23,
   "metadata": {},
   "outputs": [],
   "source": [
    "df_games['critic_score'] = df_games['critic_score'].fillna(df_games.groupby('name')['critic_score'].transform('mean'))\n",
    "df_games['user_score'] = df_games['user_score'].fillna(df_games.groupby('name')['user_score'].transform('mean'))"
   ]
  },
  {
   "cell_type": "markdown",
   "metadata": {},
   "source": [
    "Выводим на экран общую информацию о таблице 'df_games' для подтверждения произведенных изменений:"
   ]
  },
  {
   "cell_type": "code",
   "execution_count": 24,
   "metadata": {},
   "outputs": [
    {
     "name": "stdout",
     "output_type": "stream",
     "text": [
      "<class 'pandas.core.frame.DataFrame'>\n",
      "RangeIndex: 16567 entries, 0 to 16566\n",
      "Data columns (total 11 columns):\n",
      " #   Column           Non-Null Count  Dtype  \n",
      "---  ------           --------------  -----  \n",
      " 0   name             16567 non-null  object \n",
      " 1   platform         16567 non-null  object \n",
      " 2   year_of_release  16567 non-null  int32  \n",
      " 3   genre            16567 non-null  object \n",
      " 4   na_sales         16567 non-null  float64\n",
      " 5   eu_sales         16567 non-null  float64\n",
      " 6   jp_sales         16567 non-null  float64\n",
      " 7   other_sales      16567 non-null  float64\n",
      " 8   critic_score     9035 non-null   float64\n",
      " 9   user_score       10363 non-null  float64\n",
      " 10  rating           9868 non-null   object \n",
      "dtypes: float64(6), int32(1), object(4)\n",
      "memory usage: 1.3+ MB\n"
     ]
    }
   ],
   "source": [
    "df_games.info()"
   ]
  },
  {
   "cell_type": "markdown",
   "metadata": {},
   "source": [
    "**Вывод**"
   ]
  },
  {
   "cell_type": "markdown",
   "metadata": {},
   "source": [
    "Изменение типа данных для столбца 'user_score' с object на float64 в таблице произведено успешно. В результате обработки пропусков увеличилось число строк, в которых значения столбцов 'critic_score' и 'user_score' заполнены."
   ]
  },
  {
   "cell_type": "markdown",
   "metadata": {},
   "source": [
    "### Обработка пропусков для столбца 'rating' в таблице"
   ]
  },
  {
   "cell_type": "markdown",
   "metadata": {},
   "source": [
    "Импортируем библиотеку numpy:"
   ]
  },
  {
   "cell_type": "code",
   "execution_count": 25,
   "metadata": {},
   "outputs": [],
   "source": [
    "import numpy as np"
   ]
  },
  {
   "cell_type": "markdown",
   "metadata": {},
   "source": [
    "Заполним пропущенные значения и значения 'RP' в столбце 'rating' на значения рейтинга возрастной группы аналогичных игр, в которых эти значения заполнены:"
   ]
  },
  {
   "cell_type": "code",
   "execution_count": 26,
   "metadata": {},
   "outputs": [],
   "source": [
    "df_games['rating'] = df_games['rating'].replace('RP', np.nan)\n",
    "df_games['rating'] = df_games['rating'].fillna(df_games.groupby('name')['rating'].transform('first'))"
   ]
  },
  {
   "cell_type": "markdown",
   "metadata": {},
   "source": [
    "Выводим на экран общую информацию о таблице 'df_games' для подтверждения произведенных изменений:"
   ]
  },
  {
   "cell_type": "code",
   "execution_count": 27,
   "metadata": {},
   "outputs": [
    {
     "name": "stdout",
     "output_type": "stream",
     "text": [
      "<class 'pandas.core.frame.DataFrame'>\n",
      "RangeIndex: 16567 entries, 0 to 16566\n",
      "Data columns (total 11 columns):\n",
      " #   Column           Non-Null Count  Dtype  \n",
      "---  ------           --------------  -----  \n",
      " 0   name             16567 non-null  object \n",
      " 1   platform         16567 non-null  object \n",
      " 2   year_of_release  16567 non-null  int32  \n",
      " 3   genre            16567 non-null  object \n",
      " 4   na_sales         16567 non-null  float64\n",
      " 5   eu_sales         16567 non-null  float64\n",
      " 6   jp_sales         16567 non-null  float64\n",
      " 7   other_sales      16567 non-null  float64\n",
      " 8   critic_score     9035 non-null   float64\n",
      " 9   user_score       10363 non-null  float64\n",
      " 10  rating           10304 non-null  object \n",
      "dtypes: float64(6), int32(1), object(4)\n",
      "memory usage: 1.3+ MB\n"
     ]
    }
   ],
   "source": [
    "df_games.info()"
   ]
  },
  {
   "cell_type": "markdown",
   "metadata": {},
   "source": [
    "**Вывод**"
   ]
  },
  {
   "cell_type": "markdown",
   "metadata": {},
   "source": [
    "В результате обработки пропусков увеличилось число строк, в которых значения столбца 'rating' заполнены."
   ]
  },
  {
   "cell_type": "markdown",
   "metadata": {},
   "source": [
    "## Расчёт суммарных продаж во всех регионах и добавление результатов в таблицу "
   ]
  },
  {
   "cell_type": "markdown",
   "metadata": {},
   "source": [
    "Посчитаем суммарные продажи по всем 4 регионам и сохраним результаты в новый столбец:"
   ]
  },
  {
   "cell_type": "code",
   "execution_count": 28,
   "metadata": {},
   "outputs": [],
   "source": [
    "df_games['total_sales'] = df_games['na_sales'] + df_games['eu_sales'] + df_games['jp_sales'] + df_games['other_sales']"
   ]
  },
  {
   "cell_type": "markdown",
   "metadata": {},
   "source": [
    "Выведем на экран общую информацию и первые 5 строк таблицы:"
   ]
  },
  {
   "cell_type": "code",
   "execution_count": 29,
   "metadata": {},
   "outputs": [
    {
     "name": "stdout",
     "output_type": "stream",
     "text": [
      "<class 'pandas.core.frame.DataFrame'>\n",
      "RangeIndex: 16567 entries, 0 to 16566\n",
      "Data columns (total 12 columns):\n",
      " #   Column           Non-Null Count  Dtype  \n",
      "---  ------           --------------  -----  \n",
      " 0   name             16567 non-null  object \n",
      " 1   platform         16567 non-null  object \n",
      " 2   year_of_release  16567 non-null  int32  \n",
      " 3   genre            16567 non-null  object \n",
      " 4   na_sales         16567 non-null  float64\n",
      " 5   eu_sales         16567 non-null  float64\n",
      " 6   jp_sales         16567 non-null  float64\n",
      " 7   other_sales      16567 non-null  float64\n",
      " 8   critic_score     9035 non-null   float64\n",
      " 9   user_score       10363 non-null  float64\n",
      " 10  rating           10304 non-null  object \n",
      " 11  total_sales      16567 non-null  float64\n",
      "dtypes: float64(7), int32(1), object(4)\n",
      "memory usage: 1.5+ MB\n"
     ]
    },
    {
     "data": {
      "text/html": [
       "<div>\n",
       "<style scoped>\n",
       "    .dataframe tbody tr th:only-of-type {\n",
       "        vertical-align: middle;\n",
       "    }\n",
       "\n",
       "    .dataframe tbody tr th {\n",
       "        vertical-align: top;\n",
       "    }\n",
       "\n",
       "    .dataframe thead th {\n",
       "        text-align: right;\n",
       "    }\n",
       "</style>\n",
       "<table border=\"1\" class=\"dataframe\">\n",
       "  <thead>\n",
       "    <tr style=\"text-align: right;\">\n",
       "      <th></th>\n",
       "      <th>name</th>\n",
       "      <th>platform</th>\n",
       "      <th>year_of_release</th>\n",
       "      <th>genre</th>\n",
       "      <th>na_sales</th>\n",
       "      <th>eu_sales</th>\n",
       "      <th>jp_sales</th>\n",
       "      <th>other_sales</th>\n",
       "      <th>critic_score</th>\n",
       "      <th>user_score</th>\n",
       "      <th>rating</th>\n",
       "      <th>total_sales</th>\n",
       "    </tr>\n",
       "  </thead>\n",
       "  <tbody>\n",
       "    <tr>\n",
       "      <th>0</th>\n",
       "      <td>Wii Sports</td>\n",
       "      <td>Wii</td>\n",
       "      <td>2006</td>\n",
       "      <td>Sports</td>\n",
       "      <td>41.36</td>\n",
       "      <td>28.96</td>\n",
       "      <td>3.77</td>\n",
       "      <td>8.45</td>\n",
       "      <td>76.0</td>\n",
       "      <td>8.0</td>\n",
       "      <td>E</td>\n",
       "      <td>82.54</td>\n",
       "    </tr>\n",
       "    <tr>\n",
       "      <th>1</th>\n",
       "      <td>Super Mario Bros.</td>\n",
       "      <td>NES</td>\n",
       "      <td>1985</td>\n",
       "      <td>Platform</td>\n",
       "      <td>29.08</td>\n",
       "      <td>3.58</td>\n",
       "      <td>6.81</td>\n",
       "      <td>0.77</td>\n",
       "      <td>NaN</td>\n",
       "      <td>NaN</td>\n",
       "      <td>None</td>\n",
       "      <td>40.24</td>\n",
       "    </tr>\n",
       "    <tr>\n",
       "      <th>2</th>\n",
       "      <td>Mario Kart Wii</td>\n",
       "      <td>Wii</td>\n",
       "      <td>2008</td>\n",
       "      <td>Racing</td>\n",
       "      <td>15.68</td>\n",
       "      <td>12.76</td>\n",
       "      <td>3.79</td>\n",
       "      <td>3.29</td>\n",
       "      <td>82.0</td>\n",
       "      <td>8.3</td>\n",
       "      <td>E</td>\n",
       "      <td>35.52</td>\n",
       "    </tr>\n",
       "    <tr>\n",
       "      <th>3</th>\n",
       "      <td>Wii Sports Resort</td>\n",
       "      <td>Wii</td>\n",
       "      <td>2009</td>\n",
       "      <td>Sports</td>\n",
       "      <td>15.61</td>\n",
       "      <td>10.93</td>\n",
       "      <td>3.28</td>\n",
       "      <td>2.95</td>\n",
       "      <td>80.0</td>\n",
       "      <td>8.0</td>\n",
       "      <td>E</td>\n",
       "      <td>32.77</td>\n",
       "    </tr>\n",
       "    <tr>\n",
       "      <th>4</th>\n",
       "      <td>Pokemon Red/Pokemon Blue</td>\n",
       "      <td>GB</td>\n",
       "      <td>1996</td>\n",
       "      <td>Role-Playing</td>\n",
       "      <td>11.27</td>\n",
       "      <td>8.89</td>\n",
       "      <td>10.22</td>\n",
       "      <td>1.00</td>\n",
       "      <td>NaN</td>\n",
       "      <td>NaN</td>\n",
       "      <td>None</td>\n",
       "      <td>31.38</td>\n",
       "    </tr>\n",
       "  </tbody>\n",
       "</table>\n",
       "</div>"
      ],
      "text/plain": [
       "                       name platform  year_of_release         genre  na_sales  \\\n",
       "0                Wii Sports      Wii             2006        Sports     41.36   \n",
       "1         Super Mario Bros.      NES             1985      Platform     29.08   \n",
       "2            Mario Kart Wii      Wii             2008        Racing     15.68   \n",
       "3         Wii Sports Resort      Wii             2009        Sports     15.61   \n",
       "4  Pokemon Red/Pokemon Blue       GB             1996  Role-Playing     11.27   \n",
       "\n",
       "   eu_sales  jp_sales  other_sales  critic_score  user_score rating  \\\n",
       "0     28.96      3.77         8.45          76.0         8.0      E   \n",
       "1      3.58      6.81         0.77           NaN         NaN   None   \n",
       "2     12.76      3.79         3.29          82.0         8.3      E   \n",
       "3     10.93      3.28         2.95          80.0         8.0      E   \n",
       "4      8.89     10.22         1.00           NaN         NaN   None   \n",
       "\n",
       "   total_sales  \n",
       "0        82.54  \n",
       "1        40.24  \n",
       "2        35.52  \n",
       "3        32.77  \n",
       "4        31.38  "
      ]
     },
     "execution_count": 29,
     "metadata": {},
     "output_type": "execute_result"
    }
   ],
   "source": [
    "df_games.info()\n",
    "df_games.head()"
   ]
  },
  {
   "cell_type": "markdown",
   "metadata": {},
   "source": [
    "**Вывод**"
   ]
  },
  {
   "cell_type": "markdown",
   "metadata": {},
   "source": [
    "Посчитали суммарные продажи по всем 4 регионам и сохранили результаты в новый столбец 'total_sales' таблицы 'df_games'."
   ]
  },
  {
   "cell_type": "markdown",
   "metadata": {},
   "source": [
    "## Исследовательский анализ данных"
   ]
  },
  {
   "cell_type": "markdown",
   "metadata": {},
   "source": [
    "### Определение актуального периода для построения прогноза на 2017 год"
   ]
  },
  {
   "cell_type": "markdown",
   "metadata": {},
   "source": [
    "Сформируем сводную таблицу и посчитаем сколько игр выпускалось в разные годы:"
   ]
  },
  {
   "cell_type": "code",
   "execution_count": 30,
   "metadata": {
    "scrolled": true
   },
   "outputs": [
    {
     "data": {
      "text/html": [
       "<div>\n",
       "<style scoped>\n",
       "    .dataframe tbody tr th:only-of-type {\n",
       "        vertical-align: middle;\n",
       "    }\n",
       "\n",
       "    .dataframe tbody tr th {\n",
       "        vertical-align: top;\n",
       "    }\n",
       "\n",
       "    .dataframe thead th {\n",
       "        text-align: right;\n",
       "    }\n",
       "</style>\n",
       "<table border=\"1\" class=\"dataframe\">\n",
       "  <thead>\n",
       "    <tr style=\"text-align: right;\">\n",
       "      <th></th>\n",
       "      <th>name</th>\n",
       "    </tr>\n",
       "    <tr>\n",
       "      <th>year_of_release</th>\n",
       "      <th></th>\n",
       "    </tr>\n",
       "  </thead>\n",
       "  <tbody>\n",
       "    <tr>\n",
       "      <th>1980</th>\n",
       "      <td>9</td>\n",
       "    </tr>\n",
       "    <tr>\n",
       "      <th>1981</th>\n",
       "      <td>46</td>\n",
       "    </tr>\n",
       "    <tr>\n",
       "      <th>1982</th>\n",
       "      <td>36</td>\n",
       "    </tr>\n",
       "    <tr>\n",
       "      <th>1983</th>\n",
       "      <td>17</td>\n",
       "    </tr>\n",
       "    <tr>\n",
       "      <th>1984</th>\n",
       "      <td>14</td>\n",
       "    </tr>\n",
       "    <tr>\n",
       "      <th>1985</th>\n",
       "      <td>14</td>\n",
       "    </tr>\n",
       "    <tr>\n",
       "      <th>1986</th>\n",
       "      <td>21</td>\n",
       "    </tr>\n",
       "    <tr>\n",
       "      <th>1987</th>\n",
       "      <td>16</td>\n",
       "    </tr>\n",
       "    <tr>\n",
       "      <th>1988</th>\n",
       "      <td>15</td>\n",
       "    </tr>\n",
       "    <tr>\n",
       "      <th>1989</th>\n",
       "      <td>17</td>\n",
       "    </tr>\n",
       "    <tr>\n",
       "      <th>1990</th>\n",
       "      <td>16</td>\n",
       "    </tr>\n",
       "    <tr>\n",
       "      <th>1991</th>\n",
       "      <td>42</td>\n",
       "    </tr>\n",
       "    <tr>\n",
       "      <th>1992</th>\n",
       "      <td>43</td>\n",
       "    </tr>\n",
       "    <tr>\n",
       "      <th>1993</th>\n",
       "      <td>60</td>\n",
       "    </tr>\n",
       "    <tr>\n",
       "      <th>1994</th>\n",
       "      <td>122</td>\n",
       "    </tr>\n",
       "    <tr>\n",
       "      <th>1995</th>\n",
       "      <td>219</td>\n",
       "    </tr>\n",
       "    <tr>\n",
       "      <th>1996</th>\n",
       "      <td>263</td>\n",
       "    </tr>\n",
       "    <tr>\n",
       "      <th>1997</th>\n",
       "      <td>289</td>\n",
       "    </tr>\n",
       "    <tr>\n",
       "      <th>1998</th>\n",
       "      <td>380</td>\n",
       "    </tr>\n",
       "    <tr>\n",
       "      <th>1999</th>\n",
       "      <td>339</td>\n",
       "    </tr>\n",
       "    <tr>\n",
       "      <th>2000</th>\n",
       "      <td>351</td>\n",
       "    </tr>\n",
       "    <tr>\n",
       "      <th>2001</th>\n",
       "      <td>486</td>\n",
       "    </tr>\n",
       "    <tr>\n",
       "      <th>2002</th>\n",
       "      <td>845</td>\n",
       "    </tr>\n",
       "    <tr>\n",
       "      <th>2003</th>\n",
       "      <td>783</td>\n",
       "    </tr>\n",
       "    <tr>\n",
       "      <th>2004</th>\n",
       "      <td>764</td>\n",
       "    </tr>\n",
       "    <tr>\n",
       "      <th>2005</th>\n",
       "      <td>947</td>\n",
       "    </tr>\n",
       "    <tr>\n",
       "      <th>2006</th>\n",
       "      <td>1019</td>\n",
       "    </tr>\n",
       "    <tr>\n",
       "      <th>2007</th>\n",
       "      <td>1202</td>\n",
       "    </tr>\n",
       "    <tr>\n",
       "      <th>2008</th>\n",
       "      <td>1441</td>\n",
       "    </tr>\n",
       "    <tr>\n",
       "      <th>2009</th>\n",
       "      <td>1430</td>\n",
       "    </tr>\n",
       "    <tr>\n",
       "      <th>2010</th>\n",
       "      <td>1269</td>\n",
       "    </tr>\n",
       "    <tr>\n",
       "      <th>2011</th>\n",
       "      <td>1153</td>\n",
       "    </tr>\n",
       "    <tr>\n",
       "      <th>2012</th>\n",
       "      <td>662</td>\n",
       "    </tr>\n",
       "    <tr>\n",
       "      <th>2013</th>\n",
       "      <td>548</td>\n",
       "    </tr>\n",
       "    <tr>\n",
       "      <th>2014</th>\n",
       "      <td>581</td>\n",
       "    </tr>\n",
       "    <tr>\n",
       "      <th>2015</th>\n",
       "      <td>606</td>\n",
       "    </tr>\n",
       "    <tr>\n",
       "      <th>2016</th>\n",
       "      <td>502</td>\n",
       "    </tr>\n",
       "  </tbody>\n",
       "</table>\n",
       "</div>"
      ],
      "text/plain": [
       "                 name\n",
       "year_of_release      \n",
       "1980                9\n",
       "1981               46\n",
       "1982               36\n",
       "1983               17\n",
       "1984               14\n",
       "1985               14\n",
       "1986               21\n",
       "1987               16\n",
       "1988               15\n",
       "1989               17\n",
       "1990               16\n",
       "1991               42\n",
       "1992               43\n",
       "1993               60\n",
       "1994              122\n",
       "1995              219\n",
       "1996              263\n",
       "1997              289\n",
       "1998              380\n",
       "1999              339\n",
       "2000              351\n",
       "2001              486\n",
       "2002              845\n",
       "2003              783\n",
       "2004              764\n",
       "2005              947\n",
       "2006             1019\n",
       "2007             1202\n",
       "2008             1441\n",
       "2009             1430\n",
       "2010             1269\n",
       "2011             1153\n",
       "2012              662\n",
       "2013              548\n",
       "2014              581\n",
       "2015              606\n",
       "2016              502"
      ]
     },
     "execution_count": 30,
     "metadata": {},
     "output_type": "execute_result"
    }
   ],
   "source": [
    "df_games.pivot_table(index='year_of_release', values='name', aggfunc='count')"
   ]
  },
  {
   "cell_type": "markdown",
   "metadata": {},
   "source": [
    "Сформируем сводную таблицу и посчитаем суммарные продажи по платформам:"
   ]
  },
  {
   "cell_type": "code",
   "execution_count": 31,
   "metadata": {
    "scrolled": true
   },
   "outputs": [
    {
     "data": {
      "text/html": [
       "<div>\n",
       "<style scoped>\n",
       "    .dataframe tbody tr th:only-of-type {\n",
       "        vertical-align: middle;\n",
       "    }\n",
       "\n",
       "    .dataframe tbody tr th {\n",
       "        vertical-align: top;\n",
       "    }\n",
       "\n",
       "    .dataframe thead th {\n",
       "        text-align: right;\n",
       "    }\n",
       "</style>\n",
       "<table border=\"1\" class=\"dataframe\">\n",
       "  <thead>\n",
       "    <tr style=\"text-align: right;\">\n",
       "      <th></th>\n",
       "      <th>platform</th>\n",
       "      <th>total_sales</th>\n",
       "    </tr>\n",
       "  </thead>\n",
       "  <tbody>\n",
       "    <tr>\n",
       "      <th>0</th>\n",
       "      <td>PS2</td>\n",
       "      <td>1247.16</td>\n",
       "    </tr>\n",
       "    <tr>\n",
       "      <th>1</th>\n",
       "      <td>X360</td>\n",
       "      <td>966.61</td>\n",
       "    </tr>\n",
       "    <tr>\n",
       "      <th>2</th>\n",
       "      <td>PS3</td>\n",
       "      <td>935.19</td>\n",
       "    </tr>\n",
       "    <tr>\n",
       "      <th>3</th>\n",
       "      <td>Wii</td>\n",
       "      <td>903.31</td>\n",
       "    </tr>\n",
       "    <tr>\n",
       "      <th>4</th>\n",
       "      <td>DS</td>\n",
       "      <td>804.28</td>\n",
       "    </tr>\n",
       "    <tr>\n",
       "      <th>5</th>\n",
       "      <td>PS</td>\n",
       "      <td>727.58</td>\n",
       "    </tr>\n",
       "    <tr>\n",
       "      <th>6</th>\n",
       "      <td>PS4</td>\n",
       "      <td>314.14</td>\n",
       "    </tr>\n",
       "    <tr>\n",
       "      <th>7</th>\n",
       "      <td>GBA</td>\n",
       "      <td>313.73</td>\n",
       "    </tr>\n",
       "    <tr>\n",
       "      <th>8</th>\n",
       "      <td>PSP</td>\n",
       "      <td>293.57</td>\n",
       "    </tr>\n",
       "    <tr>\n",
       "      <th>9</th>\n",
       "      <td>PC</td>\n",
       "      <td>258.86</td>\n",
       "    </tr>\n",
       "    <tr>\n",
       "      <th>10</th>\n",
       "      <td>3DS</td>\n",
       "      <td>258.53</td>\n",
       "    </tr>\n",
       "    <tr>\n",
       "      <th>11</th>\n",
       "      <td>XB</td>\n",
       "      <td>256.69</td>\n",
       "    </tr>\n",
       "    <tr>\n",
       "      <th>12</th>\n",
       "      <td>GB</td>\n",
       "      <td>254.43</td>\n",
       "    </tr>\n",
       "    <tr>\n",
       "      <th>13</th>\n",
       "      <td>NES</td>\n",
       "      <td>251.05</td>\n",
       "    </tr>\n",
       "    <tr>\n",
       "      <th>14</th>\n",
       "      <td>N64</td>\n",
       "      <td>218.48</td>\n",
       "    </tr>\n",
       "    <tr>\n",
       "      <th>15</th>\n",
       "      <td>SNES</td>\n",
       "      <td>200.04</td>\n",
       "    </tr>\n",
       "    <tr>\n",
       "      <th>16</th>\n",
       "      <td>GC</td>\n",
       "      <td>198.66</td>\n",
       "    </tr>\n",
       "    <tr>\n",
       "      <th>17</th>\n",
       "      <td>XOne</td>\n",
       "      <td>159.32</td>\n",
       "    </tr>\n",
       "    <tr>\n",
       "      <th>18</th>\n",
       "      <td>2600</td>\n",
       "      <td>89.01</td>\n",
       "    </tr>\n",
       "    <tr>\n",
       "      <th>19</th>\n",
       "      <td>WiiU</td>\n",
       "      <td>82.19</td>\n",
       "    </tr>\n",
       "    <tr>\n",
       "      <th>20</th>\n",
       "      <td>PSV</td>\n",
       "      <td>53.81</td>\n",
       "    </tr>\n",
       "    <tr>\n",
       "      <th>21</th>\n",
       "      <td>SAT</td>\n",
       "      <td>33.59</td>\n",
       "    </tr>\n",
       "    <tr>\n",
       "      <th>22</th>\n",
       "      <td>GEN</td>\n",
       "      <td>28.35</td>\n",
       "    </tr>\n",
       "    <tr>\n",
       "      <th>23</th>\n",
       "      <td>DC</td>\n",
       "      <td>15.95</td>\n",
       "    </tr>\n",
       "    <tr>\n",
       "      <th>24</th>\n",
       "      <td>SCD</td>\n",
       "      <td>1.86</td>\n",
       "    </tr>\n",
       "    <tr>\n",
       "      <th>25</th>\n",
       "      <td>NG</td>\n",
       "      <td>1.44</td>\n",
       "    </tr>\n",
       "    <tr>\n",
       "      <th>26</th>\n",
       "      <td>WS</td>\n",
       "      <td>1.42</td>\n",
       "    </tr>\n",
       "    <tr>\n",
       "      <th>27</th>\n",
       "      <td>TG16</td>\n",
       "      <td>0.16</td>\n",
       "    </tr>\n",
       "    <tr>\n",
       "      <th>28</th>\n",
       "      <td>3DO</td>\n",
       "      <td>0.10</td>\n",
       "    </tr>\n",
       "    <tr>\n",
       "      <th>29</th>\n",
       "      <td>GG</td>\n",
       "      <td>0.04</td>\n",
       "    </tr>\n",
       "    <tr>\n",
       "      <th>30</th>\n",
       "      <td>PCFX</td>\n",
       "      <td>0.03</td>\n",
       "    </tr>\n",
       "  </tbody>\n",
       "</table>\n",
       "</div>"
      ],
      "text/plain": [
       "   platform  total_sales\n",
       "0       PS2      1247.16\n",
       "1      X360       966.61\n",
       "2       PS3       935.19\n",
       "3       Wii       903.31\n",
       "4        DS       804.28\n",
       "5        PS       727.58\n",
       "6       PS4       314.14\n",
       "7       GBA       313.73\n",
       "8       PSP       293.57\n",
       "9        PC       258.86\n",
       "10      3DS       258.53\n",
       "11       XB       256.69\n",
       "12       GB       254.43\n",
       "13      NES       251.05\n",
       "14      N64       218.48\n",
       "15     SNES       200.04\n",
       "16       GC       198.66\n",
       "17     XOne       159.32\n",
       "18     2600        89.01\n",
       "19     WiiU        82.19\n",
       "20      PSV        53.81\n",
       "21      SAT        33.59\n",
       "22      GEN        28.35\n",
       "23       DC        15.95\n",
       "24      SCD         1.86\n",
       "25       NG         1.44\n",
       "26       WS         1.42\n",
       "27     TG16         0.16\n",
       "28      3DO         0.10\n",
       "29       GG         0.04\n",
       "30     PCFX         0.03"
      ]
     },
     "execution_count": 31,
     "metadata": {},
     "output_type": "execute_result"
    }
   ],
   "source": [
    "df_platforms = df_games.pivot_table(\n",
    "    index='platform', values='total_sales', aggfunc='sum'\n",
    ").sort_values('total_sales',ascending=False).reset_index()\n",
    "df_platforms"
   ]
  },
  {
   "cell_type": "markdown",
   "metadata": {},
   "source": [
    "Импортируем модуль pyplot библиотеки matplotlib:"
   ]
  },
  {
   "cell_type": "code",
   "execution_count": 32,
   "metadata": {},
   "outputs": [],
   "source": [
    "import matplotlib.pyplot as plt"
   ]
  },
  {
   "cell_type": "markdown",
   "metadata": {},
   "source": [
    "Выберем ТОП-11 платформ с наибольшими суммарными продажами и построим распределение по годам:"
   ]
  },
  {
   "cell_type": "code",
   "execution_count": 33,
   "metadata": {
    "scrolled": false
   },
   "outputs": [
    {
     "data": {
      "image/png": "[encoded data removed]",
      "text/plain": [
       "<Figure size 864x216 with 1 Axes>"
      ]
     },
     "metadata": {
      "needs_background": "light"
     },
     "output_type": "display_data"
    },
    {
     "data": {
      "image/png": "[encoded data removed]",
      "text/plain": [
       "<Figure size 864x216 with 1 Axes>"
      ]
     },
     "metadata": {
      "needs_background": "light"
     },
     "output_type": "display_data"
    },
    {
     "data": {
      "image/png": "[encoded data removed]",
      "text/plain": [
       "<Figure size 864x216 with 1 Axes>"
      ]
     },
     "metadata": {
      "needs_background": "light"
     },
     "output_type": "display_data"
    },
    {
     "data": {
      "image/png": "[encoded data removed]",
      "text/plain": [
       "<Figure size 864x216 with 1 Axes>"
      ]
     },
     "metadata": {
      "needs_background": "light"
     },
     "output_type": "display_data"
    },
    {
     "data": {
      "image/png": "[encoded data removed]",
      "text/plain": [
       "<Figure size 864x216 with 1 Axes>"
      ]
     },
     "metadata": {
      "needs_background": "light"
     },
     "output_type": "display_data"
    },
    {
     "data": {
      "image/png": "[encoded data removed]",
      "text/plain": [
       "<Figure size 864x216 with 1 Axes>"
      ]
     },
     "metadata": {
      "needs_background": "light"
     },
     "output_type": "display_data"
    },
    {
     "data": {
      "image/png": "[encoded data removed]",
      "text/plain": [
       "<Figure size 864x216 with 1 Axes>"
      ]
     },
     "metadata": {
      "needs_background": "light"
     },
     "output_type": "display_data"
    },
    {
     "data": {
      "image/png": "[encoded data removed]",
      "text/plain": [
       "<Figure size 864x216 with 1 Axes>"
      ]
     },
     "metadata": {
      "needs_background": "light"
     },
     "output_type": "display_data"
    },
    {
     "data": {
      "image/png": "[encoded data removed]",
      "text/plain": [
       "<Figure size 864x216 with 1 Axes>"
      ]
     },
     "metadata": {
      "needs_background": "light"
     },
     "output_type": "display_data"
    },
    {
     "data": {
      "image/png": "[encoded data removed]",
      "text/plain": [
       "<Figure size 864x216 with 1 Axes>"
      ]
     },
     "metadata": {
      "needs_background": "light"
     },
     "output_type": "display_data"
    },
    {
     "data": {
      "image/png": "[encoded data removed]",
      "text/plain": [
       "<Figure size 864x216 with 1 Axes>"
      ]
     },
     "metadata": {
      "needs_background": "light"
     },
     "output_type": "display_data"
    }
   ],
   "source": [
    "df_top10_platforms = df_platforms.loc[:10]\n",
    "df_years_platforms = df_games.query('platform in @df_top10_platforms.platform').groupby('platform')['year_of_release']\n",
    "\n",
    "for column_value, column_slice in df_years_platforms:\n",
    "    ax = column_slice.plot(title='Гистограмма для платформы ' + column_value, bins=10, kind='hist',\n",
    "                           grid=True, figsize=(12,3))\n",
    "    ax.set_xlabel('годы')\n",
    "    ax.set_ylabel('Кол-во игр на платформе')\n",
    "    plt.show()"
   ]
  },
  {
   "cell_type": "markdown",
   "metadata": {},
   "source": [
    "Сформируем сводную таблицу и посчитаем суммарные продажи по годам и платформам за период с 2012 по 2016 год:"
   ]
  },
  {
   "cell_type": "code",
   "execution_count": 34,
   "metadata": {
    "scrolled": true
   },
   "outputs": [
    {
     "data": {
      "text/html": [
       "<div>\n",
       "<style scoped>\n",
       "    .dataframe tbody tr th:only-of-type {\n",
       "        vertical-align: middle;\n",
       "    }\n",
       "\n",
       "    .dataframe tbody tr th {\n",
       "        vertical-align: top;\n",
       "    }\n",
       "\n",
       "    .dataframe thead th {\n",
       "        text-align: right;\n",
       "    }\n",
       "</style>\n",
       "<table border=\"1\" class=\"dataframe\">\n",
       "  <thead>\n",
       "    <tr style=\"text-align: right;\">\n",
       "      <th></th>\n",
       "      <th></th>\n",
       "      <th>total_sales</th>\n",
       "    </tr>\n",
       "    <tr>\n",
       "      <th>year_of_release</th>\n",
       "      <th>platform</th>\n",
       "      <th></th>\n",
       "    </tr>\n",
       "  </thead>\n",
       "  <tbody>\n",
       "    <tr>\n",
       "      <th rowspan=\"9\" valign=\"top\">2012</th>\n",
       "      <th>3DS</th>\n",
       "      <td>51.76</td>\n",
       "    </tr>\n",
       "    <tr>\n",
       "      <th>DS</th>\n",
       "      <td>11.67</td>\n",
       "    </tr>\n",
       "    <tr>\n",
       "      <th>PC</th>\n",
       "      <td>23.45</td>\n",
       "    </tr>\n",
       "    <tr>\n",
       "      <th>PS3</th>\n",
       "      <td>108.28</td>\n",
       "    </tr>\n",
       "    <tr>\n",
       "      <th>PSP</th>\n",
       "      <td>7.95</td>\n",
       "    </tr>\n",
       "    <tr>\n",
       "      <th>PSV</th>\n",
       "      <td>16.19</td>\n",
       "    </tr>\n",
       "    <tr>\n",
       "      <th>Wii</th>\n",
       "      <td>22.94</td>\n",
       "    </tr>\n",
       "    <tr>\n",
       "      <th>WiiU</th>\n",
       "      <td>17.56</td>\n",
       "    </tr>\n",
       "    <tr>\n",
       "      <th>X360</th>\n",
       "      <td>100.72</td>\n",
       "    </tr>\n",
       "    <tr>\n",
       "      <th rowspan=\"11\" valign=\"top\">2013</th>\n",
       "      <th>3DS</th>\n",
       "      <td>56.57</td>\n",
       "    </tr>\n",
       "    <tr>\n",
       "      <th>DS</th>\n",
       "      <td>1.54</td>\n",
       "    </tr>\n",
       "    <tr>\n",
       "      <th>PC</th>\n",
       "      <td>13.01</td>\n",
       "    </tr>\n",
       "    <tr>\n",
       "      <th>PS3</th>\n",
       "      <td>113.25</td>\n",
       "    </tr>\n",
       "    <tr>\n",
       "      <th>PS4</th>\n",
       "      <td>25.99</td>\n",
       "    </tr>\n",
       "    <tr>\n",
       "      <th>PSP</th>\n",
       "      <td>3.38</td>\n",
       "    </tr>\n",
       "    <tr>\n",
       "      <th>PSV</th>\n",
       "      <td>10.59</td>\n",
       "    </tr>\n",
       "    <tr>\n",
       "      <th>Wii</th>\n",
       "      <td>8.59</td>\n",
       "    </tr>\n",
       "    <tr>\n",
       "      <th>WiiU</th>\n",
       "      <td>21.65</td>\n",
       "    </tr>\n",
       "    <tr>\n",
       "      <th>X360</th>\n",
       "      <td>88.58</td>\n",
       "    </tr>\n",
       "    <tr>\n",
       "      <th>XOne</th>\n",
       "      <td>18.96</td>\n",
       "    </tr>\n",
       "    <tr>\n",
       "      <th rowspan=\"10\" valign=\"top\">2014</th>\n",
       "      <th>3DS</th>\n",
       "      <td>43.76</td>\n",
       "    </tr>\n",
       "    <tr>\n",
       "      <th>PC</th>\n",
       "      <td>13.28</td>\n",
       "    </tr>\n",
       "    <tr>\n",
       "      <th>PS3</th>\n",
       "      <td>47.76</td>\n",
       "    </tr>\n",
       "    <tr>\n",
       "      <th>PS4</th>\n",
       "      <td>100.00</td>\n",
       "    </tr>\n",
       "    <tr>\n",
       "      <th>PSP</th>\n",
       "      <td>0.24</td>\n",
       "    </tr>\n",
       "    <tr>\n",
       "      <th>PSV</th>\n",
       "      <td>11.90</td>\n",
       "    </tr>\n",
       "    <tr>\n",
       "      <th>Wii</th>\n",
       "      <td>3.75</td>\n",
       "    </tr>\n",
       "    <tr>\n",
       "      <th>WiiU</th>\n",
       "      <td>22.03</td>\n",
       "    </tr>\n",
       "    <tr>\n",
       "      <th>X360</th>\n",
       "      <td>34.74</td>\n",
       "    </tr>\n",
       "    <tr>\n",
       "      <th>XOne</th>\n",
       "      <td>54.07</td>\n",
       "    </tr>\n",
       "    <tr>\n",
       "      <th rowspan=\"10\" valign=\"top\">2015</th>\n",
       "      <th>3DS</th>\n",
       "      <td>27.78</td>\n",
       "    </tr>\n",
       "    <tr>\n",
       "      <th>PC</th>\n",
       "      <td>8.52</td>\n",
       "    </tr>\n",
       "    <tr>\n",
       "      <th>PS3</th>\n",
       "      <td>16.82</td>\n",
       "    </tr>\n",
       "    <tr>\n",
       "      <th>PS4</th>\n",
       "      <td>118.90</td>\n",
       "    </tr>\n",
       "    <tr>\n",
       "      <th>PSP</th>\n",
       "      <td>0.12</td>\n",
       "    </tr>\n",
       "    <tr>\n",
       "      <th>PSV</th>\n",
       "      <td>6.25</td>\n",
       "    </tr>\n",
       "    <tr>\n",
       "      <th>Wii</th>\n",
       "      <td>1.14</td>\n",
       "    </tr>\n",
       "    <tr>\n",
       "      <th>WiiU</th>\n",
       "      <td>16.35</td>\n",
       "    </tr>\n",
       "    <tr>\n",
       "      <th>X360</th>\n",
       "      <td>11.96</td>\n",
       "    </tr>\n",
       "    <tr>\n",
       "      <th>XOne</th>\n",
       "      <td>60.14</td>\n",
       "    </tr>\n",
       "    <tr>\n",
       "      <th rowspan=\"9\" valign=\"top\">2016</th>\n",
       "      <th>3DS</th>\n",
       "      <td>15.14</td>\n",
       "    </tr>\n",
       "    <tr>\n",
       "      <th>PC</th>\n",
       "      <td>5.25</td>\n",
       "    </tr>\n",
       "    <tr>\n",
       "      <th>PS3</th>\n",
       "      <td>3.60</td>\n",
       "    </tr>\n",
       "    <tr>\n",
       "      <th>PS4</th>\n",
       "      <td>69.25</td>\n",
       "    </tr>\n",
       "    <tr>\n",
       "      <th>PSV</th>\n",
       "      <td>4.25</td>\n",
       "    </tr>\n",
       "    <tr>\n",
       "      <th>Wii</th>\n",
       "      <td>0.18</td>\n",
       "    </tr>\n",
       "    <tr>\n",
       "      <th>WiiU</th>\n",
       "      <td>4.60</td>\n",
       "    </tr>\n",
       "    <tr>\n",
       "      <th>X360</th>\n",
       "      <td>1.52</td>\n",
       "    </tr>\n",
       "    <tr>\n",
       "      <th>XOne</th>\n",
       "      <td>26.15</td>\n",
       "    </tr>\n",
       "  </tbody>\n",
       "</table>\n",
       "</div>"
      ],
      "text/plain": [
       "                          total_sales\n",
       "year_of_release platform             \n",
       "2012            3DS             51.76\n",
       "                DS              11.67\n",
       "                PC              23.45\n",
       "                PS3            108.28\n",
       "                PSP              7.95\n",
       "                PSV             16.19\n",
       "                Wii             22.94\n",
       "                WiiU            17.56\n",
       "                X360           100.72\n",
       "2013            3DS             56.57\n",
       "                DS               1.54\n",
       "                PC              13.01\n",
       "                PS3            113.25\n",
       "                PS4             25.99\n",
       "                PSP              3.38\n",
       "                PSV             10.59\n",
       "                Wii              8.59\n",
       "                WiiU            21.65\n",
       "                X360            88.58\n",
       "                XOne            18.96\n",
       "2014            3DS             43.76\n",
       "                PC              13.28\n",
       "                PS3             47.76\n",
       "                PS4            100.00\n",
       "                PSP              0.24\n",
       "                PSV             11.90\n",
       "                Wii              3.75\n",
       "                WiiU            22.03\n",
       "                X360            34.74\n",
       "                XOne            54.07\n",
       "2015            3DS             27.78\n",
       "                PC               8.52\n",
       "                PS3             16.82\n",
       "                PS4            118.90\n",
       "                PSP              0.12\n",
       "                PSV              6.25\n",
       "                Wii              1.14\n",
       "                WiiU            16.35\n",
       "                X360            11.96\n",
       "                XOne            60.14\n",
       "2016            3DS             15.14\n",
       "                PC               5.25\n",
       "                PS3              3.60\n",
       "                PS4             69.25\n",
       "                PSV              4.25\n",
       "                Wii              0.18\n",
       "                WiiU             4.60\n",
       "                X360             1.52\n",
       "                XOne            26.15"
      ]
     },
     "execution_count": 34,
     "metadata": {},
     "output_type": "execute_result"
    }
   ],
   "source": [
    "df_games.query('year_of_release >= 2012').pivot_table(\n",
    "    index=['year_of_release', 'platform'], values='total_sales', aggfunc='sum')"
   ]
  },
  {
   "cell_type": "markdown",
   "metadata": {},
   "source": [
    "**Вывод**"
   ]
  },
  {
   "cell_type": "markdown",
   "metadata": {},
   "source": [
    "На основании проведенного анализа можно сделать вывод, что примерно каждые 5 лет появляются новые платформы и каждые 7 - 10 лет исчезают старые, при этом в среднем через 5 лет платформы достигают пика своей популярности. За 2016 год данные по продажам не полные и использование 2016 года в исследовании может исказить его результаты.<br>\n",
    "**Поэтому, для проведения исследования целесообразно выбрать актуальным периодом 2015 год.**"
   ]
  },
  {
   "cell_type": "markdown",
   "metadata": {},
   "source": [
    "### Определение потенциально прибыльных платформ"
   ]
  },
  {
   "cell_type": "markdown",
   "metadata": {},
   "source": [
    "Посчитаем суммарные продажи по платформам за актуальный период:"
   ]
  },
  {
   "cell_type": "code",
   "execution_count": 35,
   "metadata": {},
   "outputs": [
    {
     "data": {
      "text/html": [
       "<div>\n",
       "<style scoped>\n",
       "    .dataframe tbody tr th:only-of-type {\n",
       "        vertical-align: middle;\n",
       "    }\n",
       "\n",
       "    .dataframe tbody tr th {\n",
       "        vertical-align: top;\n",
       "    }\n",
       "\n",
       "    .dataframe thead th {\n",
       "        text-align: right;\n",
       "    }\n",
       "</style>\n",
       "<table border=\"1\" class=\"dataframe\">\n",
       "  <thead>\n",
       "    <tr style=\"text-align: right;\">\n",
       "      <th></th>\n",
       "      <th>total_sales</th>\n",
       "    </tr>\n",
       "    <tr>\n",
       "      <th>platform</th>\n",
       "      <th></th>\n",
       "    </tr>\n",
       "  </thead>\n",
       "  <tbody>\n",
       "    <tr>\n",
       "      <th>PS4</th>\n",
       "      <td>118.90</td>\n",
       "    </tr>\n",
       "    <tr>\n",
       "      <th>XOne</th>\n",
       "      <td>60.14</td>\n",
       "    </tr>\n",
       "    <tr>\n",
       "      <th>3DS</th>\n",
       "      <td>27.78</td>\n",
       "    </tr>\n",
       "    <tr>\n",
       "      <th>PS3</th>\n",
       "      <td>16.82</td>\n",
       "    </tr>\n",
       "    <tr>\n",
       "      <th>WiiU</th>\n",
       "      <td>16.35</td>\n",
       "    </tr>\n",
       "    <tr>\n",
       "      <th>X360</th>\n",
       "      <td>11.96</td>\n",
       "    </tr>\n",
       "    <tr>\n",
       "      <th>PC</th>\n",
       "      <td>8.52</td>\n",
       "    </tr>\n",
       "    <tr>\n",
       "      <th>PSV</th>\n",
       "      <td>6.25</td>\n",
       "    </tr>\n",
       "    <tr>\n",
       "      <th>Wii</th>\n",
       "      <td>1.14</td>\n",
       "    </tr>\n",
       "    <tr>\n",
       "      <th>PSP</th>\n",
       "      <td>0.12</td>\n",
       "    </tr>\n",
       "  </tbody>\n",
       "</table>\n",
       "</div>"
      ],
      "text/plain": [
       "          total_sales\n",
       "platform             \n",
       "PS4            118.90\n",
       "XOne            60.14\n",
       "3DS             27.78\n",
       "PS3             16.82\n",
       "WiiU            16.35\n",
       "X360            11.96\n",
       "PC               8.52\n",
       "PSV              6.25\n",
       "Wii              1.14\n",
       "PSP              0.12"
      ]
     },
     "execution_count": 35,
     "metadata": {},
     "output_type": "execute_result"
    }
   ],
   "source": [
    "df_actual_games = df_games.query('year_of_release == 2015')\n",
    "df_actual_games.pivot_table(\n",
    "    index=['platform'], values='total_sales', aggfunc='sum').sort_values('total_sales', ascending=False)"
   ]
  },
  {
   "cell_type": "markdown",
   "metadata": {},
   "source": [
    "**Вывод**"
   ]
  },
  {
   "cell_type": "markdown",
   "metadata": {},
   "source": [
    "ТОП-5 лидеров продаж: PS4, XOne, 3DS, PS3, WiiU. Суммарные продажи по годам растут у платформ PS4 и XOne, а снижаются - у платформ 3DS, PS3, WiiU. **Таким образом, выберем в качестве потенциально прибыльных платформ PS4 и XOne.**"
   ]
  },
  {
   "cell_type": "markdown",
   "metadata": {},
   "source": [
    "### Анализ продаж игр"
   ]
  },
  {
   "cell_type": "markdown",
   "metadata": {},
   "source": [
    "Построим диаграммы размаха по глобальным продажам игр в разбивке по платформам PS4 и XOne:"
   ]
  },
  {
   "cell_type": "code",
   "execution_count": 36,
   "metadata": {},
   "outputs": [
    {
     "data": {
      "image/png": "[encoded data removed]",
      "text/plain": [
       "<Figure size 1152x360 with 2 Axes>"
      ]
     },
     "metadata": {
      "needs_background": "light"
     },
     "output_type": "display_data"
    }
   ],
   "source": [
    "df_platform_PS4 = df_actual_games.query('platform == \"PS4\"')\n",
    "df_platform_XOne = df_actual_games.query('platform == \"XOne\"')\n",
    "\n",
    "fig, axes = plt.subplots(1, 2, figsize=(16, 5))\n",
    "#Диаграмма размаха для платформы PS4\n",
    "ax1 = df_platform_PS4.boxplot(column = 'total_sales', ax = axes[0], return_type='axes')\n",
    "ax1.set_ylabel('Суммарные продажи по игре')\n",
    "ax1.set_title('Диаграмма размаха для платформы PS4')\n",
    "#Диаграмма размаха для платформы XOne\n",
    "ax2 = df_platform_XOne.boxplot(column = 'total_sales', ax = axes[1], return_type='axes')\n",
    "ax2.set_ylabel('Суммарные продажи по игре')\n",
    "ax2.set_title('Диаграмма размаха для платформы XOne')\n",
    "\n",
    "plt.show()"
   ]
  },
  {
   "cell_type": "markdown",
   "metadata": {},
   "source": [
    "Выведем на экран числовое описание данных глобальных продаж по платформам PS4 и XOne:"
   ]
  },
  {
   "cell_type": "code",
   "execution_count": 37,
   "metadata": {},
   "outputs": [
    {
     "name": "stdout",
     "output_type": "stream",
     "text": [
      "PS4 count    137.000000\n",
      "mean       0.867883\n",
      "std        1.857170\n",
      "min        0.010000\n",
      "25%        0.070000\n",
      "50%        0.180000\n",
      "75%        0.730000\n",
      "max       14.630000\n",
      "Name: total_sales, dtype: float64\n",
      "XOne count    80.000000\n",
      "mean      0.751750\n",
      "std       1.234873\n",
      "min       0.010000\n",
      "25%       0.087500\n",
      "50%       0.245000\n",
      "75%       0.820000\n",
      "max       7.390000\n",
      "Name: total_sales, dtype: float64\n"
     ]
    }
   ],
   "source": [
    "print('PS4', df_platform_PS4['total_sales'].describe())\n",
    "print('XOne', df_platform_XOne['total_sales'].describe())"
   ]
  },
  {
   "cell_type": "markdown",
   "metadata": {},
   "source": [
    "**Изучим как на продажи внутри популярной платформы PS4 влияют отзывы пользователей и критиков.**<br>Построим матрицу рассеяния:"
   ]
  },
  {
   "cell_type": "code",
   "execution_count": 38,
   "metadata": {},
   "outputs": [
    {
     "data": {
      "image/png": "[encoded data removed]",
      "text/plain": [
       "<Figure size 576x576 with 9 Axes>"
      ]
     },
     "metadata": {
      "needs_background": "light"
     },
     "output_type": "display_data"
    }
   ],
   "source": [
    "pd.plotting.scatter_matrix(\n",
    "    df_platform_PS4.loc[:,('critic_score','user_score', 'total_sales')],\n",
    "    figsize=(8, 8))\n",
    "plt.show()"
   ]
  },
  {
   "cell_type": "markdown",
   "metadata": {},
   "source": [
    "Построим матрицу корреляции:"
   ]
  },
  {
   "cell_type": "code",
   "execution_count": 39,
   "metadata": {},
   "outputs": [
    {
     "data": {
      "text/html": [
       "<style type=\"text/css\">\n",
       "#T_f9c06_row0_col0, #T_f9c06_row1_col1, #T_f9c06_row2_col2 {\n",
       "  background-color: #b40426;\n",
       "  color: #f1f1f1;\n",
       "}\n",
       "#T_f9c06_row0_col1 {\n",
       "  background-color: #e1dad6;\n",
       "  color: #000000;\n",
       "}\n",
       "#T_f9c06_row0_col2 {\n",
       "  background-color: #abc8fd;\n",
       "  color: #000000;\n",
       "}\n",
       "#T_f9c06_row1_col0 {\n",
       "  background-color: #94b6ff;\n",
       "  color: #000000;\n",
       "}\n",
       "#T_f9c06_row1_col2, #T_f9c06_row2_col0, #T_f9c06_row2_col1 {\n",
       "  background-color: #3b4cc0;\n",
       "  color: #f1f1f1;\n",
       "}\n",
       "</style>\n",
       "<table id=\"T_f9c06_\">\n",
       "  <thead>\n",
       "    <tr>\n",
       "      <th class=\"blank level0\" >&nbsp;</th>\n",
       "      <th class=\"col_heading level0 col0\" >critic_score</th>\n",
       "      <th class=\"col_heading level0 col1\" >user_score</th>\n",
       "      <th class=\"col_heading level0 col2\" >total_sales</th>\n",
       "    </tr>\n",
       "  </thead>\n",
       "  <tbody>\n",
       "    <tr>\n",
       "      <th id=\"T_f9c06_level0_row0\" class=\"row_heading level0 row0\" >critic_score</th>\n",
       "      <td id=\"T_f9c06_row0_col0\" class=\"data row0 col0\" >1.000000</td>\n",
       "      <td id=\"T_f9c06_row0_col1\" class=\"data row0 col1\" >0.537725</td>\n",
       "      <td id=\"T_f9c06_row0_col2\" class=\"data row0 col2\" >0.365334</td>\n",
       "    </tr>\n",
       "    <tr>\n",
       "      <th id=\"T_f9c06_level0_row1\" class=\"row_heading level0 row1\" >user_score</th>\n",
       "      <td id=\"T_f9c06_row1_col0\" class=\"data row1 col0\" >0.537725</td>\n",
       "      <td id=\"T_f9c06_row1_col1\" class=\"data row1 col1\" >1.000000</td>\n",
       "      <td id=\"T_f9c06_row1_col2\" class=\"data row1 col2\" >0.040967</td>\n",
       "    </tr>\n",
       "    <tr>\n",
       "      <th id=\"T_f9c06_level0_row2\" class=\"row_heading level0 row2\" >total_sales</th>\n",
       "      <td id=\"T_f9c06_row2_col0\" class=\"data row2 col0\" >0.365334</td>\n",
       "      <td id=\"T_f9c06_row2_col1\" class=\"data row2 col1\" >0.040967</td>\n",
       "      <td id=\"T_f9c06_row2_col2\" class=\"data row2 col2\" >1.000000</td>\n",
       "    </tr>\n",
       "  </tbody>\n",
       "</table>\n"
      ],
      "text/plain": [
       "<pandas.io.formats.style.Styler at 0x1a3f149b5b0>"
      ]
     },
     "execution_count": 39,
     "metadata": {},
     "output_type": "execute_result"
    }
   ],
   "source": [
    "corr_matrix = df_platform_PS4.loc[:,('critic_score','user_score', 'total_sales')].corr()\n",
    "corr_matrix.style.background_gradient(cmap='coolwarm')"
   ]
  },
  {
   "cell_type": "markdown",
   "metadata": {},
   "source": [
    "**Изучим как влияют отзывы пользователей и критиков на продажи для всех платформ за актуальный период.**<br>\n",
    "Построим матрицу корреляции:"
   ]
  },
  {
   "cell_type": "code",
   "execution_count": 40,
   "metadata": {},
   "outputs": [
    {
     "data": {
      "text/html": [
       "<style type=\"text/css\">\n",
       "#T_9d477_row0_col0, #T_9d477_row1_col1, #T_9d477_row2_col2 {\n",
       "  background-color: #b40426;\n",
       "  color: #f1f1f1;\n",
       "}\n",
       "#T_9d477_row0_col1 {\n",
       "  background-color: #b1cbfc;\n",
       "  color: #000000;\n",
       "}\n",
       "#T_9d477_row0_col2 {\n",
       "  background-color: #7699f6;\n",
       "  color: #f1f1f1;\n",
       "}\n",
       "#T_9d477_row1_col0 {\n",
       "  background-color: #7ea1fa;\n",
       "  color: #f1f1f1;\n",
       "}\n",
       "#T_9d477_row1_col2, #T_9d477_row2_col0, #T_9d477_row2_col1 {\n",
       "  background-color: #3b4cc0;\n",
       "  color: #f1f1f1;\n",
       "}\n",
       "</style>\n",
       "<table id=\"T_9d477_\">\n",
       "  <thead>\n",
       "    <tr>\n",
       "      <th class=\"blank level0\" >&nbsp;</th>\n",
       "      <th class=\"col_heading level0 col0\" >critic_score</th>\n",
       "      <th class=\"col_heading level0 col1\" >user_score</th>\n",
       "      <th class=\"col_heading level0 col2\" >total_sales</th>\n",
       "    </tr>\n",
       "  </thead>\n",
       "  <tbody>\n",
       "    <tr>\n",
       "      <th id=\"T_9d477_level0_row0\" class=\"row_heading level0 row0\" >critic_score</th>\n",
       "      <td id=\"T_9d477_row0_col0\" class=\"data row0 col0\" >1.000000</td>\n",
       "      <td id=\"T_9d477_row0_col1\" class=\"data row0 col1\" >0.446612</td>\n",
       "      <td id=\"T_9d477_row0_col2\" class=\"data row0 col2\" >0.301557</td>\n",
       "    </tr>\n",
       "    <tr>\n",
       "      <th id=\"T_9d477_level0_row1\" class=\"row_heading level0 row1\" >user_score</th>\n",
       "      <td id=\"T_9d477_row1_col0\" class=\"data row1 col0\" >0.446612</td>\n",
       "      <td id=\"T_9d477_row1_col1\" class=\"data row1 col1\" >1.000000</td>\n",
       "      <td id=\"T_9d477_row1_col2\" class=\"data row1 col2\" >0.143413</td>\n",
       "    </tr>\n",
       "    <tr>\n",
       "      <th id=\"T_9d477_level0_row2\" class=\"row_heading level0 row2\" >total_sales</th>\n",
       "      <td id=\"T_9d477_row2_col0\" class=\"data row2 col0\" >0.301557</td>\n",
       "      <td id=\"T_9d477_row2_col1\" class=\"data row2 col1\" >0.143413</td>\n",
       "      <td id=\"T_9d477_row2_col2\" class=\"data row2 col2\" >1.000000</td>\n",
       "    </tr>\n",
       "  </tbody>\n",
       "</table>\n"
      ],
      "text/plain": [
       "<pandas.io.formats.style.Styler at 0x1a3f184dc10>"
      ]
     },
     "execution_count": 40,
     "metadata": {},
     "output_type": "execute_result"
    }
   ],
   "source": [
    "corr_matrix = df_actual_games.loc[:,('critic_score','user_score', 'total_sales')].corr()\n",
    "corr_matrix.style.background_gradient(cmap='coolwarm')"
   ]
  },
  {
   "cell_type": "markdown",
   "metadata": {},
   "source": [
    "Посмотрим на общее распределение игр по жанрам, посчитаем количество игр по жанрам за актуальный период:"
   ]
  },
  {
   "cell_type": "code",
   "execution_count": 41,
   "metadata": {},
   "outputs": [
    {
     "data": {
      "text/html": [
       "<div>\n",
       "<style scoped>\n",
       "    .dataframe tbody tr th:only-of-type {\n",
       "        vertical-align: middle;\n",
       "    }\n",
       "\n",
       "    .dataframe tbody tr th {\n",
       "        vertical-align: top;\n",
       "    }\n",
       "\n",
       "    .dataframe thead th {\n",
       "        text-align: right;\n",
       "    }\n",
       "</style>\n",
       "<table border=\"1\" class=\"dataframe\">\n",
       "  <thead>\n",
       "    <tr style=\"text-align: right;\">\n",
       "      <th></th>\n",
       "      <th>name</th>\n",
       "    </tr>\n",
       "    <tr>\n",
       "      <th>genre</th>\n",
       "      <th></th>\n",
       "    </tr>\n",
       "  </thead>\n",
       "  <tbody>\n",
       "    <tr>\n",
       "      <th>Action</th>\n",
       "      <td>253</td>\n",
       "    </tr>\n",
       "    <tr>\n",
       "      <th>Role-Playing</th>\n",
       "      <td>78</td>\n",
       "    </tr>\n",
       "    <tr>\n",
       "      <th>Sports</th>\n",
       "      <td>59</td>\n",
       "    </tr>\n",
       "    <tr>\n",
       "      <th>Adventure</th>\n",
       "      <td>54</td>\n",
       "    </tr>\n",
       "    <tr>\n",
       "      <th>Misc</th>\n",
       "      <td>39</td>\n",
       "    </tr>\n",
       "    <tr>\n",
       "      <th>Shooter</th>\n",
       "      <td>34</td>\n",
       "    </tr>\n",
       "    <tr>\n",
       "      <th>Fighting</th>\n",
       "      <td>21</td>\n",
       "    </tr>\n",
       "    <tr>\n",
       "      <th>Racing</th>\n",
       "      <td>18</td>\n",
       "    </tr>\n",
       "    <tr>\n",
       "      <th>Strategy</th>\n",
       "      <td>16</td>\n",
       "    </tr>\n",
       "    <tr>\n",
       "      <th>Simulation</th>\n",
       "      <td>15</td>\n",
       "    </tr>\n",
       "    <tr>\n",
       "      <th>Platform</th>\n",
       "      <td>13</td>\n",
       "    </tr>\n",
       "    <tr>\n",
       "      <th>Puzzle</th>\n",
       "      <td>6</td>\n",
       "    </tr>\n",
       "  </tbody>\n",
       "</table>\n",
       "</div>"
      ],
      "text/plain": [
       "              name\n",
       "genre             \n",
       "Action         253\n",
       "Role-Playing    78\n",
       "Sports          59\n",
       "Adventure       54\n",
       "Misc            39\n",
       "Shooter         34\n",
       "Fighting        21\n",
       "Racing          18\n",
       "Strategy        16\n",
       "Simulation      15\n",
       "Platform        13\n",
       "Puzzle           6"
      ]
     },
     "execution_count": 41,
     "metadata": {},
     "output_type": "execute_result"
    }
   ],
   "source": [
    "df_actual_games.pivot_table(index='genre', values='name', aggfunc='count').sort_values('name', ascending=False)"
   ]
  },
  {
   "cell_type": "markdown",
   "metadata": {},
   "source": [
    "Посчитаем суммарные продажи по жанрам за актуальный период:"
   ]
  },
  {
   "cell_type": "code",
   "execution_count": 42,
   "metadata": {},
   "outputs": [
    {
     "data": {
      "text/html": [
       "<div>\n",
       "<style scoped>\n",
       "    .dataframe tbody tr th:only-of-type {\n",
       "        vertical-align: middle;\n",
       "    }\n",
       "\n",
       "    .dataframe tbody tr th {\n",
       "        vertical-align: top;\n",
       "    }\n",
       "\n",
       "    .dataframe thead th {\n",
       "        text-align: right;\n",
       "    }\n",
       "</style>\n",
       "<table border=\"1\" class=\"dataframe\">\n",
       "  <thead>\n",
       "    <tr style=\"text-align: right;\">\n",
       "      <th></th>\n",
       "      <th>total_sales</th>\n",
       "    </tr>\n",
       "    <tr>\n",
       "      <th>genre</th>\n",
       "      <th></th>\n",
       "    </tr>\n",
       "  </thead>\n",
       "  <tbody>\n",
       "    <tr>\n",
       "      <th>Action</th>\n",
       "      <td>72.02</td>\n",
       "    </tr>\n",
       "    <tr>\n",
       "      <th>Shooter</th>\n",
       "      <td>67.51</td>\n",
       "    </tr>\n",
       "    <tr>\n",
       "      <th>Sports</th>\n",
       "      <td>40.84</td>\n",
       "    </tr>\n",
       "    <tr>\n",
       "      <th>Role-Playing</th>\n",
       "      <td>37.64</td>\n",
       "    </tr>\n",
       "    <tr>\n",
       "      <th>Misc</th>\n",
       "      <td>11.57</td>\n",
       "    </tr>\n",
       "    <tr>\n",
       "      <th>Adventure</th>\n",
       "      <td>8.16</td>\n",
       "    </tr>\n",
       "    <tr>\n",
       "      <th>Racing</th>\n",
       "      <td>8.07</td>\n",
       "    </tr>\n",
       "    <tr>\n",
       "      <th>Fighting</th>\n",
       "      <td>7.90</td>\n",
       "    </tr>\n",
       "    <tr>\n",
       "      <th>Platform</th>\n",
       "      <td>6.05</td>\n",
       "    </tr>\n",
       "    <tr>\n",
       "      <th>Simulation</th>\n",
       "      <td>5.66</td>\n",
       "    </tr>\n",
       "    <tr>\n",
       "      <th>Strategy</th>\n",
       "      <td>1.85</td>\n",
       "    </tr>\n",
       "    <tr>\n",
       "      <th>Puzzle</th>\n",
       "      <td>0.71</td>\n",
       "    </tr>\n",
       "  </tbody>\n",
       "</table>\n",
       "</div>"
      ],
      "text/plain": [
       "              total_sales\n",
       "genre                    \n",
       "Action              72.02\n",
       "Shooter             67.51\n",
       "Sports              40.84\n",
       "Role-Playing        37.64\n",
       "Misc                11.57\n",
       "Adventure            8.16\n",
       "Racing               8.07\n",
       "Fighting             7.90\n",
       "Platform             6.05\n",
       "Simulation           5.66\n",
       "Strategy             1.85\n",
       "Puzzle               0.71"
      ]
     },
     "execution_count": 42,
     "metadata": {},
     "output_type": "execute_result"
    }
   ],
   "source": [
    "df_actual_games.pivot_table(index='genre', values='total_sales', aggfunc='sum').sort_values('total_sales', ascending=False)"
   ]
  },
  {
   "cell_type": "markdown",
   "metadata": {},
   "source": [
    "**Вывод**"
   ]
  },
  {
   "cell_type": "markdown",
   "metadata": {},
   "source": [
    "По результатам анализа продаж игр можно сделать следующие выводы:\n",
    "1. На основе анализа диаграммы размаха можно сделать вывод, что в диапазон нормальных значений глобальных продаж попадают значения до 1.8 млн.копий (при этом верхняя граница диапазона нормальных значений у платформ PS4 и XOne примерно одинаковая), свыше 1.8 млн.копий - это выбросы, они находятся за пределами \"усов\" диаграммы размаха.\n",
    "2. На продажи игр небольшое влияние оказывают отзывы критиков (коэффициент корреляции - 0.37 для PS4, 0.30 для всех платформ), а отзывы пользователей влияния на продажи практически не оказывают (коэффициент корреляции - 0.04 для PS4, 0.14 для всех платформ). При этом стоит отметить, что отзывы критиков оказывают немного большее влияние на продажи внутри одной платформы, а отзывы пользователей - в рамках всех платформ.\n",
    "3. Наиболее выгодными с точки зрения продаж игр являются жанры Action, Shooter, Sports и Role-Playing. При этом жанр Shooter является наиболее выгодным, потому что при меньшем количестве игр обеспечивает 2-ю строчку максимальных продаж в мире."
   ]
  },
  {
   "cell_type": "markdown",
   "metadata": {},
   "source": [
    "## Составление портрета пользователя каждого региона"
   ]
  },
  {
   "cell_type": "markdown",
   "metadata": {},
   "source": [
    "Определим для пользователя каждого региона (NA, EU, JP):\n",
    "- самые популярные платформы (топ-5);\n",
    "- самые популярные жанры (топ-5);\n",
    "- возрастные рейтинги ESRB."
   ]
  },
  {
   "cell_type": "code",
   "execution_count": 43,
   "metadata": {
    "scrolled": false
   },
   "outputs": [
    {
     "name": "stdout",
     "output_type": "stream",
     "text": [
      "Топ-5 самых популярных платформ региона:  Северная Америка\n"
     ]
    },
    {
     "data": {
      "text/html": [
       "<div>\n",
       "<style scoped>\n",
       "    .dataframe tbody tr th:only-of-type {\n",
       "        vertical-align: middle;\n",
       "    }\n",
       "\n",
       "    .dataframe tbody tr th {\n",
       "        vertical-align: top;\n",
       "    }\n",
       "\n",
       "    .dataframe thead th {\n",
       "        text-align: right;\n",
       "    }\n",
       "</style>\n",
       "<table border=\"1\" class=\"dataframe\">\n",
       "  <thead>\n",
       "    <tr style=\"text-align: right;\">\n",
       "      <th></th>\n",
       "      <th>platform</th>\n",
       "      <th>na_sales</th>\n",
       "      <th>total_na_sales</th>\n",
       "      <th>rate_sales</th>\n",
       "    </tr>\n",
       "  </thead>\n",
       "  <tbody>\n",
       "    <tr>\n",
       "      <th>0</th>\n",
       "      <td>PS4</td>\n",
       "      <td>42.37</td>\n",
       "      <td>106.86</td>\n",
       "      <td>0.40</td>\n",
       "    </tr>\n",
       "    <tr>\n",
       "      <th>1</th>\n",
       "      <td>XOne</td>\n",
       "      <td>36.03</td>\n",
       "      <td>106.86</td>\n",
       "      <td>0.34</td>\n",
       "    </tr>\n",
       "    <tr>\n",
       "      <th>2</th>\n",
       "      <td>X360</td>\n",
       "      <td>7.36</td>\n",
       "      <td>106.86</td>\n",
       "      <td>0.07</td>\n",
       "    </tr>\n",
       "    <tr>\n",
       "      <th>3</th>\n",
       "      <td>WiiU</td>\n",
       "      <td>6.76</td>\n",
       "      <td>106.86</td>\n",
       "      <td>0.06</td>\n",
       "    </tr>\n",
       "    <tr>\n",
       "      <th>4</th>\n",
       "      <td>3DS</td>\n",
       "      <td>6.17</td>\n",
       "      <td>106.86</td>\n",
       "      <td>0.06</td>\n",
       "    </tr>\n",
       "  </tbody>\n",
       "</table>\n",
       "</div>"
      ],
      "text/plain": [
       "  platform  na_sales  total_na_sales  rate_sales\n",
       "0      PS4     42.37          106.86        0.40\n",
       "1     XOne     36.03          106.86        0.34\n",
       "2     X360      7.36          106.86        0.07\n",
       "3     WiiU      6.76          106.86        0.06\n",
       "4      3DS      6.17          106.86        0.06"
      ]
     },
     "metadata": {},
     "output_type": "display_data"
    },
    {
     "name": "stdout",
     "output_type": "stream",
     "text": [
      "Топ-5 самых популярных жанров региона:  Северная Америка\n"
     ]
    },
    {
     "data": {
      "text/html": [
       "<div>\n",
       "<style scoped>\n",
       "    .dataframe tbody tr th:only-of-type {\n",
       "        vertical-align: middle;\n",
       "    }\n",
       "\n",
       "    .dataframe tbody tr th {\n",
       "        vertical-align: top;\n",
       "    }\n",
       "\n",
       "    .dataframe thead th {\n",
       "        text-align: right;\n",
       "    }\n",
       "</style>\n",
       "<table border=\"1\" class=\"dataframe\">\n",
       "  <thead>\n",
       "    <tr style=\"text-align: right;\">\n",
       "      <th></th>\n",
       "      <th>genre</th>\n",
       "      <th>na_sales</th>\n",
       "      <th>total_na_sales</th>\n",
       "      <th>rate_sales</th>\n",
       "    </tr>\n",
       "  </thead>\n",
       "  <tbody>\n",
       "    <tr>\n",
       "      <th>0</th>\n",
       "      <td>Shooter</td>\n",
       "      <td>31.94</td>\n",
       "      <td>106.86</td>\n",
       "      <td>0.30</td>\n",
       "    </tr>\n",
       "    <tr>\n",
       "      <th>1</th>\n",
       "      <td>Action</td>\n",
       "      <td>24.39</td>\n",
       "      <td>106.86</td>\n",
       "      <td>0.23</td>\n",
       "    </tr>\n",
       "    <tr>\n",
       "      <th>2</th>\n",
       "      <td>Sports</td>\n",
       "      <td>18.77</td>\n",
       "      <td>106.86</td>\n",
       "      <td>0.18</td>\n",
       "    </tr>\n",
       "    <tr>\n",
       "      <th>3</th>\n",
       "      <td>Role-Playing</td>\n",
       "      <td>13.93</td>\n",
       "      <td>106.86</td>\n",
       "      <td>0.13</td>\n",
       "    </tr>\n",
       "    <tr>\n",
       "      <th>4</th>\n",
       "      <td>Misc</td>\n",
       "      <td>4.82</td>\n",
       "      <td>106.86</td>\n",
       "      <td>0.05</td>\n",
       "    </tr>\n",
       "  </tbody>\n",
       "</table>\n",
       "</div>"
      ],
      "text/plain": [
       "          genre  na_sales  total_na_sales  rate_sales\n",
       "0       Shooter     31.94          106.86        0.30\n",
       "1        Action     24.39          106.86        0.23\n",
       "2        Sports     18.77          106.86        0.18\n",
       "3  Role-Playing     13.93          106.86        0.13\n",
       "4          Misc      4.82          106.86        0.05"
      ]
     },
     "metadata": {},
     "output_type": "display_data"
    },
    {
     "name": "stdout",
     "output_type": "stream",
     "text": [
      "Возрастные рейтинги региона:  Северная Америка\n"
     ]
    },
    {
     "data": {
      "text/html": [
       "<div>\n",
       "<style scoped>\n",
       "    .dataframe tbody tr th:only-of-type {\n",
       "        vertical-align: middle;\n",
       "    }\n",
       "\n",
       "    .dataframe tbody tr th {\n",
       "        vertical-align: top;\n",
       "    }\n",
       "\n",
       "    .dataframe thead th {\n",
       "        text-align: right;\n",
       "    }\n",
       "</style>\n",
       "<table border=\"1\" class=\"dataframe\">\n",
       "  <thead>\n",
       "    <tr style=\"text-align: right;\">\n",
       "      <th></th>\n",
       "      <th>rating</th>\n",
       "      <th>na_sales</th>\n",
       "      <th>total_na_sales</th>\n",
       "      <th>rate_sales</th>\n",
       "    </tr>\n",
       "  </thead>\n",
       "  <tbody>\n",
       "    <tr>\n",
       "      <th>0</th>\n",
       "      <td>M</td>\n",
       "      <td>33.77</td>\n",
       "      <td>106.86</td>\n",
       "      <td>0.32</td>\n",
       "    </tr>\n",
       "    <tr>\n",
       "      <th>1</th>\n",
       "      <td>E</td>\n",
       "      <td>18.69</td>\n",
       "      <td>106.86</td>\n",
       "      <td>0.17</td>\n",
       "    </tr>\n",
       "    <tr>\n",
       "      <th>2</th>\n",
       "      <td>T</td>\n",
       "      <td>14.72</td>\n",
       "      <td>106.86</td>\n",
       "      <td>0.14</td>\n",
       "    </tr>\n",
       "    <tr>\n",
       "      <th>3</th>\n",
       "      <td>E10+</td>\n",
       "      <td>14.51</td>\n",
       "      <td>106.86</td>\n",
       "      <td>0.14</td>\n",
       "    </tr>\n",
       "  </tbody>\n",
       "</table>\n",
       "</div>"
      ],
      "text/plain": [
       "  rating  na_sales  total_na_sales  rate_sales\n",
       "0      M     33.77          106.86        0.32\n",
       "1      E     18.69          106.86        0.17\n",
       "2      T     14.72          106.86        0.14\n",
       "3   E10+     14.51          106.86        0.14"
      ]
     },
     "metadata": {},
     "output_type": "display_data"
    },
    {
     "name": "stdout",
     "output_type": "stream",
     "text": [
      "Топ-5 самых популярных платформ региона:  Европа\n"
     ]
    },
    {
     "data": {
      "text/html": [
       "<div>\n",
       "<style scoped>\n",
       "    .dataframe tbody tr th:only-of-type {\n",
       "        vertical-align: middle;\n",
       "    }\n",
       "\n",
       "    .dataframe tbody tr th {\n",
       "        vertical-align: top;\n",
       "    }\n",
       "\n",
       "    .dataframe thead th {\n",
       "        text-align: right;\n",
       "    }\n",
       "</style>\n",
       "<table border=\"1\" class=\"dataframe\">\n",
       "  <thead>\n",
       "    <tr style=\"text-align: right;\">\n",
       "      <th></th>\n",
       "      <th>platform</th>\n",
       "      <th>eu_sales</th>\n",
       "      <th>total_eu_sales</th>\n",
       "      <th>rate_sales</th>\n",
       "    </tr>\n",
       "  </thead>\n",
       "  <tbody>\n",
       "    <tr>\n",
       "      <th>0</th>\n",
       "      <td>PS4</td>\n",
       "      <td>51.76</td>\n",
       "      <td>96.72</td>\n",
       "      <td>0.54</td>\n",
       "    </tr>\n",
       "    <tr>\n",
       "      <th>1</th>\n",
       "      <td>XOne</td>\n",
       "      <td>18.47</td>\n",
       "      <td>96.72</td>\n",
       "      <td>0.19</td>\n",
       "    </tr>\n",
       "    <tr>\n",
       "      <th>2</th>\n",
       "      <td>PS3</td>\n",
       "      <td>6.04</td>\n",
       "      <td>96.72</td>\n",
       "      <td>0.06</td>\n",
       "    </tr>\n",
       "    <tr>\n",
       "      <th>3</th>\n",
       "      <td>PC</td>\n",
       "      <td>5.57</td>\n",
       "      <td>96.72</td>\n",
       "      <td>0.06</td>\n",
       "    </tr>\n",
       "    <tr>\n",
       "      <th>4</th>\n",
       "      <td>3DS</td>\n",
       "      <td>5.06</td>\n",
       "      <td>96.72</td>\n",
       "      <td>0.05</td>\n",
       "    </tr>\n",
       "  </tbody>\n",
       "</table>\n",
       "</div>"
      ],
      "text/plain": [
       "  platform  eu_sales  total_eu_sales  rate_sales\n",
       "0      PS4     51.76           96.72        0.54\n",
       "1     XOne     18.47           96.72        0.19\n",
       "2      PS3      6.04           96.72        0.06\n",
       "3       PC      5.57           96.72        0.06\n",
       "4      3DS      5.06           96.72        0.05"
      ]
     },
     "metadata": {},
     "output_type": "display_data"
    },
    {
     "name": "stdout",
     "output_type": "stream",
     "text": [
      "Топ-5 самых популярных жанров региона:  Европа\n"
     ]
    },
    {
     "data": {
      "text/html": [
       "<div>\n",
       "<style scoped>\n",
       "    .dataframe tbody tr th:only-of-type {\n",
       "        vertical-align: middle;\n",
       "    }\n",
       "\n",
       "    .dataframe tbody tr th {\n",
       "        vertical-align: top;\n",
       "    }\n",
       "\n",
       "    .dataframe thead th {\n",
       "        text-align: right;\n",
       "    }\n",
       "</style>\n",
       "<table border=\"1\" class=\"dataframe\">\n",
       "  <thead>\n",
       "    <tr style=\"text-align: right;\">\n",
       "      <th></th>\n",
       "      <th>genre</th>\n",
       "      <th>eu_sales</th>\n",
       "      <th>total_eu_sales</th>\n",
       "      <th>rate_sales</th>\n",
       "    </tr>\n",
       "  </thead>\n",
       "  <tbody>\n",
       "    <tr>\n",
       "      <th>0</th>\n",
       "      <td>Shooter</td>\n",
       "      <td>24.38</td>\n",
       "      <td>96.72</td>\n",
       "      <td>0.25</td>\n",
       "    </tr>\n",
       "    <tr>\n",
       "      <th>1</th>\n",
       "      <td>Action</td>\n",
       "      <td>24.14</td>\n",
       "      <td>96.72</td>\n",
       "      <td>0.25</td>\n",
       "    </tr>\n",
       "    <tr>\n",
       "      <th>2</th>\n",
       "      <td>Sports</td>\n",
       "      <td>15.81</td>\n",
       "      <td>96.72</td>\n",
       "      <td>0.16</td>\n",
       "    </tr>\n",
       "    <tr>\n",
       "      <th>3</th>\n",
       "      <td>Role-Playing</td>\n",
       "      <td>12.93</td>\n",
       "      <td>96.72</td>\n",
       "      <td>0.13</td>\n",
       "    </tr>\n",
       "    <tr>\n",
       "      <th>4</th>\n",
       "      <td>Racing</td>\n",
       "      <td>4.75</td>\n",
       "      <td>96.72</td>\n",
       "      <td>0.05</td>\n",
       "    </tr>\n",
       "  </tbody>\n",
       "</table>\n",
       "</div>"
      ],
      "text/plain": [
       "          genre  eu_sales  total_eu_sales  rate_sales\n",
       "0       Shooter     24.38           96.72        0.25\n",
       "1        Action     24.14           96.72        0.25\n",
       "2        Sports     15.81           96.72        0.16\n",
       "3  Role-Playing     12.93           96.72        0.13\n",
       "4        Racing      4.75           96.72        0.05"
      ]
     },
     "metadata": {},
     "output_type": "display_data"
    },
    {
     "name": "stdout",
     "output_type": "stream",
     "text": [
      "Возрастные рейтинги региона:  Европа\n"
     ]
    },
    {
     "data": {
      "text/html": [
       "<div>\n",
       "<style scoped>\n",
       "    .dataframe tbody tr th:only-of-type {\n",
       "        vertical-align: middle;\n",
       "    }\n",
       "\n",
       "    .dataframe tbody tr th {\n",
       "        vertical-align: top;\n",
       "    }\n",
       "\n",
       "    .dataframe thead th {\n",
       "        text-align: right;\n",
       "    }\n",
       "</style>\n",
       "<table border=\"1\" class=\"dataframe\">\n",
       "  <thead>\n",
       "    <tr style=\"text-align: right;\">\n",
       "      <th></th>\n",
       "      <th>rating</th>\n",
       "      <th>eu_sales</th>\n",
       "      <th>total_eu_sales</th>\n",
       "      <th>rate_sales</th>\n",
       "    </tr>\n",
       "  </thead>\n",
       "  <tbody>\n",
       "    <tr>\n",
       "      <th>0</th>\n",
       "      <td>M</td>\n",
       "      <td>31.78</td>\n",
       "      <td>96.72</td>\n",
       "      <td>0.33</td>\n",
       "    </tr>\n",
       "    <tr>\n",
       "      <th>1</th>\n",
       "      <td>E</td>\n",
       "      <td>21.36</td>\n",
       "      <td>96.72</td>\n",
       "      <td>0.22</td>\n",
       "    </tr>\n",
       "    <tr>\n",
       "      <th>2</th>\n",
       "      <td>T</td>\n",
       "      <td>11.32</td>\n",
       "      <td>96.72</td>\n",
       "      <td>0.12</td>\n",
       "    </tr>\n",
       "    <tr>\n",
       "      <th>3</th>\n",
       "      <td>E10+</td>\n",
       "      <td>8.54</td>\n",
       "      <td>96.72</td>\n",
       "      <td>0.09</td>\n",
       "    </tr>\n",
       "  </tbody>\n",
       "</table>\n",
       "</div>"
      ],
      "text/plain": [
       "  rating  eu_sales  total_eu_sales  rate_sales\n",
       "0      M     31.78           96.72        0.33\n",
       "1      E     21.36           96.72        0.22\n",
       "2      T     11.32           96.72        0.12\n",
       "3   E10+      8.54           96.72        0.09"
      ]
     },
     "metadata": {},
     "output_type": "display_data"
    },
    {
     "name": "stdout",
     "output_type": "stream",
     "text": [
      "Топ-5 самых популярных платформ региона:  Япония\n"
     ]
    },
    {
     "data": {
      "text/html": [
       "<div>\n",
       "<style scoped>\n",
       "    .dataframe tbody tr th:only-of-type {\n",
       "        vertical-align: middle;\n",
       "    }\n",
       "\n",
       "    .dataframe tbody tr th {\n",
       "        vertical-align: top;\n",
       "    }\n",
       "\n",
       "    .dataframe thead th {\n",
       "        text-align: right;\n",
       "    }\n",
       "</style>\n",
       "<table border=\"1\" class=\"dataframe\">\n",
       "  <thead>\n",
       "    <tr style=\"text-align: right;\">\n",
       "      <th></th>\n",
       "      <th>platform</th>\n",
       "      <th>jp_sales</th>\n",
       "      <th>total_jp_sales</th>\n",
       "      <th>rate_sales</th>\n",
       "    </tr>\n",
       "  </thead>\n",
       "  <tbody>\n",
       "    <tr>\n",
       "      <th>0</th>\n",
       "      <td>3DS</td>\n",
       "      <td>15.52</td>\n",
       "      <td>34.09</td>\n",
       "      <td>0.46</td>\n",
       "    </tr>\n",
       "    <tr>\n",
       "      <th>1</th>\n",
       "      <td>PS4</td>\n",
       "      <td>6.31</td>\n",
       "      <td>34.09</td>\n",
       "      <td>0.19</td>\n",
       "    </tr>\n",
       "    <tr>\n",
       "      <th>2</th>\n",
       "      <td>PSV</td>\n",
       "      <td>4.85</td>\n",
       "      <td>34.09</td>\n",
       "      <td>0.14</td>\n",
       "    </tr>\n",
       "    <tr>\n",
       "      <th>3</th>\n",
       "      <td>PS3</td>\n",
       "      <td>3.67</td>\n",
       "      <td>34.09</td>\n",
       "      <td>0.11</td>\n",
       "    </tr>\n",
       "    <tr>\n",
       "      <th>4</th>\n",
       "      <td>WiiU</td>\n",
       "      <td>3.45</td>\n",
       "      <td>34.09</td>\n",
       "      <td>0.10</td>\n",
       "    </tr>\n",
       "  </tbody>\n",
       "</table>\n",
       "</div>"
      ],
      "text/plain": [
       "  platform  jp_sales  total_jp_sales  rate_sales\n",
       "0      3DS     15.52           34.09        0.46\n",
       "1      PS4      6.31           34.09        0.19\n",
       "2      PSV      4.85           34.09        0.14\n",
       "3      PS3      3.67           34.09        0.11\n",
       "4     WiiU      3.45           34.09        0.10"
      ]
     },
     "metadata": {},
     "output_type": "display_data"
    },
    {
     "name": "stdout",
     "output_type": "stream",
     "text": [
      "Топ-5 самых популярных жанров региона:  Япония\n"
     ]
    },
    {
     "data": {
      "text/html": [
       "<div>\n",
       "<style scoped>\n",
       "    .dataframe tbody tr th:only-of-type {\n",
       "        vertical-align: middle;\n",
       "    }\n",
       "\n",
       "    .dataframe tbody tr th {\n",
       "        vertical-align: top;\n",
       "    }\n",
       "\n",
       "    .dataframe thead th {\n",
       "        text-align: right;\n",
       "    }\n",
       "</style>\n",
       "<table border=\"1\" class=\"dataframe\">\n",
       "  <thead>\n",
       "    <tr style=\"text-align: right;\">\n",
       "      <th></th>\n",
       "      <th>genre</th>\n",
       "      <th>jp_sales</th>\n",
       "      <th>total_jp_sales</th>\n",
       "      <th>rate_sales</th>\n",
       "    </tr>\n",
       "  </thead>\n",
       "  <tbody>\n",
       "    <tr>\n",
       "      <th>0</th>\n",
       "      <td>Action</td>\n",
       "      <td>15.98</td>\n",
       "      <td>34.09</td>\n",
       "      <td>0.47</td>\n",
       "    </tr>\n",
       "    <tr>\n",
       "      <th>1</th>\n",
       "      <td>Role-Playing</td>\n",
       "      <td>6.80</td>\n",
       "      <td>34.09</td>\n",
       "      <td>0.20</td>\n",
       "    </tr>\n",
       "    <tr>\n",
       "      <th>2</th>\n",
       "      <td>Shooter</td>\n",
       "      <td>2.73</td>\n",
       "      <td>34.09</td>\n",
       "      <td>0.08</td>\n",
       "    </tr>\n",
       "    <tr>\n",
       "      <th>3</th>\n",
       "      <td>Misc</td>\n",
       "      <td>2.15</td>\n",
       "      <td>34.09</td>\n",
       "      <td>0.06</td>\n",
       "    </tr>\n",
       "    <tr>\n",
       "      <th>4</th>\n",
       "      <td>Simulation</td>\n",
       "      <td>1.60</td>\n",
       "      <td>34.09</td>\n",
       "      <td>0.05</td>\n",
       "    </tr>\n",
       "  </tbody>\n",
       "</table>\n",
       "</div>"
      ],
      "text/plain": [
       "          genre  jp_sales  total_jp_sales  rate_sales\n",
       "0        Action     15.98           34.09        0.47\n",
       "1  Role-Playing      6.80           34.09        0.20\n",
       "2       Shooter      2.73           34.09        0.08\n",
       "3          Misc      2.15           34.09        0.06\n",
       "4    Simulation      1.60           34.09        0.05"
      ]
     },
     "metadata": {},
     "output_type": "display_data"
    },
    {
     "name": "stdout",
     "output_type": "stream",
     "text": [
      "Возрастные рейтинги региона:  Япония\n"
     ]
    },
    {
     "data": {
      "text/html": [
       "<div>\n",
       "<style scoped>\n",
       "    .dataframe tbody tr th:only-of-type {\n",
       "        vertical-align: middle;\n",
       "    }\n",
       "\n",
       "    .dataframe tbody tr th {\n",
       "        vertical-align: top;\n",
       "    }\n",
       "\n",
       "    .dataframe thead th {\n",
       "        text-align: right;\n",
       "    }\n",
       "</style>\n",
       "<table border=\"1\" class=\"dataframe\">\n",
       "  <thead>\n",
       "    <tr style=\"text-align: right;\">\n",
       "      <th></th>\n",
       "      <th>rating</th>\n",
       "      <th>jp_sales</th>\n",
       "      <th>total_jp_sales</th>\n",
       "      <th>rate_sales</th>\n",
       "    </tr>\n",
       "  </thead>\n",
       "  <tbody>\n",
       "    <tr>\n",
       "      <th>0</th>\n",
       "      <td>T</td>\n",
       "      <td>5.99</td>\n",
       "      <td>34.09</td>\n",
       "      <td>0.18</td>\n",
       "    </tr>\n",
       "    <tr>\n",
       "      <th>1</th>\n",
       "      <td>E</td>\n",
       "      <td>4.19</td>\n",
       "      <td>34.09</td>\n",
       "      <td>0.12</td>\n",
       "    </tr>\n",
       "    <tr>\n",
       "      <th>2</th>\n",
       "      <td>M</td>\n",
       "      <td>3.41</td>\n",
       "      <td>34.09</td>\n",
       "      <td>0.10</td>\n",
       "    </tr>\n",
       "    <tr>\n",
       "      <th>3</th>\n",
       "      <td>E10+</td>\n",
       "      <td>2.85</td>\n",
       "      <td>34.09</td>\n",
       "      <td>0.08</td>\n",
       "    </tr>\n",
       "  </tbody>\n",
       "</table>\n",
       "</div>"
      ],
      "text/plain": [
       "  rating  jp_sales  total_jp_sales  rate_sales\n",
       "0      T      5.99           34.09        0.18\n",
       "1      E      4.19           34.09        0.12\n",
       "2      M      3.41           34.09        0.10\n",
       "3   E10+      2.85           34.09        0.08"
      ]
     },
     "metadata": {},
     "output_type": "display_data"
    }
   ],
   "source": [
    "regions = {'na': 'Северная Америка', 'eu': 'Европа', 'jp': 'Япония'}\n",
    "group_names = ['platform', 'genre', 'rating']\n",
    "\n",
    "for region in regions.items():\n",
    "    for group_name in group_names:\n",
    "        #Выводим на экран заголовок группы\n",
    "        if group_name == 'platform':\n",
    "            print('Топ-5 самых популярных платформ региона: ', region[1])\n",
    "        elif group_name == 'genre':\n",
    "            print('Топ-5 самых популярных жанров региона: ', region[1])\n",
    "        else:\n",
    "            print('Возрастные рейтинги региона: ', region[1])\n",
    "        #Формируем и выводим на экран таблицу группы\n",
    "        df_region = df_actual_games.pivot_table(\n",
    "            index=group_name, values=region[0]+'_sales', aggfunc='sum').sort_values(\n",
    "            region[0]+'_sales', ascending=False).reset_index()\n",
    "        df_region['total_'+region[0]+'_sales'] = sum(df_actual_games[region[0]+'_sales'])\n",
    "        df_region['rate_sales'] = round(df_region[region[0]+'_sales'] / df_region['total_'+region[0]+'_sales'],2)\n",
    "        if group_name in ('platform', 'genre'):\n",
    "            df_region = df_region.loc[:4]\n",
    "        display(df_region)"
   ]
  },
  {
   "cell_type": "markdown",
   "metadata": {},
   "source": [
    "**Вывод**"
   ]
  },
  {
   "cell_type": "markdown",
   "metadata": {},
   "source": [
    "По результатам анализа данных о продажах составим портрет пользователя каждого региона:\n",
    "1. Северная Америка: \n",
    "- самые популярные платформы - PS4 и XOne (более 70% продаж);\n",
    "- самые популярные жанры - Shooter, Action, Sports и Role-Playing (более 80% продаж);\n",
    "- возрастной рейтинг оказывает влияние на продажи (рейтинг M - для лиц от 17 лет обеспечивает более 30% продаж)\n",
    "2. Европа:\n",
    "- самые популярные платформы - PS4 и XOne (более 70% продаж);\n",
    "- самые популярные жанры - Shooter, Action, Sports и Role-Playing (более 75% продаж);\n",
    "- возрастной рейтинг оказывает влияние на продажи (рейтинг M - для лиц от 17 лет обеспечивает более 30% продаж)\n",
    "3. Япония:\n",
    "- самые популярные платформы - 3DS и PS4 (более 65% продаж);\n",
    "- самые популярные жанры - Action, Role-Playing и Shooter (более 75% продаж);\n",
    "- возрастной рейтинг оказывает небольшое влияние на продажи (рейтинг T - для лиц от 13 лет обеспечивает около 18% продаж, следующий по популярности рейтинг E - для детей от 6 лет обеспечивает около 12% продаж)."
   ]
  },
  {
   "cell_type": "markdown",
   "metadata": {},
   "source": [
    "## Проверка гипотез"
   ]
  },
  {
   "cell_type": "markdown",
   "metadata": {},
   "source": [
    "### Проверка первой гипотезы: средние пользовательские рейтинги платформ Xbox One и PC одинаковые"
   ]
  },
  {
   "cell_type": "markdown",
   "metadata": {},
   "source": [
    "Посчитаем и выведем на экран числовое описание пользовательского рейтинга платформы Xbox One:"
   ]
  },
  {
   "cell_type": "code",
   "execution_count": 44,
   "metadata": {},
   "outputs": [
    {
     "data": {
      "text/plain": [
       "count    68.000000\n",
       "mean      6.181740\n",
       "std       2.037832\n",
       "min       0.000000\n",
       "25%       5.450000\n",
       "50%       6.600000\n",
       "75%       7.500000\n",
       "max       9.200000\n",
       "Name: user_score, dtype: float64"
      ]
     },
     "execution_count": 44,
     "metadata": {},
     "output_type": "execute_result"
    }
   ],
   "source": [
    "xone_rating = df_actual_games.query('platform == \"XOne\" and not user_score.isna()')['user_score']\n",
    "xone_rating.describe()"
   ]
  },
  {
   "cell_type": "markdown",
   "metadata": {},
   "source": [
    "Посчитаем и выведем на экран числовое описание пользовательского рейтинга платформы PC:"
   ]
  },
  {
   "cell_type": "code",
   "execution_count": 45,
   "metadata": {},
   "outputs": [
    {
     "data": {
      "text/plain": [
       "count    41.000000\n",
       "mean      5.987805\n",
       "std       2.238213\n",
       "min       0.000000\n",
       "25%       4.800000\n",
       "50%       6.900000\n",
       "75%       7.600000\n",
       "max       9.300000\n",
       "Name: user_score, dtype: float64"
      ]
     },
     "execution_count": 45,
     "metadata": {},
     "output_type": "execute_result"
    }
   ],
   "source": [
    "pc_rating = df_actual_games.query('platform == \"PC\" and not user_score.isna()')['user_score']\n",
    "pc_rating.describe()"
   ]
  },
  {
   "cell_type": "markdown",
   "metadata": {},
   "source": [
    "Формулируем и проверяем нулевую и альтернативную гипотезы:\n",
    "- нулевая гипотеза - средние пользовательские рейтинги платформ Xbox One и PC одинаковые;\n",
    "- альтернативная гипотеза - средние пользовательские рейтинги платформ Xbox One и PC различаются."
   ]
  },
  {
   "cell_type": "code",
   "execution_count": 46,
   "metadata": {},
   "outputs": [
    {
     "name": "stdout",
     "output_type": "stream",
     "text": [
      "p-значение для нулевой гипотезы о том, что входные выборки взяты из популяций с равной дисперсией: 0.30278812575784625\n"
     ]
    }
   ],
   "source": [
    "from scipy import stats as st\n",
    "dispersion_levene = st.levene(xone_rating, pc_rating, center='median')\n",
    "print('p-значение для нулевой гипотезы о том, что входные выборки взяты из популяций с равной дисперсией:', \n",
    "      dispersion_levene.pvalue)"
   ]
  },
  {
   "cell_type": "code",
   "execution_count": 47,
   "metadata": {},
   "outputs": [
    {
     "name": "stdout",
     "output_type": "stream",
     "text": [
      "p-значение: 0.6437665122836069\n",
      "Не получилось отвергнуть нулевую гипотезу\n"
     ]
    }
   ],
   "source": [
    "avg_platforms_rating = st.ttest_ind(xone_rating, pc_rating)\n",
    "print('p-значение:', avg_platforms_rating.pvalue)\n",
    "\n",
    "alpha = 0.05 #Критический уровень статистической значимости\n",
    "\n",
    "#Проверяем нулевую гипотезу\n",
    "if avg_platforms_rating.pvalue < alpha:\n",
    "    print('Отвергаем нулевую гипотезу')\n",
    "else:\n",
    "    print('Не получилось отвергнуть нулевую гипотезу')"
   ]
  },
  {
   "cell_type": "markdown",
   "metadata": {},
   "source": [
    "**Вывод**"
   ]
  },
  {
   "cell_type": "markdown",
   "metadata": {},
   "source": [
    "В рамках проверки первой гипотезы (средние пользовательские рейтинги платформ Xbox One и PC одинаковые) можно сделать следующие выводы:\n",
    "1. Сформулированы нулевая (средние пользовательские рейтинги платформ Xbox One и PC одинаковые) и альтернативная гипотезы (средние пользовательские рейтинги платформ Xbox One и PC различаются). Нулевая гипотеза всегда формулируется так, чтобы использовать знак равенства.\n",
    "2. Задан критический уровень статистической значимости в 5% (одно из общепринятых пороговых значений), ниже значения которого отвергаем нулевую гипотезу.\n",
    "3. По результатам проверки теста Левене можно сделать вывод, что выборки взяты из популяций с равной дисперсией (p-значение более 30%), поэтому значение параметра equal_var функции ttest_ind оставим по умолчанию (значение True).\n",
    "4. По результатам проверки нулевой гипотезы можно сделать вывод, что средние пользовательские рейтинги платформ Xbox One и PC одинаковые (p-значение более 64%)."
   ]
  },
  {
   "cell_type": "markdown",
   "metadata": {},
   "source": [
    "### Проверка второй гипотезы: средние пользовательские рейтинги жанров Action и Sports разные"
   ]
  },
  {
   "cell_type": "markdown",
   "metadata": {},
   "source": [
    "Посчитаем и выведем на экран числовое описание пользовательского рейтинга жанра Action:"
   ]
  },
  {
   "cell_type": "code",
   "execution_count": 48,
   "metadata": {},
   "outputs": [
    {
     "data": {
      "text/plain": [
       "count    146.000000\n",
       "mean       5.706507\n",
       "std        2.862424\n",
       "min        0.000000\n",
       "25%        5.225000\n",
       "50%        6.800000\n",
       "75%        7.600000\n",
       "max        9.000000\n",
       "Name: user_score, dtype: float64"
      ]
     },
     "execution_count": 48,
     "metadata": {},
     "output_type": "execute_result"
    }
   ],
   "source": [
    "action_rating = df_actual_games.query('genre == \"Action\" and not user_score.isna()')['user_score']\n",
    "action_rating.describe()"
   ]
  },
  {
   "cell_type": "markdown",
   "metadata": {},
   "source": [
    "Посчитаем и выведем на экран числовое описание пользовательского рейтинга жанра Sports:"
   ]
  },
  {
   "cell_type": "code",
   "execution_count": 49,
   "metadata": {},
   "outputs": [
    {
     "data": {
      "text/plain": [
       "count    54.000000\n",
       "mean      4.441204\n",
       "std       2.417717\n",
       "min       0.000000\n",
       "25%       3.025000\n",
       "50%       4.500000\n",
       "75%       6.100000\n",
       "max       8.800000\n",
       "Name: user_score, dtype: float64"
      ]
     },
     "execution_count": 49,
     "metadata": {},
     "output_type": "execute_result"
    }
   ],
   "source": [
    "sports_rating = df_actual_games.query('genre == \"Sports\" and not user_score.isna()')['user_score']\n",
    "sports_rating.describe()"
   ]
  },
  {
   "cell_type": "markdown",
   "metadata": {},
   "source": [
    "Формулируем и проверяем нулевую и альтернативную гипотезы:\n",
    "- нулевая гипотеза - средние пользовательские рейтинги жанров Action и Sports одинаковые;\n",
    "- альтернативная гипотеза - средние пользовательские рейтинги жанров Action и Sports различаются."
   ]
  },
  {
   "cell_type": "code",
   "execution_count": 50,
   "metadata": {},
   "outputs": [
    {
     "name": "stdout",
     "output_type": "stream",
     "text": [
      "p-значение для нулевой гипотезы о том, что входные выборки взяты из популяций с равной дисперсией: 0.9753520020300938\n"
     ]
    }
   ],
   "source": [
    "dispersion_levene = st.levene(action_rating, sports_rating, center='median')\n",
    "print('p-значение для нулевой гипотезы о том, что входные выборки взяты из популяций с равной дисперсией:', \n",
    "      dispersion_levene.pvalue)"
   ]
  },
  {
   "cell_type": "code",
   "execution_count": 51,
   "metadata": {},
   "outputs": [
    {
     "name": "stdout",
     "output_type": "stream",
     "text": [
      "p-значение: 0.0043035612474800295\n",
      "Отвергаем нулевую гипотезу\n"
     ]
    }
   ],
   "source": [
    "avg_genres_rating = st.ttest_ind(action_rating, sports_rating)\n",
    "print('p-значение:', avg_genres_rating.pvalue)\n",
    "\n",
    "alpha = 0.05 #Критический уровень статистической значимости\n",
    "\n",
    "#Проверяем нулевую гипотезу\n",
    "if avg_genres_rating.pvalue < alpha:\n",
    "    print('Отвергаем нулевую гипотезу')\n",
    "else:\n",
    "    print('Не получилось отвергнуть нулевую гипотезу')"
   ]
  },
  {
   "cell_type": "markdown",
   "metadata": {},
   "source": [
    "**Вывод**"
   ]
  },
  {
   "cell_type": "markdown",
   "metadata": {},
   "source": [
    "В рамках проверки второй гипотезы (средние пользовательские рейтинги жанров Action и Sports разные) можно сделать следующие выводы:\n",
    "1. Сформулированы нулевая (средние пользовательские рейтинги жанров Action и Sports одинаковые) и альтернативная гипотезы (средние пользовательские рейтинги жанров Action и Sports различаются). Нулевая гипотеза всегда формулируется так, чтобы использовать знак равенства.\n",
    "2. Задан критический уровень статистической значимости в 5% (одно из общепринятых пороговых значений), ниже значения которого отвергаем нулевую гипотезу.\n",
    "3. По результатам проверки теста Левене можно сделать вывод, что выборки взяты из популяций с равной дисперсией (p-значение более 97%), поэтому значение параметра equal_var функции ttest_ind оставим по умолчанию (значение True).\n",
    "4. По результатам проверки нулевой гипотезы можно сделать вывод, что средние пользовательские рейтинги жанров Action и Sports различаются (p-значение сильно меньше 5%)."
   ]
  },
  {
   "cell_type": "markdown",
   "metadata": {},
   "source": [
    "## Общий вывод"
   ]
  },
  {
   "cell_type": "markdown",
   "metadata": {},
   "source": [
    "**Проведя анализ данных о продажах комьютерных игр по всему миру мы пришли к следующим выводам:**\n",
    "1. Определяющими успешность игры закономерностями являются:\n",
    "- платформа, на которой выпущена игра;\n",
    "- жанр игры;\n",
    "- возрастной рейтинг игры.\n",
    "2. Актуальным периодом, на основании которого проводилось исследование, выбран 2015 год.\n",
    "3. Потенциально прибыльными платформами на основе анализа продаж определены PS4 и XBox One.\n",
    "4. Наиболее выгодными с точки зрения продаж игр определены жанры: Action, Shooter, Sports и Role-Playing.\n",
    "5. Наиболее выгодными с точки зрения продаж возрастными рейтингами игр являются: M (для лиц от 17 лет), E (для детей от 6 лет) и T (для лиц от 13 лет).\n",
    "6. ***Таким образом, рекомендуется проводить рекламные компании на 2017 год по всему миру для игр:***\n",
    "- на платформах PS4 и XBox One (для региона Япония: только PS4, так как XBox One обеспечивает небольшие продажи);\n",
    "- жанров Action, Shooter, Role-Playing и Sports (для региона Япония: за исключением Sports, так как игры этого жанра обеспечивает небольшие продажи);\n",
    "- с возрастными рейтингами M, E и T."
   ]
  }
 ],
 "metadata": {
  "ExecuteTimeLog": [
   {
    "duration": 889,
    "start_time": "2021-12-08T03:21:43.921Z"
   },
   {
    "duration": 49,
    "start_time": "2021-12-08T03:23:32.664Z"
   },
   {
    "duration": 38,
    "start_time": "2021-12-08T03:24:54.019Z"
   },
   {
    "duration": 12,
    "start_time": "2021-12-08T03:31:55.162Z"
   },
   {
    "duration": 6,
    "start_time": "2021-12-08T03:32:07.657Z"
   },
   {
    "duration": 8,
    "start_time": "2021-12-08T03:41:31.429Z"
   },
   {
    "duration": 6,
    "start_time": "2021-12-08T03:43:14.650Z"
   },
   {
    "duration": 12,
    "start_time": "2021-12-08T03:46:17.848Z"
   },
   {
    "duration": 6,
    "start_time": "2021-12-08T04:01:27.626Z"
   },
   {
    "duration": 45,
    "start_time": "2021-12-08T04:06:48.251Z"
   },
   {
    "duration": 480,
    "start_time": "2021-12-08T04:07:08.963Z"
   },
   {
    "duration": 48,
    "start_time": "2021-12-08T04:07:21.105Z"
   },
   {
    "duration": 15,
    "start_time": "2021-12-08T04:16:05.001Z"
   },
   {
    "duration": 10,
    "start_time": "2021-12-08T04:34:47.318Z"
   },
   {
    "duration": 7,
    "start_time": "2021-12-08T04:37:55.574Z"
   },
   {
    "duration": 42,
    "start_time": "2021-12-08T04:39:02.966Z"
   },
   {
    "duration": 17,
    "start_time": "2021-12-08T04:39:28.776Z"
   },
   {
    "duration": 17,
    "start_time": "2021-12-08T04:39:38.796Z"
   },
   {
    "duration": 17,
    "start_time": "2021-12-08T04:39:45.500Z"
   },
   {
    "duration": 2770,
    "start_time": "2021-12-08T04:58:04.936Z"
   },
   {
    "duration": 9,
    "start_time": "2021-12-08T04:58:31.448Z"
   },
   {
    "duration": 5,
    "start_time": "2021-12-08T05:00:17.470Z"
   },
   {
    "duration": 8,
    "start_time": "2021-12-08T05:00:25.694Z"
   },
   {
    "duration": 118,
    "start_time": "2021-12-08T05:00:44.055Z"
   },
   {
    "duration": 17,
    "start_time": "2021-12-08T05:08:58.855Z"
   },
   {
    "duration": 9779,
    "start_time": "2021-12-08T05:09:25.823Z"
   },
   {
    "duration": 9270,
    "start_time": "2021-12-08T05:09:49.785Z"
   },
   {
    "duration": 6976,
    "start_time": "2021-12-08T05:10:36.974Z"
   },
   {
    "duration": 15,
    "start_time": "2021-12-08T05:11:00.373Z"
   },
   {
    "duration": 17,
    "start_time": "2021-12-08T05:12:19.575Z"
   },
   {
    "duration": 15,
    "start_time": "2021-12-08T05:12:52.857Z"
   },
   {
    "duration": 18,
    "start_time": "2021-12-08T05:19:04.560Z"
   },
   {
    "duration": 17,
    "start_time": "2021-12-08T05:19:33.419Z"
   },
   {
    "duration": 16,
    "start_time": "2021-12-08T05:19:42.612Z"
   },
   {
    "duration": 448,
    "start_time": "2021-12-08T05:19:49.436Z"
   },
   {
    "duration": 20,
    "start_time": "2021-12-08T05:20:13.720Z"
   },
   {
    "duration": 439,
    "start_time": "2021-12-08T05:21:51.345Z"
   },
   {
    "duration": 17,
    "start_time": "2021-12-08T05:23:19.236Z"
   },
   {
    "duration": 18,
    "start_time": "2021-12-08T05:23:36.950Z"
   },
   {
    "duration": 423,
    "start_time": "2021-12-08T05:24:06.564Z"
   },
   {
    "duration": 18,
    "start_time": "2021-12-08T05:24:16.343Z"
   },
   {
    "duration": 21,
    "start_time": "2021-12-08T05:28:27.505Z"
   },
   {
    "duration": 20,
    "start_time": "2021-12-08T05:28:34.263Z"
   },
   {
    "duration": 17,
    "start_time": "2021-12-08T05:29:08.982Z"
   },
   {
    "duration": 20,
    "start_time": "2021-12-08T05:29:35.042Z"
   },
   {
    "duration": 16,
    "start_time": "2021-12-08T05:29:42.395Z"
   },
   {
    "duration": 9766,
    "start_time": "2021-12-08T05:29:47.667Z"
   },
   {
    "duration": 9266,
    "start_time": "2021-12-08T05:30:18.932Z"
   },
   {
    "duration": 16,
    "start_time": "2021-12-08T05:30:33.191Z"
   },
   {
    "duration": 16,
    "start_time": "2021-12-08T05:30:43.269Z"
   },
   {
    "duration": 16,
    "start_time": "2021-12-08T05:30:58.861Z"
   },
   {
    "duration": 17,
    "start_time": "2021-12-08T05:31:03.025Z"
   },
   {
    "duration": 16,
    "start_time": "2021-12-08T05:31:07.387Z"
   },
   {
    "duration": 19,
    "start_time": "2021-12-08T05:31:10.732Z"
   },
   {
    "duration": 18,
    "start_time": "2021-12-08T05:31:14.512Z"
   },
   {
    "duration": 15,
    "start_time": "2021-12-08T05:31:28.018Z"
   },
   {
    "duration": 18,
    "start_time": "2021-12-08T05:31:36.729Z"
   },
   {
    "duration": 18,
    "start_time": "2021-12-08T05:31:50.798Z"
   },
   {
    "duration": 16,
    "start_time": "2021-12-08T05:31:55.798Z"
   },
   {
    "duration": 16,
    "start_time": "2021-12-08T05:31:59.692Z"
   },
   {
    "duration": 17,
    "start_time": "2021-12-08T05:32:07.450Z"
   },
   {
    "duration": 17,
    "start_time": "2021-12-08T05:32:27.035Z"
   },
   {
    "duration": 16,
    "start_time": "2021-12-08T05:32:30.838Z"
   },
   {
    "duration": 15,
    "start_time": "2021-12-08T05:32:34.754Z"
   },
   {
    "duration": 16,
    "start_time": "2021-12-08T05:32:38.030Z"
   },
   {
    "duration": 16,
    "start_time": "2021-12-08T05:32:58.042Z"
   },
   {
    "duration": 9334,
    "start_time": "2021-12-08T05:36:48.336Z"
   },
   {
    "duration": 9813,
    "start_time": "2021-12-08T05:37:24.286Z"
   },
   {
    "duration": 11211,
    "start_time": "2021-12-08T05:37:37.192Z"
   },
   {
    "duration": 16,
    "start_time": "2021-12-08T05:38:05.578Z"
   },
   {
    "duration": 10458,
    "start_time": "2021-12-08T05:38:50.124Z"
   },
   {
    "duration": 28,
    "start_time": "2021-12-08T05:39:09.077Z"
   },
   {
    "duration": 32,
    "start_time": "2021-12-08T05:43:52.060Z"
   },
   {
    "duration": 31,
    "start_time": "2021-12-08T05:44:03.482Z"
   },
   {
    "duration": 2777,
    "start_time": "2021-12-08T05:45:57.984Z"
   },
   {
    "duration": 135,
    "start_time": "2021-12-08T05:56:24.705Z"
   },
   {
    "duration": 1496,
    "start_time": "2021-12-08T05:56:45.843Z"
   },
   {
    "duration": 23,
    "start_time": "2021-12-08T05:59:04.838Z"
   },
   {
    "duration": 14,
    "start_time": "2021-12-08T05:59:18.382Z"
   },
   {
    "duration": 10,
    "start_time": "2021-12-08T05:59:47.378Z"
   },
   {
    "duration": 14,
    "start_time": "2021-12-08T06:00:08.949Z"
   },
   {
    "duration": 46,
    "start_time": "2021-12-08T06:00:23.149Z"
   },
   {
    "duration": 21,
    "start_time": "2021-12-08T06:08:50.195Z"
   },
   {
    "duration": 24,
    "start_time": "2021-12-08T06:09:47.718Z"
   },
   {
    "duration": 45,
    "start_time": "2021-12-08T06:10:01.400Z"
   },
   {
    "duration": 24,
    "start_time": "2021-12-08T06:10:34.160Z"
   },
   {
    "duration": 27,
    "start_time": "2021-12-08T06:10:47.838Z"
   },
   {
    "duration": 28,
    "start_time": "2021-12-08T06:10:53.344Z"
   },
   {
    "duration": 25,
    "start_time": "2021-12-08T06:11:20.156Z"
   },
   {
    "duration": 7,
    "start_time": "2021-12-08T06:16:12.035Z"
   },
   {
    "duration": 1680,
    "start_time": "2021-12-08T06:17:18.510Z"
   },
   {
    "duration": 13,
    "start_time": "2021-12-08T06:18:11.499Z"
   },
   {
    "duration": 466,
    "start_time": "2021-12-08T08:52:56.278Z"
   },
   {
    "duration": 827,
    "start_time": "2021-12-08T08:53:00.609Z"
   },
   {
    "duration": 49,
    "start_time": "2021-12-08T08:53:01.438Z"
   },
   {
    "duration": 44,
    "start_time": "2021-12-08T08:53:01.490Z"
   },
   {
    "duration": 14,
    "start_time": "2021-12-08T08:53:01.537Z"
   },
   {
    "duration": 7,
    "start_time": "2021-12-08T08:53:01.553Z"
   },
   {
    "duration": 16,
    "start_time": "2021-12-08T08:53:01.562Z"
   },
   {
    "duration": 6,
    "start_time": "2021-12-08T08:53:01.580Z"
   },
   {
    "duration": 40,
    "start_time": "2021-12-08T08:53:03.976Z"
   },
   {
    "duration": 26,
    "start_time": "2021-12-08T08:53:14.546Z"
   },
   {
    "duration": 24,
    "start_time": "2021-12-08T08:53:36.633Z"
   },
   {
    "duration": 6,
    "start_time": "2021-12-08T09:01:07.169Z"
   },
   {
    "duration": 6,
    "start_time": "2021-12-08T09:01:53.645Z"
   },
   {
    "duration": 354,
    "start_time": "2021-12-08T09:10:47.706Z"
   },
   {
    "duration": 303,
    "start_time": "2021-12-08T09:11:35.224Z"
   },
   {
    "duration": 41,
    "start_time": "2021-12-08T09:12:21.136Z"
   },
   {
    "duration": 51,
    "start_time": "2021-12-08T09:12:39.365Z"
   },
   {
    "duration": 44,
    "start_time": "2021-12-08T09:13:46.896Z"
   },
   {
    "duration": 29,
    "start_time": "2021-12-08T09:18:07.780Z"
   },
   {
    "duration": 20,
    "start_time": "2021-12-08T09:18:10.153Z"
   },
   {
    "duration": 26,
    "start_time": "2021-12-08T09:40:12.504Z"
   },
   {
    "duration": 277,
    "start_time": "2021-12-08T09:43:08.369Z"
   },
   {
    "duration": 26,
    "start_time": "2021-12-08T09:43:19.654Z"
   },
   {
    "duration": 27,
    "start_time": "2021-12-08T09:43:27.227Z"
   },
   {
    "duration": 22,
    "start_time": "2021-12-08T09:43:46.712Z"
   },
   {
    "duration": 13,
    "start_time": "2021-12-08T09:44:30.006Z"
   },
   {
    "duration": 12,
    "start_time": "2021-12-08T09:46:10.791Z"
   },
   {
    "duration": 25,
    "start_time": "2021-12-08T09:48:15.911Z"
   },
   {
    "duration": 14,
    "start_time": "2021-12-08T09:48:18.682Z"
   },
   {
    "duration": 22,
    "start_time": "2021-12-08T09:48:25.364Z"
   },
   {
    "duration": 13,
    "start_time": "2021-12-08T09:48:27.972Z"
   },
   {
    "duration": 25,
    "start_time": "2021-12-08T10:06:12.704Z"
   },
   {
    "duration": 25,
    "start_time": "2021-12-08T10:06:36.734Z"
   },
   {
    "duration": 27,
    "start_time": "2021-12-08T10:07:14.559Z"
   },
   {
    "duration": 32,
    "start_time": "2021-12-08T10:07:20.806Z"
   },
   {
    "duration": 333,
    "start_time": "2021-12-08T10:08:29.130Z"
   },
   {
    "duration": 10216,
    "start_time": "2021-12-08T10:12:11.532Z"
   },
   {
    "duration": 7,
    "start_time": "2021-12-08T10:12:56.702Z"
   },
   {
    "duration": 384,
    "start_time": "2021-12-08T10:13:31.856Z"
   },
   {
    "duration": 3126,
    "start_time": "2021-12-08T10:13:46.146Z"
   },
   {
    "duration": 7,
    "start_time": "2021-12-08T10:15:24.351Z"
   },
   {
    "duration": 4,
    "start_time": "2021-12-08T10:20:32.042Z"
   },
   {
    "duration": 49,
    "start_time": "2021-12-08T10:20:32.048Z"
   },
   {
    "duration": 28,
    "start_time": "2021-12-08T10:20:32.100Z"
   },
   {
    "duration": 16,
    "start_time": "2021-12-08T10:20:32.131Z"
   },
   {
    "duration": 6,
    "start_time": "2021-12-08T10:20:32.150Z"
   },
   {
    "duration": 12,
    "start_time": "2021-12-08T10:20:32.158Z"
   },
   {
    "duration": 5,
    "start_time": "2021-12-08T10:20:32.173Z"
   },
   {
    "duration": 7825,
    "start_time": "2021-12-08T10:20:32.223Z"
   },
   {
    "duration": 779,
    "start_time": "2021-12-08T10:20:39.272Z"
   },
   {
    "duration": 773,
    "start_time": "2021-12-08T10:20:39.279Z"
   },
   {
    "duration": 4,
    "start_time": "2021-12-08T10:20:55.113Z"
   },
   {
    "duration": 61,
    "start_time": "2021-12-08T10:20:55.119Z"
   },
   {
    "duration": 28,
    "start_time": "2021-12-08T10:20:55.183Z"
   },
   {
    "duration": 20,
    "start_time": "2021-12-08T10:20:55.213Z"
   },
   {
    "duration": 21,
    "start_time": "2021-12-08T10:20:55.235Z"
   },
   {
    "duration": 27,
    "start_time": "2021-12-08T10:20:55.258Z"
   },
   {
    "duration": 15,
    "start_time": "2021-12-08T10:20:55.287Z"
   },
   {
    "duration": 7,
    "start_time": "2021-12-08T10:21:17.977Z"
   },
   {
    "duration": 24,
    "start_time": "2021-12-08T10:21:22.498Z"
   },
   {
    "duration": 4,
    "start_time": "2021-12-08T10:50:12.307Z"
   },
   {
    "duration": 73,
    "start_time": "2021-12-08T10:50:12.314Z"
   },
   {
    "duration": 30,
    "start_time": "2021-12-08T10:50:12.390Z"
   },
   {
    "duration": 21,
    "start_time": "2021-12-08T10:50:12.423Z"
   },
   {
    "duration": 18,
    "start_time": "2021-12-08T10:50:12.447Z"
   },
   {
    "duration": 35,
    "start_time": "2021-12-08T10:50:12.467Z"
   },
   {
    "duration": 17,
    "start_time": "2021-12-08T10:50:12.504Z"
   },
   {
    "duration": 12,
    "start_time": "2021-12-08T10:50:12.525Z"
   },
   {
    "duration": 46,
    "start_time": "2021-12-08T10:50:12.540Z"
   },
   {
    "duration": 46,
    "start_time": "2021-12-08T10:50:12.589Z"
   },
   {
    "duration": 19,
    "start_time": "2021-12-08T10:50:12.638Z"
   },
   {
    "duration": 28,
    "start_time": "2021-12-08T10:50:12.659Z"
   },
   {
    "duration": 6,
    "start_time": "2021-12-08T10:50:20.690Z"
   },
   {
    "duration": 3,
    "start_time": "2021-12-08T10:50:23.419Z"
   },
   {
    "duration": 12,
    "start_time": "2021-12-08T10:50:26.969Z"
   },
   {
    "duration": 8921,
    "start_time": "2021-12-08T10:50:50.189Z"
   },
   {
    "duration": 7,
    "start_time": "2021-12-08T10:51:04.301Z"
   },
   {
    "duration": 3375,
    "start_time": "2021-12-08T10:51:29.194Z"
   },
   {
    "duration": 3776,
    "start_time": "2021-12-08T10:51:59.227Z"
   },
   {
    "duration": 344,
    "start_time": "2021-12-08T10:54:44.686Z"
   },
   {
    "duration": 335,
    "start_time": "2021-12-08T10:55:14.294Z"
   },
   {
    "duration": 3,
    "start_time": "2021-12-08T10:55:52.495Z"
   },
   {
    "duration": 7,
    "start_time": "2021-12-08T11:00:50.840Z"
   },
   {
    "duration": 8,
    "start_time": "2021-12-08T11:01:51.123Z"
   },
   {
    "duration": 8,
    "start_time": "2021-12-08T11:02:10.025Z"
   },
   {
    "duration": 96,
    "start_time": "2021-12-08T11:02:27.717Z"
   },
   {
    "duration": 6,
    "start_time": "2021-12-08T11:02:43.599Z"
   },
   {
    "duration": 93,
    "start_time": "2021-12-08T11:03:01.913Z"
   },
   {
    "duration": 6,
    "start_time": "2021-12-08T11:03:11.798Z"
   },
   {
    "duration": 8,
    "start_time": "2021-12-08T11:03:25.947Z"
   },
   {
    "duration": 6,
    "start_time": "2021-12-08T11:03:31.858Z"
   },
   {
    "duration": 2805,
    "start_time": "2021-12-08T11:08:12.909Z"
   },
   {
    "duration": 34,
    "start_time": "2021-12-08T11:08:54.872Z"
   },
   {
    "duration": 10,
    "start_time": "2021-12-08T11:09:46.389Z"
   },
   {
    "duration": 6,
    "start_time": "2021-12-08T11:09:49.643Z"
   },
   {
    "duration": 11,
    "start_time": "2021-12-08T11:10:23.570Z"
   },
   {
    "duration": 5,
    "start_time": "2021-12-08T11:13:50.937Z"
   },
   {
    "duration": 31,
    "start_time": "2021-12-08T11:15:32.509Z"
   },
   {
    "duration": 32,
    "start_time": "2021-12-08T11:16:17.895Z"
   },
   {
    "duration": 4,
    "start_time": "2021-12-08T11:16:22.567Z"
   },
   {
    "duration": 14,
    "start_time": "2021-12-08T11:17:16.742Z"
   },
   {
    "duration": 13,
    "start_time": "2021-12-08T11:18:30.906Z"
   },
   {
    "duration": 14,
    "start_time": "2021-12-08T11:26:07.269Z"
   },
   {
    "duration": 15,
    "start_time": "2021-12-08T11:26:09.932Z"
   },
   {
    "duration": 4,
    "start_time": "2021-12-08T11:30:10.552Z"
   },
   {
    "duration": 50,
    "start_time": "2021-12-08T11:30:10.560Z"
   },
   {
    "duration": 29,
    "start_time": "2021-12-08T11:30:10.613Z"
   },
   {
    "duration": 16,
    "start_time": "2021-12-08T11:30:10.644Z"
   },
   {
    "duration": 6,
    "start_time": "2021-12-08T11:30:10.662Z"
   },
   {
    "duration": 53,
    "start_time": "2021-12-08T11:30:10.670Z"
   },
   {
    "duration": 7,
    "start_time": "2021-12-08T11:30:10.725Z"
   },
   {
    "duration": 7,
    "start_time": "2021-12-08T11:30:10.736Z"
   },
   {
    "duration": 27,
    "start_time": "2021-12-08T11:30:10.746Z"
   },
   {
    "duration": 69,
    "start_time": "2021-12-08T11:30:10.776Z"
   },
   {
    "duration": 13,
    "start_time": "2021-12-08T11:30:10.847Z"
   },
   {
    "duration": 11,
    "start_time": "2021-12-08T11:30:10.863Z"
   },
   {
    "duration": 19,
    "start_time": "2021-12-08T11:30:10.876Z"
   },
   {
    "duration": 25,
    "start_time": "2021-12-08T11:30:10.924Z"
   },
   {
    "duration": 10,
    "start_time": "2021-12-08T11:30:10.951Z"
   },
   {
    "duration": 8,
    "start_time": "2021-12-08T11:30:10.964Z"
   },
   {
    "duration": 19,
    "start_time": "2021-12-08T11:30:10.975Z"
   },
   {
    "duration": 6,
    "start_time": "2021-12-08T11:30:18.964Z"
   },
   {
    "duration": 20,
    "start_time": "2021-12-08T11:32:39.656Z"
   },
   {
    "duration": 10,
    "start_time": "2021-12-08T11:33:06.038Z"
   },
   {
    "duration": 16,
    "start_time": "2021-12-08T11:33:09.471Z"
   },
   {
    "duration": 39,
    "start_time": "2021-12-08T11:33:51.776Z"
   },
   {
    "duration": 64,
    "start_time": "2021-12-08T11:35:03.374Z"
   },
   {
    "duration": 18,
    "start_time": "2021-12-08T11:35:06.883Z"
   },
   {
    "duration": 14,
    "start_time": "2021-12-08T11:47:56.709Z"
   },
   {
    "duration": 10,
    "start_time": "2021-12-08T11:49:42.957Z"
   },
   {
    "duration": 10,
    "start_time": "2021-12-08T11:49:58.570Z"
   },
   {
    "duration": 15,
    "start_time": "2021-12-08T11:50:08.347Z"
   },
   {
    "duration": 33,
    "start_time": "2021-12-08T11:56:34.869Z"
   },
   {
    "duration": 12,
    "start_time": "2021-12-08T11:57:44.664Z"
   },
   {
    "duration": 41,
    "start_time": "2021-12-08T11:59:02.478Z"
   },
   {
    "duration": 20,
    "start_time": "2021-12-08T11:59:06.054Z"
   },
   {
    "duration": 360,
    "start_time": "2021-12-08T12:04:50.114Z"
   },
   {
    "duration": 322,
    "start_time": "2021-12-08T12:04:56.466Z"
   },
   {
    "duration": 5,
    "start_time": "2021-12-08T12:05:16.436Z"
   },
   {
    "duration": 6,
    "start_time": "2021-12-08T12:08:52.755Z"
   },
   {
    "duration": 13,
    "start_time": "2021-12-08T12:08:57.232Z"
   },
   {
    "duration": 30,
    "start_time": "2021-12-08T12:09:19.587Z"
   },
   {
    "duration": 15,
    "start_time": "2021-12-08T12:09:24.476Z"
   },
   {
    "duration": 7747,
    "start_time": "2021-12-08T12:09:53.639Z"
   },
   {
    "duration": 756,
    "start_time": "2021-12-08T12:10:17.398Z"
   },
   {
    "duration": 61,
    "start_time": "2021-12-08T12:10:18.157Z"
   },
   {
    "duration": 55,
    "start_time": "2021-12-08T12:10:18.222Z"
   },
   {
    "duration": 15,
    "start_time": "2021-12-08T12:10:18.280Z"
   },
   {
    "duration": 27,
    "start_time": "2021-12-08T12:10:18.324Z"
   },
   {
    "duration": 33,
    "start_time": "2021-12-08T12:10:18.354Z"
   },
   {
    "duration": 39,
    "start_time": "2021-12-08T12:10:18.389Z"
   },
   {
    "duration": 47,
    "start_time": "2021-12-08T12:10:18.432Z"
   },
   {
    "duration": 53,
    "start_time": "2021-12-08T12:10:18.482Z"
   },
   {
    "duration": 29,
    "start_time": "2021-12-08T12:10:18.537Z"
   },
   {
    "duration": 12,
    "start_time": "2021-12-08T12:10:18.568Z"
   },
   {
    "duration": 36,
    "start_time": "2021-12-08T12:10:18.582Z"
   },
   {
    "duration": 38,
    "start_time": "2021-12-08T12:10:18.623Z"
   },
   {
    "duration": 32,
    "start_time": "2021-12-08T12:10:18.664Z"
   },
   {
    "duration": 16,
    "start_time": "2021-12-08T12:10:18.698Z"
   },
   {
    "duration": 27,
    "start_time": "2021-12-08T12:10:18.717Z"
   },
   {
    "duration": 47,
    "start_time": "2021-12-08T12:10:18.747Z"
   },
   {
    "duration": 6,
    "start_time": "2021-12-08T12:10:18.797Z"
   },
   {
    "duration": 32,
    "start_time": "2021-12-08T12:10:18.805Z"
   },
   {
    "duration": 50,
    "start_time": "2021-12-08T12:10:18.839Z"
   },
   {
    "duration": 13,
    "start_time": "2021-12-08T12:10:18.892Z"
   },
   {
    "duration": 38,
    "start_time": "2021-12-08T12:10:18.908Z"
   },
   {
    "duration": 12,
    "start_time": "2021-12-08T12:10:18.951Z"
   },
   {
    "duration": 8280,
    "start_time": "2021-12-08T12:10:59.839Z"
   },
   {
    "duration": 16,
    "start_time": "2021-12-08T12:11:29.532Z"
   },
   {
    "duration": 14,
    "start_time": "2021-12-08T12:13:35.993Z"
   },
   {
    "duration": 683,
    "start_time": "2021-12-08T12:13:56.561Z"
   },
   {
    "duration": 47,
    "start_time": "2021-12-08T12:13:57.247Z"
   },
   {
    "duration": 46,
    "start_time": "2021-12-08T12:13:57.297Z"
   },
   {
    "duration": 15,
    "start_time": "2021-12-08T12:13:57.345Z"
   },
   {
    "duration": 6,
    "start_time": "2021-12-08T12:13:57.362Z"
   },
   {
    "duration": 13,
    "start_time": "2021-12-08T12:13:57.370Z"
   },
   {
    "duration": 6,
    "start_time": "2021-12-08T12:13:57.423Z"
   },
   {
    "duration": 9,
    "start_time": "2021-12-08T12:13:57.433Z"
   },
   {
    "duration": 32,
    "start_time": "2021-12-08T12:13:57.445Z"
   },
   {
    "duration": 66,
    "start_time": "2021-12-08T12:13:57.480Z"
   },
   {
    "duration": 16,
    "start_time": "2021-12-08T12:13:57.548Z"
   },
   {
    "duration": 13,
    "start_time": "2021-12-08T12:13:57.566Z"
   },
   {
    "duration": 41,
    "start_time": "2021-12-08T12:13:57.582Z"
   },
   {
    "duration": 22,
    "start_time": "2021-12-08T12:13:57.625Z"
   },
   {
    "duration": 11,
    "start_time": "2021-12-08T12:13:57.650Z"
   },
   {
    "duration": 5,
    "start_time": "2021-12-08T12:13:57.663Z"
   },
   {
    "duration": 13,
    "start_time": "2021-12-08T12:13:57.671Z"
   },
   {
    "duration": 5,
    "start_time": "2021-12-08T12:13:57.724Z"
   },
   {
    "duration": 15,
    "start_time": "2021-12-08T12:13:57.732Z"
   },
   {
    "duration": 43,
    "start_time": "2021-12-08T12:13:57.750Z"
   },
   {
    "duration": 29,
    "start_time": "2021-12-08T12:13:57.795Z"
   },
   {
    "duration": 31,
    "start_time": "2021-12-08T12:13:57.827Z"
   },
   {
    "duration": 57,
    "start_time": "2021-12-08T12:13:57.862Z"
   },
   {
    "duration": 35,
    "start_time": "2021-12-08T12:13:57.922Z"
   },
   {
    "duration": 597,
    "start_time": "2021-12-09T03:59:24.069Z"
   },
   {
    "duration": 42,
    "start_time": "2021-12-09T03:59:24.668Z"
   },
   {
    "duration": 28,
    "start_time": "2021-12-09T03:59:24.712Z"
   },
   {
    "duration": 11,
    "start_time": "2021-12-09T03:59:24.742Z"
   },
   {
    "duration": 5,
    "start_time": "2021-12-09T03:59:24.763Z"
   },
   {
    "duration": 9,
    "start_time": "2021-12-09T03:59:24.770Z"
   },
   {
    "duration": 4,
    "start_time": "2021-12-09T03:59:24.781Z"
   },
   {
    "duration": 6,
    "start_time": "2021-12-09T03:59:24.788Z"
   },
   {
    "duration": 21,
    "start_time": "2021-12-09T03:59:24.796Z"
   },
   {
    "duration": 55,
    "start_time": "2021-12-09T03:59:24.819Z"
   },
   {
    "duration": 12,
    "start_time": "2021-12-09T03:59:24.875Z"
   },
   {
    "duration": 12,
    "start_time": "2021-12-09T03:59:24.889Z"
   },
   {
    "duration": 13,
    "start_time": "2021-12-09T03:59:24.902Z"
   },
   {
    "duration": 20,
    "start_time": "2021-12-09T03:59:24.916Z"
   },
   {
    "duration": 26,
    "start_time": "2021-12-09T03:59:24.937Z"
   },
   {
    "duration": 5,
    "start_time": "2021-12-09T03:59:24.965Z"
   },
   {
    "duration": 17,
    "start_time": "2021-12-09T03:59:24.972Z"
   },
   {
    "duration": 5,
    "start_time": "2021-12-09T03:59:24.991Z"
   },
   {
    "duration": 10,
    "start_time": "2021-12-09T03:59:24.998Z"
   },
   {
    "duration": 60,
    "start_time": "2021-12-09T03:59:25.010Z"
   },
   {
    "duration": 10,
    "start_time": "2021-12-09T03:59:25.072Z"
   },
   {
    "duration": 5,
    "start_time": "2021-12-09T03:59:25.084Z"
   },
   {
    "duration": 23,
    "start_time": "2021-12-09T03:59:25.092Z"
   },
   {
    "duration": 11,
    "start_time": "2021-12-09T03:59:25.117Z"
   },
   {
    "duration": 5,
    "start_time": "2021-12-09T04:05:08.984Z"
   },
   {
    "duration": 19,
    "start_time": "2021-12-09T04:05:25.405Z"
   },
   {
    "duration": 308,
    "start_time": "2021-12-09T04:10:23.775Z"
   },
   {
    "duration": 3,
    "start_time": "2021-12-09T04:10:47.021Z"
   },
   {
    "duration": 41,
    "start_time": "2021-12-09T04:10:47.026Z"
   },
   {
    "duration": 19,
    "start_time": "2021-12-09T04:10:47.069Z"
   },
   {
    "duration": 10,
    "start_time": "2021-12-09T04:10:47.090Z"
   },
   {
    "duration": 15,
    "start_time": "2021-12-09T04:10:51.186Z"
   },
   {
    "duration": 3,
    "start_time": "2021-12-09T04:14:21.693Z"
   },
   {
    "duration": 40,
    "start_time": "2021-12-09T04:14:21.698Z"
   },
   {
    "duration": 20,
    "start_time": "2021-12-09T04:14:21.740Z"
   },
   {
    "duration": 13,
    "start_time": "2021-12-09T04:14:21.762Z"
   },
   {
    "duration": 23,
    "start_time": "2021-12-09T04:14:21.777Z"
   },
   {
    "duration": 5,
    "start_time": "2021-12-09T04:14:21.801Z"
   },
   {
    "duration": 13,
    "start_time": "2021-12-09T04:14:21.807Z"
   },
   {
    "duration": 21,
    "start_time": "2021-12-09T04:14:24.704Z"
   },
   {
    "duration": 2,
    "start_time": "2021-12-09T04:17:16.437Z"
   },
   {
    "duration": 50,
    "start_time": "2021-12-09T04:17:16.441Z"
   },
   {
    "duration": 18,
    "start_time": "2021-12-09T04:17:16.493Z"
   },
   {
    "duration": 10,
    "start_time": "2021-12-09T04:17:16.512Z"
   },
   {
    "duration": 13,
    "start_time": "2021-12-09T04:17:16.524Z"
   },
   {
    "duration": 25,
    "start_time": "2021-12-09T04:17:16.538Z"
   },
   {
    "duration": 9,
    "start_time": "2021-12-09T04:17:16.565Z"
   },
   {
    "duration": 21,
    "start_time": "2021-12-09T04:17:16.576Z"
   },
   {
    "duration": 4,
    "start_time": "2021-12-09T04:17:16.599Z"
   },
   {
    "duration": 7,
    "start_time": "2021-12-09T04:17:16.604Z"
   },
   {
    "duration": 6,
    "start_time": "2021-12-09T04:17:16.613Z"
   },
   {
    "duration": 13,
    "start_time": "2021-12-09T04:17:19.256Z"
   },
   {
    "duration": 2,
    "start_time": "2021-12-09T04:19:58.372Z"
   },
   {
    "duration": 39,
    "start_time": "2021-12-09T04:19:58.376Z"
   },
   {
    "duration": 18,
    "start_time": "2021-12-09T04:19:58.417Z"
   },
   {
    "duration": 11,
    "start_time": "2021-12-09T04:19:58.437Z"
   },
   {
    "duration": 13,
    "start_time": "2021-12-09T04:19:58.464Z"
   },
   {
    "duration": 6,
    "start_time": "2021-12-09T04:19:58.479Z"
   },
   {
    "duration": 11,
    "start_time": "2021-12-09T04:19:58.487Z"
   },
   {
    "duration": 19,
    "start_time": "2021-12-09T04:19:58.500Z"
   },
   {
    "duration": 57,
    "start_time": "2021-12-09T04:19:58.521Z"
   },
   {
    "duration": 12,
    "start_time": "2021-12-09T04:19:58.579Z"
   },
   {
    "duration": 7,
    "start_time": "2021-12-09T04:19:58.593Z"
   },
   {
    "duration": 18,
    "start_time": "2021-12-09T04:19:58.602Z"
   },
   {
    "duration": 33,
    "start_time": "2021-12-09T04:19:58.621Z"
   },
   {
    "duration": 9,
    "start_time": "2021-12-09T04:19:58.656Z"
   },
   {
    "duration": 9,
    "start_time": "2021-12-09T04:19:58.667Z"
   },
   {
    "duration": 9,
    "start_time": "2021-12-09T04:19:58.677Z"
   },
   {
    "duration": 15,
    "start_time": "2021-12-09T04:19:58.688Z"
   },
   {
    "duration": 7,
    "start_time": "2021-12-09T04:19:58.704Z"
   },
   {
    "duration": 3,
    "start_time": "2021-12-09T04:19:58.714Z"
   },
   {
    "duration": 15,
    "start_time": "2021-12-09T04:19:58.719Z"
   },
   {
    "duration": 5,
    "start_time": "2021-12-09T04:19:58.763Z"
   },
   {
    "duration": 11,
    "start_time": "2021-12-09T04:19:58.770Z"
   },
   {
    "duration": 38,
    "start_time": "2021-12-09T04:19:58.783Z"
   },
   {
    "duration": 8,
    "start_time": "2021-12-09T04:19:58.823Z"
   },
   {
    "duration": 3,
    "start_time": "2021-12-09T04:19:58.832Z"
   },
   {
    "duration": 44,
    "start_time": "2021-12-09T04:19:58.836Z"
   },
   {
    "duration": 9,
    "start_time": "2021-12-09T04:19:58.882Z"
   },
   {
    "duration": 4,
    "start_time": "2021-12-09T04:19:58.893Z"
   },
   {
    "duration": 21,
    "start_time": "2021-12-09T04:19:58.899Z"
   },
   {
    "duration": 19,
    "start_time": "2021-12-09T04:22:17.287Z"
   },
   {
    "duration": 16,
    "start_time": "2021-12-09T04:31:50.211Z"
   },
   {
    "duration": 22,
    "start_time": "2021-12-09T04:40:17.904Z"
   },
   {
    "duration": 28,
    "start_time": "2021-12-09T04:42:53.513Z"
   },
   {
    "duration": 14,
    "start_time": "2021-12-09T04:47:17.679Z"
   },
   {
    "duration": 3,
    "start_time": "2021-12-09T04:48:57.652Z"
   },
   {
    "duration": 14,
    "start_time": "2021-12-09T04:49:01.450Z"
   },
   {
    "duration": 14,
    "start_time": "2021-12-09T04:49:13.342Z"
   },
   {
    "duration": 246,
    "start_time": "2021-12-09T04:49:43.429Z"
   },
   {
    "duration": 15,
    "start_time": "2021-12-09T04:50:03.205Z"
   },
   {
    "duration": 30,
    "start_time": "2021-12-09T04:52:37.607Z"
   },
   {
    "duration": 30,
    "start_time": "2021-12-09T04:53:15.141Z"
   },
   {
    "duration": 14,
    "start_time": "2021-12-09T05:17:36.011Z"
   },
   {
    "duration": 16,
    "start_time": "2021-12-09T05:18:14.946Z"
   },
   {
    "duration": 83,
    "start_time": "2021-12-09T05:19:38.813Z"
   },
   {
    "duration": 80,
    "start_time": "2021-12-09T05:19:54.611Z"
   },
   {
    "duration": 150,
    "start_time": "2021-12-09T05:20:04.868Z"
   },
   {
    "duration": 17,
    "start_time": "2021-12-09T05:20:16.965Z"
   },
   {
    "duration": 17,
    "start_time": "2021-12-09T05:20:24.101Z"
   },
   {
    "duration": 2,
    "start_time": "2021-12-09T05:27:01.823Z"
   },
   {
    "duration": 654,
    "start_time": "2021-12-09T05:27:08.442Z"
   },
   {
    "duration": 41,
    "start_time": "2021-12-09T05:27:09.098Z"
   },
   {
    "duration": 25,
    "start_time": "2021-12-09T05:27:09.142Z"
   },
   {
    "duration": 12,
    "start_time": "2021-12-09T05:27:09.170Z"
   },
   {
    "duration": 32,
    "start_time": "2021-12-09T05:27:09.184Z"
   },
   {
    "duration": 14,
    "start_time": "2021-12-09T05:27:09.218Z"
   },
   {
    "duration": 25,
    "start_time": "2021-12-09T05:27:09.233Z"
   },
   {
    "duration": 36,
    "start_time": "2021-12-09T05:27:09.260Z"
   },
   {
    "duration": 5,
    "start_time": "2021-12-09T05:27:09.299Z"
   },
   {
    "duration": 29,
    "start_time": "2021-12-09T05:27:09.306Z"
   },
   {
    "duration": 26,
    "start_time": "2021-12-09T05:27:09.337Z"
   },
   {
    "duration": 16,
    "start_time": "2021-12-09T05:27:09.365Z"
   },
   {
    "duration": 22,
    "start_time": "2021-12-09T05:27:09.383Z"
   },
   {
    "duration": 10,
    "start_time": "2021-12-09T05:27:09.407Z"
   },
   {
    "duration": 9,
    "start_time": "2021-12-09T05:27:09.419Z"
   },
   {
    "duration": 34,
    "start_time": "2021-12-09T05:27:09.429Z"
   },
   {
    "duration": 16,
    "start_time": "2021-12-09T05:27:09.465Z"
   },
   {
    "duration": 10,
    "start_time": "2021-12-09T05:27:09.483Z"
   },
   {
    "duration": 3,
    "start_time": "2021-12-09T05:27:09.495Z"
   },
   {
    "duration": 14,
    "start_time": "2021-12-09T05:27:09.500Z"
   },
   {
    "duration": 5,
    "start_time": "2021-12-09T05:27:09.515Z"
   },
   {
    "duration": 13,
    "start_time": "2021-12-09T05:27:09.521Z"
   },
   {
    "duration": 32,
    "start_time": "2021-12-09T05:27:09.563Z"
   },
   {
    "duration": 8,
    "start_time": "2021-12-09T05:27:09.596Z"
   },
   {
    "duration": 2,
    "start_time": "2021-12-09T05:27:09.606Z"
   },
   {
    "duration": 25,
    "start_time": "2021-12-09T05:27:09.610Z"
   },
   {
    "duration": 29,
    "start_time": "2021-12-09T05:27:09.638Z"
   },
   {
    "duration": 5,
    "start_time": "2021-12-09T05:27:09.669Z"
   },
   {
    "duration": 21,
    "start_time": "2021-12-09T05:27:09.676Z"
   },
   {
    "duration": 3,
    "start_time": "2021-12-09T05:27:09.699Z"
   },
   {
    "duration": 20,
    "start_time": "2021-12-09T05:27:09.703Z"
   },
   {
    "duration": 41,
    "start_time": "2021-12-09T05:27:09.725Z"
   },
   {
    "duration": 11,
    "start_time": "2021-12-09T05:28:50.991Z"
   },
   {
    "duration": 19,
    "start_time": "2021-12-09T05:29:09.145Z"
   },
   {
    "duration": 17,
    "start_time": "2021-12-09T05:29:41.660Z"
   },
   {
    "duration": 16,
    "start_time": "2021-12-09T05:30:45.739Z"
   },
   {
    "duration": 9,
    "start_time": "2021-12-09T05:33:40.130Z"
   },
   {
    "duration": 7537,
    "start_time": "2021-12-09T05:40:47.498Z"
   },
   {
    "duration": 16,
    "start_time": "2021-12-09T05:41:02.065Z"
   },
   {
    "duration": 26,
    "start_time": "2021-12-09T05:41:27.974Z"
   },
   {
    "duration": 589,
    "start_time": "2021-12-09T05:42:07.496Z"
   },
   {
    "duration": 77,
    "start_time": "2021-12-09T05:42:29.376Z"
   },
   {
    "duration": 26,
    "start_time": "2021-12-09T05:43:00.362Z"
   },
   {
    "duration": 334,
    "start_time": "2021-12-09T05:43:24.074Z"
   },
   {
    "duration": 27,
    "start_time": "2021-12-09T05:43:38.598Z"
   },
   {
    "duration": 6622,
    "start_time": "2021-12-09T05:51:03.332Z"
   },
   {
    "duration": 7271,
    "start_time": "2021-12-09T05:51:56.419Z"
   },
   {
    "duration": 25,
    "start_time": "2021-12-09T05:52:47.536Z"
   },
   {
    "duration": 25,
    "start_time": "2021-12-09T05:53:06.122Z"
   },
   {
    "duration": 27,
    "start_time": "2021-12-09T05:54:13.578Z"
   },
   {
    "duration": 10135,
    "start_time": "2021-12-09T05:54:32.157Z"
   },
   {
    "duration": 250,
    "start_time": "2021-12-09T05:54:47.327Z"
   },
   {
    "duration": 198,
    "start_time": "2021-12-09T05:55:38.019Z"
   },
   {
    "duration": 210,
    "start_time": "2021-12-09T05:58:39.209Z"
   },
   {
    "duration": 318,
    "start_time": "2021-12-09T06:04:25.976Z"
   },
   {
    "duration": 3,
    "start_time": "2021-12-09T06:05:18.221Z"
   },
   {
    "duration": 208,
    "start_time": "2021-12-09T06:05:39.080Z"
   },
   {
    "duration": 435,
    "start_time": "2021-12-09T06:06:06.192Z"
   },
   {
    "duration": 205,
    "start_time": "2021-12-09T06:06:19.122Z"
   },
   {
    "duration": 258,
    "start_time": "2021-12-09T06:06:49.039Z"
   },
   {
    "duration": 437,
    "start_time": "2021-12-09T06:09:49.744Z"
   },
   {
    "duration": 536,
    "start_time": "2021-12-09T06:10:32.124Z"
   },
   {
    "duration": 542,
    "start_time": "2021-12-09T06:12:01.206Z"
   },
   {
    "duration": 609,
    "start_time": "2021-12-09T06:12:16.981Z"
   },
   {
    "duration": 531,
    "start_time": "2021-12-09T06:12:45.013Z"
   },
   {
    "duration": 552,
    "start_time": "2021-12-09T06:13:14.249Z"
   },
   {
    "duration": 724,
    "start_time": "2021-12-09T06:13:21.849Z"
   },
   {
    "duration": 530,
    "start_time": "2021-12-09T06:13:27.806Z"
   },
   {
    "duration": 416,
    "start_time": "2021-12-09T06:14:09.163Z"
   },
   {
    "duration": 547,
    "start_time": "2021-12-09T06:14:36.184Z"
   },
   {
    "duration": 314,
    "start_time": "2021-12-09T06:14:57.459Z"
   },
   {
    "duration": 629,
    "start_time": "2021-12-09T06:15:13.173Z"
   },
   {
    "duration": 524,
    "start_time": "2021-12-09T06:16:40.776Z"
   },
   {
    "duration": 524,
    "start_time": "2021-12-09T06:16:50.136Z"
   },
   {
    "duration": 594,
    "start_time": "2021-12-09T06:17:05.884Z"
   },
   {
    "duration": 658,
    "start_time": "2021-12-09T06:17:14.281Z"
   },
   {
    "duration": 600,
    "start_time": "2021-12-09T06:17:19.639Z"
   },
   {
    "duration": 601,
    "start_time": "2021-12-09T06:17:45.491Z"
   },
   {
    "duration": 628,
    "start_time": "2021-12-09T06:20:23.327Z"
   },
   {
    "duration": 712,
    "start_time": "2021-12-09T06:20:30.592Z"
   },
   {
    "duration": 589,
    "start_time": "2021-12-09T06:20:49.251Z"
   },
   {
    "duration": 600,
    "start_time": "2021-12-09T06:20:56.104Z"
   },
   {
    "duration": 582,
    "start_time": "2021-12-09T06:21:00.756Z"
   },
   {
    "duration": 678,
    "start_time": "2021-12-09T06:21:06.587Z"
   },
   {
    "duration": 825,
    "start_time": "2021-12-09T06:22:38.074Z"
   },
   {
    "duration": 819,
    "start_time": "2021-12-09T06:22:44.340Z"
   },
   {
    "duration": 667,
    "start_time": "2021-12-09T06:23:07.360Z"
   },
   {
    "duration": 603,
    "start_time": "2021-12-09T06:23:58.903Z"
   },
   {
    "duration": 717,
    "start_time": "2021-12-09T06:24:18.958Z"
   },
   {
    "duration": 591,
    "start_time": "2021-12-09T06:24:44.412Z"
   },
   {
    "duration": 1149,
    "start_time": "2021-12-09T06:27:15.931Z"
   },
   {
    "duration": 1248,
    "start_time": "2021-12-09T06:28:09.619Z"
   },
   {
    "duration": 1011,
    "start_time": "2021-12-09T06:28:18.318Z"
   },
   {
    "duration": 10861,
    "start_time": "2021-12-09T06:30:54.413Z"
   },
   {
    "duration": 944,
    "start_time": "2021-12-09T06:31:37.311Z"
   },
   {
    "duration": 713,
    "start_time": "2021-12-09T06:32:03.661Z"
   },
   {
    "duration": 995,
    "start_time": "2021-12-09T06:32:11.076Z"
   },
   {
    "duration": 1075,
    "start_time": "2021-12-09T06:32:25.639Z"
   },
   {
    "duration": 1310,
    "start_time": "2021-12-09T06:32:40.462Z"
   },
   {
    "duration": 1120,
    "start_time": "2021-12-09T06:32:52.919Z"
   },
   {
    "duration": 1272,
    "start_time": "2021-12-09T06:32:58.338Z"
   },
   {
    "duration": 12366,
    "start_time": "2021-12-09T06:35:26.526Z"
   },
   {
    "duration": 12479,
    "start_time": "2021-12-09T06:36:24.991Z"
   },
   {
    "duration": 12853,
    "start_time": "2021-12-09T06:37:05.864Z"
   },
   {
    "duration": 10568,
    "start_time": "2021-12-09T06:38:30.164Z"
   },
   {
    "duration": 541,
    "start_time": "2021-12-09T06:40:33.946Z"
   },
   {
    "duration": 3468,
    "start_time": "2021-12-09T06:41:30.838Z"
   },
   {
    "duration": 3090,
    "start_time": "2021-12-09T06:41:50.423Z"
   },
   {
    "duration": 2721,
    "start_time": "2021-12-09T06:43:07.199Z"
   },
   {
    "duration": 2451,
    "start_time": "2021-12-09T06:43:59.023Z"
   },
   {
    "duration": 2211,
    "start_time": "2021-12-09T06:44:26.399Z"
   },
   {
    "duration": 2265,
    "start_time": "2021-12-09T06:44:43.387Z"
   },
   {
    "duration": 2149,
    "start_time": "2021-12-09T06:45:04.046Z"
   },
   {
    "duration": 2149,
    "start_time": "2021-12-09T06:45:46.001Z"
   },
   {
    "duration": 2210,
    "start_time": "2021-12-09T06:50:46.966Z"
   },
   {
    "duration": 2146,
    "start_time": "2021-12-09T06:51:50.146Z"
   },
   {
    "duration": 2610,
    "start_time": "2021-12-09T06:59:12.503Z"
   },
   {
    "duration": 2362,
    "start_time": "2021-12-09T06:59:23.941Z"
   },
   {
    "duration": 2113,
    "start_time": "2021-12-09T06:59:34.618Z"
   },
   {
    "duration": 3,
    "start_time": "2021-12-09T07:02:20.711Z"
   },
   {
    "duration": 660,
    "start_time": "2021-12-09T07:02:40.734Z"
   },
   {
    "duration": 42,
    "start_time": "2021-12-09T07:02:41.395Z"
   },
   {
    "duration": 27,
    "start_time": "2021-12-09T07:02:41.439Z"
   },
   {
    "duration": 12,
    "start_time": "2021-12-09T07:02:41.468Z"
   },
   {
    "duration": 15,
    "start_time": "2021-12-09T07:02:41.482Z"
   },
   {
    "duration": 4,
    "start_time": "2021-12-09T07:02:41.499Z"
   },
   {
    "duration": 11,
    "start_time": "2021-12-09T07:02:41.505Z"
   },
   {
    "duration": 54,
    "start_time": "2021-12-09T07:02:41.519Z"
   },
   {
    "duration": 5,
    "start_time": "2021-12-09T07:02:41.575Z"
   },
   {
    "duration": 7,
    "start_time": "2021-12-09T07:02:41.581Z"
   },
   {
    "duration": 6,
    "start_time": "2021-12-09T07:02:41.590Z"
   },
   {
    "duration": 19,
    "start_time": "2021-12-09T07:02:41.598Z"
   },
   {
    "duration": 48,
    "start_time": "2021-12-09T07:02:41.618Z"
   },
   {
    "duration": 11,
    "start_time": "2021-12-09T07:02:41.667Z"
   },
   {
    "duration": 9,
    "start_time": "2021-12-09T07:02:41.680Z"
   },
   {
    "duration": 11,
    "start_time": "2021-12-09T07:02:41.690Z"
   },
   {
    "duration": 18,
    "start_time": "2021-12-09T07:02:41.703Z"
   },
   {
    "duration": 8,
    "start_time": "2021-12-09T07:02:41.723Z"
   },
   {
    "duration": 4,
    "start_time": "2021-12-09T07:02:41.763Z"
   },
   {
    "duration": 13,
    "start_time": "2021-12-09T07:02:41.769Z"
   },
   {
    "duration": 4,
    "start_time": "2021-12-09T07:02:41.784Z"
   },
   {
    "duration": 13,
    "start_time": "2021-12-09T07:02:41.789Z"
   },
   {
    "duration": 36,
    "start_time": "2021-12-09T07:02:41.806Z"
   },
   {
    "duration": 11,
    "start_time": "2021-12-09T07:02:41.864Z"
   },
   {
    "duration": 3,
    "start_time": "2021-12-09T07:02:41.876Z"
   },
   {
    "duration": 23,
    "start_time": "2021-12-09T07:02:41.881Z"
   },
   {
    "duration": 9,
    "start_time": "2021-12-09T07:02:41.906Z"
   },
   {
    "duration": 6,
    "start_time": "2021-12-09T07:02:41.917Z"
   },
   {
    "duration": 50,
    "start_time": "2021-12-09T07:02:41.925Z"
   },
   {
    "duration": 3,
    "start_time": "2021-12-09T07:02:41.976Z"
   },
   {
    "duration": 26,
    "start_time": "2021-12-09T07:02:41.981Z"
   },
   {
    "duration": 26,
    "start_time": "2021-12-09T07:02:42.009Z"
   },
   {
    "duration": 106,
    "start_time": "2021-12-09T07:02:42.037Z"
   },
   {
    "duration": 2121,
    "start_time": "2021-12-09T07:02:42.145Z"
   },
   {
    "duration": 23,
    "start_time": "2021-12-09T07:46:13.089Z"
   },
   {
    "duration": 21,
    "start_time": "2021-12-09T07:47:05.222Z"
   },
   {
    "duration": 21,
    "start_time": "2021-12-09T07:53:29.497Z"
   },
   {
    "duration": 129,
    "start_time": "2021-12-09T07:54:31.245Z"
   },
   {
    "duration": 20,
    "start_time": "2021-12-09T07:54:53.530Z"
   },
   {
    "duration": 18,
    "start_time": "2021-12-09T07:58:12.420Z"
   },
   {
    "duration": 96,
    "start_time": "2021-12-09T08:03:37.297Z"
   },
   {
    "duration": 85,
    "start_time": "2021-12-09T08:03:57.872Z"
   },
   {
    "duration": 855,
    "start_time": "2021-12-09T08:04:19.869Z"
   },
   {
    "duration": 499,
    "start_time": "2021-12-09T08:04:33.057Z"
   },
   {
    "duration": 682,
    "start_time": "2021-12-09T08:04:51.380Z"
   },
   {
    "duration": 586,
    "start_time": "2021-12-09T08:05:08.098Z"
   },
   {
    "duration": 694,
    "start_time": "2021-12-09T08:05:49.951Z"
   },
   {
    "duration": 689,
    "start_time": "2021-12-09T08:06:16.768Z"
   },
   {
    "duration": 467,
    "start_time": "2021-12-09T08:06:27.870Z"
   },
   {
    "duration": 573,
    "start_time": "2021-12-09T08:07:18.464Z"
   },
   {
    "duration": 423,
    "start_time": "2021-12-09T08:07:27.163Z"
   },
   {
    "duration": 18,
    "start_time": "2021-12-09T08:08:15.916Z"
   },
   {
    "duration": 20,
    "start_time": "2021-12-09T08:11:59.786Z"
   },
   {
    "duration": 9,
    "start_time": "2021-12-09T08:30:48.840Z"
   },
   {
    "duration": 10,
    "start_time": "2021-12-09T08:30:56.768Z"
   },
   {
    "duration": 162,
    "start_time": "2021-12-09T08:33:51.510Z"
   },
   {
    "duration": 252,
    "start_time": "2021-12-09T08:38:00.132Z"
   },
   {
    "duration": 257,
    "start_time": "2021-12-09T08:40:09.767Z"
   },
   {
    "duration": 175,
    "start_time": "2021-12-09T08:40:23.333Z"
   },
   {
    "duration": 164,
    "start_time": "2021-12-09T08:41:12.088Z"
   },
   {
    "duration": 419,
    "start_time": "2021-12-09T08:45:38.617Z"
   },
   {
    "duration": 356,
    "start_time": "2021-12-09T08:48:03.500Z"
   },
   {
    "duration": 322,
    "start_time": "2021-12-09T08:49:05.115Z"
   },
   {
    "duration": 245,
    "start_time": "2021-12-09T08:49:34.052Z"
   },
   {
    "duration": 13,
    "start_time": "2021-12-09T08:49:45.932Z"
   },
   {
    "duration": 153,
    "start_time": "2021-12-09T08:50:02.889Z"
   },
   {
    "duration": 410,
    "start_time": "2021-12-09T08:51:39.871Z"
   },
   {
    "duration": 304,
    "start_time": "2021-12-09T08:53:57.623Z"
   },
   {
    "duration": 327,
    "start_time": "2021-12-09T08:54:58.428Z"
   },
   {
    "duration": 55,
    "start_time": "2021-12-09T09:00:53.750Z"
   },
   {
    "duration": 14,
    "start_time": "2021-12-09T09:01:45.249Z"
   },
   {
    "duration": 10,
    "start_time": "2021-12-09T09:02:21.254Z"
   },
   {
    "duration": 12,
    "start_time": "2021-12-09T09:02:34.995Z"
   },
   {
    "duration": 502,
    "start_time": "2021-12-09T09:23:09.541Z"
   },
   {
    "duration": 22,
    "start_time": "2021-12-09T09:26:22.580Z"
   },
   {
    "duration": 324,
    "start_time": "2021-12-09T09:27:12.566Z"
   },
   {
    "duration": 12,
    "start_time": "2021-12-09T09:27:20.555Z"
   },
   {
    "duration": 16,
    "start_time": "2021-12-09T09:28:45.101Z"
   },
   {
    "duration": 1005,
    "start_time": "2021-12-09T09:40:00.699Z"
   },
   {
    "duration": 28,
    "start_time": "2021-12-09T09:52:31.276Z"
   },
   {
    "duration": 19,
    "start_time": "2021-12-09T09:52:49.699Z"
   },
   {
    "duration": 17,
    "start_time": "2021-12-09T09:53:37.663Z"
   },
   {
    "duration": 21,
    "start_time": "2021-12-09T09:53:51.549Z"
   },
   {
    "duration": 20,
    "start_time": "2021-12-09T10:01:15.078Z"
   },
   {
    "duration": 314,
    "start_time": "2021-12-09T10:01:59.308Z"
   },
   {
    "duration": 12,
    "start_time": "2021-12-09T10:02:47.644Z"
   },
   {
    "duration": 845,
    "start_time": "2021-12-09T10:03:23.575Z"
   },
   {
    "duration": 16,
    "start_time": "2021-12-09T10:03:27.750Z"
   },
   {
    "duration": 14,
    "start_time": "2021-12-09T10:03:48.673Z"
   },
   {
    "duration": 15,
    "start_time": "2021-12-09T10:06:45.382Z"
   },
   {
    "duration": 17,
    "start_time": "2021-12-09T10:07:21.751Z"
   },
   {
    "duration": 15,
    "start_time": "2021-12-09T10:09:38.842Z"
   },
   {
    "duration": 4,
    "start_time": "2021-12-09T12:11:40.599Z"
   },
   {
    "duration": 270,
    "start_time": "2021-12-09T12:11:49.717Z"
   },
   {
    "duration": 4,
    "start_time": "2021-12-09T12:12:00.396Z"
   },
   {
    "duration": 5,
    "start_time": "2021-12-09T12:12:07.595Z"
   },
   {
    "duration": 4,
    "start_time": "2021-12-09T12:12:17.230Z"
   },
   {
    "duration": 4,
    "start_time": "2021-12-09T12:12:29.766Z"
   },
   {
    "duration": 4,
    "start_time": "2021-12-09T12:12:37.184Z"
   },
   {
    "duration": 5,
    "start_time": "2021-12-09T12:12:50.833Z"
   },
   {
    "duration": 37,
    "start_time": "2021-12-09T12:15:17.778Z"
   },
   {
    "duration": 39,
    "start_time": "2021-12-09T12:16:52.823Z"
   },
   {
    "duration": 79,
    "start_time": "2021-12-09T12:18:25.610Z"
   },
   {
    "duration": 51,
    "start_time": "2021-12-09T12:18:43.924Z"
   },
   {
    "duration": 41,
    "start_time": "2021-12-09T12:22:53.104Z"
   },
   {
    "duration": 54,
    "start_time": "2021-12-09T12:24:29.169Z"
   },
   {
    "duration": 37,
    "start_time": "2021-12-09T12:24:46.842Z"
   },
   {
    "duration": 45,
    "start_time": "2021-12-09T12:24:54.513Z"
   },
   {
    "duration": 45,
    "start_time": "2021-12-09T12:25:19.672Z"
   },
   {
    "duration": 82,
    "start_time": "2021-12-09T12:29:51.818Z"
   },
   {
    "duration": 115,
    "start_time": "2021-12-09T12:32:37.312Z"
   },
   {
    "duration": 123,
    "start_time": "2021-12-09T12:33:32.289Z"
   },
   {
    "duration": 160,
    "start_time": "2021-12-09T12:36:09.664Z"
   },
   {
    "duration": 123,
    "start_time": "2021-12-09T12:47:19.309Z"
   },
   {
    "duration": 9,
    "start_time": "2021-12-09T14:30:41.539Z"
   },
   {
    "duration": 9,
    "start_time": "2021-12-09T14:31:56.824Z"
   },
   {
    "duration": 9,
    "start_time": "2021-12-09T14:36:14.421Z"
   },
   {
    "duration": 9,
    "start_time": "2021-12-09T14:36:30.646Z"
   },
   {
    "duration": 405,
    "start_time": "2021-12-09T14:37:15.208Z"
   },
   {
    "duration": 1166,
    "start_time": "2021-12-09T14:40:07.441Z"
   },
   {
    "duration": 14,
    "start_time": "2021-12-09T14:41:33.591Z"
   },
   {
    "duration": 14,
    "start_time": "2021-12-09T14:42:07.993Z"
   },
   {
    "duration": 5,
    "start_time": "2021-12-09T14:42:17.842Z"
   },
   {
    "duration": 17,
    "start_time": "2021-12-09T14:45:58.982Z"
   },
   {
    "duration": 13,
    "start_time": "2021-12-09T14:46:29.515Z"
   },
   {
    "duration": 13,
    "start_time": "2021-12-09T14:47:43.667Z"
   },
   {
    "duration": 5,
    "start_time": "2021-12-09T14:50:43.301Z"
   },
   {
    "duration": 5,
    "start_time": "2021-12-09T14:51:32.445Z"
   },
   {
    "duration": 7,
    "start_time": "2021-12-09T14:59:04.933Z"
   },
   {
    "duration": 7,
    "start_time": "2021-12-09T14:59:26.947Z"
   },
   {
    "duration": 7,
    "start_time": "2021-12-09T15:00:00.638Z"
   },
   {
    "duration": 6,
    "start_time": "2021-12-09T15:01:01.992Z"
   },
   {
    "duration": 6,
    "start_time": "2021-12-09T15:01:12.021Z"
   },
   {
    "duration": 6,
    "start_time": "2021-12-09T15:02:08.190Z"
   },
   {
    "duration": 11,
    "start_time": "2021-12-09T15:02:53.756Z"
   },
   {
    "duration": 6,
    "start_time": "2021-12-09T15:03:03.019Z"
   },
   {
    "duration": 6,
    "start_time": "2021-12-09T15:03:09.825Z"
   },
   {
    "duration": 18,
    "start_time": "2021-12-09T15:19:42.041Z"
   },
   {
    "duration": 649,
    "start_time": "2021-12-09T15:23:48.431Z"
   },
   {
    "duration": 55,
    "start_time": "2021-12-09T15:23:49.082Z"
   },
   {
    "duration": 42,
    "start_time": "2021-12-09T15:23:49.141Z"
   },
   {
    "duration": 20,
    "start_time": "2021-12-09T15:23:49.185Z"
   },
   {
    "duration": 24,
    "start_time": "2021-12-09T15:23:49.207Z"
   },
   {
    "duration": 31,
    "start_time": "2021-12-09T15:23:49.233Z"
   },
   {
    "duration": 11,
    "start_time": "2021-12-09T15:23:49.266Z"
   },
   {
    "duration": 21,
    "start_time": "2021-12-09T15:23:49.280Z"
   },
   {
    "duration": 7,
    "start_time": "2021-12-09T15:23:49.304Z"
   },
   {
    "duration": 10,
    "start_time": "2021-12-09T15:23:49.312Z"
   },
   {
    "duration": 41,
    "start_time": "2021-12-09T15:23:49.324Z"
   },
   {
    "duration": 16,
    "start_time": "2021-12-09T15:23:49.367Z"
   },
   {
    "duration": 23,
    "start_time": "2021-12-09T15:23:49.385Z"
   },
   {
    "duration": 9,
    "start_time": "2021-12-09T15:23:49.410Z"
   },
   {
    "duration": 45,
    "start_time": "2021-12-09T15:23:49.421Z"
   },
   {
    "duration": 10,
    "start_time": "2021-12-09T15:23:49.468Z"
   },
   {
    "duration": 17,
    "start_time": "2021-12-09T15:23:49.480Z"
   },
   {
    "duration": 8,
    "start_time": "2021-12-09T15:23:49.498Z"
   },
   {
    "duration": 10,
    "start_time": "2021-12-09T15:23:49.509Z"
   },
   {
    "duration": 45,
    "start_time": "2021-12-09T15:23:49.521Z"
   },
   {
    "duration": 5,
    "start_time": "2021-12-09T15:23:49.568Z"
   },
   {
    "duration": 29,
    "start_time": "2021-12-09T15:23:49.575Z"
   },
   {
    "duration": 36,
    "start_time": "2021-12-09T15:23:49.608Z"
   },
   {
    "duration": 12,
    "start_time": "2021-12-09T15:23:49.647Z"
   },
   {
    "duration": 3,
    "start_time": "2021-12-09T15:23:49.663Z"
   },
   {
    "duration": 25,
    "start_time": "2021-12-09T15:23:49.668Z"
   },
   {
    "duration": 9,
    "start_time": "2021-12-09T15:23:49.695Z"
   },
   {
    "duration": 10,
    "start_time": "2021-12-09T15:23:49.706Z"
   },
   {
    "duration": 47,
    "start_time": "2021-12-09T15:23:49.718Z"
   },
   {
    "duration": 16,
    "start_time": "2021-12-09T15:23:49.767Z"
   },
   {
    "duration": 18,
    "start_time": "2021-12-09T15:23:49.785Z"
   },
   {
    "duration": 111,
    "start_time": "2021-12-09T15:23:49.805Z"
   },
   {
    "duration": 2526,
    "start_time": "2021-12-09T15:23:49.918Z"
   },
   {
    "duration": 25,
    "start_time": "2021-12-09T15:23:52.446Z"
   },
   {
    "duration": 16,
    "start_time": "2021-12-09T15:23:52.473Z"
   },
   {
    "duration": 346,
    "start_time": "2021-12-09T15:23:52.491Z"
   },
   {
    "duration": 11,
    "start_time": "2021-12-09T15:23:52.840Z"
   },
   {
    "duration": 916,
    "start_time": "2021-12-09T15:23:52.853Z"
   },
   {
    "duration": 540,
    "start_time": "2021-12-09T15:23:53.771Z"
   },
   {
    "duration": 18,
    "start_time": "2021-12-09T15:23:54.314Z"
   },
   {
    "duration": 32,
    "start_time": "2021-12-09T15:23:54.334Z"
   },
   {
    "duration": 16,
    "start_time": "2021-12-09T15:23:54.368Z"
   },
   {
    "duration": 194,
    "start_time": "2021-12-09T15:23:54.386Z"
   },
   {
    "duration": 13,
    "start_time": "2021-12-09T15:23:54.582Z"
   },
   {
    "duration": 19,
    "start_time": "2021-12-09T15:23:54.597Z"
   },
   {
    "duration": 391,
    "start_time": "2021-12-09T15:23:54.618Z"
   },
   {
    "duration": 13,
    "start_time": "2021-12-09T15:23:55.012Z"
   },
   {
    "duration": 61,
    "start_time": "2021-12-09T15:23:55.026Z"
   },
   {
    "duration": 39,
    "start_time": "2021-12-09T15:23:55.089Z"
   },
   {
    "duration": 108,
    "start_time": "2021-12-09T15:23:55.130Z"
   },
   {
    "duration": 7,
    "start_time": "2021-12-09T15:34:25.706Z"
   },
   {
    "duration": 6,
    "start_time": "2021-12-09T15:35:57.993Z"
   },
   {
    "duration": 627,
    "start_time": "2021-12-09T15:36:46.988Z"
   },
   {
    "duration": 43,
    "start_time": "2021-12-09T15:36:47.617Z"
   },
   {
    "duration": 28,
    "start_time": "2021-12-09T15:36:47.662Z"
   },
   {
    "duration": 23,
    "start_time": "2021-12-09T15:36:47.693Z"
   },
   {
    "duration": 32,
    "start_time": "2021-12-09T15:36:47.718Z"
   },
   {
    "duration": 6,
    "start_time": "2021-12-09T15:36:47.752Z"
   },
   {
    "duration": 15,
    "start_time": "2021-12-09T15:36:47.763Z"
   },
   {
    "duration": 42,
    "start_time": "2021-12-09T15:36:47.781Z"
   },
   {
    "duration": 6,
    "start_time": "2021-12-09T15:36:47.825Z"
   },
   {
    "duration": 13,
    "start_time": "2021-12-09T15:36:47.832Z"
   },
   {
    "duration": 27,
    "start_time": "2021-12-09T15:36:47.847Z"
   },
   {
    "duration": 45,
    "start_time": "2021-12-09T15:36:47.876Z"
   },
   {
    "duration": 32,
    "start_time": "2021-12-09T15:36:47.923Z"
   },
   {
    "duration": 12,
    "start_time": "2021-12-09T15:36:47.957Z"
   },
   {
    "duration": 10,
    "start_time": "2021-12-09T15:36:47.971Z"
   },
   {
    "duration": 10,
    "start_time": "2021-12-09T15:36:47.983Z"
   },
   {
    "duration": 17,
    "start_time": "2021-12-09T15:36:47.996Z"
   },
   {
    "duration": 9,
    "start_time": "2021-12-09T15:36:48.015Z"
   },
   {
    "duration": 5,
    "start_time": "2021-12-09T15:36:48.026Z"
   },
   {
    "duration": 11,
    "start_time": "2021-12-09T15:36:48.063Z"
   },
   {
    "duration": 7,
    "start_time": "2021-12-09T15:36:48.076Z"
   },
   {
    "duration": 10,
    "start_time": "2021-12-09T15:36:48.085Z"
   },
   {
    "duration": 38,
    "start_time": "2021-12-09T15:36:48.099Z"
   },
   {
    "duration": 11,
    "start_time": "2021-12-09T15:36:48.165Z"
   },
   {
    "duration": 3,
    "start_time": "2021-12-09T15:36:48.178Z"
   },
   {
    "duration": 29,
    "start_time": "2021-12-09T15:36:48.183Z"
   },
   {
    "duration": 11,
    "start_time": "2021-12-09T15:36:48.214Z"
   },
   {
    "duration": 36,
    "start_time": "2021-12-09T15:36:48.227Z"
   },
   {
    "duration": 25,
    "start_time": "2021-12-09T15:36:48.266Z"
   },
   {
    "duration": 19,
    "start_time": "2021-12-09T15:36:48.293Z"
   },
   {
    "duration": 50,
    "start_time": "2021-12-09T15:36:48.314Z"
   },
   {
    "duration": 82,
    "start_time": "2021-12-09T15:36:48.367Z"
   },
   {
    "duration": 2223,
    "start_time": "2021-12-09T15:36:48.451Z"
   },
   {
    "duration": 23,
    "start_time": "2021-12-09T15:36:50.676Z"
   },
   {
    "duration": 23,
    "start_time": "2021-12-09T15:36:50.701Z"
   },
   {
    "duration": 360,
    "start_time": "2021-12-09T15:36:50.726Z"
   },
   {
    "duration": 12,
    "start_time": "2021-12-09T15:36:51.088Z"
   },
   {
    "duration": 988,
    "start_time": "2021-12-09T15:36:51.102Z"
   },
   {
    "duration": 499,
    "start_time": "2021-12-09T15:36:52.093Z"
   },
   {
    "duration": 20,
    "start_time": "2021-12-09T15:36:52.595Z"
   },
   {
    "duration": 32,
    "start_time": "2021-12-09T15:36:52.617Z"
   },
   {
    "duration": 25,
    "start_time": "2021-12-09T15:36:52.651Z"
   },
   {
    "duration": 206,
    "start_time": "2021-12-09T15:36:52.678Z"
   },
   {
    "duration": 15,
    "start_time": "2021-12-09T15:36:52.886Z"
   },
   {
    "duration": 42,
    "start_time": "2021-12-09T15:36:52.903Z"
   },
   {
    "duration": 385,
    "start_time": "2021-12-09T15:36:52.947Z"
   },
   {
    "duration": 7,
    "start_time": "2021-12-09T15:36:53.334Z"
   },
   {
    "duration": 38,
    "start_time": "2021-12-09T15:36:53.343Z"
   },
   {
    "duration": 49,
    "start_time": "2021-12-09T15:36:53.383Z"
   },
   {
    "duration": 23,
    "start_time": "2021-12-09T15:36:53.434Z"
   },
   {
    "duration": 29,
    "start_time": "2021-12-09T15:36:53.459Z"
   },
   {
    "duration": 802,
    "start_time": "2021-12-10T03:21:57.386Z"
   },
   {
    "duration": 49,
    "start_time": "2021-12-10T03:21:58.191Z"
   },
   {
    "duration": 53,
    "start_time": "2021-12-10T03:21:58.243Z"
   },
   {
    "duration": 18,
    "start_time": "2021-12-10T03:21:58.299Z"
   },
   {
    "duration": 50,
    "start_time": "2021-12-10T03:21:58.319Z"
   },
   {
    "duration": 10,
    "start_time": "2021-12-10T03:21:58.372Z"
   },
   {
    "duration": 14,
    "start_time": "2021-12-10T03:21:58.384Z"
   },
   {
    "duration": 78,
    "start_time": "2021-12-10T03:21:58.402Z"
   },
   {
    "duration": 7,
    "start_time": "2021-12-10T03:21:58.483Z"
   },
   {
    "duration": 9,
    "start_time": "2021-12-10T03:21:58.493Z"
   },
   {
    "duration": 8,
    "start_time": "2021-12-10T03:21:58.505Z"
   },
   {
    "duration": 55,
    "start_time": "2021-12-10T03:21:58.516Z"
   },
   {
    "duration": 36,
    "start_time": "2021-12-10T03:21:58.575Z"
   },
   {
    "duration": 17,
    "start_time": "2021-12-10T03:21:58.614Z"
   },
   {
    "duration": 47,
    "start_time": "2021-12-10T03:21:58.634Z"
   },
   {
    "duration": 14,
    "start_time": "2021-12-10T03:21:58.684Z"
   },
   {
    "duration": 24,
    "start_time": "2021-12-10T03:21:58.700Z"
   },
   {
    "duration": 46,
    "start_time": "2021-12-10T03:21:58.726Z"
   },
   {
    "duration": 7,
    "start_time": "2021-12-10T03:21:58.775Z"
   },
   {
    "duration": 15,
    "start_time": "2021-12-10T03:21:58.784Z"
   },
   {
    "duration": 6,
    "start_time": "2021-12-10T03:21:58.801Z"
   },
   {
    "duration": 12,
    "start_time": "2021-12-10T03:21:58.810Z"
   },
   {
    "duration": 51,
    "start_time": "2021-12-10T03:21:58.871Z"
   },
   {
    "duration": 14,
    "start_time": "2021-12-10T03:21:58.925Z"
   },
   {
    "duration": 26,
    "start_time": "2021-12-10T03:21:58.941Z"
   },
   {
    "duration": 47,
    "start_time": "2021-12-10T03:21:58.971Z"
   },
   {
    "duration": 16,
    "start_time": "2021-12-10T03:21:59.020Z"
   },
   {
    "duration": 13,
    "start_time": "2021-12-10T03:21:59.039Z"
   },
   {
    "duration": 48,
    "start_time": "2021-12-10T03:21:59.055Z"
   },
   {
    "duration": 23,
    "start_time": "2021-12-10T03:21:59.106Z"
   },
   {
    "duration": 59,
    "start_time": "2021-12-10T03:21:59.132Z"
   },
   {
    "duration": 139,
    "start_time": "2021-12-10T03:21:59.194Z"
   },
   {
    "duration": 3693,
    "start_time": "2021-12-10T03:21:59.336Z"
   },
   {
    "duration": 55,
    "start_time": "2021-12-10T03:22:03.032Z"
   },
   {
    "duration": 25,
    "start_time": "2021-12-10T03:22:03.089Z"
   },
   {
    "duration": 579,
    "start_time": "2021-12-10T03:22:03.117Z"
   },
   {
    "duration": 17,
    "start_time": "2021-12-10T03:22:03.699Z"
   },
   {
    "duration": 1501,
    "start_time": "2021-12-10T03:22:03.718Z"
   },
   {
    "duration": 712,
    "start_time": "2021-12-10T03:22:05.222Z"
   },
   {
    "duration": 37,
    "start_time": "2021-12-10T03:22:05.937Z"
   },
   {
    "duration": 23,
    "start_time": "2021-12-10T03:22:05.978Z"
   },
   {
    "duration": 34,
    "start_time": "2021-12-10T03:22:06.004Z"
   },
   {
    "duration": 295,
    "start_time": "2021-12-10T03:22:06.041Z"
   },
   {
    "duration": 48,
    "start_time": "2021-12-10T03:22:06.338Z"
   },
   {
    "duration": 31,
    "start_time": "2021-12-10T03:22:06.389Z"
   },
   {
    "duration": 487,
    "start_time": "2021-12-10T03:22:06.422Z"
   },
   {
    "duration": 6,
    "start_time": "2021-12-10T03:22:06.912Z"
   },
   {
    "duration": 28,
    "start_time": "2021-12-10T03:22:06.921Z"
   },
   {
    "duration": 43,
    "start_time": "2021-12-10T03:22:06.951Z"
   },
   {
    "duration": 19,
    "start_time": "2021-12-10T03:22:06.997Z"
   },
   {
    "duration": 13,
    "start_time": "2021-12-10T03:22:07.019Z"
   },
   {
    "duration": 236,
    "start_time": "2021-12-10T03:31:21.496Z"
   },
   {
    "duration": 251,
    "start_time": "2021-12-10T03:40:51.888Z"
   },
   {
    "duration": 3775,
    "start_time": "2021-12-10T06:51:07.470Z"
   },
   {
    "duration": 98,
    "start_time": "2021-12-10T08:14:44.415Z"
   },
   {
    "duration": 257,
    "start_time": "2021-12-10T08:14:51.024Z"
   },
   {
    "duration": 254,
    "start_time": "2021-12-10T08:16:30.085Z"
   },
   {
    "duration": 248,
    "start_time": "2021-12-10T08:18:29.256Z"
   },
   {
    "duration": 299,
    "start_time": "2021-12-10T08:19:16.997Z"
   },
   {
    "duration": 252,
    "start_time": "2021-12-10T08:21:06.238Z"
   },
   {
    "duration": 262,
    "start_time": "2021-12-10T08:21:21.333Z"
   },
   {
    "duration": 764,
    "start_time": "2021-12-10T08:29:46.096Z"
   },
   {
    "duration": 48,
    "start_time": "2021-12-10T08:29:46.863Z"
   },
   {
    "duration": 40,
    "start_time": "2021-12-10T08:29:46.914Z"
   },
   {
    "duration": 16,
    "start_time": "2021-12-10T08:29:46.968Z"
   },
   {
    "duration": 32,
    "start_time": "2021-12-10T08:29:46.986Z"
   },
   {
    "duration": 6,
    "start_time": "2021-12-10T08:29:47.020Z"
   },
   {
    "duration": 43,
    "start_time": "2021-12-10T08:29:47.029Z"
   },
   {
    "duration": 33,
    "start_time": "2021-12-10T08:29:47.074Z"
   },
   {
    "duration": 8,
    "start_time": "2021-12-10T08:29:47.112Z"
   },
   {
    "duration": 43,
    "start_time": "2021-12-10T08:29:47.124Z"
   },
   {
    "duration": 7,
    "start_time": "2021-12-10T08:29:47.170Z"
   },
   {
    "duration": 22,
    "start_time": "2021-12-10T08:29:47.180Z"
   },
   {
    "duration": 64,
    "start_time": "2021-12-10T08:29:47.204Z"
   },
   {
    "duration": 14,
    "start_time": "2021-12-10T08:29:47.270Z"
   },
   {
    "duration": 14,
    "start_time": "2021-12-10T08:29:47.287Z"
   },
   {
    "duration": 14,
    "start_time": "2021-12-10T08:29:47.304Z"
   },
   {
    "duration": 61,
    "start_time": "2021-12-10T08:29:47.320Z"
   },
   {
    "duration": 12,
    "start_time": "2021-12-10T08:29:47.383Z"
   },
   {
    "duration": 22,
    "start_time": "2021-12-10T08:29:47.398Z"
   },
   {
    "duration": 27,
    "start_time": "2021-12-10T08:29:47.422Z"
   },
   {
    "duration": 6,
    "start_time": "2021-12-10T08:29:47.452Z"
   },
   {
    "duration": 25,
    "start_time": "2021-12-10T08:29:47.460Z"
   },
   {
    "duration": 52,
    "start_time": "2021-12-10T08:29:47.488Z"
   },
   {
    "duration": 25,
    "start_time": "2021-12-10T08:29:47.542Z"
   },
   {
    "duration": 3,
    "start_time": "2021-12-10T08:29:47.570Z"
   },
   {
    "duration": 51,
    "start_time": "2021-12-10T08:29:47.576Z"
   },
   {
    "duration": 13,
    "start_time": "2021-12-10T08:29:47.632Z"
   },
   {
    "duration": 20,
    "start_time": "2021-12-10T08:29:47.648Z"
   },
   {
    "duration": 32,
    "start_time": "2021-12-10T08:29:47.671Z"
   },
   {
    "duration": 22,
    "start_time": "2021-12-10T08:29:47.706Z"
   },
   {
    "duration": 57,
    "start_time": "2021-12-10T08:29:47.730Z"
   },
   {
    "duration": 121,
    "start_time": "2021-12-10T08:29:47.789Z"
   },
   {
    "duration": 3794,
    "start_time": "2021-12-10T08:29:47.912Z"
   },
   {
    "duration": 29,
    "start_time": "2021-12-10T08:29:51.709Z"
   },
   {
    "duration": 41,
    "start_time": "2021-12-10T08:29:51.741Z"
   },
   {
    "duration": 548,
    "start_time": "2021-12-10T08:29:51.784Z"
   },
   {
    "duration": 14,
    "start_time": "2021-12-10T08:29:52.334Z"
   },
   {
    "duration": 1453,
    "start_time": "2021-12-10T08:29:52.351Z"
   },
   {
    "duration": 701,
    "start_time": "2021-12-10T08:29:53.806Z"
   },
   {
    "duration": 27,
    "start_time": "2021-12-10T08:29:54.510Z"
   },
   {
    "duration": 42,
    "start_time": "2021-12-10T08:29:54.540Z"
   },
   {
    "duration": 36,
    "start_time": "2021-12-10T08:29:54.584Z"
   },
   {
    "duration": 257,
    "start_time": "2021-12-10T08:29:54.622Z"
   },
   {
    "duration": 18,
    "start_time": "2021-12-10T08:29:54.881Z"
   },
   {
    "duration": 51,
    "start_time": "2021-12-10T08:29:54.901Z"
   },
   {
    "duration": 448,
    "start_time": "2021-12-10T08:29:54.954Z"
   },
   {
    "duration": 7,
    "start_time": "2021-12-10T08:29:55.404Z"
   },
   {
    "duration": 35,
    "start_time": "2021-12-10T08:29:55.413Z"
   },
   {
    "duration": 29,
    "start_time": "2021-12-10T08:29:55.451Z"
   },
   {
    "duration": 7,
    "start_time": "2021-12-10T08:29:55.482Z"
   },
   {
    "duration": 20,
    "start_time": "2021-12-10T08:29:55.492Z"
   },
   {
    "duration": 513,
    "start_time": "2021-12-10T18:32:43.639Z"
   },
   {
    "duration": 40,
    "start_time": "2021-12-10T18:32:44.153Z"
   },
   {
    "duration": 26,
    "start_time": "2021-12-10T18:32:44.195Z"
   },
   {
    "duration": 11,
    "start_time": "2021-12-10T18:32:44.223Z"
   },
   {
    "duration": 16,
    "start_time": "2021-12-10T18:32:44.235Z"
   },
   {
    "duration": 5,
    "start_time": "2021-12-10T18:32:44.252Z"
   },
   {
    "duration": 36,
    "start_time": "2021-12-10T18:32:44.258Z"
   },
   {
    "duration": 22,
    "start_time": "2021-12-10T18:32:44.297Z"
   },
   {
    "duration": 4,
    "start_time": "2021-12-10T18:32:44.322Z"
   },
   {
    "duration": 6,
    "start_time": "2021-12-10T18:32:44.328Z"
   },
   {
    "duration": 7,
    "start_time": "2021-12-10T18:32:44.336Z"
   },
   {
    "duration": 15,
    "start_time": "2021-12-10T18:32:44.344Z"
   },
   {
    "duration": 20,
    "start_time": "2021-12-10T18:32:44.392Z"
   },
   {
    "duration": 9,
    "start_time": "2021-12-10T18:32:44.414Z"
   },
   {
    "duration": 8,
    "start_time": "2021-12-10T18:32:44.425Z"
   },
   {
    "duration": 8,
    "start_time": "2021-12-10T18:32:44.435Z"
   },
   {
    "duration": 46,
    "start_time": "2021-12-10T18:32:44.445Z"
   },
   {
    "duration": 9,
    "start_time": "2021-12-10T18:32:44.493Z"
   },
   {
    "duration": 10,
    "start_time": "2021-12-10T18:32:44.504Z"
   },
   {
    "duration": 16,
    "start_time": "2021-12-10T18:32:44.515Z"
   },
   {
    "duration": 4,
    "start_time": "2021-12-10T18:32:44.533Z"
   },
   {
    "duration": 9,
    "start_time": "2021-12-10T18:32:44.538Z"
   },
   {
    "duration": 45,
    "start_time": "2021-12-10T18:32:44.551Z"
   },
   {
    "duration": 9,
    "start_time": "2021-12-10T18:32:44.599Z"
   },
   {
    "duration": 3,
    "start_time": "2021-12-10T18:32:44.609Z"
   },
   {
    "duration": 22,
    "start_time": "2021-12-10T18:32:44.613Z"
   },
   {
    "duration": 9,
    "start_time": "2021-12-10T18:32:44.637Z"
   },
   {
    "duration": 4,
    "start_time": "2021-12-10T18:32:44.648Z"
   },
   {
    "duration": 53,
    "start_time": "2021-12-10T18:32:44.654Z"
   },
   {
    "duration": 13,
    "start_time": "2021-12-10T18:32:44.709Z"
   },
   {
    "duration": 16,
    "start_time": "2021-12-10T18:32:44.724Z"
   },
   {
    "duration": 95,
    "start_time": "2021-12-10T18:32:44.742Z"
   },
   {
    "duration": 2396,
    "start_time": "2021-12-10T18:32:44.838Z"
   },
   {
    "duration": 19,
    "start_time": "2021-12-10T18:32:47.235Z"
   },
   {
    "duration": 13,
    "start_time": "2021-12-10T18:32:47.256Z"
   },
   {
    "duration": 345,
    "start_time": "2021-12-10T18:32:47.271Z"
   },
   {
    "duration": 11,
    "start_time": "2021-12-10T18:32:47.617Z"
   },
   {
    "duration": 937,
    "start_time": "2021-12-10T18:32:47.629Z"
   },
   {
    "duration": 1015,
    "start_time": "2021-12-10T18:32:48.568Z"
   },
   {
    "duration": 17,
    "start_time": "2021-12-10T18:32:49.585Z"
   },
   {
    "duration": 15,
    "start_time": "2021-12-10T18:32:49.604Z"
   },
   {
    "duration": 12,
    "start_time": "2021-12-10T18:32:49.620Z"
   },
   {
    "duration": 172,
    "start_time": "2021-12-10T18:32:49.634Z"
   },
   {
    "duration": 11,
    "start_time": "2021-12-10T18:32:49.808Z"
   },
   {
    "duration": 12,
    "start_time": "2021-12-10T18:32:49.821Z"
   },
   {
    "duration": 395,
    "start_time": "2021-12-10T18:32:49.835Z"
   },
   {
    "duration": 5,
    "start_time": "2021-12-10T18:32:50.231Z"
   },
   {
    "duration": 16,
    "start_time": "2021-12-10T18:32:50.237Z"
   },
   {
    "duration": 13,
    "start_time": "2021-12-10T18:32:50.255Z"
   },
   {
    "duration": 23,
    "start_time": "2021-12-10T18:32:50.270Z"
   },
   {
    "duration": 5,
    "start_time": "2021-12-10T18:32:50.295Z"
   }
  ],
  "kernelspec": {
   "display_name": "Python 3 (ipykernel)",
   "language": "python",
   "name": "python3"
  },
  "language_info": {
   "codemirror_mode": {
    "name": "ipython",
    "version": 3
   },
   "file_extension": ".py",
   "mimetype": "text/x-python",
   "name": "python",
   "nbconvert_exporter": "python",
   "pygments_lexer": "ipython3",
   "version": "3.9.7"
  },
  "toc": {
   "base_numbering": 1,
   "nav_menu": {},
   "number_sections": true,
   "sideBar": false,
   "skip_h1_title": true,
   "title_cell": "Содержание",
   "title_sidebar": "Содержание",
   "toc_cell": true,
   "toc_position": {
    "height": "calc(100% - 180px)",
    "left": "10px",
    "top": "150px",
    "width": "366.391px"
   },
   "toc_section_display": false,
   "toc_window_display": false
  }
 },
 "nbformat": 4,
 "nbformat_minor": 2
}
