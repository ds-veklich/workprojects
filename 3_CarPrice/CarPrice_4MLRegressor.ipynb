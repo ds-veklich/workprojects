{
 "cells": [
  {
   "cell_type": "markdown",
   "metadata": {
    "toc": true
   },
   "source": [
    "<h1>Содержание<span class=\"tocSkip\"></span></h1>\n",
    "<div class=\"toc\"><ul class=\"toc-item\"><li><span><a href=\"#Подготовка-данных\" data-toc-modified-id=\"Подготовка-данных-1\"><span class=\"toc-item-num\">1&nbsp;&nbsp;</span>Подготовка данных</a></span><ul class=\"toc-item\"><li><span><a href=\"#Импортируем-библиотеки-и-функции,-используемые-в-проекте\" data-toc-modified-id=\"Импортируем-библиотеки-и-функции,-используемые-в-проекте-1.1\"><span class=\"toc-item-num\">1.1&nbsp;&nbsp;</span>Импортируем библиотеки и функции, используемые в проекте</a></span></li><li><span><a href=\"#Загрузка-и-предварительный-анализ-данных\" data-toc-modified-id=\"Загрузка-и-предварительный-анализ-данных-1.2\"><span class=\"toc-item-num\">1.2&nbsp;&nbsp;</span>Загрузка и предварительный анализ данных</a></span></li><li><span><a href=\"#Приведение-наименований-столбцов-к-змеиному-регистру\" data-toc-modified-id=\"Приведение-наименований-столбцов-к-змеиному-регистру-1.3\"><span class=\"toc-item-num\">1.3&nbsp;&nbsp;</span>Приведение наименований столбцов к змеиному регистру</a></span></li><li><span><a href=\"#Анализ-и-обработка-некорректных-значений\" data-toc-modified-id=\"Анализ-и-обработка-некорректных-значений-1.4\"><span class=\"toc-item-num\">1.4&nbsp;&nbsp;</span>Анализ и обработка некорректных значений</a></span></li><li><span><a href=\"#Обработка-пропусков-в-данных\" data-toc-modified-id=\"Обработка-пропусков-в-данных-1.5\"><span class=\"toc-item-num\">1.5&nbsp;&nbsp;</span>Обработка пропусков в данных</a></span></li><li><span><a href=\"#Анализ-данных-на-мультиколлинеарность-факторов\" data-toc-modified-id=\"Анализ-данных-на-мультиколлинеарность-факторов-1.6\"><span class=\"toc-item-num\">1.6&nbsp;&nbsp;</span>Анализ данных на мультиколлинеарность факторов</a></span></li><li><span><a href=\"#Подготовка-выборок-(кодирование-категориальных-признаков,-разделение-данных-на-выборки)\" data-toc-modified-id=\"Подготовка-выборок-(кодирование-категориальных-признаков,-разделение-данных-на-выборки)-1.7\"><span class=\"toc-item-num\">1.7&nbsp;&nbsp;</span>Подготовка выборок (кодирование категориальных признаков, разделение данных на выборки)</a></span></li></ul></li><li><span><a href=\"#Обучение-моделей\" data-toc-modified-id=\"Обучение-моделей-2\"><span class=\"toc-item-num\">2&nbsp;&nbsp;</span>Обучение моделей</a></span></li><li><span><a href=\"#Анализ-моделей\" data-toc-modified-id=\"Анализ-моделей-3\"><span class=\"toc-item-num\">3&nbsp;&nbsp;</span>Анализ моделей</a></span><ul class=\"toc-item\"><li><span><a href=\"#Модель-«дерево-решений»\" data-toc-modified-id=\"Модель-«дерево-решений»-3.1\"><span class=\"toc-item-num\">3.1&nbsp;&nbsp;</span>Модель «дерево решений»</a></span></li><li><span><a href=\"#Модель-«градиентный-бустинг»-библиотеки-LightGBM\" data-toc-modified-id=\"Модель-«градиентный-бустинг»-библиотеки-LightGBM-3.2\"><span class=\"toc-item-num\">3.2&nbsp;&nbsp;</span>Модель «градиентный бустинг» библиотеки LightGBM</a></span></li><li><span><a href=\"#Модель-«градиентный-бустинг»-библиотеки-CatBoost\" data-toc-modified-id=\"Модель-«градиентный-бустинг»-библиотеки-CatBoost-3.3\"><span class=\"toc-item-num\">3.3&nbsp;&nbsp;</span>Модель «градиентный бустинг» библиотеки CatBoost</a></span></li><li><span><a href=\"#Константная-модель-по-медиане\" data-toc-modified-id=\"Константная-модель-по-медиане-3.4\"><span class=\"toc-item-num\">3.4&nbsp;&nbsp;</span>Константная модель по медиане</a></span></li></ul></li><li><span><a href=\"#Общий-вывод\" data-toc-modified-id=\"Общий-вывод-4\"><span class=\"toc-item-num\">4&nbsp;&nbsp;</span>Общий вывод</a></span></li></ul></div>"
   ]
  },
  {
   "cell_type": "markdown",
   "metadata": {},
   "source": [
    "# Определение стоимости автомобиля - CarPrice"
   ]
  },
  {
   "cell_type": "markdown",
   "metadata": {},
   "source": [
    "Автосалон по продаже подержанных автомобилей «CarPrice» разрабатывает сервис для быстрой автоматической оценки стоимости автомобиля. С помощью данного сервиса клиенты автосалона смогут оперативно рассчитать рыночную стоимость своего автомобиля.<br>\n",
    "Для разработки сервиса будем использовать исторические данные по продажам автомобилей: производители, модели, комплектации, характеристики и цены автомобилей.\n",
    "\n",
    "Необходимо построить ML-модель для определения стоимости автомобиля.\n",
    "\n",
    "Требования к ML-модели:\n",
    "1. Качество прогнозирования оценивать по метрике RMSE, значение метрики не должно превышать 1800.\n",
    "2. Время обучения не должно превышать 1 минуту.\n",
    "3. Время прогнозирования не должно превышать 300 мс."
   ]
  },
  {
   "cell_type": "markdown",
   "metadata": {},
   "source": [
    "## Подготовка данных"
   ]
  },
  {
   "cell_type": "markdown",
   "metadata": {},
   "source": [
    "### Импортируем библиотеки и функции, используемые в проекте"
   ]
  },
  {
   "cell_type": "code",
   "execution_count": 1,
   "metadata": {},
   "outputs": [],
   "source": [
    "import pandas as pd\n",
    "import numpy as np\n",
    "import re\n",
    "import seaborn as sns\n",
    "import matplotlib.pyplot as plt\n",
    "import math as mt\n",
    "import warnings\n",
    "from sklearn.model_selection import train_test_split\n",
    "from sklearn.metrics import mean_squared_error\n",
    "from sklearn.tree import DecisionTreeRegressor\n",
    "from sklearn.linear_model import LinearRegression\n",
    "from lightgbm import LGBMRegressor\n",
    "from catboost import CatBoostRegressor\n",
    "from sklearn.dummy import DummyRegressor"
   ]
  },
  {
   "cell_type": "markdown",
   "metadata": {},
   "source": [
    "### Загрузка и предварительный анализ данных"
   ]
  },
  {
   "cell_type": "markdown",
   "metadata": {},
   "source": [
    "Прочитаем файл 'autos.csv' и сохраним его в переменной df:"
   ]
  },
  {
   "cell_type": "code",
   "execution_count": 2,
   "metadata": {},
   "outputs": [],
   "source": [
    "df = pd.read_csv('autos.csv')"
   ]
  },
  {
   "cell_type": "markdown",
   "metadata": {},
   "source": [
    "Выведем на экран общую информацию и первые 5 строк таблицы df:"
   ]
  },
  {
   "cell_type": "code",
   "execution_count": 3,
   "metadata": {},
   "outputs": [
    {
     "name": "stdout",
     "output_type": "stream",
     "text": [
      "<class 'pandas.core.frame.DataFrame'>\n",
      "RangeIndex: 354369 entries, 0 to 354368\n",
      "Data columns (total 16 columns):\n",
      " #   Column             Non-Null Count   Dtype \n",
      "---  ------             --------------   ----- \n",
      " 0   DateCrawled        354369 non-null  object\n",
      " 1   Price              354369 non-null  int64 \n",
      " 2   VehicleType        316879 non-null  object\n",
      " 3   RegistrationYear   354369 non-null  int64 \n",
      " 4   Gearbox            334536 non-null  object\n",
      " 5   Power              354369 non-null  int64 \n",
      " 6   Model              334664 non-null  object\n",
      " 7   Kilometer          354369 non-null  int64 \n",
      " 8   RegistrationMonth  354369 non-null  int64 \n",
      " 9   FuelType           321474 non-null  object\n",
      " 10  Brand              354369 non-null  object\n",
      " 11  NotRepaired        283215 non-null  object\n",
      " 12  DateCreated        354369 non-null  object\n",
      " 13  NumberOfPictures   354369 non-null  int64 \n",
      " 14  PostalCode         354369 non-null  int64 \n",
      " 15  LastSeen           354369 non-null  object\n",
      "dtypes: int64(7), object(9)\n",
      "memory usage: 43.3+ MB\n"
     ]
    },
    {
     "data": {
      "text/html": [
       "<div>\n",
       "<style scoped>\n",
       "    .dataframe tbody tr th:only-of-type {\n",
       "        vertical-align: middle;\n",
       "    }\n",
       "\n",
       "    .dataframe tbody tr th {\n",
       "        vertical-align: top;\n",
       "    }\n",
       "\n",
       "    .dataframe thead th {\n",
       "        text-align: right;\n",
       "    }\n",
       "</style>\n",
       "<table border=\"1\" class=\"dataframe\">\n",
       "  <thead>\n",
       "    <tr style=\"text-align: right;\">\n",
       "      <th></th>\n",
       "      <th>DateCrawled</th>\n",
       "      <th>Price</th>\n",
       "      <th>VehicleType</th>\n",
       "      <th>RegistrationYear</th>\n",
       "      <th>Gearbox</th>\n",
       "      <th>Power</th>\n",
       "      <th>Model</th>\n",
       "      <th>Kilometer</th>\n",
       "      <th>RegistrationMonth</th>\n",
       "      <th>FuelType</th>\n",
       "      <th>Brand</th>\n",
       "      <th>NotRepaired</th>\n",
       "      <th>DateCreated</th>\n",
       "      <th>NumberOfPictures</th>\n",
       "      <th>PostalCode</th>\n",
       "      <th>LastSeen</th>\n",
       "    </tr>\n",
       "  </thead>\n",
       "  <tbody>\n",
       "    <tr>\n",
       "      <th>0</th>\n",
       "      <td>2016-03-24 11:52:17</td>\n",
       "      <td>480</td>\n",
       "      <td>NaN</td>\n",
       "      <td>1993</td>\n",
       "      <td>manual</td>\n",
       "      <td>0</td>\n",
       "      <td>golf</td>\n",
       "      <td>150000</td>\n",
       "      <td>0</td>\n",
       "      <td>petrol</td>\n",
       "      <td>volkswagen</td>\n",
       "      <td>NaN</td>\n",
       "      <td>2016-03-24 00:00:00</td>\n",
       "      <td>0</td>\n",
       "      <td>70435</td>\n",
       "      <td>2016-04-07 03:16:57</td>\n",
       "    </tr>\n",
       "    <tr>\n",
       "      <th>1</th>\n",
       "      <td>2016-03-24 10:58:45</td>\n",
       "      <td>18300</td>\n",
       "      <td>coupe</td>\n",
       "      <td>2011</td>\n",
       "      <td>manual</td>\n",
       "      <td>190</td>\n",
       "      <td>NaN</td>\n",
       "      <td>125000</td>\n",
       "      <td>5</td>\n",
       "      <td>gasoline</td>\n",
       "      <td>audi</td>\n",
       "      <td>yes</td>\n",
       "      <td>2016-03-24 00:00:00</td>\n",
       "      <td>0</td>\n",
       "      <td>66954</td>\n",
       "      <td>2016-04-07 01:46:50</td>\n",
       "    </tr>\n",
       "    <tr>\n",
       "      <th>2</th>\n",
       "      <td>2016-03-14 12:52:21</td>\n",
       "      <td>9800</td>\n",
       "      <td>suv</td>\n",
       "      <td>2004</td>\n",
       "      <td>auto</td>\n",
       "      <td>163</td>\n",
       "      <td>grand</td>\n",
       "      <td>125000</td>\n",
       "      <td>8</td>\n",
       "      <td>gasoline</td>\n",
       "      <td>jeep</td>\n",
       "      <td>NaN</td>\n",
       "      <td>2016-03-14 00:00:00</td>\n",
       "      <td>0</td>\n",
       "      <td>90480</td>\n",
       "      <td>2016-04-05 12:47:46</td>\n",
       "    </tr>\n",
       "    <tr>\n",
       "      <th>3</th>\n",
       "      <td>2016-03-17 16:54:04</td>\n",
       "      <td>1500</td>\n",
       "      <td>small</td>\n",
       "      <td>2001</td>\n",
       "      <td>manual</td>\n",
       "      <td>75</td>\n",
       "      <td>golf</td>\n",
       "      <td>150000</td>\n",
       "      <td>6</td>\n",
       "      <td>petrol</td>\n",
       "      <td>volkswagen</td>\n",
       "      <td>no</td>\n",
       "      <td>2016-03-17 00:00:00</td>\n",
       "      <td>0</td>\n",
       "      <td>91074</td>\n",
       "      <td>2016-03-17 17:40:17</td>\n",
       "    </tr>\n",
       "    <tr>\n",
       "      <th>4</th>\n",
       "      <td>2016-03-31 17:25:20</td>\n",
       "      <td>3600</td>\n",
       "      <td>small</td>\n",
       "      <td>2008</td>\n",
       "      <td>manual</td>\n",
       "      <td>69</td>\n",
       "      <td>fabia</td>\n",
       "      <td>90000</td>\n",
       "      <td>7</td>\n",
       "      <td>gasoline</td>\n",
       "      <td>skoda</td>\n",
       "      <td>no</td>\n",
       "      <td>2016-03-31 00:00:00</td>\n",
       "      <td>0</td>\n",
       "      <td>60437</td>\n",
       "      <td>2016-04-06 10:17:21</td>\n",
       "    </tr>\n",
       "  </tbody>\n",
       "</table>\n",
       "</div>"
      ],
      "text/plain": [
       "           DateCrawled  Price VehicleType  RegistrationYear Gearbox  Power  \\\n",
       "0  2016-03-24 11:52:17    480         NaN              1993  manual      0   \n",
       "1  2016-03-24 10:58:45  18300       coupe              2011  manual    190   \n",
       "2  2016-03-14 12:52:21   9800         suv              2004    auto    163   \n",
       "3  2016-03-17 16:54:04   1500       small              2001  manual     75   \n",
       "4  2016-03-31 17:25:20   3600       small              2008  manual     69   \n",
       "\n",
       "   Model  Kilometer  RegistrationMonth  FuelType       Brand NotRepaired  \\\n",
       "0   golf     150000                  0    petrol  volkswagen         NaN   \n",
       "1    NaN     125000                  5  gasoline        audi         yes   \n",
       "2  grand     125000                  8  gasoline        jeep         NaN   \n",
       "3   golf     150000                  6    petrol  volkswagen          no   \n",
       "4  fabia      90000                  7  gasoline       skoda          no   \n",
       "\n",
       "           DateCreated  NumberOfPictures  PostalCode             LastSeen  \n",
       "0  2016-03-24 00:00:00                 0       70435  2016-04-07 03:16:57  \n",
       "1  2016-03-24 00:00:00                 0       66954  2016-04-07 01:46:50  \n",
       "2  2016-03-14 00:00:00                 0       90480  2016-04-05 12:47:46  \n",
       "3  2016-03-17 00:00:00                 0       91074  2016-03-17 17:40:17  \n",
       "4  2016-03-31 00:00:00                 0       60437  2016-04-06 10:17:21  "
      ]
     },
     "execution_count": 3,
     "metadata": {},
     "output_type": "execute_result"
    }
   ],
   "source": [
    "df.info()\n",
    "df.head()"
   ]
  },
  {
   "cell_type": "markdown",
   "metadata": {},
   "source": [
    "### Приведение наименований столбцов к змеиному регистру"
   ]
  },
  {
   "cell_type": "markdown",
   "metadata": {},
   "source": [
    "В связи с тем, что наименования столбцов датафрейма df не соответствуют змеиному регистру (стандарт PEP), требуется их переименование для приведения к змеиному регистру.\n",
    "\n",
    "Создадим функцию для изменения имени столбца в соответствии со змеиным регистром, затем осуществим приведение столбцов датафрейма df к змеиному регистру и проверим результат с помощью вывода на экран перечня столбцов: "
   ]
  },
  {
   "cell_type": "code",
   "execution_count": 4,
   "metadata": {},
   "outputs": [],
   "source": [
    "def column_name_to_snake(column_name: str):\n",
    "    str_tmp = re.sub('(.)([A-Z][a-z]+)', r'\\1_\\2', column_name)\n",
    "    return re.sub('([a-z0-9])([A-Z])', r'\\1_\\2', str_tmp).lower()"
   ]
  },
  {
   "cell_type": "code",
   "execution_count": 5,
   "metadata": {},
   "outputs": [],
   "source": [
    "for col_name in df.columns:\n",
    "    df = df.rename(columns={col_name: column_name_to_snake(col_name)})"
   ]
  },
  {
   "cell_type": "code",
   "execution_count": 6,
   "metadata": {},
   "outputs": [
    {
     "data": {
      "text/plain": [
       "Index(['date_crawled', 'price', 'vehicle_type', 'registration_year', 'gearbox',\n",
       "       'power', 'model', 'kilometer', 'registration_month', 'fuel_type',\n",
       "       'brand', 'not_repaired', 'date_created', 'number_of_pictures',\n",
       "       'postal_code', 'last_seen'],\n",
       "      dtype='object')"
      ]
     },
     "execution_count": 6,
     "metadata": {},
     "output_type": "execute_result"
    }
   ],
   "source": [
    "df.columns"
   ]
  },
  {
   "cell_type": "markdown",
   "metadata": {},
   "source": [
    "### Анализ и обработка некорректных значений"
   ]
  },
  {
   "cell_type": "markdown",
   "metadata": {},
   "source": [
    "Выведем на экран описание данных о числовых столбцах датафрейма df:"
   ]
  },
  {
   "cell_type": "code",
   "execution_count": 7,
   "metadata": {},
   "outputs": [
    {
     "data": {
      "text/html": [
       "<div>\n",
       "<style scoped>\n",
       "    .dataframe tbody tr th:only-of-type {\n",
       "        vertical-align: middle;\n",
       "    }\n",
       "\n",
       "    .dataframe tbody tr th {\n",
       "        vertical-align: top;\n",
       "    }\n",
       "\n",
       "    .dataframe thead th {\n",
       "        text-align: right;\n",
       "    }\n",
       "</style>\n",
       "<table border=\"1\" class=\"dataframe\">\n",
       "  <thead>\n",
       "    <tr style=\"text-align: right;\">\n",
       "      <th></th>\n",
       "      <th>price</th>\n",
       "      <th>registration_year</th>\n",
       "      <th>power</th>\n",
       "      <th>kilometer</th>\n",
       "      <th>registration_month</th>\n",
       "      <th>number_of_pictures</th>\n",
       "      <th>postal_code</th>\n",
       "    </tr>\n",
       "  </thead>\n",
       "  <tbody>\n",
       "    <tr>\n",
       "      <th>count</th>\n",
       "      <td>354369.000000</td>\n",
       "      <td>354369.000000</td>\n",
       "      <td>354369.000000</td>\n",
       "      <td>354369.000000</td>\n",
       "      <td>354369.000000</td>\n",
       "      <td>354369.0</td>\n",
       "      <td>354369.000000</td>\n",
       "    </tr>\n",
       "    <tr>\n",
       "      <th>mean</th>\n",
       "      <td>4416.656776</td>\n",
       "      <td>2004.234448</td>\n",
       "      <td>110.094337</td>\n",
       "      <td>128211.172535</td>\n",
       "      <td>5.714645</td>\n",
       "      <td>0.0</td>\n",
       "      <td>50508.689087</td>\n",
       "    </tr>\n",
       "    <tr>\n",
       "      <th>std</th>\n",
       "      <td>4514.158514</td>\n",
       "      <td>90.227958</td>\n",
       "      <td>189.850405</td>\n",
       "      <td>37905.341530</td>\n",
       "      <td>3.726421</td>\n",
       "      <td>0.0</td>\n",
       "      <td>25783.096248</td>\n",
       "    </tr>\n",
       "    <tr>\n",
       "      <th>min</th>\n",
       "      <td>0.000000</td>\n",
       "      <td>1000.000000</td>\n",
       "      <td>0.000000</td>\n",
       "      <td>5000.000000</td>\n",
       "      <td>0.000000</td>\n",
       "      <td>0.0</td>\n",
       "      <td>1067.000000</td>\n",
       "    </tr>\n",
       "    <tr>\n",
       "      <th>25%</th>\n",
       "      <td>1050.000000</td>\n",
       "      <td>1999.000000</td>\n",
       "      <td>69.000000</td>\n",
       "      <td>125000.000000</td>\n",
       "      <td>3.000000</td>\n",
       "      <td>0.0</td>\n",
       "      <td>30165.000000</td>\n",
       "    </tr>\n",
       "    <tr>\n",
       "      <th>50%</th>\n",
       "      <td>2700.000000</td>\n",
       "      <td>2003.000000</td>\n",
       "      <td>105.000000</td>\n",
       "      <td>150000.000000</td>\n",
       "      <td>6.000000</td>\n",
       "      <td>0.0</td>\n",
       "      <td>49413.000000</td>\n",
       "    </tr>\n",
       "    <tr>\n",
       "      <th>75%</th>\n",
       "      <td>6400.000000</td>\n",
       "      <td>2008.000000</td>\n",
       "      <td>143.000000</td>\n",
       "      <td>150000.000000</td>\n",
       "      <td>9.000000</td>\n",
       "      <td>0.0</td>\n",
       "      <td>71083.000000</td>\n",
       "    </tr>\n",
       "    <tr>\n",
       "      <th>max</th>\n",
       "      <td>20000.000000</td>\n",
       "      <td>9999.000000</td>\n",
       "      <td>20000.000000</td>\n",
       "      <td>150000.000000</td>\n",
       "      <td>12.000000</td>\n",
       "      <td>0.0</td>\n",
       "      <td>99998.000000</td>\n",
       "    </tr>\n",
       "  </tbody>\n",
       "</table>\n",
       "</div>"
      ],
      "text/plain": [
       "               price  registration_year          power      kilometer  \\\n",
       "count  354369.000000      354369.000000  354369.000000  354369.000000   \n",
       "mean     4416.656776        2004.234448     110.094337  128211.172535   \n",
       "std      4514.158514          90.227958     189.850405   37905.341530   \n",
       "min         0.000000        1000.000000       0.000000    5000.000000   \n",
       "25%      1050.000000        1999.000000      69.000000  125000.000000   \n",
       "50%      2700.000000        2003.000000     105.000000  150000.000000   \n",
       "75%      6400.000000        2008.000000     143.000000  150000.000000   \n",
       "max     20000.000000        9999.000000   20000.000000  150000.000000   \n",
       "\n",
       "       registration_month  number_of_pictures    postal_code  \n",
       "count       354369.000000            354369.0  354369.000000  \n",
       "mean             5.714645                 0.0   50508.689087  \n",
       "std              3.726421                 0.0   25783.096248  \n",
       "min              0.000000                 0.0    1067.000000  \n",
       "25%              3.000000                 0.0   30165.000000  \n",
       "50%              6.000000                 0.0   49413.000000  \n",
       "75%              9.000000                 0.0   71083.000000  \n",
       "max             12.000000                 0.0   99998.000000  "
      ]
     },
     "execution_count": 7,
     "metadata": {},
     "output_type": "execute_result"
    }
   ],
   "source": [
    "df.describe()"
   ]
  },
  {
   "cell_type": "markdown",
   "metadata": {},
   "source": [
    "По результатам анализа данных можно сделать следующие выводы:\n",
    "1. Цена автомобиля не может быть 0 евро, а более детальный анализ показывает, что адекватные цены на автомобили начинаются с 200 евро. Поэтому, исключим из датафрейма строки с ценой автомобиля до 200 евро включительно.\n",
    "2. Диапазон года регистрации автомобиля от 1000 до 9999 лет, что явно не является достоверной информацией. Более детальный анализ показывает, что адекватная информация на автомобили начинается с 1970 года и заканчивается до 2020 года. Поэтому, исключим из датафрейма строки с годом регистрации автомобиля до 1970 года и свыше 2019 года.\n",
    "3. Мощность автомобиля не может быть 0 л.с., а более детальный анализ показывает, что адекватное значение мощности начинается с 50 л.с. и заканчивается до 550 л.с.. Поэтому, для автомобилей с мощностью двигателя до 50 и свыше 550 л.с. заполним столбец мощность средним значением мощности для аналогичных автомобилей одного бренда, одной марки и одного года регистрации. При этом, строки с незаполненными значениями мощности удалим при обработке пропусков данных.\n",
    "4. Месяц регистрации автомобиля не может быть 0. Поэтому, чтобы не повлиять на распределение данных, заменим нулевые значения случайными значениями в диапазоне от 1 до 12.\n",
    "5. Столбец с информацией о количестве фотографий содержит только нулевые значения, поэтому, исключим его при подготовке признаков.\n",
    "6. Анализ перечней типов кузова и моделей автомобилей показал, что данные столбцы не могут иметь значения 'other' (это некорректное заполнение данных), тип кузова и модель автомобиля всегда имеет определенное значение. Поэтому, изменим значения с 'other' на np.nan и удалим строки при обработке пропусков данных, так как заполнить указанные значения на основе имеющихся данных невозможно.\n",
    "\n",
    "Также, дополнительный анализ оставшихся (нечисловых) столбцов датафрейма показал, что информация с датами скачивания анкеты из базы, создания анкеты и последней активности пользователя не влияет на стоимость автомобиля. Поэтому, исключим данные столбцы при подготовке признаков.\n",
    "\n",
    "Таким образом, столбцами-признаками являются: 'vehicle_type', 'registration_year', 'registration_month', 'gearbox', 'power', 'model', 'kilometer', 'fuel_type', 'brand', 'not_repaired', 'postal_code', целевым столбцом является 'price'."
   ]
  },
  {
   "cell_type": "markdown",
   "metadata": {},
   "source": [
    "Произведем обработку данных датафрейма по результатам проведенного анализа и проверим корректность изменений:"
   ]
  },
  {
   "cell_type": "code",
   "execution_count": 8,
   "metadata": {},
   "outputs": [],
   "source": [
    "df = df.drop(['date_crawled', 'date_created', 'number_of_pictures', 'last_seen'], axis=1)"
   ]
  },
  {
   "cell_type": "code",
   "execution_count": 9,
   "metadata": {},
   "outputs": [],
   "source": [
    "#Исключение из датафрейма некорректных строк по цене и году регистрации автомобиля\n",
    "df = df.query('price > 200 and registration_year >= 1970 and registration_year <= 2019').reset_index(drop = True)\n",
    "#Заполнение месяца регистрации автомобиля\n",
    "df.loc[df['registration_month'] == 0, 'registration_month'] = pd.Series(\n",
    "    np.random.randint(1, 13, size=df['registration_month'].count()))\n",
    "#Заполнение мощности автомобиля\n",
    "df.loc[(df['power'] < 50) | (df['power'] > 550), 'power'] = df.query('power >=50 and power <=550').groupby(\n",
    "    ['brand', 'model', 'registration_year'])['power'].transform('mean')\n",
    "#Замена значений 'other' на np.nan в столбцах 'vehicle_type' и 'model'\n",
    "df['vehicle_type'] = df['vehicle_type'].replace('other', np.nan)\n",
    "df['model'] = df['model'].replace('other', np.nan)"
   ]
  },
  {
   "cell_type": "code",
   "execution_count": 10,
   "metadata": {},
   "outputs": [
    {
     "data": {
      "text/html": [
       "<div>\n",
       "<style scoped>\n",
       "    .dataframe tbody tr th:only-of-type {\n",
       "        vertical-align: middle;\n",
       "    }\n",
       "\n",
       "    .dataframe tbody tr th {\n",
       "        vertical-align: top;\n",
       "    }\n",
       "\n",
       "    .dataframe thead th {\n",
       "        text-align: right;\n",
       "    }\n",
       "</style>\n",
       "<table border=\"1\" class=\"dataframe\">\n",
       "  <thead>\n",
       "    <tr style=\"text-align: right;\">\n",
       "      <th></th>\n",
       "      <th>price</th>\n",
       "      <th>registration_year</th>\n",
       "      <th>power</th>\n",
       "      <th>kilometer</th>\n",
       "      <th>registration_month</th>\n",
       "      <th>postal_code</th>\n",
       "    </tr>\n",
       "  </thead>\n",
       "  <tbody>\n",
       "    <tr>\n",
       "      <th>count</th>\n",
       "      <td>333769.000000</td>\n",
       "      <td>333769.000000</td>\n",
       "      <td>295940.000000</td>\n",
       "      <td>333769.000000</td>\n",
       "      <td>333769.000000</td>\n",
       "      <td>333769.000000</td>\n",
       "    </tr>\n",
       "    <tr>\n",
       "      <th>mean</th>\n",
       "      <td>4658.131930</td>\n",
       "      <td>2003.425153</td>\n",
       "      <td>122.244049</td>\n",
       "      <td>128632.602189</td>\n",
       "      <td>6.407408</td>\n",
       "      <td>50772.407653</td>\n",
       "    </tr>\n",
       "    <tr>\n",
       "      <th>std</th>\n",
       "      <td>4506.084702</td>\n",
       "      <td>6.846239</td>\n",
       "      <td>52.860347</td>\n",
       "      <td>36949.072240</td>\n",
       "      <td>3.358054</td>\n",
       "      <td>25699.435778</td>\n",
       "    </tr>\n",
       "    <tr>\n",
       "      <th>min</th>\n",
       "      <td>202.000000</td>\n",
       "      <td>1970.000000</td>\n",
       "      <td>50.000000</td>\n",
       "      <td>5000.000000</td>\n",
       "      <td>1.000000</td>\n",
       "      <td>1067.000000</td>\n",
       "    </tr>\n",
       "    <tr>\n",
       "      <th>25%</th>\n",
       "      <td>1299.000000</td>\n",
       "      <td>1999.000000</td>\n",
       "      <td>80.000000</td>\n",
       "      <td>125000.000000</td>\n",
       "      <td>4.000000</td>\n",
       "      <td>30519.000000</td>\n",
       "    </tr>\n",
       "    <tr>\n",
       "      <th>50%</th>\n",
       "      <td>2990.000000</td>\n",
       "      <td>2003.000000</td>\n",
       "      <td>115.000000</td>\n",
       "      <td>150000.000000</td>\n",
       "      <td>6.000000</td>\n",
       "      <td>49593.000000</td>\n",
       "    </tr>\n",
       "    <tr>\n",
       "      <th>75%</th>\n",
       "      <td>6666.000000</td>\n",
       "      <td>2008.000000</td>\n",
       "      <td>150.000000</td>\n",
       "      <td>150000.000000</td>\n",
       "      <td>9.000000</td>\n",
       "      <td>71263.000000</td>\n",
       "    </tr>\n",
       "    <tr>\n",
       "      <th>max</th>\n",
       "      <td>20000.000000</td>\n",
       "      <td>2019.000000</td>\n",
       "      <td>550.000000</td>\n",
       "      <td>150000.000000</td>\n",
       "      <td>12.000000</td>\n",
       "      <td>99998.000000</td>\n",
       "    </tr>\n",
       "  </tbody>\n",
       "</table>\n",
       "</div>"
      ],
      "text/plain": [
       "               price  registration_year          power      kilometer  \\\n",
       "count  333769.000000      333769.000000  295940.000000  333769.000000   \n",
       "mean     4658.131930        2003.425153     122.244049  128632.602189   \n",
       "std      4506.084702           6.846239      52.860347   36949.072240   \n",
       "min       202.000000        1970.000000      50.000000    5000.000000   \n",
       "25%      1299.000000        1999.000000      80.000000  125000.000000   \n",
       "50%      2990.000000        2003.000000     115.000000  150000.000000   \n",
       "75%      6666.000000        2008.000000     150.000000  150000.000000   \n",
       "max     20000.000000        2019.000000     550.000000  150000.000000   \n",
       "\n",
       "       registration_month    postal_code  \n",
       "count       333769.000000  333769.000000  \n",
       "mean             6.407408   50772.407653  \n",
       "std              3.358054   25699.435778  \n",
       "min              1.000000    1067.000000  \n",
       "25%              4.000000   30519.000000  \n",
       "50%              6.000000   49593.000000  \n",
       "75%              9.000000   71263.000000  \n",
       "max             12.000000   99998.000000  "
      ]
     },
     "execution_count": 10,
     "metadata": {},
     "output_type": "execute_result"
    }
   ],
   "source": [
    "df.describe()"
   ]
  },
  {
   "cell_type": "markdown",
   "metadata": {},
   "source": [
    "### Обработка пропусков в данных"
   ]
  },
  {
   "cell_type": "markdown",
   "metadata": {},
   "source": [
    "На основе анализа данных можно сделать вывод, что столбец 'not_repaired' содержит признак был ли автомобиль в аварии и ремонтировался ли после нее (значение 'no') или автомобиль не был в аварии (значение 'yes').\n",
    "\n",
    "Так как, указанный столбец содержит пропуски в большом количестве данных (более 60 тыс. строк), то необходимо заполнить данный столбец данными. С высокой вероятностью можно предположить, что отсутствие информации об авариях говорит о том, что автомобиль не был в авариях, поэтому столбец 'not_repaired' заполним значением 'yes':"
   ]
  },
  {
   "cell_type": "code",
   "execution_count": 11,
   "metadata": {},
   "outputs": [],
   "source": [
    "df['not_repaired'] = df['not_repaired'].replace(np.nan, 'yes')"
   ]
  },
  {
   "cell_type": "markdown",
   "metadata": {},
   "source": [
    "Столбцы 'vehicle_type', 'gearbox', 'model', 'fuel_type', 'power' содержат пропуски в данных. Так как, заполнить указанные столбцы на основе имеющихся данных невозможно, то удалим строки из датафрейма с пропусками в данных и проверим корректность удаления:"
   ]
  },
  {
   "cell_type": "code",
   "execution_count": 12,
   "metadata": {},
   "outputs": [],
   "source": [
    "df = df.dropna(subset = ['vehicle_type', 'gearbox', 'model', 'fuel_type', 'power']).reset_index(drop = True)"
   ]
  },
  {
   "cell_type": "code",
   "execution_count": 13,
   "metadata": {
    "scrolled": true
   },
   "outputs": [
    {
     "name": "stdout",
     "output_type": "stream",
     "text": [
      "<class 'pandas.core.frame.DataFrame'>\n",
      "RangeIndex: 236542 entries, 0 to 236541\n",
      "Data columns (total 12 columns):\n",
      " #   Column              Non-Null Count   Dtype  \n",
      "---  ------              --------------   -----  \n",
      " 0   price               236542 non-null  int64  \n",
      " 1   vehicle_type        236542 non-null  object \n",
      " 2   registration_year   236542 non-null  int64  \n",
      " 3   gearbox             236542 non-null  object \n",
      " 4   power               236542 non-null  float64\n",
      " 5   model               236542 non-null  object \n",
      " 6   kilometer           236542 non-null  int64  \n",
      " 7   registration_month  236542 non-null  int64  \n",
      " 8   fuel_type           236542 non-null  object \n",
      " 9   brand               236542 non-null  object \n",
      " 10  not_repaired        236542 non-null  object \n",
      " 11  postal_code         236542 non-null  int64  \n",
      "dtypes: float64(1), int64(5), object(6)\n",
      "memory usage: 21.7+ MB\n"
     ]
    }
   ],
   "source": [
    "df.info()"
   ]
  },
  {
   "cell_type": "markdown",
   "metadata": {},
   "source": [
    "### Анализ данных на мультиколлинеарность факторов"
   ]
  },
  {
   "cell_type": "markdown",
   "metadata": {},
   "source": [
    "Проверим в каких числовых столбцах данные имеют сильную взаимосвязь. Для этого, построим матрицу корреляции:"
   ]
  },
  {
   "cell_type": "code",
   "execution_count": 14,
   "metadata": {},
   "outputs": [
    {
     "data": {
      "text/html": [
       "<style type=\"text/css\">\n",
       "#T_8ce07_row0_col0, #T_8ce07_row1_col1, #T_8ce07_row2_col2, #T_8ce07_row3_col3, #T_8ce07_row4_col4 {\n",
       "  background-color: #b40426;\n",
       "  color: #f1f1f1;\n",
       "}\n",
       "#T_8ce07_row0_col1 {\n",
       "  background-color: #6282ea;\n",
       "  color: #f1f1f1;\n",
       "}\n",
       "#T_8ce07_row0_col2, #T_8ce07_row0_col3, #T_8ce07_row2_col0, #T_8ce07_row2_col4, #T_8ce07_row3_col1, #T_8ce07_row3_col4, #T_8ce07_row4_col3 {\n",
       "  background-color: #3b4cc0;\n",
       "  color: #f1f1f1;\n",
       "}\n",
       "#T_8ce07_row0_col4 {\n",
       "  background-color: #465ecf;\n",
       "  color: #f1f1f1;\n",
       "}\n",
       "#T_8ce07_row1_col0 {\n",
       "  background-color: #c3d5f4;\n",
       "  color: #000000;\n",
       "}\n",
       "#T_8ce07_row1_col2 {\n",
       "  background-color: #bbd1f8;\n",
       "  color: #000000;\n",
       "}\n",
       "#T_8ce07_row1_col3 {\n",
       "  background-color: #445acc;\n",
       "  color: #f1f1f1;\n",
       "}\n",
       "#T_8ce07_row1_col4 {\n",
       "  background-color: #4b64d5;\n",
       "  color: #f1f1f1;\n",
       "}\n",
       "#T_8ce07_row2_col1 {\n",
       "  background-color: #5875e1;\n",
       "  color: #f1f1f1;\n",
       "}\n",
       "#T_8ce07_row2_col3 {\n",
       "  background-color: #3e51c5;\n",
       "  color: #f1f1f1;\n",
       "}\n",
       "#T_8ce07_row3_col0, #T_8ce07_row4_col2 {\n",
       "  background-color: #9ebeff;\n",
       "  color: #000000;\n",
       "}\n",
       "#T_8ce07_row3_col2 {\n",
       "  background-color: #a2c1ff;\n",
       "  color: #000000;\n",
       "}\n",
       "#T_8ce07_row4_col0 {\n",
       "  background-color: #a9c6fd;\n",
       "  color: #000000;\n",
       "}\n",
       "#T_8ce07_row4_col1 {\n",
       "  background-color: #4257c9;\n",
       "  color: #f1f1f1;\n",
       "}\n",
       "</style>\n",
       "<table id=\"T_8ce07_\">\n",
       "  <thead>\n",
       "    <tr>\n",
       "      <th class=\"blank level0\" >&nbsp;</th>\n",
       "      <th class=\"col_heading level0 col0\" >registration_year</th>\n",
       "      <th class=\"col_heading level0 col1\" >power</th>\n",
       "      <th class=\"col_heading level0 col2\" >kilometer</th>\n",
       "      <th class=\"col_heading level0 col3\" >registration_month</th>\n",
       "      <th class=\"col_heading level0 col4\" >postal_code</th>\n",
       "    </tr>\n",
       "  </thead>\n",
       "  <tbody>\n",
       "    <tr>\n",
       "      <th id=\"T_8ce07_level0_row0\" class=\"row_heading level0 row0\" >registration_year</th>\n",
       "      <td id=\"T_8ce07_row0_col0\" class=\"data row0 col0\" >1.000000</td>\n",
       "      <td id=\"T_8ce07_row0_col1\" class=\"data row0 col1\" >0.145709</td>\n",
       "      <td id=\"T_8ce07_row0_col2\" class=\"data row0 col2\" >-0.442510</td>\n",
       "      <td id=\"T_8ce07_row0_col3\" class=\"data row0 col3\" >-0.012304</td>\n",
       "      <td id=\"T_8ce07_row0_col4\" class=\"data row0 col4\" >0.031389</td>\n",
       "    </tr>\n",
       "    <tr>\n",
       "      <th id=\"T_8ce07_level0_row1\" class=\"row_heading level0 row1\" >power</th>\n",
       "      <td id=\"T_8ce07_row1_col0\" class=\"data row1 col0\" >0.145709</td>\n",
       "      <td id=\"T_8ce07_row1_col1\" class=\"data row1 col1\" >1.000000</td>\n",
       "      <td id=\"T_8ce07_row1_col2\" class=\"data row1 col2\" >0.114053</td>\n",
       "      <td id=\"T_8ce07_row1_col3\" class=\"data row1 col3\" >0.021832</td>\n",
       "      <td id=\"T_8ce07_row1_col4\" class=\"data row1 col4\" >0.047351</td>\n",
       "    </tr>\n",
       "    <tr>\n",
       "      <th id=\"T_8ce07_level0_row2\" class=\"row_heading level0 row2\" >kilometer</th>\n",
       "      <td id=\"T_8ce07_row2_col0\" class=\"data row2 col0\" >-0.442510</td>\n",
       "      <td id=\"T_8ce07_row2_col1\" class=\"data row2 col1\" >0.114053</td>\n",
       "      <td id=\"T_8ce07_row2_col2\" class=\"data row2 col2\" >1.000000</td>\n",
       "      <td id=\"T_8ce07_row2_col3\" class=\"data row2 col3\" >0.003214</td>\n",
       "      <td id=\"T_8ce07_row2_col4\" class=\"data row2 col4\" >-0.010698</td>\n",
       "    </tr>\n",
       "    <tr>\n",
       "      <th id=\"T_8ce07_level0_row3\" class=\"row_heading level0 row3\" >registration_month</th>\n",
       "      <td id=\"T_8ce07_row3_col0\" class=\"data row3 col0\" >-0.012304</td>\n",
       "      <td id=\"T_8ce07_row3_col1\" class=\"data row3 col1\" >0.021832</td>\n",
       "      <td id=\"T_8ce07_row3_col2\" class=\"data row3 col2\" >0.003214</td>\n",
       "      <td id=\"T_8ce07_row3_col3\" class=\"data row3 col3\" >1.000000</td>\n",
       "      <td id=\"T_8ce07_row3_col4\" class=\"data row3 col4\" >-0.009910</td>\n",
       "    </tr>\n",
       "    <tr>\n",
       "      <th id=\"T_8ce07_level0_row4\" class=\"row_heading level0 row4\" >postal_code</th>\n",
       "      <td id=\"T_8ce07_row4_col0\" class=\"data row4 col0\" >0.031389</td>\n",
       "      <td id=\"T_8ce07_row4_col1\" class=\"data row4 col1\" >0.047351</td>\n",
       "      <td id=\"T_8ce07_row4_col2\" class=\"data row4 col2\" >-0.010698</td>\n",
       "      <td id=\"T_8ce07_row4_col3\" class=\"data row4 col3\" >-0.009910</td>\n",
       "      <td id=\"T_8ce07_row4_col4\" class=\"data row4 col4\" >1.000000</td>\n",
       "    </tr>\n",
       "  </tbody>\n",
       "</table>\n"
      ],
      "text/plain": [
       "<pandas.io.formats.style.Styler at 0x20bdcb66bb0>"
      ]
     },
     "execution_count": 14,
     "metadata": {},
     "output_type": "execute_result"
    }
   ],
   "source": [
    "corr_matrix = df.drop(['price'], axis=1).corr()\n",
    "corr_matrix.style.background_gradient(cmap='coolwarm')"
   ]
  },
  {
   "cell_type": "markdown",
   "metadata": {},
   "source": [
    "### Подготовка выборок (кодирование категориальных признаков, разделение данных на выборки)"
   ]
  },
  {
   "cell_type": "markdown",
   "metadata": {},
   "source": [
    "Для ML-моделей, которые поддерживают работу с категориальными признаками напрямую, изменим тип данных столбцов с категориальными признаками с object на category:"
   ]
  },
  {
   "cell_type": "code",
   "execution_count": 15,
   "metadata": {},
   "outputs": [],
   "source": [
    "cat_columns = ['vehicle_type', 'gearbox', 'model', 'fuel_type', 'brand', 'not_repaired']\n",
    "for colname in cat_columns:\n",
    "    df[colname] = df[colname].astype('category')"
   ]
  },
  {
   "cell_type": "code",
   "execution_count": 16,
   "metadata": {
    "scrolled": true
   },
   "outputs": [
    {
     "name": "stdout",
     "output_type": "stream",
     "text": [
      "<class 'pandas.core.frame.DataFrame'>\n",
      "RangeIndex: 236542 entries, 0 to 236541\n",
      "Data columns (total 12 columns):\n",
      " #   Column              Non-Null Count   Dtype   \n",
      "---  ------              --------------   -----   \n",
      " 0   price               236542 non-null  int64   \n",
      " 1   vehicle_type        236542 non-null  category\n",
      " 2   registration_year   236542 non-null  int64   \n",
      " 3   gearbox             236542 non-null  category\n",
      " 4   power               236542 non-null  float64 \n",
      " 5   model               236542 non-null  category\n",
      " 6   kilometer           236542 non-null  int64   \n",
      " 7   registration_month  236542 non-null  int64   \n",
      " 8   fuel_type           236542 non-null  category\n",
      " 9   brand               236542 non-null  category\n",
      " 10  not_repaired        236542 non-null  category\n",
      " 11  postal_code         236542 non-null  int64   \n",
      "dtypes: category(6), float64(1), int64(5)\n",
      "memory usage: 12.4 MB\n"
     ]
    },
    {
     "data": {
      "text/html": [
       "<div>\n",
       "<style scoped>\n",
       "    .dataframe tbody tr th:only-of-type {\n",
       "        vertical-align: middle;\n",
       "    }\n",
       "\n",
       "    .dataframe tbody tr th {\n",
       "        vertical-align: top;\n",
       "    }\n",
       "\n",
       "    .dataframe thead th {\n",
       "        text-align: right;\n",
       "    }\n",
       "</style>\n",
       "<table border=\"1\" class=\"dataframe\">\n",
       "  <thead>\n",
       "    <tr style=\"text-align: right;\">\n",
       "      <th></th>\n",
       "      <th>price</th>\n",
       "      <th>vehicle_type</th>\n",
       "      <th>registration_year</th>\n",
       "      <th>gearbox</th>\n",
       "      <th>power</th>\n",
       "      <th>model</th>\n",
       "      <th>kilometer</th>\n",
       "      <th>registration_month</th>\n",
       "      <th>fuel_type</th>\n",
       "      <th>brand</th>\n",
       "      <th>not_repaired</th>\n",
       "      <th>postal_code</th>\n",
       "    </tr>\n",
       "  </thead>\n",
       "  <tbody>\n",
       "    <tr>\n",
       "      <th>0</th>\n",
       "      <td>9800</td>\n",
       "      <td>suv</td>\n",
       "      <td>2004</td>\n",
       "      <td>auto</td>\n",
       "      <td>163.0</td>\n",
       "      <td>grand</td>\n",
       "      <td>125000</td>\n",
       "      <td>8</td>\n",
       "      <td>gasoline</td>\n",
       "      <td>jeep</td>\n",
       "      <td>yes</td>\n",
       "      <td>90480</td>\n",
       "    </tr>\n",
       "    <tr>\n",
       "      <th>1</th>\n",
       "      <td>1500</td>\n",
       "      <td>small</td>\n",
       "      <td>2001</td>\n",
       "      <td>manual</td>\n",
       "      <td>75.0</td>\n",
       "      <td>golf</td>\n",
       "      <td>150000</td>\n",
       "      <td>6</td>\n",
       "      <td>petrol</td>\n",
       "      <td>volkswagen</td>\n",
       "      <td>no</td>\n",
       "      <td>91074</td>\n",
       "    </tr>\n",
       "    <tr>\n",
       "      <th>2</th>\n",
       "      <td>3600</td>\n",
       "      <td>small</td>\n",
       "      <td>2008</td>\n",
       "      <td>manual</td>\n",
       "      <td>69.0</td>\n",
       "      <td>fabia</td>\n",
       "      <td>90000</td>\n",
       "      <td>7</td>\n",
       "      <td>gasoline</td>\n",
       "      <td>skoda</td>\n",
       "      <td>no</td>\n",
       "      <td>60437</td>\n",
       "    </tr>\n",
       "    <tr>\n",
       "      <th>3</th>\n",
       "      <td>650</td>\n",
       "      <td>sedan</td>\n",
       "      <td>1995</td>\n",
       "      <td>manual</td>\n",
       "      <td>102.0</td>\n",
       "      <td>3er</td>\n",
       "      <td>150000</td>\n",
       "      <td>10</td>\n",
       "      <td>petrol</td>\n",
       "      <td>bmw</td>\n",
       "      <td>yes</td>\n",
       "      <td>33775</td>\n",
       "    </tr>\n",
       "    <tr>\n",
       "      <th>4</th>\n",
       "      <td>2200</td>\n",
       "      <td>convertible</td>\n",
       "      <td>2004</td>\n",
       "      <td>manual</td>\n",
       "      <td>109.0</td>\n",
       "      <td>2_reihe</td>\n",
       "      <td>150000</td>\n",
       "      <td>8</td>\n",
       "      <td>petrol</td>\n",
       "      <td>peugeot</td>\n",
       "      <td>no</td>\n",
       "      <td>67112</td>\n",
       "    </tr>\n",
       "  </tbody>\n",
       "</table>\n",
       "</div>"
      ],
      "text/plain": [
       "   price vehicle_type  registration_year gearbox  power    model  kilometer  \\\n",
       "0   9800          suv               2004    auto  163.0    grand     125000   \n",
       "1   1500        small               2001  manual   75.0     golf     150000   \n",
       "2   3600        small               2008  manual   69.0    fabia      90000   \n",
       "3    650        sedan               1995  manual  102.0      3er     150000   \n",
       "4   2200  convertible               2004  manual  109.0  2_reihe     150000   \n",
       "\n",
       "   registration_month fuel_type       brand not_repaired  postal_code  \n",
       "0                   8  gasoline        jeep          yes        90480  \n",
       "1                   6    petrol  volkswagen           no        91074  \n",
       "2                   7  gasoline       skoda           no        60437  \n",
       "3                  10    petrol         bmw          yes        33775  \n",
       "4                   8    petrol     peugeot           no        67112  "
      ]
     },
     "execution_count": 16,
     "metadata": {},
     "output_type": "execute_result"
    }
   ],
   "source": [
    "df.info()\n",
    "df.head()"
   ]
  },
  {
   "cell_type": "markdown",
   "metadata": {},
   "source": [
    "Для ML-моделей, которые не поддерживают работу с категориальными признаками напрямую, произведем преобразование столбцов с категориальными признаками методом прямого кодирования (OHE):"
   ]
  },
  {
   "cell_type": "code",
   "execution_count": 17,
   "metadata": {},
   "outputs": [],
   "source": [
    "df_ohe = pd.get_dummies(df, columns=cat_columns, drop_first=True)"
   ]
  },
  {
   "cell_type": "code",
   "execution_count": 18,
   "metadata": {},
   "outputs": [
    {
     "name": "stdout",
     "output_type": "stream",
     "text": [
      "<class 'pandas.core.frame.DataFrame'>\n",
      "RangeIndex: 236542 entries, 0 to 236541\n",
      "Data columns (total 304 columns):\n",
      " #    Column                    Non-Null Count   Dtype  \n",
      "---   ------                    --------------   -----  \n",
      " 0    price                     236542 non-null  int64  \n",
      " 1    registration_year         236542 non-null  int64  \n",
      " 2    power                     236542 non-null  float64\n",
      " 3    kilometer                 236542 non-null  int64  \n",
      " 4    registration_month        236542 non-null  int64  \n",
      " 5    postal_code               236542 non-null  int64  \n",
      " 6    vehicle_type_convertible  236542 non-null  uint8  \n",
      " 7    vehicle_type_coupe        236542 non-null  uint8  \n",
      " 8    vehicle_type_sedan        236542 non-null  uint8  \n",
      " 9    vehicle_type_small        236542 non-null  uint8  \n",
      " 10   vehicle_type_suv          236542 non-null  uint8  \n",
      " 11   vehicle_type_wagon        236542 non-null  uint8  \n",
      " 12   gearbox_manual            236542 non-null  uint8  \n",
      " 13   model_145                 236542 non-null  uint8  \n",
      " 14   model_147                 236542 non-null  uint8  \n",
      " 15   model_156                 236542 non-null  uint8  \n",
      " 16   model_159                 236542 non-null  uint8  \n",
      " 17   model_1_reihe             236542 non-null  uint8  \n",
      " 18   model_1er                 236542 non-null  uint8  \n",
      " 19   model_200                 236542 non-null  uint8  \n",
      " 20   model_2_reihe             236542 non-null  uint8  \n",
      " 21   model_300c                236542 non-null  uint8  \n",
      " 22   model_3_reihe             236542 non-null  uint8  \n",
      " 23   model_3er                 236542 non-null  uint8  \n",
      " 24   model_4_reihe             236542 non-null  uint8  \n",
      " 25   model_500                 236542 non-null  uint8  \n",
      " 26   model_5_reihe             236542 non-null  uint8  \n",
      " 27   model_5er                 236542 non-null  uint8  \n",
      " 28   model_601                 236542 non-null  uint8  \n",
      " 29   model_6_reihe             236542 non-null  uint8  \n",
      " 30   model_6er                 236542 non-null  uint8  \n",
      " 31   model_7er                 236542 non-null  uint8  \n",
      " 32   model_80                  236542 non-null  uint8  \n",
      " 33   model_850                 236542 non-null  uint8  \n",
      " 34   model_90                  236542 non-null  uint8  \n",
      " 35   model_900                 236542 non-null  uint8  \n",
      " 36   model_9000                236542 non-null  uint8  \n",
      " 37   model_911                 236542 non-null  uint8  \n",
      " 38   model_a1                  236542 non-null  uint8  \n",
      " 39   model_a2                  236542 non-null  uint8  \n",
      " 40   model_a3                  236542 non-null  uint8  \n",
      " 41   model_a4                  236542 non-null  uint8  \n",
      " 42   model_a5                  236542 non-null  uint8  \n",
      " 43   model_a6                  236542 non-null  uint8  \n",
      " 44   model_a8                  236542 non-null  uint8  \n",
      " 45   model_a_klasse            236542 non-null  uint8  \n",
      " 46   model_accord              236542 non-null  uint8  \n",
      " 47   model_agila               236542 non-null  uint8  \n",
      " 48   model_alhambra            236542 non-null  uint8  \n",
      " 49   model_almera              236542 non-null  uint8  \n",
      " 50   model_altea               236542 non-null  uint8  \n",
      " 51   model_amarok              236542 non-null  uint8  \n",
      " 52   model_antara              236542 non-null  uint8  \n",
      " 53   model_arosa               236542 non-null  uint8  \n",
      " 54   model_astra               236542 non-null  uint8  \n",
      " 55   model_auris               236542 non-null  uint8  \n",
      " 56   model_avensis             236542 non-null  uint8  \n",
      " 57   model_aveo                236542 non-null  uint8  \n",
      " 58   model_aygo                236542 non-null  uint8  \n",
      " 59   model_b_klasse            236542 non-null  uint8  \n",
      " 60   model_b_max               236542 non-null  uint8  \n",
      " 61   model_beetle              236542 non-null  uint8  \n",
      " 62   model_berlingo            236542 non-null  uint8  \n",
      " 63   model_bora                236542 non-null  uint8  \n",
      " 64   model_boxster             236542 non-null  uint8  \n",
      " 65   model_bravo               236542 non-null  uint8  \n",
      " 66   model_c1                  236542 non-null  uint8  \n",
      " 67   model_c2                  236542 non-null  uint8  \n",
      " 68   model_c3                  236542 non-null  uint8  \n",
      " 69   model_c4                  236542 non-null  uint8  \n",
      " 70   model_c5                  236542 non-null  uint8  \n",
      " 71   model_c_klasse            236542 non-null  uint8  \n",
      " 72   model_c_max               236542 non-null  uint8  \n",
      " 73   model_c_reihe             236542 non-null  uint8  \n",
      " 74   model_caddy               236542 non-null  uint8  \n",
      " 75   model_calibra             236542 non-null  uint8  \n",
      " 76   model_captiva             236542 non-null  uint8  \n",
      " 77   model_carisma             236542 non-null  uint8  \n",
      " 78   model_carnival            236542 non-null  uint8  \n",
      " 79   model_cayenne             236542 non-null  uint8  \n",
      " 80   model_cc                  236542 non-null  uint8  \n",
      " 81   model_ceed                236542 non-null  uint8  \n",
      " 82   model_charade             236542 non-null  uint8  \n",
      " 83   model_cherokee            236542 non-null  uint8  \n",
      " 84   model_citigo              236542 non-null  uint8  \n",
      " 85   model_civic               236542 non-null  uint8  \n",
      " 86   model_cl                  236542 non-null  uint8  \n",
      " 87   model_clio                236542 non-null  uint8  \n",
      " 88   model_clk                 236542 non-null  uint8  \n",
      " 89   model_clubman             236542 non-null  uint8  \n",
      " 90   model_colt                236542 non-null  uint8  \n",
      " 91   model_combo               236542 non-null  uint8  \n",
      " 92   model_cooper              236542 non-null  uint8  \n",
      " 93   model_cordoba             236542 non-null  uint8  \n",
      " 94   model_corolla             236542 non-null  uint8  \n",
      " 95   model_corsa               236542 non-null  uint8  \n",
      " 96   model_cr_reihe            236542 non-null  uint8  \n",
      " 97   model_croma               236542 non-null  uint8  \n",
      " 98   model_crossfire           236542 non-null  uint8  \n",
      " 99   model_cuore               236542 non-null  uint8  \n",
      " 100  model_cx_reihe            236542 non-null  uint8  \n",
      " 101  model_defender            236542 non-null  uint8  \n",
      " 102  model_delta               236542 non-null  uint8  \n",
      " 103  model_discovery           236542 non-null  uint8  \n",
      " 104  model_doblo               236542 non-null  uint8  \n",
      " 105  model_ducato              236542 non-null  uint8  \n",
      " 106  model_duster              236542 non-null  uint8  \n",
      " 107  model_e_klasse            236542 non-null  uint8  \n",
      " 108  model_elefantino          236542 non-null  uint8  \n",
      " 109  model_eos                 236542 non-null  uint8  \n",
      " 110  model_escort              236542 non-null  uint8  \n",
      " 111  model_espace              236542 non-null  uint8  \n",
      " 112  model_exeo                236542 non-null  uint8  \n",
      " 113  model_fabia               236542 non-null  uint8  \n",
      " 114  model_fiesta              236542 non-null  uint8  \n",
      " 115  model_focus               236542 non-null  uint8  \n",
      " 116  model_forester            236542 non-null  uint8  \n",
      " 117  model_forfour             236542 non-null  uint8  \n",
      " 118  model_fortwo              236542 non-null  uint8  \n",
      " 119  model_fox                 236542 non-null  uint8  \n",
      " 120  model_freelander          236542 non-null  uint8  \n",
      " 121  model_fusion              236542 non-null  uint8  \n",
      " 122  model_g_klasse            236542 non-null  uint8  \n",
      " 123  model_galant              236542 non-null  uint8  \n",
      " 124  model_galaxy              236542 non-null  uint8  \n",
      " 125  model_getz                236542 non-null  uint8  \n",
      " 126  model_gl                  236542 non-null  uint8  \n",
      " 127  model_glk                 236542 non-null  uint8  \n",
      " 128  model_golf                236542 non-null  uint8  \n",
      " 129  model_grand               236542 non-null  uint8  \n",
      " 130  model_i3                  236542 non-null  uint8  \n",
      " 131  model_i_reihe             236542 non-null  uint8  \n",
      " 132  model_ibiza               236542 non-null  uint8  \n",
      " 133  model_impreza             236542 non-null  uint8  \n",
      " 134  model_insignia            236542 non-null  uint8  \n",
      " 135  model_jazz                236542 non-null  uint8  \n",
      " 136  model_jetta               236542 non-null  uint8  \n",
      " 137  model_jimny               236542 non-null  uint8  \n",
      " 138  model_juke                236542 non-null  uint8  \n",
      " 139  model_justy               236542 non-null  uint8  \n",
      " 140  model_ka                  236542 non-null  uint8  \n",
      " 141  model_kadett              236542 non-null  uint8  \n",
      " 142  model_kaefer              236542 non-null  uint8  \n",
      " 143  model_kalina              236542 non-null  uint8  \n",
      " 144  model_kalos               236542 non-null  uint8  \n",
      " 145  model_kangoo              236542 non-null  uint8  \n",
      " 146  model_kappa               236542 non-null  uint8  \n",
      " 147  model_kuga                236542 non-null  uint8  \n",
      " 148  model_laguna              236542 non-null  uint8  \n",
      " 149  model_lancer              236542 non-null  uint8  \n",
      " 150  model_lanos               236542 non-null  uint8  \n",
      " 151  model_legacy              236542 non-null  uint8  \n",
      " 152  model_leon                236542 non-null  uint8  \n",
      " 153  model_lodgy               236542 non-null  uint8  \n",
      " 154  model_logan               236542 non-null  uint8  \n",
      " 155  model_lupo                236542 non-null  uint8  \n",
      " 156  model_lybra               236542 non-null  uint8  \n",
      " 157  model_m_klasse            236542 non-null  uint8  \n",
      " 158  model_m_reihe             236542 non-null  uint8  \n",
      " 159  model_materia             236542 non-null  uint8  \n",
      " 160  model_matiz               236542 non-null  uint8  \n",
      " 161  model_megane              236542 non-null  uint8  \n",
      " 162  model_meriva              236542 non-null  uint8  \n",
      " 163  model_micra               236542 non-null  uint8  \n",
      " 164  model_mii                 236542 non-null  uint8  \n",
      " 165  model_modus               236542 non-null  uint8  \n",
      " 166  model_mondeo              236542 non-null  uint8  \n",
      " 167  model_move                236542 non-null  uint8  \n",
      " 168  model_musa                236542 non-null  uint8  \n",
      " 169  model_mustang             236542 non-null  uint8  \n",
      " 170  model_mx_reihe            236542 non-null  uint8  \n",
      " 171  model_navara              236542 non-null  uint8  \n",
      " 172  model_niva                236542 non-null  uint8  \n",
      " 173  model_note                236542 non-null  uint8  \n",
      " 174  model_nubira              236542 non-null  uint8  \n",
      " 175  model_octavia             236542 non-null  uint8  \n",
      " 176  model_omega               236542 non-null  uint8  \n",
      " 177  model_one                 236542 non-null  uint8  \n",
      " 178  model_outlander           236542 non-null  uint8  \n",
      " 179  model_pajero              236542 non-null  uint8  \n",
      " 180  model_panda               236542 non-null  uint8  \n",
      " 181  model_passat              236542 non-null  uint8  \n",
      " 182  model_phaeton             236542 non-null  uint8  \n",
      " 183  model_picanto             236542 non-null  uint8  \n",
      " 184  model_polo                236542 non-null  uint8  \n",
      " 185  model_primera             236542 non-null  uint8  \n",
      " 186  model_ptcruiser           236542 non-null  uint8  \n",
      " 187  model_punto               236542 non-null  uint8  \n",
      " 188  model_q3                  236542 non-null  uint8  \n",
      " 189  model_q5                  236542 non-null  uint8  \n",
      " 190  model_q7                  236542 non-null  uint8  \n",
      " 191  model_qashqai             236542 non-null  uint8  \n",
      " 192  model_r19                 236542 non-null  uint8  \n",
      " 193  model_range_rover         236542 non-null  uint8  \n",
      " 194  model_range_rover_evoque  236542 non-null  uint8  \n",
      " 195  model_range_rover_sport   236542 non-null  uint8  \n",
      " 196  model_rangerover          236542 non-null  uint8  \n",
      " 197  model_rav                 236542 non-null  uint8  \n",
      " 198  model_rio                 236542 non-null  uint8  \n",
      " 199  model_roadster            236542 non-null  uint8  \n",
      " 200  model_roomster            236542 non-null  uint8  \n",
      " 201  model_rx_reihe            236542 non-null  uint8  \n",
      " 202  model_s60                 236542 non-null  uint8  \n",
      " 203  model_s_klasse            236542 non-null  uint8  \n",
      " 204  model_s_max               236542 non-null  uint8  \n",
      " 205  model_s_type              236542 non-null  uint8  \n",
      " 206  model_samara              236542 non-null  uint8  \n",
      " 207  model_sandero             236542 non-null  uint8  \n",
      " 208  model_santa               236542 non-null  uint8  \n",
      " 209  model_scenic              236542 non-null  uint8  \n",
      " 210  model_scirocco            236542 non-null  uint8  \n",
      " 211  model_seicento            236542 non-null  uint8  \n",
      " 212  model_serie_3             236542 non-null  uint8  \n",
      " 213  model_sharan              236542 non-null  uint8  \n",
      " 214  model_signum              236542 non-null  uint8  \n",
      " 215  model_sirion              236542 non-null  uint8  \n",
      " 216  model_sl                  236542 non-null  uint8  \n",
      " 217  model_slk                 236542 non-null  uint8  \n",
      " 218  model_sorento             236542 non-null  uint8  \n",
      " 219  model_spark               236542 non-null  uint8  \n",
      " 220  model_spider              236542 non-null  uint8  \n",
      " 221  model_sportage            236542 non-null  uint8  \n",
      " 222  model_sprinter            236542 non-null  uint8  \n",
      " 223  model_stilo               236542 non-null  uint8  \n",
      " 224  model_superb              236542 non-null  uint8  \n",
      " 225  model_swift               236542 non-null  uint8  \n",
      " 226  model_terios              236542 non-null  uint8  \n",
      " 227  model_tigra               236542 non-null  uint8  \n",
      " 228  model_tiguan              236542 non-null  uint8  \n",
      " 229  model_toledo              236542 non-null  uint8  \n",
      " 230  model_touareg             236542 non-null  uint8  \n",
      " 231  model_touran              236542 non-null  uint8  \n",
      " 232  model_transit             236542 non-null  uint8  \n",
      " 233  model_transporter         236542 non-null  uint8  \n",
      " 234  model_tt                  236542 non-null  uint8  \n",
      " 235  model_tucson              236542 non-null  uint8  \n",
      " 236  model_twingo              236542 non-null  uint8  \n",
      " 237  model_up                  236542 non-null  uint8  \n",
      " 238  model_v40                 236542 non-null  uint8  \n",
      " 239  model_v50                 236542 non-null  uint8  \n",
      " 240  model_v60                 236542 non-null  uint8  \n",
      " 241  model_v70                 236542 non-null  uint8  \n",
      " 242  model_v_klasse            236542 non-null  uint8  \n",
      " 243  model_vectra              236542 non-null  uint8  \n",
      " 244  model_verso               236542 non-null  uint8  \n",
      " 245  model_viano               236542 non-null  uint8  \n",
      " 246  model_vito                236542 non-null  uint8  \n",
      " 247  model_vivaro              236542 non-null  uint8  \n",
      " 248  model_voyager             236542 non-null  uint8  \n",
      " 249  model_wrangler            236542 non-null  uint8  \n",
      " 250  model_x_reihe             236542 non-null  uint8  \n",
      " 251  model_x_trail             236542 non-null  uint8  \n",
      " 252  model_x_type              236542 non-null  uint8  \n",
      " 253  model_xc_reihe            236542 non-null  uint8  \n",
      " 254  model_yaris               236542 non-null  uint8  \n",
      " 255  model_yeti                236542 non-null  uint8  \n",
      " 256  model_ypsilon             236542 non-null  uint8  \n",
      " 257  model_z_reihe             236542 non-null  uint8  \n",
      " 258  model_zafira              236542 non-null  uint8  \n",
      " 259  fuel_type_electric        236542 non-null  uint8  \n",
      " 260  fuel_type_gasoline        236542 non-null  uint8  \n",
      " 261  fuel_type_hybrid          236542 non-null  uint8  \n",
      " 262  fuel_type_lpg             236542 non-null  uint8  \n",
      " 263  fuel_type_other           236542 non-null  uint8  \n",
      " 264  fuel_type_petrol          236542 non-null  uint8  \n",
      " 265  brand_audi                236542 non-null  uint8  \n",
      " 266  brand_bmw                 236542 non-null  uint8  \n",
      " 267  brand_chevrolet           236542 non-null  uint8  \n",
      " 268  brand_chrysler            236542 non-null  uint8  \n",
      " 269  brand_citroen             236542 non-null  uint8  \n",
      " 270  brand_dacia               236542 non-null  uint8  \n",
      " 271  brand_daewoo              236542 non-null  uint8  \n",
      " 272  brand_daihatsu            236542 non-null  uint8  \n",
      " 273  brand_fiat                236542 non-null  uint8  \n",
      " 274  brand_ford                236542 non-null  uint8  \n",
      " 275  brand_honda               236542 non-null  uint8  \n",
      " 276  brand_hyundai             236542 non-null  uint8  \n",
      " 277  brand_jaguar              236542 non-null  uint8  \n",
      " 278  brand_jeep                236542 non-null  uint8  \n",
      " 279  brand_kia                 236542 non-null  uint8  \n",
      " 280  brand_lada                236542 non-null  uint8  \n",
      " 281  brand_lancia              236542 non-null  uint8  \n",
      " 282  brand_land_rover          236542 non-null  uint8  \n",
      " 283  brand_mazda               236542 non-null  uint8  \n",
      " 284  brand_mercedes_benz       236542 non-null  uint8  \n",
      " 285  brand_mini                236542 non-null  uint8  \n",
      " 286  brand_mitsubishi          236542 non-null  uint8  \n",
      " 287  brand_nissan              236542 non-null  uint8  \n",
      " 288  brand_opel                236542 non-null  uint8  \n",
      " 289  brand_peugeot             236542 non-null  uint8  \n",
      " 290  brand_porsche             236542 non-null  uint8  \n",
      " 291  brand_renault             236542 non-null  uint8  \n",
      " 292  brand_rover               236542 non-null  uint8  \n",
      " 293  brand_saab                236542 non-null  uint8  \n",
      " 294  brand_seat                236542 non-null  uint8  \n",
      " 295  brand_skoda               236542 non-null  uint8  \n",
      " 296  brand_smart               236542 non-null  uint8  \n",
      " 297  brand_subaru              236542 non-null  uint8  \n",
      " 298  brand_suzuki              236542 non-null  uint8  \n",
      " 299  brand_toyota              236542 non-null  uint8  \n",
      " 300  brand_trabant             236542 non-null  uint8  \n",
      " 301  brand_volkswagen          236542 non-null  uint8  \n",
      " 302  brand_volvo               236542 non-null  uint8  \n",
      " 303  not_repaired_yes          236542 non-null  uint8  \n",
      "dtypes: float64(1), int64(5), uint8(298)\n",
      "memory usage: 78.1 MB\n"
     ]
    }
   ],
   "source": [
    "pd.set_option('display.max_info_columns', 310)\n",
    "df_ohe.info()"
   ]
  },
  {
   "cell_type": "markdown",
   "metadata": {},
   "source": [
    "Создадим функцию для разделения данных на обучающую (75%) и валидационную (25%) выборки:"
   ]
  },
  {
   "cell_type": "code",
   "execution_count": 19,
   "metadata": {},
   "outputs": [],
   "source": [
    "def f_data_split_train_valid(f_df: pd.DataFrame, f_target_colname: str):\n",
    "    #функция для разделения исходных данных на обучающую (75%) и валидационную (25%) выборки\n",
    "    \n",
    "    #Разобъем исходную таблицу на две: целевой признак и остальные признаки\n",
    "    f_df_features = f_df.drop([f_target_colname], axis=1)\n",
    "    f_df_target = f_df[f_target_colname]\n",
    "    #Выделим обучающую (75%) и валидационную (25%) выборки из общего набора данных\n",
    "    f_features_train, f_features_valid, f_target_train, f_target_valid = train_test_split(\n",
    "        f_df_features, f_df_target, test_size=0.25, random_state=12345)\n",
    "    f_features_train = f_features_train.reset_index(drop=True)\n",
    "    f_features_valid = f_features_valid.reset_index(drop=True)\n",
    "    f_target_train = f_target_train.reset_index(drop=True)\n",
    "    f_target_valid = f_target_valid.reset_index(drop=True)\n",
    "    \n",
    "    return f_features_train, f_features_valid, f_target_train, f_target_valid"
   ]
  },
  {
   "cell_type": "markdown",
   "metadata": {},
   "source": [
    "Создадим обучающую и валидационную выборки для ML-моделей, которые умеют работать с категориальными признаками напрямую:"
   ]
  },
  {
   "cell_type": "code",
   "execution_count": 20,
   "metadata": {},
   "outputs": [
    {
     "name": "stdout",
     "output_type": "stream",
     "text": [
      "(177406, 11)\n",
      "(59136, 11)\n",
      "(177406,)\n",
      "(59136,)\n"
     ]
    }
   ],
   "source": [
    "cat_features_train, cat_features_valid, cat_target_train, cat_target_valid = f_data_split_train_valid(df, 'price')\n",
    "print(cat_features_train.shape)\n",
    "print(cat_features_valid.shape)\n",
    "print(cat_target_train.shape)\n",
    "print(cat_target_valid.shape)"
   ]
  },
  {
   "cell_type": "markdown",
   "metadata": {},
   "source": [
    "Создадим обучающую и валидационную выборки для ML-моделей, которые не умеют работать с категориальными признаками напрямую (после преобразования данных методом OHE):"
   ]
  },
  {
   "cell_type": "code",
   "execution_count": 21,
   "metadata": {},
   "outputs": [
    {
     "name": "stdout",
     "output_type": "stream",
     "text": [
      "(177406, 303)\n",
      "(59136, 303)\n",
      "(177406,)\n",
      "(59136,)\n"
     ]
    }
   ],
   "source": [
    "ohe_features_train, ohe_features_valid, ohe_target_train, ohe_target_valid = f_data_split_train_valid(df_ohe, 'price')\n",
    "print(ohe_features_train.shape)\n",
    "print(ohe_features_valid.shape)\n",
    "print(ohe_target_train.shape)\n",
    "print(ohe_target_valid.shape)"
   ]
  },
  {
   "cell_type": "markdown",
   "metadata": {},
   "source": [
    "**Вывод:**"
   ]
  },
  {
   "cell_type": "markdown",
   "metadata": {},
   "source": [
    "Для проведения исследования представлен 1 csv-файл 'autos.csv', который содержит таблицу с данными.\n",
    "В каждой строке таблицы - данные о технических характеристиках, комплектации и цене одного автомобиля.\n",
    "\n",
    "***По результатам анализа и обработки данных можно сделать следующие выводы:***\n",
    "1. Наименования столбцов не соответствовали змеиному регистру (стандарт PEP), поэтому привели наименования столбцов к змеиному регистру.\n",
    "2. Часть столбцов таблицы содержали некорректные данные (например, мощность автомобиля не может быть 0 л.с.), поэтому произвели обработку данных, по результатам которой можно сказать, что данные либо заполнены корректными значениями, либо очищены для удаления из таблицы.\n",
    "3. Часть столбцов таблицы содержали пропуски в данных, которые были обработаны - либо заполнены значениями, либо строки с пропусками в данных были удалены из таблицы.\n",
    "4. По результатам анализа данных на мультиколлинеарность можно сделать вывод, что сильная взаимосвязь между столбцами-признаками отсутствует.\n",
    "5. Для ML-моделей, которые поддерживают работу с категориальными признаками напрямую, изменили тип данных столбцов с категориальными признаками с object на category. А для ML-моделей, которые не поддерживают работу с категориальными признаками напрямую, произвели преобразование столбцов с категориальными признаками методом прямого кодирования (OHE).\n",
    "6. Создали две группы обучающих и валидационных выборок для ML-моделей, которые умеют работать с категориальными признаками напрямую и не умеют."
   ]
  },
  {
   "cell_type": "markdown",
   "metadata": {},
   "source": [
    "## Обучение моделей"
   ]
  },
  {
   "cell_type": "markdown",
   "metadata": {},
   "source": [
    "Отключаем не критичные предупреждения:"
   ]
  },
  {
   "cell_type": "code",
   "execution_count": 22,
   "metadata": {},
   "outputs": [],
   "source": [
    "warnings.filterwarnings('ignore')"
   ]
  },
  {
   "cell_type": "markdown",
   "metadata": {},
   "source": [
    "Создадим функцию для обучения и вычисления значения метрики RMSE с учетом гиперпараметров для 4-х ML-моделей («дерево решений», «линейная регрессия», «градиентный бустинг» библиотек LightGBM и CatBoost) и с применением кросс-валидации: "
   ]
  },
  {
   "cell_type": "code",
   "execution_count": 23,
   "metadata": {},
   "outputs": [],
   "source": [
    "def f_4ML_models_rmse_cv(f_features_train: pd.DataFrame, f_target_train: pd.Series,\n",
    "                         f_modelname: str, f_max_depth=None, f_max_estimators=100, cat_features=None, f_learning_rate=1):\n",
    "    #функция для обучения одной из 4-х моделей, расчета метрики RMSE и оценки качества модели кросс-валидацией\n",
    "\n",
    "    #список значений rmse\n",
    "    f_rmse = []\n",
    "    #определим размер валидационной выборки = 25%\n",
    "    sample_size = mt.ceil(len(f_features_train)/4)\n",
    "    for i in range(0, len(f_features_train), sample_size):\n",
    "        #определим индексы для валидационной и обучающей выборок\n",
    "        valid_indexes = list(f_features_train.iloc[i : i + sample_size].index)\n",
    "        train_indexes = list(f_features_train.iloc[0 : i].index) + list(\n",
    "            f_features_train.iloc[i + sample_size : len(f_features_train)].index)\n",
    "        #разобьем признаки и целевой признак на выборки\n",
    "        f_features_train_cv = f_features_train.iloc[train_indexes].reset_index(drop=True)\n",
    "        f_target_train_cv = f_target_train.iloc[train_indexes].reset_index(drop=True)\n",
    "        f_features_valid_cv = f_features_train.iloc[valid_indexes].reset_index(drop=True)\n",
    "        f_target_valid_cv = f_target_train.iloc[valid_indexes].reset_index(drop=True)\n",
    "        #определим одну из 4-х моделей\n",
    "        if f_modelname == 'DecisionTreeRegressor':\n",
    "            model = DecisionTreeRegressor(random_state=12345, max_depth=f_max_depth)\n",
    "        elif f_modelname == 'LGBMRegressor':\n",
    "            model = LGBMRegressor(random_state=12345,\n",
    "                                  max_depth=f_max_depth, n_estimators=f_max_estimators, learning_rate=f_learning_rate)\n",
    "        elif f_modelname == 'CatBoostRegressor':\n",
    "            model = CatBoostRegressor(random_state=12345, loss_function=\"RMSE\", \n",
    "                                      iterations=f_max_estimators, depth=f_max_depth, learning_rate=f_learning_rate,\n",
    "                                      verbose=False)\n",
    "        else:\n",
    "            model = LinearRegression()\n",
    "        #обучим модель, сделаем прогноз и рассчитаем метрику RMSE\n",
    "        if f_modelname == 'LGBMRegressor':\n",
    "            model.fit(f_features_train_cv, f_target_train_cv, categorical_feature=cat_features)\n",
    "        elif f_modelname == 'CatBoostRegressor':\n",
    "            model.fit(f_features_train_cv, f_target_train_cv, cat_features=cat_features, verbose=200)\n",
    "        else:\n",
    "            model.fit(f_features_train_cv, f_target_train_cv)\n",
    "        \n",
    "        f_rmse.append(mt.sqrt(mean_squared_error(f_target_valid_cv, model.predict(f_features_valid_cv))))\n",
    "\n",
    "    return np.mean(f_rmse)"
   ]
  },
  {
   "cell_type": "markdown",
   "metadata": {},
   "source": [
    "Для модели «дерево решений» определим значение гиперпараметра для вычисления лучшего значения метрики RMSE:"
   ]
  },
  {
   "cell_type": "code",
   "execution_count": 24,
   "metadata": {
    "scrolled": true
   },
   "outputs": [
    {
     "name": "stdout",
     "output_type": "stream",
     "text": [
      "гиперпараметр depth = 1 , значение RMSE = 3535.4495055454236\n",
      "гиперпараметр depth = 2 , значение RMSE = 3085.917617371068\n",
      "гиперпараметр depth = 3 , значение RMSE = 2703.0082894911147\n",
      "гиперпараметр depth = 4 , значение RMSE = 2454.5163295757498\n",
      "гиперпараметр depth = 5 , значение RMSE = 2286.060222104033\n",
      "гиперпараметр depth = 6 , значение RMSE = 2173.118687838585\n",
      "гиперпараметр depth = 7 , значение RMSE = 2075.68860633454\n",
      "гиперпараметр depth = 8 , значение RMSE = 1998.990861618454\n",
      "гиперпараметр depth = 9 , значение RMSE = 1938.1022153272193\n",
      "гиперпараметр depth = 10 , значение RMSE = 1889.984878748767\n",
      "гиперпараметр depth = 11 , значение RMSE = 1860.1610262386773\n",
      "гиперпараметр depth = 12 , значение RMSE = 1832.9997417170362\n",
      "гиперпараметр depth = 13 , значение RMSE = 1823.2087196747405\n",
      "гиперпараметр depth = 14 , значение RMSE = 1819.4636566586082\n",
      "гиперпараметр depth = 15 , значение RMSE = 1817.6501002551463\n",
      "гиперпараметр depth = 16 , значение RMSE = 1825.1868751997727\n",
      "гиперпараметр depth = 17 , значение RMSE = 1840.275369564803\n",
      "гиперпараметр depth = 18 , значение RMSE = 1851.6653066047534\n",
      "гиперпараметр depth = 19 , значение RMSE = 1865.7385827645285\n",
      "гиперпараметр depth = 20 , значение RMSE = 1876.2770829279984\n"
     ]
    }
   ],
   "source": [
    "for depth in range(1, 21, 1):\n",
    "    print('гиперпараметр depth =', depth, ', значение RMSE =',\n",
    "          f_4ML_models_rmse_cv(ohe_features_train, ohe_target_train, 'DecisionTreeRegressor', depth))"
   ]
  },
  {
   "cell_type": "markdown",
   "metadata": {},
   "source": [
    "Для модели «линейная регрессия» вычислим значение метрики RMSE:"
   ]
  },
  {
   "cell_type": "code",
   "execution_count": 25,
   "metadata": {},
   "outputs": [
    {
     "name": "stdout",
     "output_type": "stream",
     "text": [
      "значение RMSE = 2301.7583268011567\n"
     ]
    }
   ],
   "source": [
    "print('значение RMSE =',\n",
    "      f_4ML_models_rmse_cv(ohe_features_train, ohe_target_train, 'LinearRegression'))"
   ]
  },
  {
   "cell_type": "markdown",
   "metadata": {},
   "source": [
    "Для модели «градиентный бустинг» библиотеки LightGBM определим значения гиперпараметров для вычисления лучшего значения метрики RMSE:"
   ]
  },
  {
   "cell_type": "code",
   "execution_count": 26,
   "metadata": {},
   "outputs": [
    {
     "name": "stdout",
     "output_type": "stream",
     "text": [
      "гиперпараметры n_estimators = 2000 , max_depth = 1 , значение RMSE = 1899.5791262019802\n",
      "гиперпараметры n_estimators = 2000 , max_depth = 2 , значение RMSE = 1538.6600316897454\n",
      "гиперпараметры n_estimators = 2000 , max_depth = 3 , значение RMSE = 1561.2117078603433\n",
      "гиперпараметры n_estimators = 2000 , max_depth = 4 , значение RMSE = 1613.0339678946184\n",
      "гиперпараметры n_estimators = 3000 , max_depth = 1 , значение RMSE = 1897.8890259080633\n",
      "гиперпараметры n_estimators = 3000 , max_depth = 2 , значение RMSE = 1536.6304326580726\n",
      "гиперпараметры n_estimators = 3000 , max_depth = 3 , значение RMSE = 1569.1856513828802\n",
      "гиперпараметры n_estimators = 3000 , max_depth = 4 , значение RMSE = 1631.3903806554417\n",
      "гиперпараметры n_estimators = 4000 , max_depth = 1 , значение RMSE = 1896.9884048606766\n",
      "гиперпараметры n_estimators = 4000 , max_depth = 2 , значение RMSE = 1535.5621235199412\n",
      "гиперпараметры n_estimators = 4000 , max_depth = 3 , значение RMSE = 1577.5674531287882\n",
      "гиперпараметры n_estimators = 4000 , max_depth = 4 , значение RMSE = 1643.9746495308748\n"
     ]
    }
   ],
   "source": [
    "for n_est in range(2000, 4001, 1000):\n",
    "    for depth in range(1, 5, 1):\n",
    "        print('гиперпараметры n_estimators =', n_est,', max_depth =', depth, ', значение RMSE =',\n",
    "              f_4ML_models_rmse_cv(cat_features_train, cat_target_train, 'LGBMRegressor', depth, n_est, cat_columns))"
   ]
  },
  {
   "cell_type": "markdown",
   "metadata": {},
   "source": [
    "Для модели «градиентный бустинг» библиотеки CatBoost определим значения гиперпараметров для вычисления лучшего значения метрики RMSE:"
   ]
  },
  {
   "cell_type": "code",
   "execution_count": 27,
   "metadata": {
    "scrolled": true
   },
   "outputs": [
    {
     "name": "stdout",
     "output_type": "stream",
     "text": [
      "0:\tlearn: 3536.6482108\ttotal: 283ms\tremaining: 28s\n",
      "99:\tlearn: 2099.3929571\ttotal: 2.69s\tremaining: 0us\n",
      "0:\tlearn: 3536.7732871\ttotal: 25.2ms\tremaining: 2.49s\n",
      "99:\tlearn: 2104.5872467\ttotal: 2.11s\tremaining: 0us\n",
      "0:\tlearn: 3534.5187449\ttotal: 24.7ms\tremaining: 2.44s\n",
      "99:\tlearn: 2101.6141486\ttotal: 2.07s\tremaining: 0us\n",
      "0:\tlearn: 3533.7154582\ttotal: 25.4ms\tremaining: 2.51s\n",
      "99:\tlearn: 2094.5363989\ttotal: 2.09s\tremaining: 0us\n",
      "гиперпараметры iterations = 100 , depth = 1 , значение RMSE = 2099.24709417148\n",
      "0:\tlearn: 3126.9667639\ttotal: 33.9ms\tremaining: 3.36s\n",
      "99:\tlearn: 1732.3638992\ttotal: 2.72s\tremaining: 0us\n",
      "0:\tlearn: 3135.2456258\ttotal: 34.4ms\tremaining: 3.41s\n",
      "99:\tlearn: 1743.0107396\ttotal: 2.76s\tremaining: 0us\n",
      "0:\tlearn: 3131.5046379\ttotal: 33.4ms\tremaining: 3.31s\n",
      "99:\tlearn: 1739.6581662\ttotal: 2.77s\tremaining: 0us\n",
      "0:\tlearn: 3131.5510496\ttotal: 31.2ms\tremaining: 3.08s\n",
      "99:\tlearn: 1726.9972109\ttotal: 3.2s\tremaining: 0us\n",
      "гиперпараметры iterations = 100 , depth = 2 , значение RMSE = 1744.3233771390928\n",
      "0:\tlearn: 2860.9815992\ttotal: 51.8ms\tremaining: 5.13s\n",
      "99:\tlearn: 1650.9882950\ttotal: 3.46s\tremaining: 0us\n",
      "0:\tlearn: 2867.2093531\ttotal: 39.7ms\tremaining: 3.93s\n",
      "99:\tlearn: 1650.8608995\ttotal: 3.51s\tremaining: 0us\n",
      "0:\tlearn: 2865.1263342\ttotal: 50.9ms\tremaining: 5.04s\n",
      "99:\tlearn: 1635.5595204\ttotal: 3.78s\tremaining: 0us\n",
      "0:\tlearn: 2858.6648968\ttotal: 38.1ms\tremaining: 3.77s\n",
      "99:\tlearn: 1649.8811243\ttotal: 3.44s\tremaining: 0us\n",
      "гиперпараметры iterations = 100 , depth = 3 , значение RMSE = 1668.352790432631\n",
      "0:\tlearn: 2724.9255929\ttotal: 48.1ms\tremaining: 4.76s\n",
      "99:\tlearn: 1592.2142343\ttotal: 4.34s\tremaining: 0us\n",
      "0:\tlearn: 2732.3730260\ttotal: 46.7ms\tremaining: 4.62s\n",
      "99:\tlearn: 1593.6160340\ttotal: 4.23s\tremaining: 0us\n",
      "0:\tlearn: 2730.2078579\ttotal: 48.2ms\tremaining: 4.78s\n",
      "99:\tlearn: 1587.7647477\ttotal: 4.16s\tremaining: 0us\n",
      "0:\tlearn: 2719.0812515\ttotal: 44.7ms\tremaining: 4.42s\n",
      "99:\tlearn: 1594.2614828\ttotal: 4.17s\tremaining: 0us\n",
      "гиперпараметры iterations = 100 , depth = 4 , значение RMSE = 1630.208062895538\n",
      "0:\tlearn: 2633.6574055\ttotal: 62.6ms\tremaining: 6.19s\n",
      "99:\tlearn: 1531.0023261\ttotal: 5.21s\tremaining: 0us\n",
      "0:\tlearn: 2642.2391687\ttotal: 69.9ms\tremaining: 6.92s\n",
      "99:\tlearn: 1544.1508277\ttotal: 5.55s\tremaining: 0us\n",
      "0:\tlearn: 2637.2283207\ttotal: 57.6ms\tremaining: 5.7s\n",
      "99:\tlearn: 1541.8415072\ttotal: 5.5s\tremaining: 0us\n",
      "0:\tlearn: 2629.4282854\ttotal: 52.8ms\tremaining: 5.22s\n",
      "99:\tlearn: 1531.5480327\ttotal: 5.05s\tremaining: 0us\n",
      "гиперпараметры iterations = 100 , depth = 5 , значение RMSE = 1601.0478177739712\n",
      "0:\tlearn: 2538.8852997\ttotal: 62ms\tremaining: 6.13s\n",
      "99:\tlearn: 1491.9400699\ttotal: 5.8s\tremaining: 0us\n",
      "0:\tlearn: 2547.0877307\ttotal: 68.7ms\tremaining: 6.8s\n",
      "99:\tlearn: 1511.4319667\ttotal: 5.68s\tremaining: 0us\n",
      "0:\tlearn: 2541.9509295\ttotal: 68.5ms\tremaining: 6.78s\n",
      "99:\tlearn: 1492.2603794\ttotal: 6.23s\tremaining: 0us\n",
      "0:\tlearn: 2536.2154882\ttotal: 60.9ms\tremaining: 6.03s\n",
      "99:\tlearn: 1499.8664641\ttotal: 5.85s\tremaining: 0us\n",
      "гиперпараметры iterations = 100 , depth = 6 , значение RMSE = 1589.1452400648886\n",
      "0:\tlearn: 2425.5203426\ttotal: 68.9ms\tremaining: 6.82s\n",
      "99:\tlearn: 1446.7608202\ttotal: 6.83s\tremaining: 0us\n",
      "0:\tlearn: 2432.1946294\ttotal: 74.4ms\tremaining: 7.37s\n",
      "99:\tlearn: 1445.3574018\ttotal: 6.55s\tremaining: 0us\n",
      "0:\tlearn: 2431.0908099\ttotal: 72.7ms\tremaining: 7.2s\n",
      "99:\tlearn: 1434.8904541\ttotal: 6.47s\tremaining: 0us\n",
      "0:\tlearn: 2424.4696586\ttotal: 67.3ms\tremaining: 6.66s\n",
      "99:\tlearn: 1441.9244740\ttotal: 6.58s\tremaining: 0us\n",
      "гиперпараметры iterations = 100 , depth = 7 , значение RMSE = 1580.3475972290587\n",
      "0:\tlearn: 2366.3146419\ttotal: 83.4ms\tremaining: 8.26s\n",
      "99:\tlearn: 1390.7929554\ttotal: 7.26s\tremaining: 0us\n",
      "0:\tlearn: 2371.6058621\ttotal: 85ms\tremaining: 8.41s\n",
      "99:\tlearn: 1392.2364316\ttotal: 7.34s\tremaining: 0us\n",
      "0:\tlearn: 2369.1223050\ttotal: 79.4ms\tremaining: 7.86s\n",
      "99:\tlearn: 1375.7987145\ttotal: 7.31s\tremaining: 0us\n",
      "0:\tlearn: 2365.0603018\ttotal: 79.7ms\tremaining: 7.89s\n",
      "99:\tlearn: 1388.8716175\ttotal: 7.55s\tremaining: 0us\n",
      "гиперпараметры iterations = 100 , depth = 8 , значение RMSE = 1578.7060887452992\n",
      "0:\tlearn: 2340.6899642\ttotal: 92.6ms\tremaining: 9.17s\n",
      "99:\tlearn: 1322.9862622\ttotal: 8.62s\tremaining: 0us\n",
      "0:\tlearn: 2346.4975100\ttotal: 93ms\tremaining: 9.21s\n",
      "99:\tlearn: 1321.3887217\ttotal: 8.56s\tremaining: 0us\n",
      "0:\tlearn: 2343.1458011\ttotal: 92.3ms\tremaining: 9.14s\n",
      "99:\tlearn: 1307.2154182\ttotal: 8.65s\tremaining: 0us\n",
      "0:\tlearn: 2338.1717718\ttotal: 95.6ms\tremaining: 9.46s\n",
      "99:\tlearn: 1323.5802664\ttotal: 8.65s\tremaining: 0us\n",
      "гиперпараметры iterations = 100 , depth = 9 , значение RMSE = 1586.14871290111\n",
      "0:\tlearn: 2323.7848756\ttotal: 102ms\tremaining: 10.1s\n",
      "99:\tlearn: 1253.6709307\ttotal: 10.1s\tremaining: 0us\n",
      "0:\tlearn: 2313.8574725\ttotal: 108ms\tremaining: 10.7s\n",
      "99:\tlearn: 1252.5491271\ttotal: 10.4s\tremaining: 0us\n",
      "0:\tlearn: 2325.5622293\ttotal: 118ms\tremaining: 11.7s\n",
      "99:\tlearn: 1249.5474511\ttotal: 10.1s\tremaining: 0us\n",
      "0:\tlearn: 2321.8320794\ttotal: 105ms\tremaining: 10.4s\n",
      "99:\tlearn: 1248.2739184\ttotal: 10.1s\tremaining: 0us\n",
      "гиперпараметры iterations = 100 , depth = 10 , значение RMSE = 1593.547550462924\n",
      "0:\tlearn: 3536.6482108\ttotal: 25.9ms\tremaining: 5.15s\n",
      "199:\tlearn: 2063.8991522\ttotal: 4.17s\tremaining: 0us\n",
      "0:\tlearn: 3536.7732871\ttotal: 27.3ms\tremaining: 5.43s\n",
      "199:\tlearn: 2065.6981428\ttotal: 4.17s\tremaining: 0us\n",
      "0:\tlearn: 3534.5187449\ttotal: 25.5ms\tremaining: 5.07s\n",
      "199:\tlearn: 2062.8131296\ttotal: 4.2s\tremaining: 0us\n",
      "0:\tlearn: 3533.7154582\ttotal: 24.8ms\tremaining: 4.93s\n",
      "199:\tlearn: 2058.9157798\ttotal: 4.15s\tremaining: 0us\n",
      "гиперпараметры iterations = 200 , depth = 1 , значение RMSE = 2062.1929420746205\n",
      "0:\tlearn: 3126.9667639\ttotal: 44ms\tremaining: 8.75s\n",
      "199:\tlearn: 1658.0520832\ttotal: 7.23s\tremaining: 0us\n",
      "0:\tlearn: 3135.2456258\ttotal: 43.8ms\tremaining: 8.71s\n",
      "199:\tlearn: 1656.1779806\ttotal: 7.34s\tremaining: 0us\n",
      "0:\tlearn: 3131.5046379\ttotal: 42.4ms\tremaining: 8.44s\n",
      "199:\tlearn: 1648.1701677\ttotal: 7.3s\tremaining: 0us\n",
      "0:\tlearn: 3131.5510496\ttotal: 40.8ms\tremaining: 8.11s\n",
      "199:\tlearn: 1658.0274417\ttotal: 7.37s\tremaining: 0us\n",
      "гиперпараметры iterations = 200 , depth = 2 , значение RMSE = 1668.7992610877673\n",
      "0:\tlearn: 2860.9815992\ttotal: 63.4ms\tremaining: 12.6s\n",
      "199:\tlearn: 1563.3701666\ttotal: 10.5s\tremaining: 0us\n",
      "0:\tlearn: 2867.2093531\ttotal: 62.4ms\tremaining: 12.4s\n",
      "199:\tlearn: 1571.0720657\ttotal: 11.2s\tremaining: 0us\n",
      "0:\tlearn: 2865.1263342\ttotal: 61ms\tremaining: 12.1s\n",
      "199:\tlearn: 1566.5857615\ttotal: 11.1s\tremaining: 0us\n",
      "0:\tlearn: 2858.6648968\ttotal: 62.2ms\tremaining: 12.4s\n",
      "199:\tlearn: 1572.2698112\ttotal: 11s\tremaining: 0us\n",
      "гиперпараметры iterations = 200 , depth = 3 , значение RMSE = 1605.9968621810854\n",
      "0:\tlearn: 2724.6468850\ttotal: 93.9ms\tremaining: 18.7s\n",
      "199:\tlearn: 1515.8053790\ttotal: 14.4s\tremaining: 0us\n",
      "0:\tlearn: 2732.3869356\ttotal: 89.9ms\tremaining: 17.9s\n",
      "199:\tlearn: 1514.3860081\ttotal: 14s\tremaining: 0us\n",
      "0:\tlearn: 2727.7299640\ttotal: 80.2ms\tremaining: 16s\n",
      "199:\tlearn: 1507.6993343\ttotal: 14.3s\tremaining: 0us\n",
      "0:\tlearn: 2719.1107302\ttotal: 85.9ms\tremaining: 17.1s\n",
      "199:\tlearn: 1520.5780260\ttotal: 13.9s\tremaining: 0us\n",
      "гиперпараметры iterations = 200 , depth = 4 , значение RMSE = 1580.5716229618401\n",
      "0:\tlearn: 2646.1793331\ttotal: 107ms\tremaining: 21.3s\n",
      "199:\tlearn: 1462.0349200\ttotal: 17.6s\tremaining: 0us\n",
      "0:\tlearn: 2654.6734261\ttotal: 105ms\tremaining: 20.8s\n",
      "199:\tlearn: 1463.9486316\ttotal: 17.9s\tremaining: 0us\n",
      "0:\tlearn: 2649.4604547\ttotal: 106ms\tremaining: 21.2s\n",
      "199:\tlearn: 1458.7985168\ttotal: 18s\tremaining: 0us\n",
      "0:\tlearn: 2640.7748468\ttotal: 102ms\tremaining: 20.4s\n",
      "199:\tlearn: 1459.9846321\ttotal: 18s\tremaining: 0us\n",
      "гиперпараметры iterations = 200 , depth = 5 , значение RMSE = 1567.3050588941858\n",
      "0:\tlearn: 2552.5808077\ttotal: 132ms\tremaining: 26.3s\n",
      "199:\tlearn: 1409.8118713\ttotal: 21.7s\tremaining: 0us\n",
      "0:\tlearn: 2562.6196300\ttotal: 140ms\tremaining: 27.8s\n",
      "199:\tlearn: 1418.3045214\ttotal: 21.7s\tremaining: 0us\n",
      "0:\tlearn: 2554.3684969\ttotal: 127ms\tremaining: 25.3s\n",
      "199:\tlearn: 1401.4389362\ttotal: 21.6s\tremaining: 0us\n",
      "0:\tlearn: 2548.4261728\ttotal: 116ms\tremaining: 23.1s\n",
      "199:\tlearn: 1416.9291945\ttotal: 21.2s\tremaining: 0us\n",
      "гиперпараметры iterations = 200 , depth = 6 , значение RMSE = 1563.4391457117704\n",
      "0:\tlearn: 2465.6306184\ttotal: 158ms\tremaining: 31.4s\n",
      "199:\tlearn: 1355.5132679\ttotal: 25.6s\tremaining: 0us\n",
      "0:\tlearn: 2472.7522330\ttotal: 158ms\tremaining: 31.4s\n"
     ]
    },
    {
     "name": "stdout",
     "output_type": "stream",
     "text": [
      "199:\tlearn: 1348.3825540\ttotal: 25.8s\tremaining: 0us\n",
      "0:\tlearn: 2464.8019223\ttotal: 154ms\tremaining: 30.7s\n",
      "199:\tlearn: 1342.8364381\ttotal: 25.4s\tremaining: 0us\n",
      "0:\tlearn: 2459.4525623\ttotal: 143ms\tremaining: 28.4s\n",
      "199:\tlearn: 1344.8792187\ttotal: 27.3s\tremaining: 0us\n",
      "гиперпараметры iterations = 200 , depth = 7 , значение RMSE = 1562.148694437812\n",
      "0:\tlearn: 2406.8917060\ttotal: 181ms\tremaining: 36.1s\n",
      "199:\tlearn: 1280.8527215\ttotal: 30.4s\tremaining: 0us\n",
      "0:\tlearn: 2414.1584467\ttotal: 180ms\tremaining: 35.7s\n",
      "199:\tlearn: 1290.2683926\ttotal: 30.6s\tremaining: 0us\n",
      "0:\tlearn: 2407.9627743\ttotal: 179ms\tremaining: 35.6s\n",
      "199:\tlearn: 1276.5462093\ttotal: 29.9s\tremaining: 0us\n",
      "0:\tlearn: 2403.2598931\ttotal: 169ms\tremaining: 33.6s\n",
      "199:\tlearn: 1282.1214720\ttotal: 30s\tremaining: 0us\n",
      "гиперпараметры iterations = 200 , depth = 8 , значение RMSE = 1572.1111057579124\n",
      "0:\tlearn: 2281.3203542\ttotal: 193ms\tremaining: 38.5s\n",
      "199:\tlearn: 1186.7306548\ttotal: 35.9s\tremaining: 0us\n",
      "0:\tlearn: 2284.9064375\ttotal: 200ms\tremaining: 39.8s\n",
      "199:\tlearn: 1196.4893923\ttotal: 36.2s\tremaining: 0us\n",
      "0:\tlearn: 2277.4859025\ttotal: 197ms\tremaining: 39.2s\n",
      "199:\tlearn: 1184.1772447\ttotal: 37.1s\tremaining: 0us\n",
      "0:\tlearn: 2274.6809285\ttotal: 194ms\tremaining: 38.6s\n",
      "199:\tlearn: 1192.8151547\ttotal: 35.9s\tremaining: 0us\n",
      "гиперпараметры iterations = 200 , depth = 9 , значение RMSE = 1587.222988976192\n",
      "0:\tlearn: 2239.7348246\ttotal: 235ms\tremaining: 46.9s\n",
      "199:\tlearn: 1090.0593017\ttotal: 46.2s\tremaining: 0us\n",
      "0:\tlearn: 2245.3543882\ttotal: 234ms\tremaining: 46.6s\n",
      "199:\tlearn: 1093.0549943\ttotal: 45.7s\tremaining: 0us\n",
      "0:\tlearn: 2236.9345402\ttotal: 226ms\tremaining: 45s\n",
      "199:\tlearn: 1093.5361026\ttotal: 46.1s\tremaining: 0us\n",
      "0:\tlearn: 2234.5437081\ttotal: 223ms\tremaining: 44.5s\n",
      "199:\tlearn: 1088.7010587\ttotal: 45.4s\tremaining: 0us\n",
      "гиперпараметры iterations = 200 , depth = 10 , значение RMSE = 1608.7893354729642\n",
      "0:\tlearn: 3536.6482108\ttotal: 33.1ms\tremaining: 9.9s\n",
      "200:\tlearn: 2063.6087990\ttotal: 4.16s\tremaining: 2.05s\n",
      "299:\tlearn: 2047.1250197\ttotal: 6.38s\tremaining: 0us\n",
      "0:\tlearn: 3536.7732871\ttotal: 32.2ms\tremaining: 9.63s\n",
      "200:\tlearn: 2065.5945737\ttotal: 4.16s\tremaining: 2.05s\n",
      "299:\tlearn: 2048.3773632\ttotal: 6.22s\tremaining: 0us\n",
      "0:\tlearn: 3534.5187449\ttotal: 26.8ms\tremaining: 8.02s\n",
      "200:\tlearn: 2062.5854104\ttotal: 4.21s\tremaining: 2.07s\n",
      "299:\tlearn: 2046.5812231\ttotal: 6.22s\tremaining: 0us\n",
      "0:\tlearn: 3533.7154582\ttotal: 25.6ms\tremaining: 7.67s\n",
      "200:\tlearn: 2058.8400548\ttotal: 4.15s\tremaining: 2.04s\n",
      "299:\tlearn: 2042.1340654\ttotal: 6.22s\tremaining: 0us\n",
      "гиперпараметры iterations = 300 , depth = 1 , значение RMSE = 2045.821450725323\n",
      "0:\tlearn: 3126.9667639\ttotal: 44.6ms\tremaining: 13.3s\n",
      "200:\tlearn: 1657.7328255\ttotal: 7.19s\tremaining: 3.54s\n",
      "299:\tlearn: 1626.5155351\ttotal: 10.7s\tremaining: 0us\n",
      "0:\tlearn: 3135.2456258\ttotal: 42.6ms\tremaining: 12.7s\n",
      "200:\tlearn: 1655.8666259\ttotal: 7.38s\tremaining: 3.63s\n",
      "299:\tlearn: 1624.1060090\ttotal: 10.8s\tremaining: 0us\n",
      "0:\tlearn: 3131.5046379\ttotal: 47.9ms\tremaining: 14.3s\n",
      "200:\tlearn: 1647.8966254\ttotal: 7.87s\tremaining: 3.88s\n",
      "299:\tlearn: 1616.5386869\ttotal: 11.6s\tremaining: 0us\n",
      "0:\tlearn: 3131.5510496\ttotal: 39.6ms\tremaining: 11.8s\n",
      "200:\tlearn: 1657.7852638\ttotal: 7.79s\tremaining: 3.83s\n",
      "299:\tlearn: 1623.7496071\ttotal: 11.2s\tremaining: 0us\n",
      "гиперпараметры iterations = 300 , depth = 2 , значение RMSE = 1644.1705232354682\n",
      "0:\tlearn: 2860.9815992\ttotal: 87.5ms\tremaining: 26.2s\n",
      "200:\tlearn: 1562.8242778\ttotal: 10.5s\tremaining: 5.15s\n",
      "299:\tlearn: 1537.3222412\ttotal: 15.8s\tremaining: 0us\n",
      "0:\tlearn: 2867.2093531\ttotal: 81.6ms\tremaining: 24.4s\n",
      "200:\tlearn: 1570.7343029\ttotal: 11.4s\tremaining: 5.62s\n",
      "299:\tlearn: 1536.3891119\ttotal: 16.7s\tremaining: 0us\n",
      "0:\tlearn: 2865.1263342\ttotal: 61.9ms\tremaining: 18.5s\n",
      "200:\tlearn: 1566.4949751\ttotal: 10.7s\tremaining: 5.29s\n",
      "299:\tlearn: 1534.7699963\ttotal: 15.8s\tremaining: 0us\n",
      "0:\tlearn: 2858.6648968\ttotal: 61.1ms\tremaining: 18.3s\n",
      "200:\tlearn: 1571.6973941\ttotal: 11.3s\tremaining: 5.58s\n",
      "299:\tlearn: 1539.2175110\ttotal: 17s\tremaining: 0us\n",
      "гиперпараметры iterations = 300 , depth = 3 , значение RMSE = 1588.2529150444743\n",
      "0:\tlearn: 2724.6468850\ttotal: 86.9ms\tremaining: 26s\n",
      "200:\tlearn: 1515.3797196\ttotal: 14.2s\tremaining: 7.01s\n",
      "299:\tlearn: 1481.2261825\ttotal: 21.3s\tremaining: 0us\n",
      "0:\tlearn: 2732.3869356\ttotal: 91.4ms\tremaining: 27.3s\n",
      "200:\tlearn: 1513.9566471\ttotal: 14.1s\tremaining: 6.94s\n",
      "299:\tlearn: 1479.8454165\ttotal: 21.3s\tremaining: 0us\n",
      "0:\tlearn: 2727.7299640\ttotal: 83.5ms\tremaining: 25s\n",
      "200:\tlearn: 1507.2670317\ttotal: 14.3s\tremaining: 7.04s\n",
      "299:\tlearn: 1469.5896568\ttotal: 21.5s\tremaining: 0us\n",
      "0:\tlearn: 2719.1107302\ttotal: 77.7ms\tremaining: 23.2s\n",
      "200:\tlearn: 1520.2445262\ttotal: 14.1s\tremaining: 6.92s\n",
      "299:\tlearn: 1481.5875703\ttotal: 20.9s\tremaining: 0us\n",
      "гиперпараметры iterations = 300 , depth = 4 , значение RMSE = 1567.4853737715327\n",
      "0:\tlearn: 2646.1793331\ttotal: 113ms\tremaining: 33.8s\n",
      "200:\tlearn: 1461.6880325\ttotal: 18s\tremaining: 8.85s\n",
      "299:\tlearn: 1423.0337619\ttotal: 26.8s\tremaining: 0us\n",
      "0:\tlearn: 2654.6734261\ttotal: 104ms\tremaining: 31.1s\n",
      "200:\tlearn: 1463.3784837\ttotal: 17.8s\tremaining: 8.75s\n",
      "299:\tlearn: 1424.0999080\ttotal: 26.7s\tremaining: 0us\n",
      "0:\tlearn: 2649.4604547\ttotal: 104ms\tremaining: 31.1s\n",
      "200:\tlearn: 1458.0773649\ttotal: 18.3s\tremaining: 9.03s\n",
      "299:\tlearn: 1414.2302650\ttotal: 26.8s\tremaining: 0us\n",
      "0:\tlearn: 2640.7748468\ttotal: 94.8ms\tremaining: 28.3s\n",
      "200:\tlearn: 1459.3968180\ttotal: 17.9s\tremaining: 8.82s\n",
      "299:\tlearn: 1418.4315253\ttotal: 27s\tremaining: 0us\n",
      "гиперпараметры iterations = 300 , depth = 5 , значение RMSE = 1554.9807424241828\n",
      "0:\tlearn: 2552.5808077\ttotal: 137ms\tremaining: 40.9s\n",
      "200:\tlearn: 1409.3550187\ttotal: 21.8s\tremaining: 10.7s\n",
      "299:\tlearn: 1363.0797272\ttotal: 32.6s\tremaining: 0us\n",
      "0:\tlearn: 2562.6196300\ttotal: 129ms\tremaining: 38.6s\n",
      "200:\tlearn: 1418.1053826\ttotal: 21.7s\tremaining: 10.7s\n",
      "299:\tlearn: 1369.5802878\ttotal: 33.1s\tremaining: 0us\n",
      "0:\tlearn: 2554.3684969\ttotal: 127ms\tremaining: 37.9s\n",
      "200:\tlearn: 1401.0691718\ttotal: 21.8s\tremaining: 10.7s\n",
      "299:\tlearn: 1354.6687605\ttotal: 32.5s\tremaining: 0us\n",
      "0:\tlearn: 2548.4261728\ttotal: 117ms\tremaining: 35.1s\n",
      "200:\tlearn: 1416.4898260\ttotal: 21.4s\tremaining: 10.6s\n",
      "299:\tlearn: 1369.0772519\ttotal: 32.2s\tremaining: 0us\n",
      "гиперпараметры iterations = 300 , depth = 6 , значение RMSE = 1558.849938906485\n",
      "0:\tlearn: 2465.6306184\ttotal: 167ms\tremaining: 49.8s\n",
      "200:\tlearn: 1354.9538831\ttotal: 25.6s\tremaining: 12.6s\n",
      "299:\tlearn: 1296.2578367\ttotal: 38.8s\tremaining: 0us\n",
      "0:\tlearn: 2472.7522330\ttotal: 164ms\tremaining: 49s\n",
      "200:\tlearn: 1347.6378636\ttotal: 26.5s\tremaining: 13s\n",
      "299:\tlearn: 1295.4662707\ttotal: 39.6s\tremaining: 0us\n",
      "0:\tlearn: 2464.8019223\ttotal: 158ms\tremaining: 47.3s\n",
      "200:\tlearn: 1341.6695507\ttotal: 26.4s\tremaining: 13s\n",
      "299:\tlearn: 1288.3538003\ttotal: 40.8s\tremaining: 0us\n",
      "0:\tlearn: 2459.4525623\ttotal: 192ms\tremaining: 57.5s\n",
      "200:\tlearn: 1344.3808463\ttotal: 26.7s\tremaining: 13.1s\n",
      "299:\tlearn: 1291.8710233\ttotal: 39.7s\tremaining: 0us\n",
      "гиперпараметры iterations = 300 , depth = 7 , значение RMSE = 1564.1445581388607\n",
      "0:\tlearn: 2406.8917060\ttotal: 191ms\tremaining: 57.1s\n",
      "200:\tlearn: 1280.1552461\ttotal: 31.2s\tremaining: 15.4s\n",
      "299:\tlearn: 1206.1117095\ttotal: 46.3s\tremaining: 0us\n",
      "0:\tlearn: 2414.1584467\ttotal: 175ms\tremaining: 52.2s\n",
      "200:\tlearn: 1289.6734533\ttotal: 30.6s\tremaining: 15.1s\n",
      "299:\tlearn: 1218.1646474\ttotal: 46.3s\tremaining: 0us\n",
      "0:\tlearn: 2407.9627743\ttotal: 179ms\tremaining: 53.5s\n",
      "200:\tlearn: 1275.9326508\ttotal: 31.1s\tremaining: 15.3s\n",
      "299:\tlearn: 1205.6824753\ttotal: 46.9s\tremaining: 0us\n",
      "0:\tlearn: 2403.2598931\ttotal: 165ms\tremaining: 49.3s\n",
      "200:\tlearn: 1280.8596312\ttotal: 30.7s\tremaining: 15.1s\n",
      "299:\tlearn: 1213.1786748\ttotal: 46.9s\tremaining: 0us\n",
      "гиперпараметры iterations = 300 , depth = 8 , значение RMSE = 1577.6047683728434\n",
      "0:\tlearn: 2281.3203542\ttotal: 215ms\tremaining: 1m 4s\n",
      "200:\tlearn: 1185.4578352\ttotal: 37.1s\tremaining: 18.3s\n",
      "299:\tlearn: 1100.5168405\ttotal: 56s\tremaining: 0us\n",
      "0:\tlearn: 2284.9064375\ttotal: 195ms\tremaining: 58.2s\n",
      "200:\tlearn: 1195.5614214\ttotal: 36.6s\tremaining: 18s\n",
      "299:\tlearn: 1111.4559633\ttotal: 54.4s\tremaining: 0us\n",
      "0:\tlearn: 2277.4859025\ttotal: 202ms\tremaining: 1m\n",
      "200:\tlearn: 1183.7407045\ttotal: 36.3s\tremaining: 17.9s\n",
      "299:\tlearn: 1099.7515751\ttotal: 54.7s\tremaining: 0us\n",
      "0:\tlearn: 2274.6809285\ttotal: 185ms\tremaining: 55.4s\n",
      "200:\tlearn: 1192.1461753\ttotal: 36.5s\tremaining: 18s\n"
     ]
    },
    {
     "name": "stdout",
     "output_type": "stream",
     "text": [
      "299:\tlearn: 1107.9916388\ttotal: 54.5s\tremaining: 0us\n",
      "гиперпараметры iterations = 300 , depth = 9 , значение RMSE = 1599.712341916995\n",
      "0:\tlearn: 2239.7348246\ttotal: 251ms\tremaining: 1m 15s\n",
      "200:\tlearn: 1089.2309012\ttotal: 52.8s\tremaining: 26s\n",
      "299:\tlearn: 988.1459732\ttotal: 1m 21s\tremaining: 0us\n",
      "0:\tlearn: 2245.3543882\ttotal: 292ms\tremaining: 1m 27s\n",
      "200:\tlearn: 1090.9054612\ttotal: 51.1s\tremaining: 25.2s\n",
      "299:\tlearn: 994.1073773\ttotal: 1m 16s\tremaining: 0us\n",
      "0:\tlearn: 2236.9345402\ttotal: 244ms\tremaining: 1m 13s\n",
      "200:\tlearn: 1092.5690292\ttotal: 51.3s\tremaining: 25.3s\n",
      "299:\tlearn: 986.8992541\ttotal: 1m 16s\tremaining: 0us\n",
      "0:\tlearn: 2234.5437081\ttotal: 240ms\tremaining: 1m 11s\n",
      "200:\tlearn: 1087.1902696\ttotal: 50.7s\tremaining: 25s\n",
      "299:\tlearn: 981.6373462\ttotal: 1m 15s\tremaining: 0us\n",
      "гиперпараметры iterations = 300 , depth = 10 , значение RMSE = 1624.2588969846624\n"
     ]
    }
   ],
   "source": [
    "for n_est in range(100, 301, 100):\n",
    "    for depth in range(1, 11, 1):\n",
    "        print('гиперпараметры iterations =', n_est,', depth =', depth, ', значение RMSE =',\n",
    "              f_4ML_models_rmse_cv(cat_features_train, cat_target_train, 'CatBoostRegressor', depth, n_est, cat_columns))"
   ]
  },
  {
   "cell_type": "markdown",
   "metadata": {},
   "source": [
    "## Анализ моделей"
   ]
  },
  {
   "cell_type": "markdown",
   "metadata": {},
   "source": [
    "### Модель «дерево решений»"
   ]
  },
  {
   "cell_type": "markdown",
   "metadata": {},
   "source": [
    "Произведем измерение времени, которое требуется модели для обучения и предсказания:"
   ]
  },
  {
   "cell_type": "code",
   "execution_count": 28,
   "metadata": {},
   "outputs": [
    {
     "name": "stdout",
     "output_type": "stream",
     "text": [
      "Wall time: 5.86 s\n"
     ]
    },
    {
     "data": {
      "text/plain": [
       "DecisionTreeRegressor(max_depth=13, random_state=12345)"
      ]
     },
     "execution_count": 28,
     "metadata": {},
     "output_type": "execute_result"
    }
   ],
   "source": [
    "%%time\n",
    "model = DecisionTreeRegressor(random_state=12345, max_depth=15)\n",
    "model.fit(ohe_features_train, ohe_target_train)"
   ]
  },
  {
   "cell_type": "code",
   "execution_count": 29,
   "metadata": {},
   "outputs": [
    {
     "name": "stdout",
     "output_type": "stream",
     "text": [
      "RMSE = 1791.0268952151089\n",
      "Wall time: 163 ms\n"
     ]
    }
   ],
   "source": [
    "%%time\n",
    "predictions_valid = model.predict(ohe_features_valid)\n",
    "print('RMSE =', mean_squared_error(ohe_target_valid, predictions_valid) ** 0.5)"
   ]
  },
  {
   "cell_type": "markdown",
   "metadata": {},
   "source": [
    "Построим график весов признаков модели:"
   ]
  },
  {
   "cell_type": "code",
   "execution_count": 30,
   "metadata": {},
   "outputs": [
    {
     "data": {
      "image/png": "[encoded data removed]",
      "text/plain": [
       "<Figure size 432x288 with 1 Axes>"
      ]
     },
     "metadata": {
      "needs_background": "light"
     },
     "output_type": "display_data"
    }
   ],
   "source": [
    "feature_importance = model.feature_importances_\n",
    "feature_imp = pd.DataFrame(sorted(zip(feature_importance, ohe_features_train)), columns=['Value','Feature'])\n",
    "sns.barplot(x=\"Value\", y=\"Feature\", data=feature_imp.sort_values(by=\"Value\", ascending=False).iloc[:10])\n",
    "plt.title('Feature importance')\n",
    "plt.tight_layout()\n",
    "plt.show();"
   ]
  },
  {
   "cell_type": "markdown",
   "metadata": {},
   "source": [
    "### Модель «градиентный бустинг» библиотеки LightGBM"
   ]
  },
  {
   "cell_type": "markdown",
   "metadata": {},
   "source": [
    "Произведем измерение времени, которое требуется модели для обучения и предсказания:"
   ]
  },
  {
   "cell_type": "code",
   "execution_count": 31,
   "metadata": {},
   "outputs": [
    {
     "name": "stdout",
     "output_type": "stream",
     "text": [
      "Wall time: 18 s\n"
     ]
    },
    {
     "data": {
      "text/plain": [
       "LGBMRegressor(learning_rate=1, max_depth=2, n_estimators=4000,\n",
       "              random_state=12345)"
      ]
     },
     "execution_count": 31,
     "metadata": {},
     "output_type": "execute_result"
    }
   ],
   "source": [
    "%%time\n",
    "model = LGBMRegressor(random_state=12345, max_depth=2, n_estimators=4000, learning_rate=1)\n",
    "model.fit(cat_features_train, cat_target_train, categorical_feature=cat_columns)"
   ]
  },
  {
   "cell_type": "code",
   "execution_count": 32,
   "metadata": {},
   "outputs": [
    {
     "name": "stdout",
     "output_type": "stream",
     "text": [
      "RMSE = 1530.7156023977063\n",
      "Wall time: 6.82 s\n"
     ]
    }
   ],
   "source": [
    "%%time\n",
    "predictions_valid = model.predict(cat_features_valid)\n",
    "print('RMSE =', mean_squared_error(cat_target_valid, predictions_valid) ** 0.5)"
   ]
  },
  {
   "cell_type": "markdown",
   "metadata": {},
   "source": [
    "Построим график весов признаков модели:"
   ]
  },
  {
   "cell_type": "code",
   "execution_count": 33,
   "metadata": {},
   "outputs": [
    {
     "data": {
      "image/png": "[encoded data removed]",
      "text/plain": [
       "<Figure size 432x288 with 1 Axes>"
      ]
     },
     "metadata": {
      "needs_background": "light"
     },
     "output_type": "display_data"
    }
   ],
   "source": [
    "feature_importance = model.feature_importances_\n",
    "feature_imp = pd.DataFrame(sorted(zip(feature_importance, cat_features_train)), columns=['Value','Feature'])\n",
    "sns.barplot(x=\"Value\", y=\"Feature\", data=feature_imp.sort_values(by=\"Value\", ascending=False).iloc[:11])\n",
    "plt.title('Feature importance')\n",
    "plt.tight_layout()\n",
    "plt.show();"
   ]
  },
  {
   "cell_type": "markdown",
   "metadata": {},
   "source": [
    "### Модель «градиентный бустинг» библиотеки CatBoost"
   ]
  },
  {
   "cell_type": "markdown",
   "metadata": {},
   "source": [
    "Произведем измерение времени, которое требуется модели для обучения и предсказания:"
   ]
  },
  {
   "cell_type": "code",
   "execution_count": 34,
   "metadata": {},
   "outputs": [
    {
     "name": "stdout",
     "output_type": "stream",
     "text": [
      "0:\tlearn: 2510.6448716\ttotal: 188ms\tremaining: 56.1s\n",
      "299:\tlearn: 1380.9373205\ttotal: 45.5s\tremaining: 0us\n",
      "Wall time: 46.2 s\n"
     ]
    },
    {
     "data": {
      "text/plain": [
       "<catboost.core.CatBoostRegressor at 0x20bdcf99d60>"
      ]
     },
     "execution_count": 34,
     "metadata": {},
     "output_type": "execute_result"
    }
   ],
   "source": [
    "%%time\n",
    "model = CatBoostRegressor(random_state=12345, loss_function=\"RMSE\", iterations=300, depth=5, learning_rate=1)\n",
    "model.fit(cat_features_train, cat_target_train, cat_features=cat_columns, verbose=300)"
   ]
  },
  {
   "cell_type": "code",
   "execution_count": 35,
   "metadata": {},
   "outputs": [
    {
     "name": "stdout",
     "output_type": "stream",
     "text": [
      "RMSE = 1558.8556108969385\n",
      "Wall time: 134 ms\n"
     ]
    }
   ],
   "source": [
    "%%time\n",
    "predictions_valid = model.predict(cat_features_valid)\n",
    "print('RMSE =', mean_squared_error(cat_target_valid, predictions_valid) ** 0.5)"
   ]
  },
  {
   "cell_type": "markdown",
   "metadata": {},
   "source": [
    "Построим график весов признаков модели:"
   ]
  },
  {
   "cell_type": "code",
   "execution_count": 36,
   "metadata": {},
   "outputs": [
    {
     "data": {
      "image/png": "[encoded data removed]",
      "text/plain": [
       "<Figure size 432x288 with 1 Axes>"
      ]
     },
     "metadata": {
      "needs_background": "light"
     },
     "output_type": "display_data"
    }
   ],
   "source": [
    "feature_importance = model.feature_importances_\n",
    "feature_imp = pd.DataFrame(sorted(zip(feature_importance, cat_features_train)), columns=['Value','Feature'])\n",
    "sns.barplot(x=\"Value\", y=\"Feature\", data=feature_imp.sort_values(by=\"Value\", ascending=False).iloc[:11])\n",
    "plt.title('Feature importance')\n",
    "plt.tight_layout()\n",
    "plt.show();"
   ]
  },
  {
   "cell_type": "markdown",
   "metadata": {},
   "source": [
    "### Константная модель по медиане"
   ]
  },
  {
   "cell_type": "markdown",
   "metadata": {},
   "source": [
    "Вычислим значение метрики RMSE для константной модели по медиане:"
   ]
  },
  {
   "cell_type": "code",
   "execution_count": 37,
   "metadata": {},
   "outputs": [
    {
     "name": "stdout",
     "output_type": "stream",
     "text": [
      "RMSE константной модели по медиане = 4946.171935893076\n"
     ]
    }
   ],
   "source": [
    "dr = DummyRegressor(strategy='median')\n",
    "dr.fit(ohe_features_train, ohe_target_train)\n",
    "print('RMSE константной модели по медиане =', mean_squared_error(ohe_target_valid, dr.predict(ohe_features_valid)) ** 0.5)"
   ]
  },
  {
   "cell_type": "markdown",
   "metadata": {},
   "source": [
    "## Общий вывод"
   ]
  },
  {
   "cell_type": "markdown",
   "metadata": {},
   "source": [
    "По результатам проекта можно сделать следующие выводы:\n",
    "1. Лучшей ML-моделью для определения стоимости автомобиля по его производителю, модели, комплектации и характеристикам с учетом ограничения по времени прогнозирования является «градиентный бустинг» библиотеки CatBoost, значение метрики RMSE = 1559, время обучения - около 46 секунд, время прогнозирования - 134 мс.\n",
    "2. Стоит отметить, что лучшее качество прогнозирования дает модель «градиентный бустинг» библиотеки LightGBM (RMSE = 1531), но время прогнозирования (около 7 секунд) значительно хуже, по сравнению с библиотекой CatBoost.\n",
    "3. Стоит отметить, что наиболее важными факторами (признаками) для прогноза стоимости автомобиля являются год регистрации, мощность и пробег автомобиля.\n",
    "4. ML-модели «градиентный бустинг» библиотек LightGBM и CatBoost осуществляют прогноз лучше, чем константная модель (RMSE = 4946). Поэтому, применение указанных ML-моделей является оправданным для бизнеса."
   ]
  }
 ],
 "metadata": {
  "ExecuteTimeLog": [
   {
    "duration": 627,
    "start_time": "2022-03-09T12:53:34.030Z"
   },
   {
    "duration": 812,
    "start_time": "2022-03-09T12:53:36.122Z"
   },
   {
    "duration": 135,
    "start_time": "2022-03-09T12:53:38.594Z"
   },
   {
    "duration": 323,
    "start_time": "2022-03-10T04:46:50.665Z"
   },
   {
    "duration": 676,
    "start_time": "2022-03-10T04:46:55.299Z"
   },
   {
    "duration": 1122,
    "start_time": "2022-03-10T04:46:57.496Z"
   },
   {
    "duration": 171,
    "start_time": "2022-03-10T04:47:00.084Z"
   },
   {
    "duration": 7,
    "start_time": "2022-03-10T04:47:03.473Z"
   },
   {
    "duration": 5,
    "start_time": "2022-03-10T04:47:14.982Z"
   },
   {
    "duration": 6,
    "start_time": "2022-03-10T04:47:20.856Z"
   },
   {
    "duration": 6,
    "start_time": "2022-03-10T04:47:26.586Z"
   },
   {
    "duration": 45,
    "start_time": "2022-03-10T04:57:47.165Z"
   },
   {
    "duration": 288,
    "start_time": "2022-03-10T05:03:32.350Z"
   },
   {
    "duration": 286,
    "start_time": "2022-03-10T05:03:40.370Z"
   },
   {
    "duration": 104,
    "start_time": "2022-03-10T05:04:16.060Z"
   },
   {
    "duration": 160,
    "start_time": "2022-03-10T05:06:08.461Z"
   },
   {
    "duration": 207,
    "start_time": "2022-03-10T05:06:40.668Z"
   },
   {
    "duration": 206,
    "start_time": "2022-03-10T05:06:59.214Z"
   },
   {
    "duration": 206,
    "start_time": "2022-03-10T05:07:11.884Z"
   },
   {
    "duration": 247,
    "start_time": "2022-03-10T05:08:31.958Z"
   },
   {
    "duration": 171,
    "start_time": "2022-03-10T05:10:18.713Z"
   },
   {
    "duration": 286,
    "start_time": "2022-03-10T05:11:59.466Z"
   },
   {
    "duration": 1732,
    "start_time": "2022-03-10T05:12:11.656Z"
   },
   {
    "duration": 407,
    "start_time": "2022-03-10T05:13:52.750Z"
   },
   {
    "duration": 42,
    "start_time": "2022-03-10T05:34:13.254Z"
   },
   {
    "duration": 6075,
    "start_time": "2022-03-10T05:36:07.971Z"
   },
   {
    "duration": 259,
    "start_time": "2022-03-10T05:36:32.433Z"
   },
   {
    "duration": 311,
    "start_time": "2022-03-10T05:36:41.006Z"
   },
   {
    "duration": 55,
    "start_time": "2022-03-10T05:37:03.123Z"
   },
   {
    "duration": 108,
    "start_time": "2022-03-10T05:38:37.886Z"
   },
   {
    "duration": 287,
    "start_time": "2022-03-10T05:43:01.283Z"
   },
   {
    "duration": 33,
    "start_time": "2022-03-10T05:43:06.781Z"
   },
   {
    "duration": 21,
    "start_time": "2022-03-10T05:43:32.732Z"
   },
   {
    "duration": 234,
    "start_time": "2022-03-10T05:43:54.245Z"
   },
   {
    "duration": 22,
    "start_time": "2022-03-10T05:44:03.138Z"
   },
   {
    "duration": 286,
    "start_time": "2022-03-10T05:44:14.820Z"
   },
   {
    "duration": 23,
    "start_time": "2022-03-10T05:44:18.078Z"
   },
   {
    "duration": 13,
    "start_time": "2022-03-10T05:46:57.920Z"
   },
   {
    "duration": 15,
    "start_time": "2022-03-10T05:47:51.207Z"
   },
   {
    "duration": 14,
    "start_time": "2022-03-10T05:48:04.152Z"
   },
   {
    "duration": 4,
    "start_time": "2022-03-10T05:50:52.720Z"
   },
   {
    "duration": 90,
    "start_time": "2022-03-10T05:51:57.876Z"
   },
   {
    "duration": 91,
    "start_time": "2022-03-10T05:52:06.646Z"
   },
   {
    "duration": 77,
    "start_time": "2022-03-10T05:52:10.537Z"
   },
   {
    "duration": 96,
    "start_time": "2022-03-10T05:52:44.456Z"
   },
   {
    "duration": 78,
    "start_time": "2022-03-10T05:52:49.929Z"
   },
   {
    "duration": 85,
    "start_time": "2022-03-10T05:55:19.521Z"
   },
   {
    "duration": 12,
    "start_time": "2022-03-10T05:55:37.415Z"
   },
   {
    "duration": 12,
    "start_time": "2022-03-10T05:55:43.987Z"
   },
   {
    "duration": 3,
    "start_time": "2022-03-10T05:56:01.748Z"
   },
   {
    "duration": 12,
    "start_time": "2022-03-10T05:56:42.959Z"
   },
   {
    "duration": 12,
    "start_time": "2022-03-10T05:56:49.554Z"
   },
   {
    "duration": 26,
    "start_time": "2022-03-10T05:57:26.229Z"
   },
   {
    "duration": 25,
    "start_time": "2022-03-10T05:59:54.968Z"
   },
   {
    "duration": 22,
    "start_time": "2022-03-10T06:02:42.461Z"
   },
   {
    "duration": 3,
    "start_time": "2022-03-10T06:03:13.123Z"
   },
   {
    "duration": 42,
    "start_time": "2022-03-10T06:06:08.847Z"
   },
   {
    "duration": 42,
    "start_time": "2022-03-10T06:08:32.514Z"
   },
   {
    "duration": 45,
    "start_time": "2022-03-10T06:08:59.309Z"
   },
   {
    "duration": 45,
    "start_time": "2022-03-10T06:10:22.714Z"
   },
   {
    "duration": 43,
    "start_time": "2022-03-10T06:11:24.525Z"
   },
   {
    "duration": 41,
    "start_time": "2022-03-10T06:12:18.850Z"
   },
   {
    "duration": 315,
    "start_time": "2022-03-10T06:16:52.052Z"
   },
   {
    "duration": 318,
    "start_time": "2022-03-10T06:17:01.844Z"
   },
   {
    "duration": 58,
    "start_time": "2022-03-10T06:17:15.398Z"
   },
   {
    "duration": 4,
    "start_time": "2022-03-10T06:21:33.727Z"
   },
   {
    "duration": 54,
    "start_time": "2022-03-10T06:21:56.641Z"
   },
   {
    "duration": 15,
    "start_time": "2022-03-10T06:23:26.074Z"
   },
   {
    "duration": 18,
    "start_time": "2022-03-10T06:25:47.288Z"
   },
   {
    "duration": 126,
    "start_time": "2022-03-10T06:30:53.215Z"
   },
   {
    "duration": 125,
    "start_time": "2022-03-10T06:34:05.126Z"
   },
   {
    "duration": 4,
    "start_time": "2022-03-10T06:40:51.721Z"
   },
   {
    "duration": 3,
    "start_time": "2022-03-10T06:42:39.269Z"
   },
   {
    "duration": 626,
    "start_time": "2022-03-11T03:06:39.717Z"
   },
   {
    "duration": 3,
    "start_time": "2022-03-11T03:07:36.639Z"
   },
   {
    "duration": 888,
    "start_time": "2022-03-11T03:07:36.644Z"
   },
   {
    "duration": 152,
    "start_time": "2022-03-11T03:07:37.534Z"
   },
   {
    "duration": 117,
    "start_time": "2022-03-11T03:07:37.688Z"
   },
   {
    "duration": 2,
    "start_time": "2022-03-11T03:07:37.807Z"
   },
   {
    "duration": 120,
    "start_time": "2022-03-11T03:07:56.584Z"
   },
   {
    "duration": 5,
    "start_time": "2022-03-11T03:08:10.858Z"
   },
   {
    "duration": 312,
    "start_time": "2022-03-11T03:10:17.334Z"
   },
   {
    "duration": 25,
    "start_time": "2022-03-11T03:10:25.253Z"
   },
   {
    "duration": 10,
    "start_time": "2022-03-11T03:13:15.165Z"
   },
   {
    "duration": 10,
    "start_time": "2022-03-11T03:13:36.964Z"
   },
   {
    "duration": 12,
    "start_time": "2022-03-11T03:13:41.994Z"
   },
   {
    "duration": 8,
    "start_time": "2022-03-11T03:14:04.318Z"
   },
   {
    "duration": 82,
    "start_time": "2022-03-11T03:22:21.851Z"
   },
   {
    "duration": 87,
    "start_time": "2022-03-11T03:23:27.957Z"
   },
   {
    "duration": 94,
    "start_time": "2022-03-11T03:27:40.511Z"
   },
   {
    "duration": 124,
    "start_time": "2022-03-11T03:28:00.185Z"
   },
   {
    "duration": 218,
    "start_time": "2022-03-11T03:33:46.815Z"
   },
   {
    "duration": 76,
    "start_time": "2022-03-11T03:34:11.029Z"
   },
   {
    "duration": 219,
    "start_time": "2022-03-11T03:34:44.576Z"
   },
   {
    "duration": 69,
    "start_time": "2022-03-11T03:35:24.678Z"
   },
   {
    "duration": 77,
    "start_time": "2022-03-11T03:35:31.238Z"
   },
   {
    "duration": 208,
    "start_time": "2022-03-11T03:36:00.698Z"
   },
   {
    "duration": 699,
    "start_time": "2022-03-11T03:36:59.693Z"
   },
   {
    "duration": 371,
    "start_time": "2022-03-11T03:37:23.012Z"
   },
   {
    "duration": 99,
    "start_time": "2022-03-11T03:37:38.786Z"
   },
   {
    "duration": 115,
    "start_time": "2022-03-11T03:39:38.519Z"
   },
   {
    "duration": 89,
    "start_time": "2022-03-11T03:40:47.167Z"
   },
   {
    "duration": 104,
    "start_time": "2022-03-11T03:41:32.043Z"
   },
   {
    "duration": 123,
    "start_time": "2022-03-11T03:46:20.386Z"
   },
   {
    "duration": 95,
    "start_time": "2022-03-11T03:51:12.040Z"
   },
   {
    "duration": 2,
    "start_time": "2022-03-11T03:53:38.145Z"
   },
   {
    "duration": 2744,
    "start_time": "2022-03-11T04:00:30.732Z"
   },
   {
    "duration": 14,
    "start_time": "2022-03-11T04:00:37.383Z"
   },
   {
    "duration": 44,
    "start_time": "2022-03-11T04:00:49.425Z"
   },
   {
    "duration": 116,
    "start_time": "2022-03-11T04:03:39.299Z"
   },
   {
    "duration": 2710,
    "start_time": "2022-03-11T04:04:28.040Z"
   },
   {
    "duration": 116,
    "start_time": "2022-03-11T04:04:33.320Z"
   },
   {
    "duration": 869,
    "start_time": "2022-03-11T04:06:00.254Z"
   },
   {
    "duration": 260,
    "start_time": "2022-03-11T04:06:35.220Z"
   },
   {
    "duration": 281,
    "start_time": "2022-03-11T04:07:02.980Z"
   },
   {
    "duration": 17,
    "start_time": "2022-03-11T04:07:52.142Z"
   },
   {
    "duration": 23,
    "start_time": "2022-03-11T04:08:04.631Z"
   },
   {
    "duration": 27,
    "start_time": "2022-03-11T04:08:11.327Z"
   },
   {
    "duration": 32,
    "start_time": "2022-03-11T04:08:16.847Z"
   },
   {
    "duration": 36,
    "start_time": "2022-03-11T04:08:23.064Z"
   },
   {
    "duration": 41,
    "start_time": "2022-03-11T04:08:27.479Z"
   },
   {
    "duration": 46,
    "start_time": "2022-03-11T04:08:31.100Z"
   },
   {
    "duration": 17,
    "start_time": "2022-03-11T04:08:35.589Z"
   },
   {
    "duration": 22,
    "start_time": "2022-03-11T04:08:39.847Z"
   },
   {
    "duration": 17,
    "start_time": "2022-03-11T04:08:43.211Z"
   },
   {
    "duration": 21,
    "start_time": "2022-03-11T04:08:46.429Z"
   },
   {
    "duration": 327,
    "start_time": "2022-03-11T04:08:58.270Z"
   },
   {
    "duration": 284,
    "start_time": "2022-03-11T04:10:07.192Z"
   },
   {
    "duration": 32,
    "start_time": "2022-03-11T04:10:49.347Z"
   },
   {
    "duration": 507,
    "start_time": "2022-03-11T04:10:58.455Z"
   },
   {
    "duration": 176,
    "start_time": "2022-03-11T04:12:38.452Z"
   },
   {
    "duration": 20,
    "start_time": "2022-03-11T04:13:48.435Z"
   },
   {
    "duration": 52,
    "start_time": "2022-03-11T04:13:52.794Z"
   },
   {
    "duration": 22,
    "start_time": "2022-03-11T04:13:57.706Z"
   },
   {
    "duration": 57,
    "start_time": "2022-03-11T04:14:06.042Z"
   },
   {
    "duration": 34,
    "start_time": "2022-03-11T04:14:10.958Z"
   },
   {
    "duration": 21,
    "start_time": "2022-03-11T04:14:14.959Z"
   },
   {
    "duration": 856,
    "start_time": "2022-03-11T04:16:41.506Z"
   },
   {
    "duration": 78,
    "start_time": "2022-03-11T04:16:59.454Z"
   },
   {
    "duration": 213,
    "start_time": "2022-03-11T04:17:05.235Z"
   },
   {
    "duration": 50,
    "start_time": "2022-03-11T04:17:22.573Z"
   },
   {
    "duration": 3,
    "start_time": "2022-03-11T04:17:56.184Z"
   },
   {
    "duration": 780,
    "start_time": "2022-03-11T04:17:56.189Z"
   },
   {
    "duration": 154,
    "start_time": "2022-03-11T04:17:56.972Z"
   },
   {
    "duration": 120,
    "start_time": "2022-03-11T04:17:57.128Z"
   },
   {
    "duration": 2,
    "start_time": "2022-03-11T04:17:57.250Z"
   },
   {
    "duration": 318,
    "start_time": "2022-03-11T04:18:02.903Z"
   },
   {
    "duration": 3,
    "start_time": "2022-03-11T04:18:42.883Z"
   },
   {
    "duration": 2736,
    "start_time": "2022-03-11T04:19:07.626Z"
   },
   {
    "duration": 113,
    "start_time": "2022-03-11T04:19:14.062Z"
   },
   {
    "duration": 6,
    "start_time": "2022-03-11T04:21:46.843Z"
   },
   {
    "duration": 3,
    "start_time": "2022-03-11T04:21:54.524Z"
   },
   {
    "duration": 782,
    "start_time": "2022-03-11T04:21:54.529Z"
   },
   {
    "duration": 138,
    "start_time": "2022-03-11T04:21:55.314Z"
   },
   {
    "duration": 117,
    "start_time": "2022-03-11T04:21:55.454Z"
   },
   {
    "duration": 3,
    "start_time": "2022-03-11T04:21:55.573Z"
   },
   {
    "duration": 233,
    "start_time": "2022-03-11T04:21:57.917Z"
   },
   {
    "duration": 2651,
    "start_time": "2022-03-11T04:22:27.542Z"
   },
   {
    "duration": 6,
    "start_time": "2022-03-11T04:22:47.037Z"
   },
   {
    "duration": 97,
    "start_time": "2022-03-11T04:23:08.282Z"
   },
   {
    "duration": 3,
    "start_time": "2022-03-11T04:23:22.503Z"
   },
   {
    "duration": 766,
    "start_time": "2022-03-11T04:23:22.508Z"
   },
   {
    "duration": 142,
    "start_time": "2022-03-11T04:23:23.276Z"
   },
   {
    "duration": 110,
    "start_time": "2022-03-11T04:23:23.420Z"
   },
   {
    "duration": 2,
    "start_time": "2022-03-11T04:23:23.532Z"
   },
   {
    "duration": 2683,
    "start_time": "2022-03-11T04:23:39.129Z"
   },
   {
    "duration": 103,
    "start_time": "2022-03-11T04:23:43.570Z"
   },
   {
    "duration": 3,
    "start_time": "2022-03-11T04:25:55.359Z"
   },
   {
    "duration": 858,
    "start_time": "2022-03-11T04:25:55.364Z"
   },
   {
    "duration": 141,
    "start_time": "2022-03-11T04:25:56.225Z"
   },
   {
    "duration": 123,
    "start_time": "2022-03-11T04:25:56.368Z"
   },
   {
    "duration": 3,
    "start_time": "2022-03-11T04:25:56.502Z"
   },
   {
    "duration": 101,
    "start_time": "2022-03-11T04:26:08.372Z"
   },
   {
    "duration": 103,
    "start_time": "2022-03-11T04:27:15.234Z"
   },
   {
    "duration": 2752,
    "start_time": "2022-03-11T04:27:19.481Z"
   },
   {
    "duration": 110,
    "start_time": "2022-03-11T04:27:25.152Z"
   },
   {
    "duration": 3,
    "start_time": "2022-03-11T04:28:48.840Z"
   },
   {
    "duration": 774,
    "start_time": "2022-03-11T04:28:48.846Z"
   },
   {
    "duration": 139,
    "start_time": "2022-03-11T04:28:49.623Z"
   },
   {
    "duration": 109,
    "start_time": "2022-03-11T04:28:49.764Z"
   },
   {
    "duration": 2,
    "start_time": "2022-03-11T04:28:49.875Z"
   },
   {
    "duration": 2992,
    "start_time": "2022-03-11T04:29:10.409Z"
   },
   {
    "duration": 113,
    "start_time": "2022-03-11T04:29:15.104Z"
   },
   {
    "duration": 37,
    "start_time": "2022-03-11T04:32:55.965Z"
   },
   {
    "duration": 103,
    "start_time": "2022-03-11T04:33:25.407Z"
   },
   {
    "duration": 101,
    "start_time": "2022-03-11T04:33:46.169Z"
   },
   {
    "duration": 68,
    "start_time": "2022-03-11T04:34:11.829Z"
   },
   {
    "duration": 122,
    "start_time": "2022-03-11T04:34:39.135Z"
   },
   {
    "duration": 5634,
    "start_time": "2022-03-11T04:35:06.548Z"
   },
   {
    "duration": 345,
    "start_time": "2022-03-11T04:36:53.528Z"
   },
   {
    "duration": 20,
    "start_time": "2022-03-11T04:37:19.045Z"
   },
   {
    "duration": 15,
    "start_time": "2022-03-11T04:39:38.208Z"
   },
   {
    "duration": 34,
    "start_time": "2022-03-11T04:39:52.433Z"
   },
   {
    "duration": 122,
    "start_time": "2022-03-11T04:39:57.303Z"
   },
   {
    "duration": 2821,
    "start_time": "2022-03-11T04:40:46.922Z"
   },
   {
    "duration": 3,
    "start_time": "2022-03-11T04:41:31.926Z"
   },
   {
    "duration": 814,
    "start_time": "2022-03-11T04:41:31.931Z"
   },
   {
    "duration": 140,
    "start_time": "2022-03-11T04:41:32.747Z"
   },
   {
    "duration": 119,
    "start_time": "2022-03-11T04:41:32.889Z"
   },
   {
    "duration": 3,
    "start_time": "2022-03-11T04:41:42.899Z"
   },
   {
    "duration": 791,
    "start_time": "2022-03-11T04:41:42.904Z"
   },
   {
    "duration": 138,
    "start_time": "2022-03-11T04:41:43.698Z"
   },
   {
    "duration": 114,
    "start_time": "2022-03-11T04:41:43.839Z"
   },
   {
    "duration": 3,
    "start_time": "2022-03-11T04:41:43.955Z"
   },
   {
    "duration": 5240,
    "start_time": "2022-03-11T04:41:52.189Z"
   },
   {
    "duration": 35,
    "start_time": "2022-03-11T04:42:08.045Z"
   },
   {
    "duration": 122,
    "start_time": "2022-03-11T04:42:13.226Z"
   },
   {
    "duration": 34,
    "start_time": "2022-03-11T04:42:27.844Z"
   },
   {
    "duration": 38,
    "start_time": "2022-03-11T04:42:35.746Z"
   },
   {
    "duration": 255,
    "start_time": "2022-03-11T04:43:02.601Z"
   },
   {
    "duration": 15,
    "start_time": "2022-03-11T04:44:10.780Z"
   },
   {
    "duration": 3,
    "start_time": "2022-03-11T04:44:15.799Z"
   },
   {
    "duration": 791,
    "start_time": "2022-03-11T04:44:15.804Z"
   },
   {
    "duration": 138,
    "start_time": "2022-03-11T04:44:16.597Z"
   },
   {
    "duration": 115,
    "start_time": "2022-03-11T04:44:16.737Z"
   },
   {
    "duration": 3,
    "start_time": "2022-03-11T04:44:16.855Z"
   },
   {
    "duration": 244,
    "start_time": "2022-03-11T04:44:20.698Z"
   },
   {
    "duration": 29,
    "start_time": "2022-03-11T04:44:28.214Z"
   },
   {
    "duration": 5459,
    "start_time": "2022-03-11T04:44:32.787Z"
   },
   {
    "duration": 17,
    "start_time": "2022-03-11T04:44:40.600Z"
   },
   {
    "duration": 117,
    "start_time": "2022-03-11T04:45:03.201Z"
   },
   {
    "duration": 115,
    "start_time": "2022-03-11T04:52:49.357Z"
   },
   {
    "duration": 22,
    "start_time": "2022-03-11T04:52:59.742Z"
   },
   {
    "duration": 116,
    "start_time": "2022-03-11T04:53:02.262Z"
   },
   {
    "duration": 115,
    "start_time": "2022-03-11T04:53:39.456Z"
   },
   {
    "duration": 141,
    "start_time": "2022-03-11T04:54:45.474Z"
   },
   {
    "duration": 90,
    "start_time": "2022-03-11T04:54:48.571Z"
   },
   {
    "duration": 2,
    "start_time": "2022-03-11T04:56:08.711Z"
   },
   {
    "duration": 795,
    "start_time": "2022-03-11T04:56:08.715Z"
   },
   {
    "duration": 142,
    "start_time": "2022-03-11T04:56:09.513Z"
   },
   {
    "duration": 123,
    "start_time": "2022-03-11T04:56:09.657Z"
   },
   {
    "duration": 5479,
    "start_time": "2022-03-11T04:56:09.782Z"
   },
   {
    "duration": 127,
    "start_time": "2022-03-11T04:56:15.263Z"
   },
   {
    "duration": 27,
    "start_time": "2022-03-11T04:56:15.392Z"
   },
   {
    "duration": 121,
    "start_time": "2022-03-11T04:56:22.446Z"
   },
   {
    "duration": 4,
    "start_time": "2022-03-11T04:58:33.080Z"
   },
   {
    "duration": 800,
    "start_time": "2022-03-11T04:58:33.086Z"
   },
   {
    "duration": 140,
    "start_time": "2022-03-11T04:58:33.889Z"
   },
   {
    "duration": 117,
    "start_time": "2022-03-11T04:58:34.032Z"
   },
   {
    "duration": 5546,
    "start_time": "2022-03-11T04:58:34.151Z"
   },
   {
    "duration": 120,
    "start_time": "2022-03-11T04:58:39.701Z"
   },
   {
    "duration": 21,
    "start_time": "2022-03-11T04:58:39.823Z"
   },
   {
    "duration": 117,
    "start_time": "2022-03-11T04:58:54.964Z"
   },
   {
    "duration": 3,
    "start_time": "2022-03-11T05:00:36.388Z"
   },
   {
    "duration": 769,
    "start_time": "2022-03-11T05:00:36.394Z"
   },
   {
    "duration": 148,
    "start_time": "2022-03-11T05:00:37.165Z"
   },
   {
    "duration": 115,
    "start_time": "2022-03-11T05:00:37.316Z"
   },
   {
    "duration": 5738,
    "start_time": "2022-03-11T05:00:37.434Z"
   },
   {
    "duration": 113,
    "start_time": "2022-03-11T05:00:43.174Z"
   },
   {
    "duration": 22,
    "start_time": "2022-03-11T05:00:43.300Z"
   },
   {
    "duration": 120,
    "start_time": "2022-03-11T05:00:48.318Z"
   },
   {
    "duration": 124,
    "start_time": "2022-03-11T05:01:21.677Z"
   },
   {
    "duration": 90,
    "start_time": "2022-03-11T05:01:23.972Z"
   },
   {
    "duration": 3,
    "start_time": "2022-03-11T05:03:45.352Z"
   },
   {
    "duration": 855,
    "start_time": "2022-03-11T05:03:45.357Z"
   },
   {
    "duration": 143,
    "start_time": "2022-03-11T05:03:46.214Z"
   },
   {
    "duration": 107,
    "start_time": "2022-03-11T05:03:46.359Z"
   },
   {
    "duration": 5457,
    "start_time": "2022-03-11T05:03:46.468Z"
   },
   {
    "duration": 121,
    "start_time": "2022-03-11T05:03:51.927Z"
   },
   {
    "duration": 21,
    "start_time": "2022-03-11T05:03:52.050Z"
   },
   {
    "duration": 112,
    "start_time": "2022-03-11T05:04:06.360Z"
   },
   {
    "duration": 119,
    "start_time": "2022-03-11T05:04:10.823Z"
   },
   {
    "duration": 90,
    "start_time": "2022-03-11T05:04:12.971Z"
   },
   {
    "duration": 3,
    "start_time": "2022-03-11T05:07:39.021Z"
   },
   {
    "duration": 792,
    "start_time": "2022-03-11T05:07:39.026Z"
   },
   {
    "duration": 138,
    "start_time": "2022-03-11T05:07:39.820Z"
   },
   {
    "duration": 118,
    "start_time": "2022-03-11T05:07:39.960Z"
   },
   {
    "duration": 5636,
    "start_time": "2022-03-11T05:07:40.080Z"
   },
   {
    "duration": 110,
    "start_time": "2022-03-11T05:07:45.718Z"
   },
   {
    "duration": 21,
    "start_time": "2022-03-11T05:07:45.830Z"
   },
   {
    "duration": 137,
    "start_time": "2022-03-11T05:07:45.853Z"
   },
   {
    "duration": 93,
    "start_time": "2022-03-11T05:07:48.722Z"
   },
   {
    "duration": 2,
    "start_time": "2022-03-11T05:08:53.176Z"
   },
   {
    "duration": 770,
    "start_time": "2022-03-11T05:08:53.181Z"
   },
   {
    "duration": 137,
    "start_time": "2022-03-11T05:08:53.953Z"
   },
   {
    "duration": 115,
    "start_time": "2022-03-11T05:08:54.100Z"
   },
   {
    "duration": 5336,
    "start_time": "2022-03-11T05:08:54.216Z"
   },
   {
    "duration": 109,
    "start_time": "2022-03-11T05:08:59.554Z"
   },
   {
    "duration": 22,
    "start_time": "2022-03-11T05:08:59.665Z"
   },
   {
    "duration": 140,
    "start_time": "2022-03-11T05:08:59.689Z"
   },
   {
    "duration": 100,
    "start_time": "2022-03-11T05:09:06.701Z"
   },
   {
    "duration": 621,
    "start_time": "2022-03-11T05:11:16.689Z"
   },
   {
    "duration": 890,
    "start_time": "2022-03-11T05:11:17.313Z"
   },
   {
    "duration": 146,
    "start_time": "2022-03-11T05:11:18.205Z"
   },
   {
    "duration": 125,
    "start_time": "2022-03-11T05:11:18.353Z"
   },
   {
    "duration": 337,
    "start_time": "2022-03-11T05:11:18.480Z"
   },
   {
    "duration": 113,
    "start_time": "2022-03-11T05:11:18.818Z"
   },
   {
    "duration": 20,
    "start_time": "2022-03-11T05:11:18.933Z"
   },
   {
    "duration": 166,
    "start_time": "2022-03-11T05:11:18.955Z"
   },
   {
    "duration": 87,
    "start_time": "2022-03-11T05:11:19.123Z"
   },
   {
    "duration": 566,
    "start_time": "2022-03-11T05:17:11.463Z"
   },
   {
    "duration": 82,
    "start_time": "2022-03-11T05:21:58.337Z"
   },
   {
    "duration": 3,
    "start_time": "2022-03-11T05:27:00.331Z"
   },
   {
    "duration": 844,
    "start_time": "2022-03-11T05:27:00.336Z"
   },
   {
    "duration": 154,
    "start_time": "2022-03-11T05:27:01.182Z"
   },
   {
    "duration": 120,
    "start_time": "2022-03-11T05:27:01.338Z"
   },
   {
    "duration": 264,
    "start_time": "2022-03-11T05:27:01.460Z"
   },
   {
    "duration": 126,
    "start_time": "2022-03-11T05:27:01.727Z"
   },
   {
    "duration": 21,
    "start_time": "2022-03-11T05:27:01.856Z"
   },
   {
    "duration": 156,
    "start_time": "2022-03-11T05:27:01.880Z"
   },
   {
    "duration": 94,
    "start_time": "2022-03-11T05:27:02.038Z"
   },
   {
    "duration": 82,
    "start_time": "2022-03-11T05:27:02.133Z"
   },
   {
    "duration": 313,
    "start_time": "2022-03-11T05:44:55.952Z"
   },
   {
    "duration": 629,
    "start_time": "2022-03-11T05:44:59.848Z"
   },
   {
    "duration": 102,
    "start_time": "2022-03-11T05:45:02.183Z"
   },
   {
    "duration": 211,
    "start_time": "2022-03-11T05:46:19.568Z"
   },
   {
    "duration": 23,
    "start_time": "2022-03-11T05:54:44.658Z"
   },
   {
    "duration": 4,
    "start_time": "2022-03-11T05:54:58.173Z"
   },
   {
    "duration": 802,
    "start_time": "2022-03-11T05:54:58.178Z"
   },
   {
    "duration": 142,
    "start_time": "2022-03-11T05:54:58.982Z"
   },
   {
    "duration": 111,
    "start_time": "2022-03-11T05:54:59.126Z"
   },
   {
    "duration": 18,
    "start_time": "2022-03-11T05:54:59.240Z"
   },
   {
    "duration": 212,
    "start_time": "2022-03-11T05:54:59.260Z"
   },
   {
    "duration": 106,
    "start_time": "2022-03-11T05:54:59.474Z"
   },
   {
    "duration": 26,
    "start_time": "2022-03-11T05:54:59.583Z"
   },
   {
    "duration": 103,
    "start_time": "2022-03-11T05:54:59.611Z"
   },
   {
    "duration": 58,
    "start_time": "2022-03-11T05:54:59.716Z"
   },
   {
    "duration": 349,
    "start_time": "2022-03-11T05:54:59.776Z"
   },
   {
    "duration": 433,
    "start_time": "2022-03-11T05:54:59.694Z"
   },
   {
    "duration": 2,
    "start_time": "2022-03-11T05:55:28.309Z"
   },
   {
    "duration": 783,
    "start_time": "2022-03-11T05:55:28.314Z"
   },
   {
    "duration": 138,
    "start_time": "2022-03-11T05:55:29.102Z"
   },
   {
    "duration": 115,
    "start_time": "2022-03-11T05:55:29.242Z"
   },
   {
    "duration": 19,
    "start_time": "2022-03-11T05:55:29.359Z"
   },
   {
    "duration": 215,
    "start_time": "2022-03-11T05:55:29.380Z"
   },
   {
    "duration": 94,
    "start_time": "2022-03-11T05:55:29.598Z"
   },
   {
    "duration": 21,
    "start_time": "2022-03-11T05:55:29.701Z"
   },
   {
    "duration": 108,
    "start_time": "2022-03-11T05:55:29.724Z"
   },
   {
    "duration": 69,
    "start_time": "2022-03-11T05:55:29.834Z"
   },
   {
    "duration": 48,
    "start_time": "2022-03-11T05:55:29.905Z"
   },
   {
    "duration": 636,
    "start_time": "2022-03-11T05:55:29.954Z"
   },
   {
    "duration": 250,
    "start_time": "2022-03-11T05:55:34.724Z"
   },
   {
    "duration": 183,
    "start_time": "2022-03-11T05:58:39.277Z"
   },
   {
    "duration": 186,
    "start_time": "2022-03-11T05:58:44.424Z"
   },
   {
    "duration": 6,
    "start_time": "2022-03-11T06:07:00.671Z"
   },
   {
    "duration": 439,
    "start_time": "2022-03-11T06:08:45.650Z"
   },
   {
    "duration": 80,
    "start_time": "2022-03-11T06:09:18.010Z"
   },
   {
    "duration": 89,
    "start_time": "2022-03-11T06:10:12.602Z"
   },
   {
    "duration": 3,
    "start_time": "2022-03-11T06:19:00.281Z"
   },
   {
    "duration": 3,
    "start_time": "2022-03-11T06:24:32.205Z"
   },
   {
    "duration": 4,
    "start_time": "2022-03-11T06:25:10.460Z"
   },
   {
    "duration": 5,
    "start_time": "2022-03-11T06:25:16.072Z"
   },
   {
    "duration": 4,
    "start_time": "2022-03-11T06:27:43.508Z"
   },
   {
    "duration": 60,
    "start_time": "2022-03-11T06:28:24.676Z"
   },
   {
    "duration": 4,
    "start_time": "2022-03-11T06:28:31.595Z"
   },
   {
    "duration": 809,
    "start_time": "2022-03-11T06:28:31.601Z"
   },
   {
    "duration": 143,
    "start_time": "2022-03-11T06:28:32.412Z"
   },
   {
    "duration": 4,
    "start_time": "2022-03-11T06:28:32.558Z"
   },
   {
    "duration": 127,
    "start_time": "2022-03-11T06:28:39.804Z"
   },
   {
    "duration": 591,
    "start_time": "2022-03-11T06:28:44.916Z"
   },
   {
    "duration": 4,
    "start_time": "2022-03-11T06:28:51.989Z"
   },
   {
    "duration": 1094,
    "start_time": "2022-03-11T06:28:54.486Z"
   },
   {
    "duration": 127,
    "start_time": "2022-03-11T06:28:57.716Z"
   },
   {
    "duration": 6,
    "start_time": "2022-03-11T06:29:43.863Z"
   },
   {
    "duration": 1081,
    "start_time": "2022-03-11T06:36:21.649Z"
   },
   {
    "duration": 890,
    "start_time": "2022-03-11T06:36:22.732Z"
   },
   {
    "duration": 158,
    "start_time": "2022-03-11T06:36:23.627Z"
   },
   {
    "duration": 4,
    "start_time": "2022-03-11T06:36:23.787Z"
   },
   {
    "duration": 1105,
    "start_time": "2022-03-11T06:36:23.801Z"
   },
   {
    "duration": 5,
    "start_time": "2022-03-11T06:36:24.908Z"
   },
   {
    "duration": 117,
    "start_time": "2022-03-11T06:36:24.917Z"
   },
   {
    "duration": 33,
    "start_time": "2022-03-11T06:36:25.037Z"
   },
   {
    "duration": 225,
    "start_time": "2022-03-11T06:36:25.072Z"
   },
   {
    "duration": 108,
    "start_time": "2022-03-11T06:36:25.301Z"
   },
   {
    "duration": 22,
    "start_time": "2022-03-11T06:36:25.411Z"
   },
   {
    "duration": 136,
    "start_time": "2022-03-11T06:36:25.435Z"
   },
   {
    "duration": 70,
    "start_time": "2022-03-11T06:36:25.574Z"
   },
   {
    "duration": 572,
    "start_time": "2022-03-11T06:36:25.646Z"
   },
   {
    "duration": 548,
    "start_time": "2022-03-11T06:36:26.220Z"
   },
   {
    "duration": 286,
    "start_time": "2022-03-11T06:36:26.770Z"
   },
   {
    "duration": 8,
    "start_time": "2022-03-11T06:36:27.058Z"
   },
   {
    "duration": 110,
    "start_time": "2022-03-11T06:36:27.068Z"
   },
   {
    "duration": 1096,
    "start_time": "2022-03-11T06:38:33.523Z"
   },
   {
    "duration": 852,
    "start_time": "2022-03-11T06:38:34.621Z"
   },
   {
    "duration": 149,
    "start_time": "2022-03-11T06:38:35.475Z"
   },
   {
    "duration": 3,
    "start_time": "2022-03-11T06:38:35.626Z"
   },
   {
    "duration": 1103,
    "start_time": "2022-03-11T06:38:35.631Z"
   },
   {
    "duration": 5,
    "start_time": "2022-03-11T06:38:36.735Z"
   },
   {
    "duration": 116,
    "start_time": "2022-03-11T06:38:36.741Z"
   },
   {
    "duration": 30,
    "start_time": "2022-03-11T06:38:36.859Z"
   },
   {
    "duration": 204,
    "start_time": "2022-03-11T06:38:36.903Z"
   },
   {
    "duration": 104,
    "start_time": "2022-03-11T06:38:37.109Z"
   },
   {
    "duration": 21,
    "start_time": "2022-03-11T06:38:37.214Z"
   },
   {
    "duration": 108,
    "start_time": "2022-03-11T06:38:37.237Z"
   },
   {
    "duration": 62,
    "start_time": "2022-03-11T06:38:37.347Z"
   },
   {
    "duration": 556,
    "start_time": "2022-03-11T06:38:37.410Z"
   },
   {
    "duration": 503,
    "start_time": "2022-03-11T06:38:37.969Z"
   },
   {
    "duration": 258,
    "start_time": "2022-03-11T06:38:38.474Z"
   },
   {
    "duration": 5,
    "start_time": "2022-03-11T06:38:38.734Z"
   },
   {
    "duration": 101,
    "start_time": "2022-03-11T06:38:38.741Z"
   },
   {
    "duration": 598,
    "start_time": "2022-03-11T06:40:35.433Z"
   },
   {
    "duration": 44,
    "start_time": "2022-03-11T08:18:30.311Z"
   },
   {
    "duration": 346,
    "start_time": "2022-03-11T08:18:35.664Z"
   },
   {
    "duration": 3,
    "start_time": "2022-03-11T08:18:39.620Z"
   },
   {
    "duration": 94,
    "start_time": "2022-03-11T08:20:20.480Z"
   },
   {
    "duration": 244,
    "start_time": "2022-03-11T08:23:09.807Z"
   },
   {
    "duration": 231,
    "start_time": "2022-03-11T08:23:16.163Z"
   },
   {
    "duration": 216,
    "start_time": "2022-03-11T08:23:20.833Z"
   },
   {
    "duration": 232,
    "start_time": "2022-03-11T08:23:25.276Z"
   },
   {
    "duration": 217,
    "start_time": "2022-03-11T08:23:32.731Z"
   },
   {
    "duration": 226,
    "start_time": "2022-03-11T08:23:41.549Z"
   },
   {
    "duration": 7,
    "start_time": "2022-03-11T08:24:45.555Z"
   },
   {
    "duration": 5,
    "start_time": "2022-03-11T08:25:12.358Z"
   },
   {
    "duration": 4,
    "start_time": "2022-03-11T08:27:19.945Z"
   },
   {
    "duration": 4,
    "start_time": "2022-03-11T08:27:40.134Z"
   },
   {
    "duration": 95,
    "start_time": "2022-03-11T08:53:06.230Z"
   },
   {
    "duration": 6,
    "start_time": "2022-03-11T08:53:23.929Z"
   },
   {
    "duration": 166765,
    "start_time": "2022-03-11T08:57:41.563Z"
   },
   {
    "duration": 59097,
    "start_time": "2022-03-11T09:00:48.839Z"
   },
   {
    "duration": 16345,
    "start_time": "2022-03-11T09:02:29.561Z"
   },
   {
    "duration": 216,
    "start_time": "2022-03-11T09:18:18.162Z"
   },
   {
    "duration": 7,
    "start_time": "2022-03-11T09:19:15.172Z"
   },
   {
    "duration": 771,
    "start_time": "2022-03-11T09:19:23.892Z"
   },
   {
    "duration": 7,
    "start_time": "2022-03-11T09:21:55.054Z"
   },
   {
    "duration": 596,
    "start_time": "2022-03-11T09:22:01.667Z"
   },
   {
    "duration": 499,
    "start_time": "2022-03-11T09:24:30.339Z"
   },
   {
    "duration": 3,
    "start_time": "2022-03-11T09:26:42.191Z"
   },
   {
    "duration": 6,
    "start_time": "2022-03-11T09:28:41.039Z"
   },
   {
    "duration": 92073,
    "start_time": "2022-03-11T09:28:50.339Z"
   },
   {
    "duration": 7,
    "start_time": "2022-03-11T09:32:00.720Z"
   },
   {
    "duration": 90886,
    "start_time": "2022-03-11T09:32:06.751Z"
   },
   {
    "duration": 133,
    "start_time": "2022-03-11T09:34:36.432Z"
   },
   {
    "duration": 6415,
    "start_time": "2022-03-11T09:34:53.194Z"
   },
   {
    "duration": 6495,
    "start_time": "2022-03-11T09:35:04.523Z"
   },
   {
    "duration": 19468,
    "start_time": "2022-03-11T09:35:22.441Z"
   },
   {
    "duration": 36613,
    "start_time": "2022-03-11T09:35:51.599Z"
   },
   {
    "duration": 166342,
    "start_time": "2022-03-11T09:36:53.475Z"
   },
   {
    "duration": 11,
    "start_time": "2022-03-11T09:49:19.769Z"
   },
   {
    "duration": 14263,
    "start_time": "2022-03-11T09:49:27.765Z"
   },
   {
    "duration": 41673,
    "start_time": "2022-03-11T09:49:57.749Z"
   },
   {
    "duration": 121921,
    "start_time": "2022-03-11T09:51:01.487Z"
   },
   {
    "duration": 68321,
    "start_time": "2022-03-11T09:54:56.406Z"
   },
   {
    "duration": 5,
    "start_time": "2022-03-11T09:56:17.991Z"
   },
   {
    "duration": 70365,
    "start_time": "2022-03-11T09:56:22.966Z"
   },
   {
    "duration": 2783,
    "start_time": "2022-03-11T09:58:29.086Z"
   },
   {
    "duration": 118745,
    "start_time": "2022-03-11T09:58:43.980Z"
   },
   {
    "duration": 25873,
    "start_time": "2022-03-11T10:00:50.826Z"
   },
   {
    "duration": 69551,
    "start_time": "2022-03-11T10:01:19.866Z"
   },
   {
    "duration": 65985,
    "start_time": "2022-03-11T10:02:40.775Z"
   },
   {
    "duration": 334,
    "start_time": "2022-03-11T10:03:46.429Z"
   },
   {
    "duration": 6,
    "start_time": "2022-03-11T10:03:54.466Z"
   },
   {
    "duration": 84253,
    "start_time": "2022-03-11T10:04:48.783Z"
   },
   {
    "duration": 28261,
    "start_time": "2022-03-11T10:06:59.242Z"
   },
   {
    "duration": 6255,
    "start_time": "2022-03-11T10:08:20.299Z"
   },
   {
    "duration": 387,
    "start_time": "2022-03-11T10:09:39.929Z"
   },
   {
    "duration": 1183,
    "start_time": "2022-03-11T10:09:54.528Z"
   },
   {
    "duration": 955,
    "start_time": "2022-03-11T10:09:55.714Z"
   },
   {
    "duration": 161,
    "start_time": "2022-03-11T10:09:56.673Z"
   },
   {
    "duration": 3,
    "start_time": "2022-03-11T10:09:56.836Z"
   },
   {
    "duration": 1192,
    "start_time": "2022-03-11T10:09:56.841Z"
   },
   {
    "duration": 4,
    "start_time": "2022-03-11T10:09:58.036Z"
   },
   {
    "duration": 120,
    "start_time": "2022-03-11T10:09:58.042Z"
   },
   {
    "duration": 42,
    "start_time": "2022-03-11T10:09:58.164Z"
   },
   {
    "duration": 205,
    "start_time": "2022-03-11T10:09:58.209Z"
   },
   {
    "duration": 111,
    "start_time": "2022-03-11T10:09:58.416Z"
   },
   {
    "duration": 21,
    "start_time": "2022-03-11T10:09:58.529Z"
   },
   {
    "duration": 109,
    "start_time": "2022-03-11T10:09:58.552Z"
   },
   {
    "duration": 63,
    "start_time": "2022-03-11T10:09:58.663Z"
   },
   {
    "duration": 625,
    "start_time": "2022-03-11T10:09:58.728Z"
   },
   {
    "duration": 596,
    "start_time": "2022-03-11T10:09:59.355Z"
   },
   {
    "duration": 270,
    "start_time": "2022-03-11T10:09:59.953Z"
   },
   {
    "duration": 6,
    "start_time": "2022-03-11T10:10:00.225Z"
   },
   {
    "duration": 126,
    "start_time": "2022-03-11T10:10:00.233Z"
   },
   {
    "duration": 666,
    "start_time": "2022-03-11T10:10:00.362Z"
   },
   {
    "duration": 7,
    "start_time": "2022-03-11T10:10:01.031Z"
   },
   {
    "duration": 323,
    "start_time": "2022-03-11T10:10:01.040Z"
   },
   {
    "duration": 417,
    "start_time": "2022-03-11T10:10:00.948Z"
   },
   {
    "duration": 415,
    "start_time": "2022-03-11T10:10:00.952Z"
   },
   {
    "duration": 5505,
    "start_time": "2022-03-11T10:10:40.456Z"
   },
   {
    "duration": 20115,
    "start_time": "2022-03-11T10:10:49.191Z"
   },
   {
    "duration": 28761,
    "start_time": "2022-03-11T10:11:28.649Z"
   },
   {
    "duration": 5156,
    "start_time": "2022-03-11T10:14:47.357Z"
   },
   {
    "duration": 4958,
    "start_time": "2022-03-11T10:16:16.043Z"
   },
   {
    "duration": 5572,
    "start_time": "2022-03-11T10:16:30.335Z"
   },
   {
    "duration": 21661,
    "start_time": "2022-03-11T10:16:45.342Z"
   },
   {
    "duration": 6603,
    "start_time": "2022-03-11T10:17:27.297Z"
   },
   {
    "duration": 5889,
    "start_time": "2022-03-11T10:17:40.025Z"
   },
   {
    "duration": 6033,
    "start_time": "2022-03-11T10:17:51.685Z"
   },
   {
    "duration": 6371,
    "start_time": "2022-03-11T10:18:02.937Z"
   },
   {
    "duration": 217252,
    "start_time": "2022-03-11T10:19:55.961Z"
   },
   {
    "duration": 29551,
    "start_time": "2022-03-11T10:24:34.665Z"
   },
   {
    "duration": 43935,
    "start_time": "2022-03-11T10:25:40.576Z"
   },
   {
    "duration": 82314,
    "start_time": "2022-03-11T10:26:41.900Z"
   },
   {
    "duration": 11210,
    "start_time": "2022-03-11T10:28:33.994Z"
   },
   {
    "duration": 56866,
    "start_time": "2022-03-11T10:29:34.163Z"
   },
   {
    "duration": 28986,
    "start_time": "2022-03-11T10:30:39.431Z"
   },
   {
    "duration": 6,
    "start_time": "2022-03-11T10:32:45.434Z"
   },
   {
    "duration": 1261,
    "start_time": "2022-03-11T10:33:00.140Z"
   },
   {
    "duration": 1008,
    "start_time": "2022-03-11T10:33:01.404Z"
   },
   {
    "duration": 161,
    "start_time": "2022-03-11T10:33:02.415Z"
   },
   {
    "duration": 3,
    "start_time": "2022-03-11T10:33:02.578Z"
   },
   {
    "duration": 1223,
    "start_time": "2022-03-11T10:33:02.583Z"
   },
   {
    "duration": 5,
    "start_time": "2022-03-11T10:33:03.808Z"
   },
   {
    "duration": 134,
    "start_time": "2022-03-11T10:33:03.815Z"
   },
   {
    "duration": 34,
    "start_time": "2022-03-11T10:33:03.952Z"
   },
   {
    "duration": 223,
    "start_time": "2022-03-11T10:33:03.988Z"
   },
   {
    "duration": 108,
    "start_time": "2022-03-11T10:33:04.213Z"
   },
   {
    "duration": 22,
    "start_time": "2022-03-11T10:33:04.323Z"
   },
   {
    "duration": 113,
    "start_time": "2022-03-11T10:33:04.350Z"
   },
   {
    "duration": 73,
    "start_time": "2022-03-11T10:33:04.465Z"
   },
   {
    "duration": 595,
    "start_time": "2022-03-11T10:33:04.541Z"
   },
   {
    "duration": 645,
    "start_time": "2022-03-11T10:33:05.138Z"
   },
   {
    "duration": 267,
    "start_time": "2022-03-11T10:33:05.785Z"
   },
   {
    "duration": 4,
    "start_time": "2022-03-11T10:33:06.054Z"
   },
   {
    "duration": 101,
    "start_time": "2022-03-11T10:33:06.060Z"
   },
   {
    "duration": 644,
    "start_time": "2022-03-11T10:33:06.163Z"
   },
   {
    "duration": 8,
    "start_time": "2022-03-11T10:33:06.812Z"
   },
   {
    "duration": 5424,
    "start_time": "2022-03-11T10:33:06.822Z"
   },
   {
    "duration": 15757,
    "start_time": "2022-03-11T10:33:12.249Z"
   },
   {
    "duration": 440,
    "start_time": "2022-03-11T10:33:28.010Z"
   },
   {
    "duration": 427,
    "start_time": "2022-03-11T10:33:28.026Z"
   },
   {
    "duration": 10475,
    "start_time": "2022-03-11T10:35:32.134Z"
   },
   {
    "duration": 29432,
    "start_time": "2022-03-11T10:36:15.279Z"
   },
   {
    "duration": 118,
    "start_time": "2022-03-11T10:37:50.627Z"
   },
   {
    "duration": 1215,
    "start_time": "2022-03-11T10:38:04.524Z"
   },
   {
    "duration": 980,
    "start_time": "2022-03-11T10:38:05.741Z"
   },
   {
    "duration": 163,
    "start_time": "2022-03-11T10:38:06.725Z"
   },
   {
    "duration": 12,
    "start_time": "2022-03-11T10:38:06.890Z"
   },
   {
    "duration": 1233,
    "start_time": "2022-03-11T10:38:06.905Z"
   },
   {
    "duration": 5,
    "start_time": "2022-03-11T10:38:08.140Z"
   },
   {
    "duration": 134,
    "start_time": "2022-03-11T10:38:08.147Z"
   },
   {
    "duration": 51,
    "start_time": "2022-03-11T10:38:08.283Z"
   },
   {
    "duration": 202,
    "start_time": "2022-03-11T10:38:08.337Z"
   },
   {
    "duration": 101,
    "start_time": "2022-03-11T10:38:08.541Z"
   },
   {
    "duration": 19,
    "start_time": "2022-03-11T10:38:08.644Z"
   },
   {
    "duration": 109,
    "start_time": "2022-03-11T10:38:08.665Z"
   },
   {
    "duration": 66,
    "start_time": "2022-03-11T10:38:08.776Z"
   },
   {
    "duration": 570,
    "start_time": "2022-03-11T10:38:08.844Z"
   },
   {
    "duration": 428,
    "start_time": "2022-03-11T10:38:09.416Z"
   },
   {
    "duration": 237,
    "start_time": "2022-03-11T10:38:09.846Z"
   },
   {
    "duration": 5,
    "start_time": "2022-03-11T10:38:10.085Z"
   },
   {
    "duration": 121,
    "start_time": "2022-03-11T10:38:10.092Z"
   },
   {
    "duration": 557,
    "start_time": "2022-03-11T10:38:10.215Z"
   },
   {
    "duration": 6,
    "start_time": "2022-03-11T10:38:10.774Z"
   },
   {
    "duration": 4464,
    "start_time": "2022-03-11T10:38:10.782Z"
   },
   {
    "duration": 13561,
    "start_time": "2022-03-11T10:38:15.247Z"
   },
   {
    "duration": 10903,
    "start_time": "2022-03-11T10:38:28.812Z"
   },
   {
    "duration": 27791,
    "start_time": "2022-03-11T10:38:39.718Z"
   },
   {
    "duration": 128,
    "start_time": "2022-03-11T10:39:37.648Z"
   },
   {
    "duration": 1180,
    "start_time": "2022-03-11T10:39:44.136Z"
   },
   {
    "duration": 1022,
    "start_time": "2022-03-11T10:39:45.318Z"
   },
   {
    "duration": 176,
    "start_time": "2022-03-11T10:39:46.343Z"
   },
   {
    "duration": 4,
    "start_time": "2022-03-11T10:39:46.520Z"
   },
   {
    "duration": 1218,
    "start_time": "2022-03-11T10:39:46.525Z"
   },
   {
    "duration": 4,
    "start_time": "2022-03-11T10:39:47.745Z"
   },
   {
    "duration": 123,
    "start_time": "2022-03-11T10:39:47.751Z"
   },
   {
    "duration": 45,
    "start_time": "2022-03-11T10:39:47.877Z"
   },
   {
    "duration": 217,
    "start_time": "2022-03-11T10:39:47.924Z"
   },
   {
    "duration": 121,
    "start_time": "2022-03-11T10:39:48.143Z"
   },
   {
    "duration": 21,
    "start_time": "2022-03-11T10:39:48.266Z"
   },
   {
    "duration": 114,
    "start_time": "2022-03-11T10:39:48.289Z"
   },
   {
    "duration": 66,
    "start_time": "2022-03-11T10:39:48.405Z"
   },
   {
    "duration": 708,
    "start_time": "2022-03-11T10:39:48.473Z"
   },
   {
    "duration": 598,
    "start_time": "2022-03-11T10:39:49.183Z"
   },
   {
    "duration": 274,
    "start_time": "2022-03-11T10:39:49.783Z"
   },
   {
    "duration": 5,
    "start_time": "2022-03-11T10:39:50.060Z"
   },
   {
    "duration": 114,
    "start_time": "2022-03-11T10:39:50.067Z"
   },
   {
    "duration": 643,
    "start_time": "2022-03-11T10:39:50.182Z"
   },
   {
    "duration": 6,
    "start_time": "2022-03-11T10:39:50.827Z"
   },
   {
    "duration": 5398,
    "start_time": "2022-03-11T10:39:50.835Z"
   },
   {
    "duration": 17071,
    "start_time": "2022-03-11T10:39:56.235Z"
   },
   {
    "duration": 16607,
    "start_time": "2022-03-11T10:40:13.309Z"
   },
   {
    "duration": 30913,
    "start_time": "2022-03-11T10:40:29.919Z"
   },
   {
    "duration": 147,
    "start_time": "2022-03-11T10:41:14.544Z"
   },
   {
    "duration": 1216,
    "start_time": "2022-03-11T10:41:22.082Z"
   },
   {
    "duration": 922,
    "start_time": "2022-03-11T10:41:23.302Z"
   },
   {
    "duration": 158,
    "start_time": "2022-03-11T10:41:24.227Z"
   },
   {
    "duration": 14,
    "start_time": "2022-03-11T10:41:24.387Z"
   },
   {
    "duration": 1142,
    "start_time": "2022-03-11T10:41:24.404Z"
   },
   {
    "duration": 4,
    "start_time": "2022-03-11T10:41:25.548Z"
   },
   {
    "duration": 114,
    "start_time": "2022-03-11T10:41:25.554Z"
   },
   {
    "duration": 46,
    "start_time": "2022-03-11T10:41:25.671Z"
   },
   {
    "duration": 214,
    "start_time": "2022-03-11T10:41:25.719Z"
   },
   {
    "duration": 103,
    "start_time": "2022-03-11T10:41:25.935Z"
   },
   {
    "duration": 20,
    "start_time": "2022-03-11T10:41:26.040Z"
   },
   {
    "duration": 113,
    "start_time": "2022-03-11T10:41:26.062Z"
   },
   {
    "duration": 70,
    "start_time": "2022-03-11T10:41:26.177Z"
   },
   {
    "duration": 584,
    "start_time": "2022-03-11T10:41:26.249Z"
   },
   {
    "duration": 634,
    "start_time": "2022-03-11T10:41:26.835Z"
   },
   {
    "duration": 275,
    "start_time": "2022-03-11T10:41:27.471Z"
   },
   {
    "duration": 5,
    "start_time": "2022-03-11T10:41:27.748Z"
   },
   {
    "duration": 111,
    "start_time": "2022-03-11T10:41:27.755Z"
   },
   {
    "duration": 644,
    "start_time": "2022-03-11T10:41:27.868Z"
   },
   {
    "duration": 7,
    "start_time": "2022-03-11T10:41:28.515Z"
   },
   {
    "duration": 5319,
    "start_time": "2022-03-11T10:41:28.524Z"
   },
   {
    "duration": 16467,
    "start_time": "2022-03-11T10:41:33.845Z"
   },
   {
    "duration": 10811,
    "start_time": "2022-03-11T10:41:50.403Z"
   },
   {
    "duration": 28940,
    "start_time": "2022-03-11T10:42:01.217Z"
   },
   {
    "duration": 288,
    "start_time": "2022-03-11T11:03:58.988Z"
   },
   {
    "duration": 5181,
    "start_time": "2022-03-11T11:04:13.411Z"
   },
   {
    "duration": 164,
    "start_time": "2022-03-11T11:04:22.187Z"
   },
   {
    "duration": 107,
    "start_time": "2022-03-11T11:04:32.070Z"
   },
   {
    "duration": 113,
    "start_time": "2022-03-11T11:04:50.213Z"
   },
   {
    "duration": 111,
    "start_time": "2022-03-11T11:04:52.332Z"
   },
   {
    "duration": 107,
    "start_time": "2022-03-11T11:04:54.356Z"
   },
   {
    "duration": 115,
    "start_time": "2022-03-11T11:04:56.597Z"
   },
   {
    "duration": 116,
    "start_time": "2022-03-11T11:04:58.796Z"
   },
   {
    "duration": 112,
    "start_time": "2022-03-11T11:05:03.304Z"
   },
   {
    "duration": 106,
    "start_time": "2022-03-11T11:05:06.142Z"
   },
   {
    "duration": 108,
    "start_time": "2022-03-11T11:05:09.426Z"
   },
   {
    "duration": 104,
    "start_time": "2022-03-11T11:05:11.672Z"
   },
   {
    "duration": 118,
    "start_time": "2022-03-11T11:05:14.005Z"
   },
   {
    "duration": 113,
    "start_time": "2022-03-11T11:05:16.523Z"
   },
   {
    "duration": 111,
    "start_time": "2022-03-11T11:05:18.396Z"
   },
   {
    "duration": 108,
    "start_time": "2022-03-11T11:05:20.442Z"
   },
   {
    "duration": 10820,
    "start_time": "2022-03-11T11:07:50.997Z"
   },
   {
    "duration": 588,
    "start_time": "2022-03-11T11:08:08.030Z"
   },
   {
    "duration": 598,
    "start_time": "2022-03-11T11:08:19.418Z"
   },
   {
    "duration": 595,
    "start_time": "2022-03-11T11:08:22.216Z"
   },
   {
    "duration": 624,
    "start_time": "2022-03-11T11:08:24.791Z"
   },
   {
    "duration": 592,
    "start_time": "2022-03-11T11:08:28.117Z"
   },
   {
    "duration": 651,
    "start_time": "2022-03-11T11:08:30.676Z"
   },
   {
    "duration": 575,
    "start_time": "2022-03-11T11:08:33.145Z"
   },
   {
    "duration": 584,
    "start_time": "2022-03-11T11:08:35.929Z"
   },
   {
    "duration": 6,
    "start_time": "2022-03-11T11:09:22.450Z"
   },
   {
    "duration": 27846,
    "start_time": "2022-03-11T11:11:40.620Z"
   },
   {
    "duration": 160,
    "start_time": "2022-03-11T11:12:17.055Z"
   },
   {
    "duration": 234,
    "start_time": "2022-03-11T11:19:04.233Z"
   },
   {
    "duration": 246,
    "start_time": "2022-03-11T11:20:08.616Z"
   },
   {
    "duration": 15,
    "start_time": "2022-03-11T11:20:18.413Z"
   },
   {
    "duration": 13,
    "start_time": "2022-03-11T11:22:51.694Z"
   },
   {
    "duration": 14,
    "start_time": "2022-03-11T11:24:26.141Z"
   },
   {
    "duration": 266,
    "start_time": "2022-03-11T11:25:16.722Z"
   },
   {
    "duration": 286,
    "start_time": "2022-03-11T11:25:26.930Z"
   },
   {
    "duration": 247,
    "start_time": "2022-03-11T11:25:39.650Z"
   },
   {
    "duration": 14,
    "start_time": "2022-03-11T11:25:44.585Z"
   },
   {
    "duration": 12,
    "start_time": "2022-03-11T11:26:57.967Z"
   },
   {
    "duration": 607,
    "start_time": "2022-03-11T11:33:04.832Z"
   },
   {
    "duration": 11207,
    "start_time": "2022-03-11T11:34:13.301Z"
   },
   {
    "duration": 605,
    "start_time": "2022-03-11T11:34:28.707Z"
   },
   {
    "duration": 6263,
    "start_time": "2022-03-11T11:34:34.669Z"
   },
   {
    "duration": 379,
    "start_time": "2022-03-11T11:35:36.206Z"
   },
   {
    "duration": 482,
    "start_time": "2022-03-11T11:35:50.080Z"
   },
   {
    "duration": 518,
    "start_time": "2022-03-11T11:35:56.779Z"
   },
   {
    "duration": 462,
    "start_time": "2022-03-11T11:36:01.682Z"
   },
   {
    "duration": 4,
    "start_time": "2022-03-11T11:38:07.660Z"
   },
   {
    "duration": 231,
    "start_time": "2022-03-11T11:42:43.429Z"
   },
   {
    "duration": 9,
    "start_time": "2022-03-11T11:42:58.024Z"
   },
   {
    "duration": 10,
    "start_time": "2022-03-11T11:43:18.408Z"
   },
   {
    "duration": 28473,
    "start_time": "2022-03-11T11:46:38.186Z"
   },
   {
    "duration": 385,
    "start_time": "2022-03-11T11:47:11.246Z"
   },
   {
    "duration": 12993,
    "start_time": "2022-03-11T11:47:46.020Z"
   },
   {
    "duration": 436,
    "start_time": "2022-03-11T11:48:09.731Z"
   },
   {
    "duration": 5350,
    "start_time": "2022-03-11T11:50:02.119Z"
   },
   {
    "duration": 537,
    "start_time": "2022-03-11T11:50:12.820Z"
   },
   {
    "duration": 467,
    "start_time": "2022-03-11T11:50:58.716Z"
   },
   {
    "duration": 488,
    "start_time": "2022-03-11T11:51:27.800Z"
   },
   {
    "duration": 459,
    "start_time": "2022-03-11T11:51:32.421Z"
   },
   {
    "duration": 27416,
    "start_time": "2022-03-11T11:51:47.888Z"
   },
   {
    "duration": 664,
    "start_time": "2022-03-11T11:52:23.210Z"
   },
   {
    "duration": 449,
    "start_time": "2022-03-11T11:52:27.984Z"
   },
   {
    "duration": 386,
    "start_time": "2022-03-11T11:52:31.395Z"
   },
   {
    "duration": 403,
    "start_time": "2022-03-11T11:52:35.789Z"
   },
   {
    "duration": 1364,
    "start_time": "2022-03-11T11:53:04.688Z"
   },
   {
    "duration": 969,
    "start_time": "2022-03-11T11:53:06.054Z"
   },
   {
    "duration": 155,
    "start_time": "2022-03-11T11:53:07.025Z"
   },
   {
    "duration": 18,
    "start_time": "2022-03-11T11:53:07.183Z"
   },
   {
    "duration": 1211,
    "start_time": "2022-03-11T11:53:07.203Z"
   },
   {
    "duration": 6,
    "start_time": "2022-03-11T11:53:08.417Z"
   },
   {
    "duration": 125,
    "start_time": "2022-03-11T11:53:08.425Z"
   },
   {
    "duration": 48,
    "start_time": "2022-03-11T11:53:08.553Z"
   },
   {
    "duration": 220,
    "start_time": "2022-03-11T11:53:08.604Z"
   },
   {
    "duration": 109,
    "start_time": "2022-03-11T11:53:08.826Z"
   },
   {
    "duration": 22,
    "start_time": "2022-03-11T11:53:08.936Z"
   },
   {
    "duration": 115,
    "start_time": "2022-03-11T11:53:08.960Z"
   },
   {
    "duration": 72,
    "start_time": "2022-03-11T11:53:09.077Z"
   },
   {
    "duration": 515,
    "start_time": "2022-03-11T11:53:09.151Z"
   },
   {
    "duration": 742,
    "start_time": "2022-03-11T11:53:09.668Z"
   },
   {
    "duration": 272,
    "start_time": "2022-03-11T11:53:10.414Z"
   },
   {
    "duration": 5,
    "start_time": "2022-03-11T11:53:10.688Z"
   },
   {
    "duration": 108,
    "start_time": "2022-03-11T11:53:10.702Z"
   },
   {
    "duration": 680,
    "start_time": "2022-03-11T11:53:10.813Z"
   },
   {
    "duration": 7,
    "start_time": "2022-03-11T11:53:11.495Z"
   },
   {
    "duration": 5369,
    "start_time": "2022-03-11T11:53:11.503Z"
   },
   {
    "duration": 17930,
    "start_time": "2022-03-11T11:53:16.875Z"
   },
   {
    "duration": 140495,
    "start_time": "2022-03-11T11:53:34.815Z"
   },
   {
    "duration": 392,
    "start_time": "2022-03-11T11:55:54.921Z"
   },
   {
    "duration": 388,
    "start_time": "2022-03-11T11:55:54.926Z"
   },
   {
    "duration": 385,
    "start_time": "2022-03-11T11:55:54.930Z"
   },
   {
    "duration": 375,
    "start_time": "2022-03-11T11:55:54.941Z"
   },
   {
    "duration": 373,
    "start_time": "2022-03-11T11:55:54.945Z"
   },
   {
    "duration": 373,
    "start_time": "2022-03-11T11:55:54.947Z"
   },
   {
    "duration": 369,
    "start_time": "2022-03-11T11:55:54.952Z"
   },
   {
    "duration": 368,
    "start_time": "2022-03-11T11:55:54.955Z"
   },
   {
    "duration": 366,
    "start_time": "2022-03-11T11:55:54.958Z"
   },
   {
    "duration": 365,
    "start_time": "2022-03-11T11:55:54.960Z"
   },
   {
    "duration": 363,
    "start_time": "2022-03-11T11:55:54.963Z"
   },
   {
    "duration": 1508,
    "start_time": "2022-03-11T11:56:08.731Z"
   },
   {
    "duration": 973,
    "start_time": "2022-03-11T11:56:10.241Z"
   },
   {
    "duration": 271,
    "start_time": "2022-03-11T11:56:11.218Z"
   },
   {
    "duration": 12,
    "start_time": "2022-03-11T11:56:11.492Z"
   },
   {
    "duration": 1351,
    "start_time": "2022-03-11T11:56:11.507Z"
   },
   {
    "duration": 5,
    "start_time": "2022-03-11T11:56:12.861Z"
   },
   {
    "duration": 127,
    "start_time": "2022-03-11T11:56:12.867Z"
   },
   {
    "duration": 36,
    "start_time": "2022-03-11T11:56:12.995Z"
   },
   {
    "duration": 294,
    "start_time": "2022-03-11T11:56:13.034Z"
   },
   {
    "duration": 116,
    "start_time": "2022-03-11T11:56:13.332Z"
   },
   {
    "duration": 22,
    "start_time": "2022-03-11T11:56:13.450Z"
   },
   {
    "duration": 122,
    "start_time": "2022-03-11T11:56:13.474Z"
   },
   {
    "duration": 68,
    "start_time": "2022-03-11T11:56:13.598Z"
   },
   {
    "duration": 500,
    "start_time": "2022-03-11T11:56:13.668Z"
   },
   {
    "duration": 627,
    "start_time": "2022-03-11T11:56:14.170Z"
   },
   {
    "duration": 278,
    "start_time": "2022-03-11T11:56:14.799Z"
   },
   {
    "duration": 5,
    "start_time": "2022-03-11T11:56:15.079Z"
   },
   {
    "duration": 161,
    "start_time": "2022-03-11T11:56:15.086Z"
   },
   {
    "duration": 657,
    "start_time": "2022-03-11T11:56:15.249Z"
   },
   {
    "duration": 9,
    "start_time": "2022-03-11T11:56:15.908Z"
   },
   {
    "duration": 5480,
    "start_time": "2022-03-11T11:56:15.921Z"
   },
   {
    "duration": 20715,
    "start_time": "2022-03-11T11:56:21.404Z"
   },
   {
    "duration": 36090,
    "start_time": "2022-03-11T11:56:42.130Z"
   },
   {
    "duration": 28287,
    "start_time": "2022-03-11T11:57:18.223Z"
   },
   {
    "duration": 5409,
    "start_time": "2022-03-11T11:57:46.513Z"
   },
   {
    "duration": 128,
    "start_time": "2022-03-11T11:57:51.924Z"
   },
   {
    "duration": 424,
    "start_time": "2022-03-11T11:57:52.055Z"
   },
   {
    "duration": 249420,
    "start_time": "2022-03-11T11:57:52.481Z"
   },
   {
    "duration": 608,
    "start_time": "2022-03-11T12:02:01.904Z"
   },
   {
    "duration": 562,
    "start_time": "2022-03-11T12:02:02.515Z"
   },
   {
    "duration": 29171,
    "start_time": "2022-03-11T12:02:03.079Z"
   },
   {
    "duration": 163,
    "start_time": "2022-03-11T12:02:32.252Z"
   },
   {
    "duration": 412,
    "start_time": "2022-03-11T12:02:32.418Z"
   },
   {
    "duration": 8,
    "start_time": "2022-03-11T12:02:32.833Z"
   },
   {
    "duration": 299,
    "start_time": "2022-03-12T06:49:41.638Z"
   },
   {
    "duration": 1254,
    "start_time": "2022-03-12T06:49:56.854Z"
   },
   {
    "duration": 871,
    "start_time": "2022-03-12T06:49:58.110Z"
   },
   {
    "duration": 144,
    "start_time": "2022-03-12T06:49:58.984Z"
   },
   {
    "duration": 4,
    "start_time": "2022-03-12T06:49:59.131Z"
   },
   {
    "duration": 1099,
    "start_time": "2022-03-12T06:49:59.137Z"
   },
   {
    "duration": 4,
    "start_time": "2022-03-12T06:50:00.238Z"
   },
   {
    "duration": 112,
    "start_time": "2022-03-12T06:50:00.243Z"
   },
   {
    "duration": 41,
    "start_time": "2022-03-12T06:50:00.356Z"
   },
   {
    "duration": 201,
    "start_time": "2022-03-12T06:50:02.803Z"
   },
   {
    "duration": 96,
    "start_time": "2022-03-12T06:50:30.945Z"
   },
   {
    "duration": 17,
    "start_time": "2022-03-12T06:55:54.914Z"
   },
   {
    "duration": 6,
    "start_time": "2022-03-12T07:34:02.380Z"
   },
   {
    "duration": 1264,
    "start_time": "2022-03-12T07:49:44.144Z"
   },
   {
    "duration": 891,
    "start_time": "2022-03-12T07:49:45.410Z"
   },
   {
    "duration": 149,
    "start_time": "2022-03-12T07:49:46.307Z"
   },
   {
    "duration": 3,
    "start_time": "2022-03-12T07:49:46.459Z"
   },
   {
    "duration": 1090,
    "start_time": "2022-03-12T07:49:46.477Z"
   },
   {
    "duration": 8,
    "start_time": "2022-03-12T07:49:47.569Z"
   },
   {
    "duration": 115,
    "start_time": "2022-03-12T07:49:47.579Z"
   },
   {
    "duration": 30,
    "start_time": "2022-03-12T07:49:47.696Z"
   },
   {
    "duration": 213,
    "start_time": "2022-03-12T07:49:47.728Z"
   },
   {
    "duration": 106,
    "start_time": "2022-03-12T07:49:47.943Z"
   },
   {
    "duration": 31,
    "start_time": "2022-03-12T07:49:48.050Z"
   },
   {
    "duration": 102,
    "start_time": "2022-03-12T07:49:48.082Z"
   },
   {
    "duration": 59,
    "start_time": "2022-03-12T07:49:48.185Z"
   },
   {
    "duration": 430,
    "start_time": "2022-03-12T07:49:48.246Z"
   },
   {
    "duration": 530,
    "start_time": "2022-03-12T07:49:48.679Z"
   },
   {
    "duration": 269,
    "start_time": "2022-03-12T07:49:49.211Z"
   },
   {
    "duration": 5,
    "start_time": "2022-03-12T07:49:49.482Z"
   },
   {
    "duration": 96,
    "start_time": "2022-03-12T07:49:49.488Z"
   },
   {
    "duration": 626,
    "start_time": "2022-03-12T07:49:49.586Z"
   },
   {
    "duration": 5,
    "start_time": "2022-03-12T07:49:50.214Z"
   },
   {
    "duration": 4957,
    "start_time": "2022-03-12T07:49:50.221Z"
   },
   {
    "duration": 14905,
    "start_time": "2022-03-12T07:49:55.181Z"
   },
   {
    "duration": 8902,
    "start_time": "2022-03-12T07:50:10.089Z"
   },
   {
    "duration": 28315,
    "start_time": "2022-03-12T07:50:18.992Z"
   },
   {
    "duration": 4891,
    "start_time": "2022-03-12T07:50:47.309Z"
   },
   {
    "duration": 124,
    "start_time": "2022-03-12T07:50:52.202Z"
   },
   {
    "duration": 389,
    "start_time": "2022-03-12T07:50:52.328Z"
   },
   {
    "duration": 6863,
    "start_time": "2022-03-12T07:50:52.719Z"
   },
   {
    "duration": 602,
    "start_time": "2022-03-12T07:50:59.584Z"
   },
   {
    "duration": 540,
    "start_time": "2022-03-12T07:51:00.188Z"
   },
   {
    "duration": 28194,
    "start_time": "2022-03-12T07:51:00.731Z"
   },
   {
    "duration": 157,
    "start_time": "2022-03-12T07:51:28.927Z"
   },
   {
    "duration": 398,
    "start_time": "2022-03-12T07:51:29.086Z"
   },
   {
    "duration": 8,
    "start_time": "2022-03-12T07:51:29.486Z"
   }
  ],
  "kernelspec": {
   "display_name": "Python 3 (ipykernel)",
   "language": "python",
   "name": "python3"
  },
  "language_info": {
   "codemirror_mode": {
    "name": "ipython",
    "version": 3
   },
   "file_extension": ".py",
   "mimetype": "text/x-python",
   "name": "python",
   "nbconvert_exporter": "python",
   "pygments_lexer": "ipython3",
   "version": "3.9.7"
  },
  "toc": {
   "base_numbering": 1,
   "nav_menu": {},
   "number_sections": true,
   "sideBar": true,
   "skip_h1_title": true,
   "title_cell": "Содержание",
   "title_sidebar": "Содержание",
   "toc_cell": true,
   "toc_position": {},
   "toc_section_display": true,
   "toc_window_display": true
  }
 },
 "nbformat": 4,
 "nbformat_minor": 2
}
